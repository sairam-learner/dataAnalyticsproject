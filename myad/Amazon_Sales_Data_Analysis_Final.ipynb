{
  "cells": [
    {
      "cell_type": "markdown",
      "metadata": {
        "id": "EDNc5C_u7EZQ"
      },
      "source": [
        "#**Project Amazon Sales Data Analysis**\n"
      ]
    },
    {
      "cell_type": "markdown",
      "metadata": {
        "id": "Hc7Z7DBO5pN0"
      },
      "source": [
        "##Data Preprocessing "
      ]
    },
    {
      "cell_type": "markdown",
      "metadata": {
        "id": "CRA0pGww_MZo"
      },
      "source": [
        "###Import Python Libraries \n",
        "\n",
        "Importing necessary libraries for data analysis \n",
        "\n",
        "\n",
        "\n",
        "1.   Pandas - This library is used for data manipulation and analysis. It also provides features like efficiently storing and manipulating large datasets and not only that it also provide tools for merging, transforming and cleaning data. \n",
        "2.   Numpy - This library is used for scientific computing with python. Generaly it provides support for large, multi-dimensional arrays and matrices. \n",
        "3.   Matplotlib - This library help in creating types of visualizations including line plots, scatter plots, bar charts and histograms. \n",
        "4.   Seaborn - This library is used for add enhanced aesthetics and additional plotting functions and its based on Matplotlib. \n",
        " \n",
        "\n"
      ]
    },
    {
      "cell_type": "code",
      "execution_count": 86,
      "metadata": {
        "id": "9LEq5c7yKpgj"
      },
      "outputs": [],
      "source": [
        "import pandas as pd\n",
        "import numpy as np \n",
        "import matplotlib.pyplot as pyplot\n",
        "import seaborn as sns\n",
        "\n",
        "# %matplotlib inline is a command that enables Matplotlib plots to be displayed inline in Jupyter Notebook, instead of opening a separate window.\n",
        "%matplotlib inline \n",
        "\n",
        "#  Using the pd.read_csv() function to read in a CSV file named \"Amazon Sales Records.csv\" and stores the data in a Pandas DataFrame named data. The encoding parameter is set to 'latin-1', which specifies the character encoding used in the CSV file.\n",
        "data = pd.read_csv(\"Amazon Sales data1.csv\",encoding = 'latin-1')"
      ]
    },
    {
      "cell_type": "code",
      "execution_count": 87,
      "metadata": {
        "colab": {
          "base_uri": "https://localhost:8080/",
          "height": 1068
        },
        "id": "RUZncuxCaXlS",
        "outputId": "fe26f2e5-0347-485e-9c5c-bf2d76700ee5"
      },
      "outputs": [
        {
          "data": {
            "text/html": [
              "<div>\n",
              "<style scoped>\n",
              "    .dataframe tbody tr th:only-of-type {\n",
              "        vertical-align: middle;\n",
              "    }\n",
              "\n",
              "    .dataframe tbody tr th {\n",
              "        vertical-align: top;\n",
              "    }\n",
              "\n",
              "    .dataframe thead th {\n",
              "        text-align: right;\n",
              "    }\n",
              "</style>\n",
              "<table border=\"1\" class=\"dataframe\">\n",
              "  <thead>\n",
              "    <tr style=\"text-align: right;\">\n",
              "      <th></th>\n",
              "      <th>Region</th>\n",
              "      <th>Country</th>\n",
              "      <th>Item Type</th>\n",
              "      <th>Sales Channel</th>\n",
              "      <th>Order Priority</th>\n",
              "      <th>Order Date</th>\n",
              "      <th>Order ID</th>\n",
              "      <th>Ship Date</th>\n",
              "      <th>Units Sold</th>\n",
              "      <th>Unit Price</th>\n",
              "      <th>Unit Cost</th>\n",
              "      <th>Total Revenue</th>\n",
              "      <th>Total Cost</th>\n",
              "      <th>Total Profit</th>\n",
              "    </tr>\n",
              "  </thead>\n",
              "  <tbody>\n",
              "    <tr>\n",
              "      <th>0</th>\n",
              "      <td>Australia and Oceania</td>\n",
              "      <td>Tuvalu</td>\n",
              "      <td>Baby Food</td>\n",
              "      <td>Offline</td>\n",
              "      <td>H</td>\n",
              "      <td>5/28/2010</td>\n",
              "      <td>669165933</td>\n",
              "      <td>6/27/2010</td>\n",
              "      <td>9925</td>\n",
              "      <td>255.28</td>\n",
              "      <td>159.42</td>\n",
              "      <td>2533654.00</td>\n",
              "      <td>1582243.50</td>\n",
              "      <td>951410.50</td>\n",
              "    </tr>\n",
              "    <tr>\n",
              "      <th>1</th>\n",
              "      <td>Central America and the Caribbean</td>\n",
              "      <td>Grenada</td>\n",
              "      <td>Cereal</td>\n",
              "      <td>Online</td>\n",
              "      <td>C</td>\n",
              "      <td>8/22/2012</td>\n",
              "      <td>963881480</td>\n",
              "      <td>9/15/2012</td>\n",
              "      <td>2804</td>\n",
              "      <td>205.70</td>\n",
              "      <td>117.11</td>\n",
              "      <td>576782.80</td>\n",
              "      <td>328376.44</td>\n",
              "      <td>248406.36</td>\n",
              "    </tr>\n",
              "    <tr>\n",
              "      <th>2</th>\n",
              "      <td>Europe</td>\n",
              "      <td>Russia</td>\n",
              "      <td>Office Supplies</td>\n",
              "      <td>Offline</td>\n",
              "      <td>L</td>\n",
              "      <td>05-02-2014</td>\n",
              "      <td>341417157</td>\n",
              "      <td>05-08-2014</td>\n",
              "      <td>1779</td>\n",
              "      <td>651.21</td>\n",
              "      <td>524.96</td>\n",
              "      <td>1158502.59</td>\n",
              "      <td>933903.84</td>\n",
              "      <td>224598.75</td>\n",
              "    </tr>\n",
              "    <tr>\n",
              "      <th>3</th>\n",
              "      <td>Sub-Saharan Africa</td>\n",
              "      <td>Sao Tome and Principe</td>\n",
              "      <td>Fruits</td>\n",
              "      <td>Online</td>\n",
              "      <td>C</td>\n",
              "      <td>6/20/2014</td>\n",
              "      <td>514321792</td>\n",
              "      <td>07-05-2014</td>\n",
              "      <td>8102</td>\n",
              "      <td>9.33</td>\n",
              "      <td>6.92</td>\n",
              "      <td>75591.66</td>\n",
              "      <td>56065.84</td>\n",
              "      <td>19525.82</td>\n",
              "    </tr>\n",
              "    <tr>\n",
              "      <th>4</th>\n",
              "      <td>Sub-Saharan Africa</td>\n",
              "      <td>Rwanda</td>\n",
              "      <td>Office Supplies</td>\n",
              "      <td>Offline</td>\n",
              "      <td>L</td>\n",
              "      <td>02-01-2013</td>\n",
              "      <td>115456712</td>\n",
              "      <td>02-06-2013</td>\n",
              "      <td>5062</td>\n",
              "      <td>651.21</td>\n",
              "      <td>524.96</td>\n",
              "      <td>3296425.02</td>\n",
              "      <td>2657347.52</td>\n",
              "      <td>639077.50</td>\n",
              "    </tr>\n",
              "    <tr>\n",
              "      <th>5</th>\n",
              "      <td>Australia and Oceania</td>\n",
              "      <td>Solomon Islands</td>\n",
              "      <td>Baby Food</td>\n",
              "      <td>Online</td>\n",
              "      <td>C</td>\n",
              "      <td>02-04-2015</td>\n",
              "      <td>547995746</td>\n",
              "      <td>2/21/2015</td>\n",
              "      <td>2974</td>\n",
              "      <td>255.28</td>\n",
              "      <td>159.42</td>\n",
              "      <td>759202.72</td>\n",
              "      <td>474115.08</td>\n",
              "      <td>285087.64</td>\n",
              "    </tr>\n",
              "    <tr>\n",
              "      <th>6</th>\n",
              "      <td>Sub-Saharan Africa</td>\n",
              "      <td>Angola</td>\n",
              "      <td>Household</td>\n",
              "      <td>Offline</td>\n",
              "      <td>M</td>\n",
              "      <td>4/23/2011</td>\n",
              "      <td>135425221</td>\n",
              "      <td>4/27/2011</td>\n",
              "      <td>4187</td>\n",
              "      <td>668.27</td>\n",
              "      <td>502.54</td>\n",
              "      <td>2798046.49</td>\n",
              "      <td>2104134.98</td>\n",
              "      <td>693911.51</td>\n",
              "    </tr>\n",
              "    <tr>\n",
              "      <th>7</th>\n",
              "      <td>Sub-Saharan Africa</td>\n",
              "      <td>Burkina Faso</td>\n",
              "      <td>Vegetables</td>\n",
              "      <td>Online</td>\n",
              "      <td>H</td>\n",
              "      <td>7/17/2012</td>\n",
              "      <td>871543967</td>\n",
              "      <td>7/27/2012</td>\n",
              "      <td>8082</td>\n",
              "      <td>154.06</td>\n",
              "      <td>90.93</td>\n",
              "      <td>1245112.92</td>\n",
              "      <td>734896.26</td>\n",
              "      <td>510216.66</td>\n",
              "    </tr>\n",
              "    <tr>\n",
              "      <th>8</th>\n",
              "      <td>Sub-Saharan Africa</td>\n",
              "      <td>Republic of the Congo</td>\n",
              "      <td>Personal Care</td>\n",
              "      <td>Offline</td>\n",
              "      <td>M</td>\n",
              "      <td>7/14/2015</td>\n",
              "      <td>770463311</td>\n",
              "      <td>8/25/2015</td>\n",
              "      <td>6070</td>\n",
              "      <td>81.73</td>\n",
              "      <td>56.67</td>\n",
              "      <td>496101.10</td>\n",
              "      <td>343986.90</td>\n",
              "      <td>152114.20</td>\n",
              "    </tr>\n",
              "    <tr>\n",
              "      <th>9</th>\n",
              "      <td>Sub-Saharan Africa</td>\n",
              "      <td>Senegal</td>\n",
              "      <td>Cereal</td>\n",
              "      <td>Online</td>\n",
              "      <td>H</td>\n",
              "      <td>4/18/2014</td>\n",
              "      <td>616607081</td>\n",
              "      <td>5/30/2014</td>\n",
              "      <td>6593</td>\n",
              "      <td>205.70</td>\n",
              "      <td>117.11</td>\n",
              "      <td>1356180.10</td>\n",
              "      <td>772106.23</td>\n",
              "      <td>584073.87</td>\n",
              "    </tr>\n",
              "    <tr>\n",
              "      <th>10</th>\n",
              "      <td>Asia</td>\n",
              "      <td>Kyrgyzstan</td>\n",
              "      <td>Vegetables</td>\n",
              "      <td>Online</td>\n",
              "      <td>H</td>\n",
              "      <td>6/24/2011</td>\n",
              "      <td>814711606</td>\n",
              "      <td>07-12-2011</td>\n",
              "      <td>124</td>\n",
              "      <td>154.06</td>\n",
              "      <td>90.93</td>\n",
              "      <td>19103.44</td>\n",
              "      <td>11275.32</td>\n",
              "      <td>7828.12</td>\n",
              "    </tr>\n",
              "    <tr>\n",
              "      <th>11</th>\n",
              "      <td>Sub-Saharan Africa</td>\n",
              "      <td>Cape Verde</td>\n",
              "      <td>Clothes</td>\n",
              "      <td>Offline</td>\n",
              "      <td>H</td>\n",
              "      <td>08-02-2014</td>\n",
              "      <td>939825713</td>\n",
              "      <td>8/19/2014</td>\n",
              "      <td>4168</td>\n",
              "      <td>109.28</td>\n",
              "      <td>35.84</td>\n",
              "      <td>455479.04</td>\n",
              "      <td>149381.12</td>\n",
              "      <td>306097.92</td>\n",
              "    </tr>\n",
              "    <tr>\n",
              "      <th>12</th>\n",
              "      <td>Asia</td>\n",
              "      <td>Bangladesh</td>\n",
              "      <td>Clothes</td>\n",
              "      <td>Online</td>\n",
              "      <td>L</td>\n",
              "      <td>1/13/2017</td>\n",
              "      <td>187310731</td>\n",
              "      <td>03-01-2017</td>\n",
              "      <td>8263</td>\n",
              "      <td>109.28</td>\n",
              "      <td>35.84</td>\n",
              "      <td>902980.64</td>\n",
              "      <td>296145.92</td>\n",
              "      <td>606834.72</td>\n",
              "    </tr>\n",
              "    <tr>\n",
              "      <th>13</th>\n",
              "      <td>Central America and the Caribbean</td>\n",
              "      <td>Honduras</td>\n",
              "      <td>Household</td>\n",
              "      <td>Offline</td>\n",
              "      <td>H</td>\n",
              "      <td>02-08-2017</td>\n",
              "      <td>522840487</td>\n",
              "      <td>2/13/2017</td>\n",
              "      <td>8974</td>\n",
              "      <td>668.27</td>\n",
              "      <td>502.54</td>\n",
              "      <td>5997054.98</td>\n",
              "      <td>4509793.96</td>\n",
              "      <td>1487261.02</td>\n",
              "    </tr>\n",
              "    <tr>\n",
              "      <th>14</th>\n",
              "      <td>Asia</td>\n",
              "      <td>Mongolia</td>\n",
              "      <td>Personal Care</td>\n",
              "      <td>Offline</td>\n",
              "      <td>C</td>\n",
              "      <td>2/19/2014</td>\n",
              "      <td>832401311</td>\n",
              "      <td>2/23/2014</td>\n",
              "      <td>4901</td>\n",
              "      <td>81.73</td>\n",
              "      <td>56.67</td>\n",
              "      <td>400558.73</td>\n",
              "      <td>277739.67</td>\n",
              "      <td>122819.06</td>\n",
              "    </tr>\n",
              "    <tr>\n",
              "      <th>15</th>\n",
              "      <td>Europe</td>\n",
              "      <td>Bulgaria</td>\n",
              "      <td>Clothes</td>\n",
              "      <td>Online</td>\n",
              "      <td>M</td>\n",
              "      <td>4/23/2012</td>\n",
              "      <td>972292029</td>\n",
              "      <td>06-03-2012</td>\n",
              "      <td>1673</td>\n",
              "      <td>109.28</td>\n",
              "      <td>35.84</td>\n",
              "      <td>182825.44</td>\n",
              "      <td>59960.32</td>\n",
              "      <td>122865.12</td>\n",
              "    </tr>\n",
              "    <tr>\n",
              "      <th>16</th>\n",
              "      <td>Asia</td>\n",
              "      <td>Sri Lanka</td>\n",
              "      <td>Cosmetics</td>\n",
              "      <td>Offline</td>\n",
              "      <td>M</td>\n",
              "      <td>11/19/2016</td>\n",
              "      <td>419123971</td>\n",
              "      <td>12/18/2016</td>\n",
              "      <td>6952</td>\n",
              "      <td>437.20</td>\n",
              "      <td>263.33</td>\n",
              "      <td>3039414.40</td>\n",
              "      <td>1830670.16</td>\n",
              "      <td>1208744.24</td>\n",
              "    </tr>\n",
              "    <tr>\n",
              "      <th>17</th>\n",
              "      <td>Sub-Saharan Africa</td>\n",
              "      <td>Cameroon</td>\n",
              "      <td>Beverages</td>\n",
              "      <td>Offline</td>\n",
              "      <td>C</td>\n",
              "      <td>04-01-2015</td>\n",
              "      <td>519820964</td>\n",
              "      <td>4/18/2015</td>\n",
              "      <td>5430</td>\n",
              "      <td>47.45</td>\n",
              "      <td>31.79</td>\n",
              "      <td>257653.50</td>\n",
              "      <td>172619.70</td>\n",
              "      <td>85033.80</td>\n",
              "    </tr>\n",
              "    <tr>\n",
              "      <th>18</th>\n",
              "      <td>Asia</td>\n",
              "      <td>Turkmenistan</td>\n",
              "      <td>Household</td>\n",
              "      <td>Offline</td>\n",
              "      <td>L</td>\n",
              "      <td>12/30/2010</td>\n",
              "      <td>441619336</td>\n",
              "      <td>1/20/2011</td>\n",
              "      <td>3830</td>\n",
              "      <td>668.27</td>\n",
              "      <td>502.54</td>\n",
              "      <td>2559474.10</td>\n",
              "      <td>1924728.20</td>\n",
              "      <td>634745.90</td>\n",
              "    </tr>\n",
              "    <tr>\n",
              "      <th>19</th>\n",
              "      <td>Australia and Oceania</td>\n",
              "      <td>East Timor</td>\n",
              "      <td>Meat</td>\n",
              "      <td>Online</td>\n",
              "      <td>L</td>\n",
              "      <td>7/31/2012</td>\n",
              "      <td>322067916</td>\n",
              "      <td>09-11-2012</td>\n",
              "      <td>5908</td>\n",
              "      <td>421.89</td>\n",
              "      <td>364.69</td>\n",
              "      <td>2492526.12</td>\n",
              "      <td>2154588.52</td>\n",
              "      <td>337937.60</td>\n",
              "    </tr>\n",
              "    <tr>\n",
              "      <th>20</th>\n",
              "      <td>Europe</td>\n",
              "      <td>Norway</td>\n",
              "      <td>Baby Food</td>\n",
              "      <td>Online</td>\n",
              "      <td>L</td>\n",
              "      <td>5/14/2014</td>\n",
              "      <td>819028031</td>\n",
              "      <td>6/28/2014</td>\n",
              "      <td>7450</td>\n",
              "      <td>255.28</td>\n",
              "      <td>159.42</td>\n",
              "      <td>1901836.00</td>\n",
              "      <td>1187679.00</td>\n",
              "      <td>714157.00</td>\n",
              "    </tr>\n",
              "    <tr>\n",
              "      <th>21</th>\n",
              "      <td>Europe</td>\n",
              "      <td>Portugal</td>\n",
              "      <td>Baby Food</td>\n",
              "      <td>Online</td>\n",
              "      <td>H</td>\n",
              "      <td>7/31/2015</td>\n",
              "      <td>860673511</td>\n",
              "      <td>09-03-2015</td>\n",
              "      <td>1273</td>\n",
              "      <td>255.28</td>\n",
              "      <td>159.42</td>\n",
              "      <td>324971.44</td>\n",
              "      <td>202941.66</td>\n",
              "      <td>122029.78</td>\n",
              "    </tr>\n",
              "    <tr>\n",
              "      <th>22</th>\n",
              "      <td>Central America and the Caribbean</td>\n",
              "      <td>Honduras</td>\n",
              "      <td>Snacks</td>\n",
              "      <td>Online</td>\n",
              "      <td>L</td>\n",
              "      <td>6/30/2016</td>\n",
              "      <td>795490682</td>\n",
              "      <td>7/26/2016</td>\n",
              "      <td>2225</td>\n",
              "      <td>152.58</td>\n",
              "      <td>97.44</td>\n",
              "      <td>339490.50</td>\n",
              "      <td>216804.00</td>\n",
              "      <td>122686.50</td>\n",
              "    </tr>\n",
              "    <tr>\n",
              "      <th>23</th>\n",
              "      <td>Australia and Oceania</td>\n",
              "      <td>New Zealand</td>\n",
              "      <td>Fruits</td>\n",
              "      <td>Online</td>\n",
              "      <td>H</td>\n",
              "      <td>09-08-2014</td>\n",
              "      <td>142278373</td>\n",
              "      <td>10-04-2014</td>\n",
              "      <td>2187</td>\n",
              "      <td>9.33</td>\n",
              "      <td>6.92</td>\n",
              "      <td>20404.71</td>\n",
              "      <td>15134.04</td>\n",
              "      <td>5270.67</td>\n",
              "    </tr>\n",
              "    <tr>\n",
              "      <th>24</th>\n",
              "      <td>Europe</td>\n",
              "      <td>Moldova</td>\n",
              "      <td>Personal Care</td>\n",
              "      <td>Online</td>\n",
              "      <td>L</td>\n",
              "      <td>05-07-2016</td>\n",
              "      <td>740147912</td>\n",
              "      <td>05-10-2016</td>\n",
              "      <td>5070</td>\n",
              "      <td>81.73</td>\n",
              "      <td>56.67</td>\n",
              "      <td>414371.10</td>\n",
              "      <td>287316.90</td>\n",
              "      <td>127054.20</td>\n",
              "    </tr>\n",
              "    <tr>\n",
              "      <th>25</th>\n",
              "      <td>Europe</td>\n",
              "      <td>France</td>\n",
              "      <td>Cosmetics</td>\n",
              "      <td>Online</td>\n",
              "      <td>H</td>\n",
              "      <td>5/22/2017</td>\n",
              "      <td>898523128</td>\n",
              "      <td>06-05-2017</td>\n",
              "      <td>1815</td>\n",
              "      <td>437.20</td>\n",
              "      <td>263.33</td>\n",
              "      <td>793518.00</td>\n",
              "      <td>477943.95</td>\n",
              "      <td>315574.05</td>\n",
              "    </tr>\n",
              "    <tr>\n",
              "      <th>26</th>\n",
              "      <td>Australia and Oceania</td>\n",
              "      <td>Kiribati</td>\n",
              "      <td>Fruits</td>\n",
              "      <td>Online</td>\n",
              "      <td>M</td>\n",
              "      <td>10/13/2014</td>\n",
              "      <td>347140347</td>\n",
              "      <td>11-10-2014</td>\n",
              "      <td>5398</td>\n",
              "      <td>9.33</td>\n",
              "      <td>6.92</td>\n",
              "      <td>50363.34</td>\n",
              "      <td>37354.16</td>\n",
              "      <td>13009.18</td>\n",
              "    </tr>\n",
              "    <tr>\n",
              "      <th>27</th>\n",
              "      <td>Sub-Saharan Africa</td>\n",
              "      <td>Mali</td>\n",
              "      <td>Fruits</td>\n",
              "      <td>Online</td>\n",
              "      <td>L</td>\n",
              "      <td>05-07-2010</td>\n",
              "      <td>686048400</td>\n",
              "      <td>05-10-2010</td>\n",
              "      <td>5822</td>\n",
              "      <td>9.33</td>\n",
              "      <td>6.92</td>\n",
              "      <td>54319.26</td>\n",
              "      <td>40288.24</td>\n",
              "      <td>14031.02</td>\n",
              "    </tr>\n",
              "    <tr>\n",
              "      <th>28</th>\n",
              "      <td>Europe</td>\n",
              "      <td>Norway</td>\n",
              "      <td>Beverages</td>\n",
              "      <td>Offline</td>\n",
              "      <td>C</td>\n",
              "      <td>7/18/2014</td>\n",
              "      <td>435608613</td>\n",
              "      <td>7/30/2014</td>\n",
              "      <td>5124</td>\n",
              "      <td>47.45</td>\n",
              "      <td>31.79</td>\n",
              "      <td>243133.80</td>\n",
              "      <td>162891.96</td>\n",
              "      <td>80241.84</td>\n",
              "    </tr>\n",
              "    <tr>\n",
              "      <th>29</th>\n",
              "      <td>Sub-Saharan Africa</td>\n",
              "      <td>The Gambia</td>\n",
              "      <td>Household</td>\n",
              "      <td>Offline</td>\n",
              "      <td>L</td>\n",
              "      <td>5/26/2012</td>\n",
              "      <td>886494815</td>\n",
              "      <td>06-09-2012</td>\n",
              "      <td>2370</td>\n",
              "      <td>668.27</td>\n",
              "      <td>502.54</td>\n",
              "      <td>1583799.90</td>\n",
              "      <td>1191019.80</td>\n",
              "      <td>392780.10</td>\n",
              "    </tr>\n",
              "    <tr>\n",
              "      <th>30</th>\n",
              "      <td>Europe</td>\n",
              "      <td>Switzerland</td>\n",
              "      <td>Cosmetics</td>\n",
              "      <td>Offline</td>\n",
              "      <td>M</td>\n",
              "      <td>9/17/2012</td>\n",
              "      <td>249693334</td>\n",
              "      <td>10/20/2012</td>\n",
              "      <td>8661</td>\n",
              "      <td>437.20</td>\n",
              "      <td>263.33</td>\n",
              "      <td>3786589.20</td>\n",
              "      <td>2280701.13</td>\n",
              "      <td>1505888.07</td>\n",
              "    </tr>\n",
              "    <tr>\n",
              "      <th>31</th>\n",
              "      <td>Sub-Saharan Africa</td>\n",
              "      <td>South Sudan</td>\n",
              "      <td>Personal Care</td>\n",
              "      <td>Offline</td>\n",
              "      <td>C</td>\n",
              "      <td>12/29/2013</td>\n",
              "      <td>406502997</td>\n",
              "      <td>1/28/2014</td>\n",
              "      <td>2125</td>\n",
              "      <td>81.73</td>\n",
              "      <td>56.67</td>\n",
              "      <td>173676.25</td>\n",
              "      <td>120423.75</td>\n",
              "      <td>53252.50</td>\n",
              "    </tr>\n",
              "    <tr>\n",
              "      <th>32</th>\n",
              "      <td>Australia and Oceania</td>\n",
              "      <td>Australia</td>\n",
              "      <td>Office Supplies</td>\n",
              "      <td>Online</td>\n",
              "      <td>C</td>\n",
              "      <td>10/27/2015</td>\n",
              "      <td>158535134</td>\n",
              "      <td>11/25/2015</td>\n",
              "      <td>2924</td>\n",
              "      <td>651.21</td>\n",
              "      <td>524.96</td>\n",
              "      <td>1904138.04</td>\n",
              "      <td>1534983.04</td>\n",
              "      <td>369155.00</td>\n",
              "    </tr>\n",
              "    <tr>\n",
              "      <th>33</th>\n",
              "      <td>Asia</td>\n",
              "      <td>Myanmar</td>\n",
              "      <td>Household</td>\n",
              "      <td>Offline</td>\n",
              "      <td>H</td>\n",
              "      <td>1/16/2015</td>\n",
              "      <td>177713572</td>\n",
              "      <td>03-01-2015</td>\n",
              "      <td>8250</td>\n",
              "      <td>668.27</td>\n",
              "      <td>502.54</td>\n",
              "      <td>5513227.50</td>\n",
              "      <td>4145955.00</td>\n",
              "      <td>1367272.50</td>\n",
              "    </tr>\n",
              "    <tr>\n",
              "      <th>34</th>\n",
              "      <td>Sub-Saharan Africa</td>\n",
              "      <td>Djibouti</td>\n",
              "      <td>Snacks</td>\n",
              "      <td>Online</td>\n",
              "      <td>M</td>\n",
              "      <td>2/25/2017</td>\n",
              "      <td>756274640</td>\n",
              "      <td>2/25/2017</td>\n",
              "      <td>7327</td>\n",
              "      <td>152.58</td>\n",
              "      <td>97.44</td>\n",
              "      <td>1117953.66</td>\n",
              "      <td>713942.88</td>\n",
              "      <td>404010.78</td>\n",
              "    </tr>\n",
              "    <tr>\n",
              "      <th>35</th>\n",
              "      <td>Central America and the Caribbean</td>\n",
              "      <td>Costa Rica</td>\n",
              "      <td>Personal Care</td>\n",
              "      <td>Offline</td>\n",
              "      <td>L</td>\n",
              "      <td>05-08-2017</td>\n",
              "      <td>456767165</td>\n",
              "      <td>5/21/2017</td>\n",
              "      <td>6409</td>\n",
              "      <td>81.73</td>\n",
              "      <td>56.67</td>\n",
              "      <td>523807.57</td>\n",
              "      <td>363198.03</td>\n",
              "      <td>160609.54</td>\n",
              "    </tr>\n",
              "    <tr>\n",
              "      <th>36</th>\n",
              "      <td>Middle East and North Africa</td>\n",
              "      <td>Syria</td>\n",
              "      <td>Fruits</td>\n",
              "      <td>Online</td>\n",
              "      <td>L</td>\n",
              "      <td>11/22/2011</td>\n",
              "      <td>162052476</td>\n",
              "      <td>12-03-2011</td>\n",
              "      <td>3784</td>\n",
              "      <td>9.33</td>\n",
              "      <td>6.92</td>\n",
              "      <td>35304.72</td>\n",
              "      <td>26185.28</td>\n",
              "      <td>9119.44</td>\n",
              "    </tr>\n",
              "    <tr>\n",
              "      <th>37</th>\n",
              "      <td>Sub-Saharan Africa</td>\n",
              "      <td>The Gambia</td>\n",
              "      <td>Meat</td>\n",
              "      <td>Online</td>\n",
              "      <td>M</td>\n",
              "      <td>1/14/2017</td>\n",
              "      <td>825304400</td>\n",
              "      <td>1/23/2017</td>\n",
              "      <td>4767</td>\n",
              "      <td>421.89</td>\n",
              "      <td>364.69</td>\n",
              "      <td>2011149.63</td>\n",
              "      <td>1738477.23</td>\n",
              "      <td>272672.40</td>\n",
              "    </tr>\n",
              "    <tr>\n",
              "      <th>38</th>\n",
              "      <td>Asia</td>\n",
              "      <td>Brunei</td>\n",
              "      <td>Office Supplies</td>\n",
              "      <td>Online</td>\n",
              "      <td>L</td>\n",
              "      <td>04-01-2012</td>\n",
              "      <td>320009267</td>\n",
              "      <td>05-08-2012</td>\n",
              "      <td>6708</td>\n",
              "      <td>651.21</td>\n",
              "      <td>524.96</td>\n",
              "      <td>4368316.68</td>\n",
              "      <td>3521431.68</td>\n",
              "      <td>846885.00</td>\n",
              "    </tr>\n",
              "    <tr>\n",
              "      <th>39</th>\n",
              "      <td>Europe</td>\n",
              "      <td>Bulgaria</td>\n",
              "      <td>Office Supplies</td>\n",
              "      <td>Online</td>\n",
              "      <td>M</td>\n",
              "      <td>2/16/2012</td>\n",
              "      <td>189965903</td>\n",
              "      <td>2/28/2012</td>\n",
              "      <td>3987</td>\n",
              "      <td>651.21</td>\n",
              "      <td>524.96</td>\n",
              "      <td>2596374.27</td>\n",
              "      <td>2093015.52</td>\n",
              "      <td>503358.75</td>\n",
              "    </tr>\n",
              "    <tr>\n",
              "      <th>40</th>\n",
              "      <td>Sub-Saharan Africa</td>\n",
              "      <td>Niger</td>\n",
              "      <td>Personal Care</td>\n",
              "      <td>Online</td>\n",
              "      <td>H</td>\n",
              "      <td>03-11-2017</td>\n",
              "      <td>699285638</td>\n",
              "      <td>3/28/2017</td>\n",
              "      <td>3015</td>\n",
              "      <td>81.73</td>\n",
              "      <td>56.67</td>\n",
              "      <td>246415.95</td>\n",
              "      <td>170860.05</td>\n",
              "      <td>75555.90</td>\n",
              "    </tr>\n",
              "    <tr>\n",
              "      <th>41</th>\n",
              "      <td>Middle East and North Africa</td>\n",
              "      <td>Azerbaijan</td>\n",
              "      <td>Cosmetics</td>\n",
              "      <td>Online</td>\n",
              "      <td>M</td>\n",
              "      <td>02-06-2010</td>\n",
              "      <td>382392299</td>\n",
              "      <td>2/25/2010</td>\n",
              "      <td>7234</td>\n",
              "      <td>437.20</td>\n",
              "      <td>263.33</td>\n",
              "      <td>3162704.80</td>\n",
              "      <td>1904929.22</td>\n",
              "      <td>1257775.58</td>\n",
              "    </tr>\n",
              "    <tr>\n",
              "      <th>42</th>\n",
              "      <td>Sub-Saharan Africa</td>\n",
              "      <td>The Gambia</td>\n",
              "      <td>Cereal</td>\n",
              "      <td>Offline</td>\n",
              "      <td>H</td>\n",
              "      <td>06-07-2012</td>\n",
              "      <td>994022214</td>\n",
              "      <td>06-08-2012</td>\n",
              "      <td>2117</td>\n",
              "      <td>205.70</td>\n",
              "      <td>117.11</td>\n",
              "      <td>435466.90</td>\n",
              "      <td>247921.87</td>\n",
              "      <td>187545.03</td>\n",
              "    </tr>\n",
              "    <tr>\n",
              "      <th>43</th>\n",
              "      <td>Europe</td>\n",
              "      <td>Slovakia</td>\n",
              "      <td>Vegetables</td>\n",
              "      <td>Online</td>\n",
              "      <td>H</td>\n",
              "      <td>10-06-2012</td>\n",
              "      <td>759224212</td>\n",
              "      <td>11-10-2012</td>\n",
              "      <td>171</td>\n",
              "      <td>154.06</td>\n",
              "      <td>90.93</td>\n",
              "      <td>26344.26</td>\n",
              "      <td>15549.03</td>\n",
              "      <td>10795.23</td>\n",
              "    </tr>\n",
              "    <tr>\n",
              "      <th>44</th>\n",
              "      <td>Asia</td>\n",
              "      <td>Myanmar</td>\n",
              "      <td>Clothes</td>\n",
              "      <td>Online</td>\n",
              "      <td>H</td>\n",
              "      <td>11/14/2015</td>\n",
              "      <td>223359620</td>\n",
              "      <td>11/18/2015</td>\n",
              "      <td>5930</td>\n",
              "      <td>109.28</td>\n",
              "      <td>35.84</td>\n",
              "      <td>648030.40</td>\n",
              "      <td>212531.20</td>\n",
              "      <td>435499.20</td>\n",
              "    </tr>\n",
              "    <tr>\n",
              "      <th>45</th>\n",
              "      <td>Sub-Saharan Africa</td>\n",
              "      <td>Comoros</td>\n",
              "      <td>Cereal</td>\n",
              "      <td>Offline</td>\n",
              "      <td>H</td>\n",
              "      <td>3/29/2016</td>\n",
              "      <td>902102267</td>\n",
              "      <td>4/29/2016</td>\n",
              "      <td>962</td>\n",
              "      <td>205.70</td>\n",
              "      <td>117.11</td>\n",
              "      <td>197883.40</td>\n",
              "      <td>112659.82</td>\n",
              "      <td>85223.58</td>\n",
              "    </tr>\n",
              "    <tr>\n",
              "      <th>46</th>\n",
              "      <td>Europe</td>\n",
              "      <td>Iceland</td>\n",
              "      <td>Cosmetics</td>\n",
              "      <td>Online</td>\n",
              "      <td>C</td>\n",
              "      <td>12/31/2016</td>\n",
              "      <td>331438481</td>\n",
              "      <td>12/31/2016</td>\n",
              "      <td>8867</td>\n",
              "      <td>437.20</td>\n",
              "      <td>263.33</td>\n",
              "      <td>3876652.40</td>\n",
              "      <td>2334947.11</td>\n",
              "      <td>1541705.29</td>\n",
              "    </tr>\n",
              "    <tr>\n",
              "      <th>47</th>\n",
              "      <td>Europe</td>\n",
              "      <td>Switzerland</td>\n",
              "      <td>Personal Care</td>\n",
              "      <td>Online</td>\n",
              "      <td>M</td>\n",
              "      <td>12/23/2010</td>\n",
              "      <td>617667090</td>\n",
              "      <td>1/31/2011</td>\n",
              "      <td>273</td>\n",
              "      <td>81.73</td>\n",
              "      <td>56.67</td>\n",
              "      <td>22312.29</td>\n",
              "      <td>15470.91</td>\n",
              "      <td>6841.38</td>\n",
              "    </tr>\n",
              "    <tr>\n",
              "      <th>48</th>\n",
              "      <td>Europe</td>\n",
              "      <td>Macedonia</td>\n",
              "      <td>Clothes</td>\n",
              "      <td>Offline</td>\n",
              "      <td>C</td>\n",
              "      <td>10/14/2014</td>\n",
              "      <td>787399423</td>\n",
              "      <td>11/14/2014</td>\n",
              "      <td>7842</td>\n",
              "      <td>109.28</td>\n",
              "      <td>35.84</td>\n",
              "      <td>856973.76</td>\n",
              "      <td>281057.28</td>\n",
              "      <td>575916.48</td>\n",
              "    </tr>\n",
              "    <tr>\n",
              "      <th>49</th>\n",
              "      <td>Sub-Saharan Africa</td>\n",
              "      <td>Mauritania</td>\n",
              "      <td>Office Supplies</td>\n",
              "      <td>Offline</td>\n",
              "      <td>C</td>\n",
              "      <td>01-11-2012</td>\n",
              "      <td>837559306</td>\n",
              "      <td>1/13/2012</td>\n",
              "      <td>1266</td>\n",
              "      <td>651.21</td>\n",
              "      <td>524.96</td>\n",
              "      <td>824431.86</td>\n",
              "      <td>664599.36</td>\n",
              "      <td>159832.50</td>\n",
              "    </tr>\n",
              "    <tr>\n",
              "      <th>50</th>\n",
              "      <td>Europe</td>\n",
              "      <td>Albania</td>\n",
              "      <td>Clothes</td>\n",
              "      <td>Online</td>\n",
              "      <td>C</td>\n",
              "      <td>02-02-2010</td>\n",
              "      <td>385383069</td>\n",
              "      <td>3/18/2010</td>\n",
              "      <td>2269</td>\n",
              "      <td>109.28</td>\n",
              "      <td>35.84</td>\n",
              "      <td>247956.32</td>\n",
              "      <td>81320.96</td>\n",
              "      <td>166635.36</td>\n",
              "    </tr>\n",
              "    <tr>\n",
              "      <th>51</th>\n",
              "      <td>Sub-Saharan Africa</td>\n",
              "      <td>Lesotho</td>\n",
              "      <td>Fruits</td>\n",
              "      <td>Online</td>\n",
              "      <td>L</td>\n",
              "      <td>8/18/2013</td>\n",
              "      <td>918419539</td>\n",
              "      <td>9/18/2013</td>\n",
              "      <td>9606</td>\n",
              "      <td>9.33</td>\n",
              "      <td>6.92</td>\n",
              "      <td>89623.98</td>\n",
              "      <td>66473.52</td>\n",
              "      <td>23150.46</td>\n",
              "    </tr>\n",
              "    <tr>\n",
              "      <th>52</th>\n",
              "      <td>Middle East and North Africa</td>\n",
              "      <td>Saudi Arabia</td>\n",
              "      <td>Cereal</td>\n",
              "      <td>Online</td>\n",
              "      <td>M</td>\n",
              "      <td>3/25/2013</td>\n",
              "      <td>844530045</td>\n",
              "      <td>3/28/2013</td>\n",
              "      <td>4063</td>\n",
              "      <td>205.70</td>\n",
              "      <td>117.11</td>\n",
              "      <td>835759.10</td>\n",
              "      <td>475817.93</td>\n",
              "      <td>359941.17</td>\n",
              "    </tr>\n",
              "    <tr>\n",
              "      <th>53</th>\n",
              "      <td>Sub-Saharan Africa</td>\n",
              "      <td>Sierra Leone</td>\n",
              "      <td>Office Supplies</td>\n",
              "      <td>Offline</td>\n",
              "      <td>M</td>\n",
              "      <td>11/26/2011</td>\n",
              "      <td>441888415</td>\n",
              "      <td>01-07-2012</td>\n",
              "      <td>3457</td>\n",
              "      <td>651.21</td>\n",
              "      <td>524.96</td>\n",
              "      <td>2251232.97</td>\n",
              "      <td>1814786.72</td>\n",
              "      <td>436446.25</td>\n",
              "    </tr>\n",
              "    <tr>\n",
              "      <th>54</th>\n",
              "      <td>Sub-Saharan Africa</td>\n",
              "      <td>Sao Tome and Principe</td>\n",
              "      <td>Fruits</td>\n",
              "      <td>Offline</td>\n",
              "      <td>H</td>\n",
              "      <td>9/17/2013</td>\n",
              "      <td>508980977</td>\n",
              "      <td>10/24/2013</td>\n",
              "      <td>7637</td>\n",
              "      <td>9.33</td>\n",
              "      <td>6.92</td>\n",
              "      <td>71253.21</td>\n",
              "      <td>52848.04</td>\n",
              "      <td>18405.17</td>\n",
              "    </tr>\n",
              "    <tr>\n",
              "      <th>55</th>\n",
              "      <td>Sub-Saharan Africa</td>\n",
              "      <td>Cote d'Ivoire</td>\n",
              "      <td>Clothes</td>\n",
              "      <td>Online</td>\n",
              "      <td>C</td>\n",
              "      <td>06-08-2012</td>\n",
              "      <td>114606559</td>\n",
              "      <td>6/27/2012</td>\n",
              "      <td>3482</td>\n",
              "      <td>109.28</td>\n",
              "      <td>35.84</td>\n",
              "      <td>380512.96</td>\n",
              "      <td>124794.88</td>\n",
              "      <td>255718.08</td>\n",
              "    </tr>\n",
              "    <tr>\n",
              "      <th>56</th>\n",
              "      <td>Australia and Oceania</td>\n",
              "      <td>Fiji</td>\n",
              "      <td>Clothes</td>\n",
              "      <td>Offline</td>\n",
              "      <td>C</td>\n",
              "      <td>6/30/2010</td>\n",
              "      <td>647876489</td>\n",
              "      <td>08-01-2010</td>\n",
              "      <td>9905</td>\n",
              "      <td>109.28</td>\n",
              "      <td>35.84</td>\n",
              "      <td>1082418.40</td>\n",
              "      <td>354995.20</td>\n",
              "      <td>727423.20</td>\n",
              "    </tr>\n",
              "    <tr>\n",
              "      <th>57</th>\n",
              "      <td>Europe</td>\n",
              "      <td>Austria</td>\n",
              "      <td>Cosmetics</td>\n",
              "      <td>Offline</td>\n",
              "      <td>H</td>\n",
              "      <td>2/23/2015</td>\n",
              "      <td>868214595</td>\n",
              "      <td>03-02-2015</td>\n",
              "      <td>2847</td>\n",
              "      <td>437.20</td>\n",
              "      <td>263.33</td>\n",
              "      <td>1244708.40</td>\n",
              "      <td>749700.51</td>\n",
              "      <td>495007.89</td>\n",
              "    </tr>\n",
              "    <tr>\n",
              "      <th>58</th>\n",
              "      <td>Europe</td>\n",
              "      <td>United Kingdom</td>\n",
              "      <td>Household</td>\n",
              "      <td>Online</td>\n",
              "      <td>L</td>\n",
              "      <td>01-05-2012</td>\n",
              "      <td>955357205</td>\n",
              "      <td>2/14/2012</td>\n",
              "      <td>282</td>\n",
              "      <td>668.27</td>\n",
              "      <td>502.54</td>\n",
              "      <td>188452.14</td>\n",
              "      <td>141716.28</td>\n",
              "      <td>46735.86</td>\n",
              "    </tr>\n",
              "    <tr>\n",
              "      <th>59</th>\n",
              "      <td>Sub-Saharan Africa</td>\n",
              "      <td>Djibouti</td>\n",
              "      <td>Cosmetics</td>\n",
              "      <td>Offline</td>\n",
              "      <td>H</td>\n",
              "      <td>04-07-2014</td>\n",
              "      <td>259353148</td>\n",
              "      <td>4/19/2014</td>\n",
              "      <td>7215</td>\n",
              "      <td>437.20</td>\n",
              "      <td>263.33</td>\n",
              "      <td>3154398.00</td>\n",
              "      <td>1899925.95</td>\n",
              "      <td>1254472.05</td>\n",
              "    </tr>\n",
              "    <tr>\n",
              "      <th>60</th>\n",
              "      <td>Australia and Oceania</td>\n",
              "      <td>Australia</td>\n",
              "      <td>Cereal</td>\n",
              "      <td>Offline</td>\n",
              "      <td>H</td>\n",
              "      <td>06-09-2013</td>\n",
              "      <td>450563752</td>\n",
              "      <td>07-02-2013</td>\n",
              "      <td>682</td>\n",
              "      <td>205.70</td>\n",
              "      <td>117.11</td>\n",
              "      <td>140287.40</td>\n",
              "      <td>79869.02</td>\n",
              "      <td>60418.38</td>\n",
              "    </tr>\n",
              "    <tr>\n",
              "      <th>61</th>\n",
              "      <td>Europe</td>\n",
              "      <td>San Marino</td>\n",
              "      <td>Baby Food</td>\n",
              "      <td>Online</td>\n",
              "      <td>L</td>\n",
              "      <td>6/26/2013</td>\n",
              "      <td>569662845</td>\n",
              "      <td>07-01-2013</td>\n",
              "      <td>4750</td>\n",
              "      <td>255.28</td>\n",
              "      <td>159.42</td>\n",
              "      <td>1212580.00</td>\n",
              "      <td>757245.00</td>\n",
              "      <td>455335.00</td>\n",
              "    </tr>\n",
              "    <tr>\n",
              "      <th>62</th>\n",
              "      <td>Sub-Saharan Africa</td>\n",
              "      <td>Cameroon</td>\n",
              "      <td>Office Supplies</td>\n",
              "      <td>Online</td>\n",
              "      <td>M</td>\n",
              "      <td>11-07-2011</td>\n",
              "      <td>177636754</td>\n",
              "      <td>11/15/2011</td>\n",
              "      <td>5518</td>\n",
              "      <td>651.21</td>\n",
              "      <td>524.96</td>\n",
              "      <td>3593376.78</td>\n",
              "      <td>2896729.28</td>\n",
              "      <td>696647.50</td>\n",
              "    </tr>\n",
              "    <tr>\n",
              "      <th>63</th>\n",
              "      <td>Middle East and North Africa</td>\n",
              "      <td>Libya</td>\n",
              "      <td>Clothes</td>\n",
              "      <td>Offline</td>\n",
              "      <td>H</td>\n",
              "      <td>10/30/2010</td>\n",
              "      <td>705784308</td>\n",
              "      <td>11/17/2010</td>\n",
              "      <td>6116</td>\n",
              "      <td>109.28</td>\n",
              "      <td>35.84</td>\n",
              "      <td>668356.48</td>\n",
              "      <td>219197.44</td>\n",
              "      <td>449159.04</td>\n",
              "    </tr>\n",
              "    <tr>\n",
              "      <th>64</th>\n",
              "      <td>Central America and the Caribbean</td>\n",
              "      <td>Haiti</td>\n",
              "      <td>Cosmetics</td>\n",
              "      <td>Offline</td>\n",
              "      <td>H</td>\n",
              "      <td>10/13/2013</td>\n",
              "      <td>505716836</td>\n",
              "      <td>11/16/2013</td>\n",
              "      <td>1705</td>\n",
              "      <td>437.20</td>\n",
              "      <td>263.33</td>\n",
              "      <td>745426.00</td>\n",
              "      <td>448977.65</td>\n",
              "      <td>296448.35</td>\n",
              "    </tr>\n",
              "    <tr>\n",
              "      <th>65</th>\n",
              "      <td>Sub-Saharan Africa</td>\n",
              "      <td>Rwanda</td>\n",
              "      <td>Cosmetics</td>\n",
              "      <td>Offline</td>\n",
              "      <td>H</td>\n",
              "      <td>10-11-2013</td>\n",
              "      <td>699358165</td>\n",
              "      <td>11/25/2013</td>\n",
              "      <td>4477</td>\n",
              "      <td>437.20</td>\n",
              "      <td>263.33</td>\n",
              "      <td>1957344.40</td>\n",
              "      <td>1178928.41</td>\n",
              "      <td>778415.99</td>\n",
              "    </tr>\n",
              "    <tr>\n",
              "      <th>66</th>\n",
              "      <td>Sub-Saharan Africa</td>\n",
              "      <td>Gabon</td>\n",
              "      <td>Personal Care</td>\n",
              "      <td>Offline</td>\n",
              "      <td>L</td>\n",
              "      <td>07-08-2012</td>\n",
              "      <td>228944623</td>\n",
              "      <td>07-09-2012</td>\n",
              "      <td>8656</td>\n",
              "      <td>81.73</td>\n",
              "      <td>56.67</td>\n",
              "      <td>707454.88</td>\n",
              "      <td>490535.52</td>\n",
              "      <td>216919.36</td>\n",
              "    </tr>\n",
              "    <tr>\n",
              "      <th>67</th>\n",
              "      <td>Central America and the Caribbean</td>\n",
              "      <td>Belize</td>\n",
              "      <td>Clothes</td>\n",
              "      <td>Offline</td>\n",
              "      <td>M</td>\n",
              "      <td>7/25/2016</td>\n",
              "      <td>807025039</td>\n",
              "      <td>09-07-2016</td>\n",
              "      <td>5498</td>\n",
              "      <td>109.28</td>\n",
              "      <td>35.84</td>\n",
              "      <td>600821.44</td>\n",
              "      <td>197048.32</td>\n",
              "      <td>403773.12</td>\n",
              "    </tr>\n",
              "    <tr>\n",
              "      <th>68</th>\n",
              "      <td>Europe</td>\n",
              "      <td>Lithuania</td>\n",
              "      <td>Office Supplies</td>\n",
              "      <td>Offline</td>\n",
              "      <td>H</td>\n",
              "      <td>10/24/2010</td>\n",
              "      <td>166460740</td>\n",
              "      <td>11/17/2010</td>\n",
              "      <td>8287</td>\n",
              "      <td>651.21</td>\n",
              "      <td>524.96</td>\n",
              "      <td>5396577.27</td>\n",
              "      <td>4350343.52</td>\n",
              "      <td>1046233.75</td>\n",
              "    </tr>\n",
              "    <tr>\n",
              "      <th>69</th>\n",
              "      <td>Sub-Saharan Africa</td>\n",
              "      <td>Madagascar</td>\n",
              "      <td>Clothes</td>\n",
              "      <td>Offline</td>\n",
              "      <td>L</td>\n",
              "      <td>4/25/2015</td>\n",
              "      <td>610425555</td>\n",
              "      <td>5/28/2015</td>\n",
              "      <td>7342</td>\n",
              "      <td>109.28</td>\n",
              "      <td>35.84</td>\n",
              "      <td>802333.76</td>\n",
              "      <td>263137.28</td>\n",
              "      <td>539196.48</td>\n",
              "    </tr>\n",
              "    <tr>\n",
              "      <th>70</th>\n",
              "      <td>Asia</td>\n",
              "      <td>Turkmenistan</td>\n",
              "      <td>Office Supplies</td>\n",
              "      <td>Online</td>\n",
              "      <td>M</td>\n",
              "      <td>4/23/2013</td>\n",
              "      <td>462405812</td>\n",
              "      <td>5/20/2013</td>\n",
              "      <td>5010</td>\n",
              "      <td>651.21</td>\n",
              "      <td>524.96</td>\n",
              "      <td>3262562.10</td>\n",
              "      <td>2630049.60</td>\n",
              "      <td>632512.50</td>\n",
              "    </tr>\n",
              "    <tr>\n",
              "      <th>71</th>\n",
              "      <td>Middle East and North Africa</td>\n",
              "      <td>Libya</td>\n",
              "      <td>Fruits</td>\n",
              "      <td>Online</td>\n",
              "      <td>L</td>\n",
              "      <td>8/14/2015</td>\n",
              "      <td>816200339</td>\n",
              "      <td>9/30/2015</td>\n",
              "      <td>673</td>\n",
              "      <td>9.33</td>\n",
              "      <td>6.92</td>\n",
              "      <td>6279.09</td>\n",
              "      <td>4657.16</td>\n",
              "      <td>1621.93</td>\n",
              "    </tr>\n",
              "    <tr>\n",
              "      <th>72</th>\n",
              "      <td>Sub-Saharan Africa</td>\n",
              "      <td>Democratic Republic of the Congo</td>\n",
              "      <td>Beverages</td>\n",
              "      <td>Online</td>\n",
              "      <td>C</td>\n",
              "      <td>5/26/2011</td>\n",
              "      <td>585920464</td>\n",
              "      <td>7/15/2011</td>\n",
              "      <td>5741</td>\n",
              "      <td>47.45</td>\n",
              "      <td>31.79</td>\n",
              "      <td>272410.45</td>\n",
              "      <td>182506.39</td>\n",
              "      <td>89904.06</td>\n",
              "    </tr>\n",
              "    <tr>\n",
              "      <th>73</th>\n",
              "      <td>Sub-Saharan Africa</td>\n",
              "      <td>Djibouti</td>\n",
              "      <td>Cereal</td>\n",
              "      <td>Online</td>\n",
              "      <td>H</td>\n",
              "      <td>5/20/2017</td>\n",
              "      <td>555990016</td>\n",
              "      <td>6/17/2017</td>\n",
              "      <td>8656</td>\n",
              "      <td>205.70</td>\n",
              "      <td>117.11</td>\n",
              "      <td>1780539.20</td>\n",
              "      <td>1013704.16</td>\n",
              "      <td>766835.04</td>\n",
              "    </tr>\n",
              "    <tr>\n",
              "      <th>74</th>\n",
              "      <td>Middle East and North Africa</td>\n",
              "      <td>Pakistan</td>\n",
              "      <td>Cosmetics</td>\n",
              "      <td>Offline</td>\n",
              "      <td>L</td>\n",
              "      <td>07-05-2013</td>\n",
              "      <td>231145322</td>\n",
              "      <td>8/16/2013</td>\n",
              "      <td>9892</td>\n",
              "      <td>437.20</td>\n",
              "      <td>263.33</td>\n",
              "      <td>4324782.40</td>\n",
              "      <td>2604860.36</td>\n",
              "      <td>1719922.04</td>\n",
              "    </tr>\n",
              "    <tr>\n",
              "      <th>75</th>\n",
              "      <td>North America</td>\n",
              "      <td>Mexico</td>\n",
              "      <td>Household</td>\n",
              "      <td>Offline</td>\n",
              "      <td>C</td>\n",
              "      <td>11-06-2014</td>\n",
              "      <td>986435210</td>\n",
              "      <td>12-12-2014</td>\n",
              "      <td>6954</td>\n",
              "      <td>668.27</td>\n",
              "      <td>502.54</td>\n",
              "      <td>4647149.58</td>\n",
              "      <td>3494663.16</td>\n",
              "      <td>1152486.42</td>\n",
              "    </tr>\n",
              "    <tr>\n",
              "      <th>76</th>\n",
              "      <td>Australia and Oceania</td>\n",
              "      <td>Federated States of Micronesia</td>\n",
              "      <td>Beverages</td>\n",
              "      <td>Online</td>\n",
              "      <td>C</td>\n",
              "      <td>10/28/2014</td>\n",
              "      <td>217221009</td>\n",
              "      <td>11/15/2014</td>\n",
              "      <td>9379</td>\n",
              "      <td>47.45</td>\n",
              "      <td>31.79</td>\n",
              "      <td>445033.55</td>\n",
              "      <td>298158.41</td>\n",
              "      <td>146875.14</td>\n",
              "    </tr>\n",
              "    <tr>\n",
              "      <th>77</th>\n",
              "      <td>Asia</td>\n",
              "      <td>Laos</td>\n",
              "      <td>Vegetables</td>\n",
              "      <td>Offline</td>\n",
              "      <td>C</td>\n",
              "      <td>9/15/2011</td>\n",
              "      <td>789176547</td>\n",
              "      <td>10/23/2011</td>\n",
              "      <td>3732</td>\n",
              "      <td>154.06</td>\n",
              "      <td>90.93</td>\n",
              "      <td>574951.92</td>\n",
              "      <td>339350.76</td>\n",
              "      <td>235601.16</td>\n",
              "    </tr>\n",
              "    <tr>\n",
              "      <th>78</th>\n",
              "      <td>Europe</td>\n",
              "      <td>Monaco</td>\n",
              "      <td>Baby Food</td>\n",
              "      <td>Offline</td>\n",
              "      <td>H</td>\n",
              "      <td>5/29/2012</td>\n",
              "      <td>688288152</td>\n",
              "      <td>06-02-2012</td>\n",
              "      <td>8614</td>\n",
              "      <td>255.28</td>\n",
              "      <td>159.42</td>\n",
              "      <td>2198981.92</td>\n",
              "      <td>1373243.88</td>\n",
              "      <td>825738.04</td>\n",
              "    </tr>\n",
              "    <tr>\n",
              "      <th>79</th>\n",
              "      <td>Australia and Oceania</td>\n",
              "      <td>Samoa</td>\n",
              "      <td>Cosmetics</td>\n",
              "      <td>Online</td>\n",
              "      <td>H</td>\n",
              "      <td>7/20/2013</td>\n",
              "      <td>670854651</td>\n",
              "      <td>08-07-2013</td>\n",
              "      <td>9654</td>\n",
              "      <td>437.20</td>\n",
              "      <td>263.33</td>\n",
              "      <td>4220728.80</td>\n",
              "      <td>2542187.82</td>\n",
              "      <td>1678540.98</td>\n",
              "    </tr>\n",
              "    <tr>\n",
              "      <th>80</th>\n",
              "      <td>Europe</td>\n",
              "      <td>Spain</td>\n",
              "      <td>Household</td>\n",
              "      <td>Offline</td>\n",
              "      <td>L</td>\n",
              "      <td>10/21/2012</td>\n",
              "      <td>213487374</td>\n",
              "      <td>11/30/2012</td>\n",
              "      <td>4513</td>\n",
              "      <td>668.27</td>\n",
              "      <td>502.54</td>\n",
              "      <td>3015902.51</td>\n",
              "      <td>2267963.02</td>\n",
              "      <td>747939.49</td>\n",
              "    </tr>\n",
              "    <tr>\n",
              "      <th>81</th>\n",
              "      <td>Middle East and North Africa</td>\n",
              "      <td>Lebanon</td>\n",
              "      <td>Clothes</td>\n",
              "      <td>Online</td>\n",
              "      <td>L</td>\n",
              "      <td>9/18/2012</td>\n",
              "      <td>663110148</td>\n",
              "      <td>10-08-2012</td>\n",
              "      <td>7884</td>\n",
              "      <td>109.28</td>\n",
              "      <td>35.84</td>\n",
              "      <td>861563.52</td>\n",
              "      <td>282562.56</td>\n",
              "      <td>579000.96</td>\n",
              "    </tr>\n",
              "    <tr>\n",
              "      <th>82</th>\n",
              "      <td>Middle East and North Africa</td>\n",
              "      <td>Iran</td>\n",
              "      <td>Cosmetics</td>\n",
              "      <td>Online</td>\n",
              "      <td>H</td>\n",
              "      <td>11/15/2016</td>\n",
              "      <td>286959302</td>\n",
              "      <td>12-08-2016</td>\n",
              "      <td>6489</td>\n",
              "      <td>437.20</td>\n",
              "      <td>263.33</td>\n",
              "      <td>2836990.80</td>\n",
              "      <td>1708748.37</td>\n",
              "      <td>1128242.43</td>\n",
              "    </tr>\n",
              "    <tr>\n",
              "      <th>83</th>\n",
              "      <td>Sub-Saharan Africa</td>\n",
              "      <td>Zambia</td>\n",
              "      <td>Snacks</td>\n",
              "      <td>Online</td>\n",
              "      <td>L</td>\n",
              "      <td>01-04-2011</td>\n",
              "      <td>122583663</td>\n",
              "      <td>01-05-2011</td>\n",
              "      <td>4085</td>\n",
              "      <td>152.58</td>\n",
              "      <td>97.44</td>\n",
              "      <td>623289.30</td>\n",
              "      <td>398042.40</td>\n",
              "      <td>225246.90</td>\n",
              "    </tr>\n",
              "    <tr>\n",
              "      <th>84</th>\n",
              "      <td>Sub-Saharan Africa</td>\n",
              "      <td>Kenya</td>\n",
              "      <td>Vegetables</td>\n",
              "      <td>Online</td>\n",
              "      <td>L</td>\n",
              "      <td>3/18/2012</td>\n",
              "      <td>827844560</td>\n",
              "      <td>04-07-2012</td>\n",
              "      <td>6457</td>\n",
              "      <td>154.06</td>\n",
              "      <td>90.93</td>\n",
              "      <td>994765.42</td>\n",
              "      <td>587135.01</td>\n",
              "      <td>407630.41</td>\n",
              "    </tr>\n",
              "    <tr>\n",
              "      <th>85</th>\n",
              "      <td>North America</td>\n",
              "      <td>Mexico</td>\n",
              "      <td>Personal Care</td>\n",
              "      <td>Offline</td>\n",
              "      <td>L</td>\n",
              "      <td>2/17/2012</td>\n",
              "      <td>430915820</td>\n",
              "      <td>3/20/2012</td>\n",
              "      <td>6422</td>\n",
              "      <td>81.73</td>\n",
              "      <td>56.67</td>\n",
              "      <td>524870.06</td>\n",
              "      <td>363934.74</td>\n",
              "      <td>160935.32</td>\n",
              "    </tr>\n",
              "    <tr>\n",
              "      <th>86</th>\n",
              "      <td>Sub-Saharan Africa</td>\n",
              "      <td>Sao Tome and Principe</td>\n",
              "      <td>Beverages</td>\n",
              "      <td>Offline</td>\n",
              "      <td>C</td>\n",
              "      <td>1/16/2011</td>\n",
              "      <td>180283772</td>\n",
              "      <td>1/21/2011</td>\n",
              "      <td>8829</td>\n",
              "      <td>47.45</td>\n",
              "      <td>31.79</td>\n",
              "      <td>418936.05</td>\n",
              "      <td>280673.91</td>\n",
              "      <td>138262.14</td>\n",
              "    </tr>\n",
              "    <tr>\n",
              "      <th>87</th>\n",
              "      <td>Sub-Saharan Africa</td>\n",
              "      <td>The Gambia</td>\n",
              "      <td>Baby Food</td>\n",
              "      <td>Offline</td>\n",
              "      <td>M</td>\n",
              "      <td>02-03-2014</td>\n",
              "      <td>494747245</td>\n",
              "      <td>3/20/2014</td>\n",
              "      <td>5559</td>\n",
              "      <td>255.28</td>\n",
              "      <td>159.42</td>\n",
              "      <td>1419101.52</td>\n",
              "      <td>886215.78</td>\n",
              "      <td>532885.74</td>\n",
              "    </tr>\n",
              "    <tr>\n",
              "      <th>88</th>\n",
              "      <td>Middle East and North Africa</td>\n",
              "      <td>Kuwait</td>\n",
              "      <td>Fruits</td>\n",
              "      <td>Online</td>\n",
              "      <td>M</td>\n",
              "      <td>4/30/2012</td>\n",
              "      <td>513417565</td>\n",
              "      <td>5/18/2012</td>\n",
              "      <td>522</td>\n",
              "      <td>9.33</td>\n",
              "      <td>6.92</td>\n",
              "      <td>4870.26</td>\n",
              "      <td>3612.24</td>\n",
              "      <td>1258.02</td>\n",
              "    </tr>\n",
              "    <tr>\n",
              "      <th>89</th>\n",
              "      <td>Europe</td>\n",
              "      <td>Slovenia</td>\n",
              "      <td>Beverages</td>\n",
              "      <td>Offline</td>\n",
              "      <td>C</td>\n",
              "      <td>10/23/2016</td>\n",
              "      <td>345718562</td>\n",
              "      <td>11/25/2016</td>\n",
              "      <td>4660</td>\n",
              "      <td>47.45</td>\n",
              "      <td>31.79</td>\n",
              "      <td>221117.00</td>\n",
              "      <td>148141.40</td>\n",
              "      <td>72975.60</td>\n",
              "    </tr>\n",
              "    <tr>\n",
              "      <th>90</th>\n",
              "      <td>Sub-Saharan Africa</td>\n",
              "      <td>Sierra Leone</td>\n",
              "      <td>Office Supplies</td>\n",
              "      <td>Offline</td>\n",
              "      <td>H</td>\n",
              "      <td>12-06-2016</td>\n",
              "      <td>621386563</td>\n",
              "      <td>12/14/2016</td>\n",
              "      <td>948</td>\n",
              "      <td>651.21</td>\n",
              "      <td>524.96</td>\n",
              "      <td>617347.08</td>\n",
              "      <td>497662.08</td>\n",
              "      <td>119685.00</td>\n",
              "    </tr>\n",
              "    <tr>\n",
              "      <th>91</th>\n",
              "      <td>Australia and Oceania</td>\n",
              "      <td>Australia</td>\n",
              "      <td>Beverages</td>\n",
              "      <td>Offline</td>\n",
              "      <td>H</td>\n",
              "      <td>07-07-2014</td>\n",
              "      <td>240470397</td>\n",
              "      <td>07-11-2014</td>\n",
              "      <td>9389</td>\n",
              "      <td>47.45</td>\n",
              "      <td>31.79</td>\n",
              "      <td>445508.05</td>\n",
              "      <td>298476.31</td>\n",
              "      <td>147031.74</td>\n",
              "    </tr>\n",
              "    <tr>\n",
              "      <th>92</th>\n",
              "      <td>Middle East and North Africa</td>\n",
              "      <td>Azerbaijan</td>\n",
              "      <td>Office Supplies</td>\n",
              "      <td>Online</td>\n",
              "      <td>M</td>\n",
              "      <td>6/13/2012</td>\n",
              "      <td>423331391</td>\n",
              "      <td>7/24/2012</td>\n",
              "      <td>2021</td>\n",
              "      <td>651.21</td>\n",
              "      <td>524.96</td>\n",
              "      <td>1316095.41</td>\n",
              "      <td>1060944.16</td>\n",
              "      <td>255151.25</td>\n",
              "    </tr>\n",
              "    <tr>\n",
              "      <th>93</th>\n",
              "      <td>Europe</td>\n",
              "      <td>Romania</td>\n",
              "      <td>Cosmetics</td>\n",
              "      <td>Online</td>\n",
              "      <td>H</td>\n",
              "      <td>11/26/2010</td>\n",
              "      <td>660643374</td>\n",
              "      <td>12/25/2010</td>\n",
              "      <td>7910</td>\n",
              "      <td>437.20</td>\n",
              "      <td>263.33</td>\n",
              "      <td>3458252.00</td>\n",
              "      <td>2082940.30</td>\n",
              "      <td>1375311.70</td>\n",
              "    </tr>\n",
              "    <tr>\n",
              "      <th>94</th>\n",
              "      <td>Central America and the Caribbean</td>\n",
              "      <td>Nicaragua</td>\n",
              "      <td>Beverages</td>\n",
              "      <td>Offline</td>\n",
              "      <td>C</td>\n",
              "      <td>02-08-2011</td>\n",
              "      <td>963392674</td>\n",
              "      <td>3/21/2011</td>\n",
              "      <td>8156</td>\n",
              "      <td>47.45</td>\n",
              "      <td>31.79</td>\n",
              "      <td>387002.20</td>\n",
              "      <td>259279.24</td>\n",
              "      <td>127722.96</td>\n",
              "    </tr>\n",
              "    <tr>\n",
              "      <th>95</th>\n",
              "      <td>Sub-Saharan Africa</td>\n",
              "      <td>Mali</td>\n",
              "      <td>Clothes</td>\n",
              "      <td>Online</td>\n",
              "      <td>M</td>\n",
              "      <td>7/26/2011</td>\n",
              "      <td>512878119</td>\n",
              "      <td>09-03-2011</td>\n",
              "      <td>888</td>\n",
              "      <td>109.28</td>\n",
              "      <td>35.84</td>\n",
              "      <td>97040.64</td>\n",
              "      <td>31825.92</td>\n",
              "      <td>65214.72</td>\n",
              "    </tr>\n",
              "    <tr>\n",
              "      <th>96</th>\n",
              "      <td>Asia</td>\n",
              "      <td>Malaysia</td>\n",
              "      <td>Fruits</td>\n",
              "      <td>Offline</td>\n",
              "      <td>L</td>\n",
              "      <td>11-11-2011</td>\n",
              "      <td>810711038</td>\n",
              "      <td>12/28/2011</td>\n",
              "      <td>6267</td>\n",
              "      <td>9.33</td>\n",
              "      <td>6.92</td>\n",
              "      <td>58471.11</td>\n",
              "      <td>43367.64</td>\n",
              "      <td>15103.47</td>\n",
              "    </tr>\n",
              "    <tr>\n",
              "      <th>97</th>\n",
              "      <td>Sub-Saharan Africa</td>\n",
              "      <td>Sierra Leone</td>\n",
              "      <td>Vegetables</td>\n",
              "      <td>Offline</td>\n",
              "      <td>C</td>\n",
              "      <td>06-01-2016</td>\n",
              "      <td>728815257</td>\n",
              "      <td>6/29/2016</td>\n",
              "      <td>1485</td>\n",
              "      <td>154.06</td>\n",
              "      <td>90.93</td>\n",
              "      <td>228779.10</td>\n",
              "      <td>135031.05</td>\n",
              "      <td>93748.05</td>\n",
              "    </tr>\n",
              "    <tr>\n",
              "      <th>98</th>\n",
              "      <td>North America</td>\n",
              "      <td>Mexico</td>\n",
              "      <td>Personal Care</td>\n",
              "      <td>Offline</td>\n",
              "      <td>M</td>\n",
              "      <td>7/30/2015</td>\n",
              "      <td>559427106</td>\n",
              "      <td>08-08-2015</td>\n",
              "      <td>5767</td>\n",
              "      <td>81.73</td>\n",
              "      <td>56.67</td>\n",
              "      <td>471336.91</td>\n",
              "      <td>326815.89</td>\n",
              "      <td>144521.02</td>\n",
              "    </tr>\n",
              "    <tr>\n",
              "      <th>99</th>\n",
              "      <td>Sub-Saharan Africa</td>\n",
              "      <td>Mozambique</td>\n",
              "      <td>Household</td>\n",
              "      <td>Offline</td>\n",
              "      <td>L</td>\n",
              "      <td>02-10-2012</td>\n",
              "      <td>665095412</td>\n",
              "      <td>2/15/2012</td>\n",
              "      <td>5367</td>\n",
              "      <td>668.27</td>\n",
              "      <td>502.54</td>\n",
              "      <td>3586605.09</td>\n",
              "      <td>2697132.18</td>\n",
              "      <td>889472.91</td>\n",
              "    </tr>\n",
              "  </tbody>\n",
              "</table>\n",
              "</div>"
            ],
            "text/plain": [
              "                               Region                           Country  \\\n",
              "0               Australia and Oceania                            Tuvalu   \n",
              "1   Central America and the Caribbean                           Grenada   \n",
              "2                              Europe                            Russia   \n",
              "3                  Sub-Saharan Africa             Sao Tome and Principe   \n",
              "4                  Sub-Saharan Africa                            Rwanda   \n",
              "5               Australia and Oceania                   Solomon Islands   \n",
              "6                  Sub-Saharan Africa                            Angola   \n",
              "7                  Sub-Saharan Africa                      Burkina Faso   \n",
              "8                  Sub-Saharan Africa             Republic of the Congo   \n",
              "9                  Sub-Saharan Africa                           Senegal   \n",
              "10                               Asia                        Kyrgyzstan   \n",
              "11                 Sub-Saharan Africa                        Cape Verde   \n",
              "12                               Asia                        Bangladesh   \n",
              "13  Central America and the Caribbean                          Honduras   \n",
              "14                               Asia                          Mongolia   \n",
              "15                             Europe                          Bulgaria   \n",
              "16                               Asia                         Sri Lanka   \n",
              "17                 Sub-Saharan Africa                          Cameroon   \n",
              "18                               Asia                      Turkmenistan   \n",
              "19              Australia and Oceania                        East Timor   \n",
              "20                             Europe                            Norway   \n",
              "21                             Europe                          Portugal   \n",
              "22  Central America and the Caribbean                          Honduras   \n",
              "23              Australia and Oceania                       New Zealand   \n",
              "24                             Europe                          Moldova    \n",
              "25                             Europe                            France   \n",
              "26              Australia and Oceania                          Kiribati   \n",
              "27                 Sub-Saharan Africa                              Mali   \n",
              "28                             Europe                            Norway   \n",
              "29                 Sub-Saharan Africa                        The Gambia   \n",
              "30                             Europe                       Switzerland   \n",
              "31                 Sub-Saharan Africa                       South Sudan   \n",
              "32              Australia and Oceania                         Australia   \n",
              "33                               Asia                           Myanmar   \n",
              "34                 Sub-Saharan Africa                          Djibouti   \n",
              "35  Central America and the Caribbean                        Costa Rica   \n",
              "36       Middle East and North Africa                             Syria   \n",
              "37                 Sub-Saharan Africa                        The Gambia   \n",
              "38                               Asia                            Brunei   \n",
              "39                             Europe                          Bulgaria   \n",
              "40                 Sub-Saharan Africa                             Niger   \n",
              "41       Middle East and North Africa                        Azerbaijan   \n",
              "42                 Sub-Saharan Africa                        The Gambia   \n",
              "43                             Europe                          Slovakia   \n",
              "44                               Asia                           Myanmar   \n",
              "45                 Sub-Saharan Africa                           Comoros   \n",
              "46                             Europe                           Iceland   \n",
              "47                             Europe                       Switzerland   \n",
              "48                             Europe                         Macedonia   \n",
              "49                 Sub-Saharan Africa                        Mauritania   \n",
              "50                             Europe                           Albania   \n",
              "51                 Sub-Saharan Africa                           Lesotho   \n",
              "52       Middle East and North Africa                      Saudi Arabia   \n",
              "53                 Sub-Saharan Africa                      Sierra Leone   \n",
              "54                 Sub-Saharan Africa             Sao Tome and Principe   \n",
              "55                 Sub-Saharan Africa                     Cote d'Ivoire   \n",
              "56              Australia and Oceania                              Fiji   \n",
              "57                             Europe                           Austria   \n",
              "58                             Europe                    United Kingdom   \n",
              "59                 Sub-Saharan Africa                          Djibouti   \n",
              "60              Australia and Oceania                         Australia   \n",
              "61                             Europe                        San Marino   \n",
              "62                 Sub-Saharan Africa                          Cameroon   \n",
              "63       Middle East and North Africa                             Libya   \n",
              "64  Central America and the Caribbean                             Haiti   \n",
              "65                 Sub-Saharan Africa                            Rwanda   \n",
              "66                 Sub-Saharan Africa                             Gabon   \n",
              "67  Central America and the Caribbean                            Belize   \n",
              "68                             Europe                         Lithuania   \n",
              "69                 Sub-Saharan Africa                        Madagascar   \n",
              "70                               Asia                      Turkmenistan   \n",
              "71       Middle East and North Africa                             Libya   \n",
              "72                 Sub-Saharan Africa  Democratic Republic of the Congo   \n",
              "73                 Sub-Saharan Africa                          Djibouti   \n",
              "74       Middle East and North Africa                          Pakistan   \n",
              "75                      North America                            Mexico   \n",
              "76              Australia and Oceania    Federated States of Micronesia   \n",
              "77                               Asia                              Laos   \n",
              "78                             Europe                            Monaco   \n",
              "79              Australia and Oceania                            Samoa    \n",
              "80                             Europe                             Spain   \n",
              "81       Middle East and North Africa                           Lebanon   \n",
              "82       Middle East and North Africa                              Iran   \n",
              "83                 Sub-Saharan Africa                            Zambia   \n",
              "84                 Sub-Saharan Africa                             Kenya   \n",
              "85                      North America                            Mexico   \n",
              "86                 Sub-Saharan Africa             Sao Tome and Principe   \n",
              "87                 Sub-Saharan Africa                        The Gambia   \n",
              "88       Middle East and North Africa                            Kuwait   \n",
              "89                             Europe                          Slovenia   \n",
              "90                 Sub-Saharan Africa                      Sierra Leone   \n",
              "91              Australia and Oceania                         Australia   \n",
              "92       Middle East and North Africa                        Azerbaijan   \n",
              "93                             Europe                           Romania   \n",
              "94  Central America and the Caribbean                         Nicaragua   \n",
              "95                 Sub-Saharan Africa                              Mali   \n",
              "96                               Asia                          Malaysia   \n",
              "97                 Sub-Saharan Africa                      Sierra Leone   \n",
              "98                      North America                            Mexico   \n",
              "99                 Sub-Saharan Africa                        Mozambique   \n",
              "\n",
              "          Item Type Sales Channel Order Priority  Order Date   Order ID  \\\n",
              "0         Baby Food       Offline              H   5/28/2010  669165933   \n",
              "1            Cereal        Online              C   8/22/2012  963881480   \n",
              "2   Office Supplies       Offline              L  05-02-2014  341417157   \n",
              "3            Fruits        Online              C   6/20/2014  514321792   \n",
              "4   Office Supplies       Offline              L  02-01-2013  115456712   \n",
              "5         Baby Food        Online              C  02-04-2015  547995746   \n",
              "6         Household       Offline              M   4/23/2011  135425221   \n",
              "7        Vegetables        Online              H   7/17/2012  871543967   \n",
              "8     Personal Care       Offline              M   7/14/2015  770463311   \n",
              "9            Cereal        Online              H   4/18/2014  616607081   \n",
              "10       Vegetables        Online              H   6/24/2011  814711606   \n",
              "11          Clothes       Offline              H  08-02-2014  939825713   \n",
              "12          Clothes        Online              L   1/13/2017  187310731   \n",
              "13        Household       Offline              H  02-08-2017  522840487   \n",
              "14    Personal Care       Offline              C   2/19/2014  832401311   \n",
              "15          Clothes        Online              M   4/23/2012  972292029   \n",
              "16        Cosmetics       Offline              M  11/19/2016  419123971   \n",
              "17        Beverages       Offline              C  04-01-2015  519820964   \n",
              "18        Household       Offline              L  12/30/2010  441619336   \n",
              "19             Meat        Online              L   7/31/2012  322067916   \n",
              "20        Baby Food        Online              L   5/14/2014  819028031   \n",
              "21        Baby Food        Online              H   7/31/2015  860673511   \n",
              "22           Snacks        Online              L   6/30/2016  795490682   \n",
              "23           Fruits        Online              H  09-08-2014  142278373   \n",
              "24    Personal Care        Online              L  05-07-2016  740147912   \n",
              "25        Cosmetics        Online              H   5/22/2017  898523128   \n",
              "26           Fruits        Online              M  10/13/2014  347140347   \n",
              "27           Fruits        Online              L  05-07-2010  686048400   \n",
              "28        Beverages       Offline              C   7/18/2014  435608613   \n",
              "29        Household       Offline              L   5/26/2012  886494815   \n",
              "30        Cosmetics       Offline              M   9/17/2012  249693334   \n",
              "31    Personal Care       Offline              C  12/29/2013  406502997   \n",
              "32  Office Supplies        Online              C  10/27/2015  158535134   \n",
              "33        Household       Offline              H   1/16/2015  177713572   \n",
              "34           Snacks        Online              M   2/25/2017  756274640   \n",
              "35    Personal Care       Offline              L  05-08-2017  456767165   \n",
              "36           Fruits        Online              L  11/22/2011  162052476   \n",
              "37             Meat        Online              M   1/14/2017  825304400   \n",
              "38  Office Supplies        Online              L  04-01-2012  320009267   \n",
              "39  Office Supplies        Online              M   2/16/2012  189965903   \n",
              "40    Personal Care        Online              H  03-11-2017  699285638   \n",
              "41        Cosmetics        Online              M  02-06-2010  382392299   \n",
              "42           Cereal       Offline              H  06-07-2012  994022214   \n",
              "43       Vegetables        Online              H  10-06-2012  759224212   \n",
              "44          Clothes        Online              H  11/14/2015  223359620   \n",
              "45           Cereal       Offline              H   3/29/2016  902102267   \n",
              "46        Cosmetics        Online              C  12/31/2016  331438481   \n",
              "47    Personal Care        Online              M  12/23/2010  617667090   \n",
              "48          Clothes       Offline              C  10/14/2014  787399423   \n",
              "49  Office Supplies       Offline              C  01-11-2012  837559306   \n",
              "50          Clothes        Online              C  02-02-2010  385383069   \n",
              "51           Fruits        Online              L   8/18/2013  918419539   \n",
              "52           Cereal        Online              M   3/25/2013  844530045   \n",
              "53  Office Supplies       Offline              M  11/26/2011  441888415   \n",
              "54           Fruits       Offline              H   9/17/2013  508980977   \n",
              "55          Clothes        Online              C  06-08-2012  114606559   \n",
              "56          Clothes       Offline              C   6/30/2010  647876489   \n",
              "57        Cosmetics       Offline              H   2/23/2015  868214595   \n",
              "58        Household        Online              L  01-05-2012  955357205   \n",
              "59        Cosmetics       Offline              H  04-07-2014  259353148   \n",
              "60           Cereal       Offline              H  06-09-2013  450563752   \n",
              "61        Baby Food        Online              L   6/26/2013  569662845   \n",
              "62  Office Supplies        Online              M  11-07-2011  177636754   \n",
              "63          Clothes       Offline              H  10/30/2010  705784308   \n",
              "64        Cosmetics       Offline              H  10/13/2013  505716836   \n",
              "65        Cosmetics       Offline              H  10-11-2013  699358165   \n",
              "66    Personal Care       Offline              L  07-08-2012  228944623   \n",
              "67          Clothes       Offline              M   7/25/2016  807025039   \n",
              "68  Office Supplies       Offline              H  10/24/2010  166460740   \n",
              "69          Clothes       Offline              L   4/25/2015  610425555   \n",
              "70  Office Supplies        Online              M   4/23/2013  462405812   \n",
              "71           Fruits        Online              L   8/14/2015  816200339   \n",
              "72        Beverages        Online              C   5/26/2011  585920464   \n",
              "73           Cereal        Online              H   5/20/2017  555990016   \n",
              "74        Cosmetics       Offline              L  07-05-2013  231145322   \n",
              "75        Household       Offline              C  11-06-2014  986435210   \n",
              "76        Beverages        Online              C  10/28/2014  217221009   \n",
              "77       Vegetables       Offline              C   9/15/2011  789176547   \n",
              "78        Baby Food       Offline              H   5/29/2012  688288152   \n",
              "79        Cosmetics        Online              H   7/20/2013  670854651   \n",
              "80        Household       Offline              L  10/21/2012  213487374   \n",
              "81          Clothes        Online              L   9/18/2012  663110148   \n",
              "82        Cosmetics        Online              H  11/15/2016  286959302   \n",
              "83           Snacks        Online              L  01-04-2011  122583663   \n",
              "84       Vegetables        Online              L   3/18/2012  827844560   \n",
              "85    Personal Care       Offline              L   2/17/2012  430915820   \n",
              "86        Beverages       Offline              C   1/16/2011  180283772   \n",
              "87        Baby Food       Offline              M  02-03-2014  494747245   \n",
              "88           Fruits        Online              M   4/30/2012  513417565   \n",
              "89        Beverages       Offline              C  10/23/2016  345718562   \n",
              "90  Office Supplies       Offline              H  12-06-2016  621386563   \n",
              "91        Beverages       Offline              H  07-07-2014  240470397   \n",
              "92  Office Supplies        Online              M   6/13/2012  423331391   \n",
              "93        Cosmetics        Online              H  11/26/2010  660643374   \n",
              "94        Beverages       Offline              C  02-08-2011  963392674   \n",
              "95          Clothes        Online              M   7/26/2011  512878119   \n",
              "96           Fruits       Offline              L  11-11-2011  810711038   \n",
              "97       Vegetables       Offline              C  06-01-2016  728815257   \n",
              "98    Personal Care       Offline              M   7/30/2015  559427106   \n",
              "99        Household       Offline              L  02-10-2012  665095412   \n",
              "\n",
              "     Ship Date  Units Sold  Unit Price  Unit Cost  Total Revenue  Total Cost  \\\n",
              "0    6/27/2010        9925      255.28     159.42     2533654.00  1582243.50   \n",
              "1    9/15/2012        2804      205.70     117.11      576782.80   328376.44   \n",
              "2   05-08-2014        1779      651.21     524.96     1158502.59   933903.84   \n",
              "3   07-05-2014        8102        9.33       6.92       75591.66    56065.84   \n",
              "4   02-06-2013        5062      651.21     524.96     3296425.02  2657347.52   \n",
              "5    2/21/2015        2974      255.28     159.42      759202.72   474115.08   \n",
              "6    4/27/2011        4187      668.27     502.54     2798046.49  2104134.98   \n",
              "7    7/27/2012        8082      154.06      90.93     1245112.92   734896.26   \n",
              "8    8/25/2015        6070       81.73      56.67      496101.10   343986.90   \n",
              "9    5/30/2014        6593      205.70     117.11     1356180.10   772106.23   \n",
              "10  07-12-2011         124      154.06      90.93       19103.44    11275.32   \n",
              "11   8/19/2014        4168      109.28      35.84      455479.04   149381.12   \n",
              "12  03-01-2017        8263      109.28      35.84      902980.64   296145.92   \n",
              "13   2/13/2017        8974      668.27     502.54     5997054.98  4509793.96   \n",
              "14   2/23/2014        4901       81.73      56.67      400558.73   277739.67   \n",
              "15  06-03-2012        1673      109.28      35.84      182825.44    59960.32   \n",
              "16  12/18/2016        6952      437.20     263.33     3039414.40  1830670.16   \n",
              "17   4/18/2015        5430       47.45      31.79      257653.50   172619.70   \n",
              "18   1/20/2011        3830      668.27     502.54     2559474.10  1924728.20   \n",
              "19  09-11-2012        5908      421.89     364.69     2492526.12  2154588.52   \n",
              "20   6/28/2014        7450      255.28     159.42     1901836.00  1187679.00   \n",
              "21  09-03-2015        1273      255.28     159.42      324971.44   202941.66   \n",
              "22   7/26/2016        2225      152.58      97.44      339490.50   216804.00   \n",
              "23  10-04-2014        2187        9.33       6.92       20404.71    15134.04   \n",
              "24  05-10-2016        5070       81.73      56.67      414371.10   287316.90   \n",
              "25  06-05-2017        1815      437.20     263.33      793518.00   477943.95   \n",
              "26  11-10-2014        5398        9.33       6.92       50363.34    37354.16   \n",
              "27  05-10-2010        5822        9.33       6.92       54319.26    40288.24   \n",
              "28   7/30/2014        5124       47.45      31.79      243133.80   162891.96   \n",
              "29  06-09-2012        2370      668.27     502.54     1583799.90  1191019.80   \n",
              "30  10/20/2012        8661      437.20     263.33     3786589.20  2280701.13   \n",
              "31   1/28/2014        2125       81.73      56.67      173676.25   120423.75   \n",
              "32  11/25/2015        2924      651.21     524.96     1904138.04  1534983.04   \n",
              "33  03-01-2015        8250      668.27     502.54     5513227.50  4145955.00   \n",
              "34   2/25/2017        7327      152.58      97.44     1117953.66   713942.88   \n",
              "35   5/21/2017        6409       81.73      56.67      523807.57   363198.03   \n",
              "36  12-03-2011        3784        9.33       6.92       35304.72    26185.28   \n",
              "37   1/23/2017        4767      421.89     364.69     2011149.63  1738477.23   \n",
              "38  05-08-2012        6708      651.21     524.96     4368316.68  3521431.68   \n",
              "39   2/28/2012        3987      651.21     524.96     2596374.27  2093015.52   \n",
              "40   3/28/2017        3015       81.73      56.67      246415.95   170860.05   \n",
              "41   2/25/2010        7234      437.20     263.33     3162704.80  1904929.22   \n",
              "42  06-08-2012        2117      205.70     117.11      435466.90   247921.87   \n",
              "43  11-10-2012         171      154.06      90.93       26344.26    15549.03   \n",
              "44  11/18/2015        5930      109.28      35.84      648030.40   212531.20   \n",
              "45   4/29/2016         962      205.70     117.11      197883.40   112659.82   \n",
              "46  12/31/2016        8867      437.20     263.33     3876652.40  2334947.11   \n",
              "47   1/31/2011         273       81.73      56.67       22312.29    15470.91   \n",
              "48  11/14/2014        7842      109.28      35.84      856973.76   281057.28   \n",
              "49   1/13/2012        1266      651.21     524.96      824431.86   664599.36   \n",
              "50   3/18/2010        2269      109.28      35.84      247956.32    81320.96   \n",
              "51   9/18/2013        9606        9.33       6.92       89623.98    66473.52   \n",
              "52   3/28/2013        4063      205.70     117.11      835759.10   475817.93   \n",
              "53  01-07-2012        3457      651.21     524.96     2251232.97  1814786.72   \n",
              "54  10/24/2013        7637        9.33       6.92       71253.21    52848.04   \n",
              "55   6/27/2012        3482      109.28      35.84      380512.96   124794.88   \n",
              "56  08-01-2010        9905      109.28      35.84     1082418.40   354995.20   \n",
              "57  03-02-2015        2847      437.20     263.33     1244708.40   749700.51   \n",
              "58   2/14/2012         282      668.27     502.54      188452.14   141716.28   \n",
              "59   4/19/2014        7215      437.20     263.33     3154398.00  1899925.95   \n",
              "60  07-02-2013         682      205.70     117.11      140287.40    79869.02   \n",
              "61  07-01-2013        4750      255.28     159.42     1212580.00   757245.00   \n",
              "62  11/15/2011        5518      651.21     524.96     3593376.78  2896729.28   \n",
              "63  11/17/2010        6116      109.28      35.84      668356.48   219197.44   \n",
              "64  11/16/2013        1705      437.20     263.33      745426.00   448977.65   \n",
              "65  11/25/2013        4477      437.20     263.33     1957344.40  1178928.41   \n",
              "66  07-09-2012        8656       81.73      56.67      707454.88   490535.52   \n",
              "67  09-07-2016        5498      109.28      35.84      600821.44   197048.32   \n",
              "68  11/17/2010        8287      651.21     524.96     5396577.27  4350343.52   \n",
              "69   5/28/2015        7342      109.28      35.84      802333.76   263137.28   \n",
              "70   5/20/2013        5010      651.21     524.96     3262562.10  2630049.60   \n",
              "71   9/30/2015         673        9.33       6.92        6279.09     4657.16   \n",
              "72   7/15/2011        5741       47.45      31.79      272410.45   182506.39   \n",
              "73   6/17/2017        8656      205.70     117.11     1780539.20  1013704.16   \n",
              "74   8/16/2013        9892      437.20     263.33     4324782.40  2604860.36   \n",
              "75  12-12-2014        6954      668.27     502.54     4647149.58  3494663.16   \n",
              "76  11/15/2014        9379       47.45      31.79      445033.55   298158.41   \n",
              "77  10/23/2011        3732      154.06      90.93      574951.92   339350.76   \n",
              "78  06-02-2012        8614      255.28     159.42     2198981.92  1373243.88   \n",
              "79  08-07-2013        9654      437.20     263.33     4220728.80  2542187.82   \n",
              "80  11/30/2012        4513      668.27     502.54     3015902.51  2267963.02   \n",
              "81  10-08-2012        7884      109.28      35.84      861563.52   282562.56   \n",
              "82  12-08-2016        6489      437.20     263.33     2836990.80  1708748.37   \n",
              "83  01-05-2011        4085      152.58      97.44      623289.30   398042.40   \n",
              "84  04-07-2012        6457      154.06      90.93      994765.42   587135.01   \n",
              "85   3/20/2012        6422       81.73      56.67      524870.06   363934.74   \n",
              "86   1/21/2011        8829       47.45      31.79      418936.05   280673.91   \n",
              "87   3/20/2014        5559      255.28     159.42     1419101.52   886215.78   \n",
              "88   5/18/2012         522        9.33       6.92        4870.26     3612.24   \n",
              "89  11/25/2016        4660       47.45      31.79      221117.00   148141.40   \n",
              "90  12/14/2016         948      651.21     524.96      617347.08   497662.08   \n",
              "91  07-11-2014        9389       47.45      31.79      445508.05   298476.31   \n",
              "92   7/24/2012        2021      651.21     524.96     1316095.41  1060944.16   \n",
              "93  12/25/2010        7910      437.20     263.33     3458252.00  2082940.30   \n",
              "94   3/21/2011        8156       47.45      31.79      387002.20   259279.24   \n",
              "95  09-03-2011         888      109.28      35.84       97040.64    31825.92   \n",
              "96  12/28/2011        6267        9.33       6.92       58471.11    43367.64   \n",
              "97   6/29/2016        1485      154.06      90.93      228779.10   135031.05   \n",
              "98  08-08-2015        5767       81.73      56.67      471336.91   326815.89   \n",
              "99   2/15/2012        5367      668.27     502.54     3586605.09  2697132.18   \n",
              "\n",
              "    Total Profit  \n",
              "0      951410.50  \n",
              "1      248406.36  \n",
              "2      224598.75  \n",
              "3       19525.82  \n",
              "4      639077.50  \n",
              "5      285087.64  \n",
              "6      693911.51  \n",
              "7      510216.66  \n",
              "8      152114.20  \n",
              "9      584073.87  \n",
              "10       7828.12  \n",
              "11     306097.92  \n",
              "12     606834.72  \n",
              "13    1487261.02  \n",
              "14     122819.06  \n",
              "15     122865.12  \n",
              "16    1208744.24  \n",
              "17      85033.80  \n",
              "18     634745.90  \n",
              "19     337937.60  \n",
              "20     714157.00  \n",
              "21     122029.78  \n",
              "22     122686.50  \n",
              "23       5270.67  \n",
              "24     127054.20  \n",
              "25     315574.05  \n",
              "26      13009.18  \n",
              "27      14031.02  \n",
              "28      80241.84  \n",
              "29     392780.10  \n",
              "30    1505888.07  \n",
              "31      53252.50  \n",
              "32     369155.00  \n",
              "33    1367272.50  \n",
              "34     404010.78  \n",
              "35     160609.54  \n",
              "36       9119.44  \n",
              "37     272672.40  \n",
              "38     846885.00  \n",
              "39     503358.75  \n",
              "40      75555.90  \n",
              "41    1257775.58  \n",
              "42     187545.03  \n",
              "43      10795.23  \n",
              "44     435499.20  \n",
              "45      85223.58  \n",
              "46    1541705.29  \n",
              "47       6841.38  \n",
              "48     575916.48  \n",
              "49     159832.50  \n",
              "50     166635.36  \n",
              "51      23150.46  \n",
              "52     359941.17  \n",
              "53     436446.25  \n",
              "54      18405.17  \n",
              "55     255718.08  \n",
              "56     727423.20  \n",
              "57     495007.89  \n",
              "58      46735.86  \n",
              "59    1254472.05  \n",
              "60      60418.38  \n",
              "61     455335.00  \n",
              "62     696647.50  \n",
              "63     449159.04  \n",
              "64     296448.35  \n",
              "65     778415.99  \n",
              "66     216919.36  \n",
              "67     403773.12  \n",
              "68    1046233.75  \n",
              "69     539196.48  \n",
              "70     632512.50  \n",
              "71       1621.93  \n",
              "72      89904.06  \n",
              "73     766835.04  \n",
              "74    1719922.04  \n",
              "75    1152486.42  \n",
              "76     146875.14  \n",
              "77     235601.16  \n",
              "78     825738.04  \n",
              "79    1678540.98  \n",
              "80     747939.49  \n",
              "81     579000.96  \n",
              "82    1128242.43  \n",
              "83     225246.90  \n",
              "84     407630.41  \n",
              "85     160935.32  \n",
              "86     138262.14  \n",
              "87     532885.74  \n",
              "88       1258.02  \n",
              "89      72975.60  \n",
              "90     119685.00  \n",
              "91     147031.74  \n",
              "92     255151.25  \n",
              "93    1375311.70  \n",
              "94     127722.96  \n",
              "95      65214.72  \n",
              "96      15103.47  \n",
              "97      93748.05  \n",
              "98     144521.02  \n",
              "99     889472.91  "
            ]
          },
          "execution_count": 87,
          "metadata": {},
          "output_type": "execute_result"
        }
      ],
      "source": [
        "# Show dataframe\n",
        "data"
      ]
    },
    {
      "cell_type": "code",
      "execution_count": 88,
      "metadata": {
        "colab": {
          "base_uri": "https://localhost:8080/"
        },
        "id": "HjK974eCoXCI",
        "outputId": "cc673a72-99fc-47c3-fc75-9bf4359aa368"
      },
      "outputs": [
        {
          "data": {
            "text/plain": [
              "Index(['Region', 'Country', 'Item Type', 'Sales Channel', 'Order Priority',\n",
              "       'Order Date', 'Order ID', 'Ship Date', 'Units Sold', 'Unit Price',\n",
              "       'Unit Cost', 'Total Revenue', 'Total Cost', 'Total Profit'],\n",
              "      dtype='object')"
            ]
          },
          "execution_count": 88,
          "metadata": {},
          "output_type": "execute_result"
        }
      ],
      "source": [
        "# Show columns present in dataframe \n",
        "data.columns"
      ]
    },
    {
      "cell_type": "code",
      "execution_count": 89,
      "metadata": {
        "colab": {
          "base_uri": "https://localhost:8080/"
        },
        "id": "1wBaJS26ai4j",
        "outputId": "c188e4bb-b04d-47e3-edca-85861072e264"
      },
      "outputs": [
        {
          "name": "stdout",
          "output_type": "stream",
          "text": [
            "<class 'pandas.core.frame.DataFrame'>\n",
            "RangeIndex: 100 entries, 0 to 99\n",
            "Data columns (total 14 columns):\n",
            " #   Column          Non-Null Count  Dtype  \n",
            "---  ------          --------------  -----  \n",
            " 0   Region          100 non-null    object \n",
            " 1   Country         100 non-null    object \n",
            " 2   Item Type       100 non-null    object \n",
            " 3   Sales Channel   100 non-null    object \n",
            " 4   Order Priority  100 non-null    object \n",
            " 5   Order Date      100 non-null    object \n",
            " 6   Order ID        100 non-null    int64  \n",
            " 7   Ship Date       100 non-null    object \n",
            " 8   Units Sold      100 non-null    int64  \n",
            " 9   Unit Price      100 non-null    float64\n",
            " 10  Unit Cost       100 non-null    float64\n",
            " 11  Total Revenue   100 non-null    float64\n",
            " 12  Total Cost      100 non-null    float64\n",
            " 13  Total Profit    100 non-null    float64\n",
            "dtypes: float64(5), int64(2), object(7)\n",
            "memory usage: 11.1+ KB\n"
          ]
        }
      ],
      "source": [
        "# Show basic information of dataframe like null value count of each column and their data type \n",
        "data.info()"
      ]
    },
    {
      "cell_type": "code",
      "execution_count": 90,
      "metadata": {
        "id": "KagBc9vvuR7s"
      },
      "outputs": [
        {
          "name": "stdout",
          "output_type": "stream",
          "text": [
            "Invalid dates found and will be dropped.\n",
            "  Order Date  Order Month  Order Year Order Date MonthYear\n",
            "0 2024-01-15            1        2024              2024-01\n",
            "3 2024-03-10            3        2024              2024-03\n"
          ]
        }
      ],
      "source": [
        "# Adding extra column to dataframe which contain only month, year and month with year \n",
        "data = pd.DataFrame({\n",
        "    'Order Date': ['2024-01-15', '2024/02/20', 'InvalidDate', '2024-03-10']\n",
        "})\n",
        "\n",
        "# Convert to datetime\n",
        "data['Order Date'] = pd.to_datetime(data['Order Date'], errors='coerce')\n",
        "\n",
        "# Handle invalid dates (optional)\n",
        "if data['Order Date'].isna().any():\n",
        "    print(\"Invalid dates found and will be dropped.\")\n",
        "    data = data.dropna(subset=['Order Date'])\n",
        "\n",
        "# Extract components\n",
        "data['Order Month'] = data['Order Date'].dt.month\n",
        "data['Order Year'] = data['Order Date'].dt.year\n",
        "data['Order Date MonthYear'] = data['Order Date'].dt.strftime('%Y-%m')\n",
        "\n",
        "print(data)"
      ]
    },
    {
      "cell_type": "code",
      "execution_count": 91,
      "metadata": {
        "id": "FBau7Q4apSGK"
      },
      "outputs": [],
      "source": [
        "# Saving the data dataframe to df \n",
        "df = data"
      ]
    },
    {
      "cell_type": "code",
      "execution_count": 92,
      "metadata": {
        "colab": {
          "base_uri": "https://localhost:8080/"
        },
        "id": "h7ose3zKpTjU",
        "outputId": "c5d90477-a388-4d43-825b-61e28f2bae49"
      },
      "outputs": [
        {
          "data": {
            "text/plain": [
              "Order Date              0\n",
              "Order Month             0\n",
              "Order Year              0\n",
              "Order Date MonthYear    0\n",
              "dtype: int64"
            ]
          },
          "execution_count": 92,
          "metadata": {},
          "output_type": "execute_result"
        }
      ],
      "source": [
        "# Checking out total null value in the all the column of dataframe \n",
        "df.isnull().sum()"
      ]
    },
    {
      "cell_type": "code",
      "execution_count": 93,
      "metadata": {},
      "outputs": [],
      "source": [
        "# Saving the data dataframe to df \n",
        "df = data"
      ]
    },
    {
      "cell_type": "code",
      "execution_count": 94,
      "metadata": {},
      "outputs": [
        {
          "data": {
            "text/plain": [
              "Order Date              0\n",
              "Order Month             0\n",
              "Order Year              0\n",
              "Order Date MonthYear    0\n",
              "dtype: int64"
            ]
          },
          "execution_count": 94,
          "metadata": {},
          "output_type": "execute_result"
        }
      ],
      "source": [
        "# Checking out total null value in the all the column of dataframe \n",
        "df.isnull().sum()"
      ]
    },
    {
      "cell_type": "markdown",
      "metadata": {
        "id": "325ly2VJ8u03"
      },
      "source": [
        "#Exploratory Data Analysis "
      ]
    },
    {
      "cell_type": "markdown",
      "metadata": {
        "id": "EKVmlXskNTh_"
      },
      "source": [
        "###Checking Outliers in the dataframe\n",
        "\n"
      ]
    },
    {
      "cell_type": "markdown",
      "metadata": {
        "id": "GRuYrV6IrsHg"
      },
      "source": [
        "Box Plot for Total Profit"
      ]
    },
    {
      "cell_type": "markdown",
      "metadata": {
        "id": "q_eGKouIPFe-"
      },
      "source": [
        "The first line imports the Matplotlib pyplot module and assigns it to the variable 'plt'. The second line imports the Seaborn library and sets the plot style to 'white'. The third line creates a figure with a size of 10 inches by 2 inches using the subplots() function and assigns the plot object to the variables 'fig' and 'ax'. This allows for further customization of the plot. The fourth line creates a boxplot of the 'Total Profit' variable in the dataset using the Seaborn boxplot() function. The 'color' parameter sets the color of the boxes to 'plum' and the 'width' parameter sets the width of the boxes to 0.6.\n",
        "The fifth line adds a title to the plot and sets the font size to 13. The sixth line adds a label to the x-axis. The last line displays the plot using the show() function.\n",
        "\n"
      ]
    },
    {
      "cell_type": "code",
      "execution_count": 95,
      "metadata": {
        "colab": {
          "base_uri": "https://localhost:8080/",
          "height": 196
        },
        "id": "APy1oNEWqUZr",
        "outputId": "82633c67-4fc5-4396-9a2d-09c7e55a7a39"
      },
      "outputs": [
        {
          "ename": "KeyError",
          "evalue": "'Total Profit'",
          "output_type": "error",
          "traceback": [
            "\u001b[1;31m---------------------------------------------------------------------------\u001b[0m",
            "\u001b[1;31mKeyError\u001b[0m                                  Traceback (most recent call last)",
            "File \u001b[1;32m~\\AppData\\Local\\Packages\\PythonSoftwareFoundation.Python.3.11_qbz5n2kfra8p0\\LocalCache\\local-packages\\Python311\\site-packages\\pandas\\core\\indexes\\base.py:3791\u001b[0m, in \u001b[0;36mIndex.get_loc\u001b[1;34m(self, key)\u001b[0m\n\u001b[0;32m   3790\u001b[0m \u001b[38;5;28;01mtry\u001b[39;00m:\n\u001b[1;32m-> 3791\u001b[0m     \u001b[38;5;28;01mreturn\u001b[39;00m \u001b[38;5;28;43mself\u001b[39;49m\u001b[38;5;241;43m.\u001b[39;49m\u001b[43m_engine\u001b[49m\u001b[38;5;241;43m.\u001b[39;49m\u001b[43mget_loc\u001b[49m\u001b[43m(\u001b[49m\u001b[43mcasted_key\u001b[49m\u001b[43m)\u001b[49m\n\u001b[0;32m   3792\u001b[0m \u001b[38;5;28;01mexcept\u001b[39;00m \u001b[38;5;167;01mKeyError\u001b[39;00m \u001b[38;5;28;01mas\u001b[39;00m err:\n",
            "File \u001b[1;32mindex.pyx:152\u001b[0m, in \u001b[0;36mpandas._libs.index.IndexEngine.get_loc\u001b[1;34m()\u001b[0m\n",
            "File \u001b[1;32mindex.pyx:181\u001b[0m, in \u001b[0;36mpandas._libs.index.IndexEngine.get_loc\u001b[1;34m()\u001b[0m\n",
            "File \u001b[1;32mpandas\\_libs\\hashtable_class_helper.pxi:7080\u001b[0m, in \u001b[0;36mpandas._libs.hashtable.PyObjectHashTable.get_item\u001b[1;34m()\u001b[0m\n",
            "File \u001b[1;32mpandas\\_libs\\hashtable_class_helper.pxi:7088\u001b[0m, in \u001b[0;36mpandas._libs.hashtable.PyObjectHashTable.get_item\u001b[1;34m()\u001b[0m\n",
            "\u001b[1;31mKeyError\u001b[0m: 'Total Profit'",
            "\nThe above exception was the direct cause of the following exception:\n",
            "\u001b[1;31mKeyError\u001b[0m                                  Traceback (most recent call last)",
            "Cell \u001b[1;32mIn[95], line 4\u001b[0m\n\u001b[0;32m      2\u001b[0m sns\u001b[38;5;241m.\u001b[39mset(style\u001b[38;5;241m=\u001b[39m\u001b[38;5;124m'\u001b[39m\u001b[38;5;124mwhite\u001b[39m\u001b[38;5;124m'\u001b[39m)\n\u001b[0;32m      3\u001b[0m fig, ax \u001b[38;5;241m=\u001b[39m plt\u001b[38;5;241m.\u001b[39msubplots(figsize\u001b[38;5;241m=\u001b[39m(\u001b[38;5;241m10\u001b[39m, \u001b[38;5;241m2\u001b[39m))\n\u001b[1;32m----> 4\u001b[0m sns\u001b[38;5;241m.\u001b[39mboxplot(\u001b[43mdata\u001b[49m\u001b[43m[\u001b[49m\u001b[38;5;124;43m'\u001b[39;49m\u001b[38;5;124;43mTotal Profit\u001b[39;49m\u001b[38;5;124;43m'\u001b[39;49m\u001b[43m]\u001b[49m, color\u001b[38;5;241m=\u001b[39m\u001b[38;5;124m\"\u001b[39m\u001b[38;5;124mplum\u001b[39m\u001b[38;5;124m\"\u001b[39m, width\u001b[38;5;241m=\u001b[39m\u001b[38;5;241m.6\u001b[39m)\n\u001b[0;32m      6\u001b[0m plt\u001b[38;5;241m.\u001b[39mtitle(\u001b[38;5;124m'\u001b[39m\u001b[38;5;124mTotal Profit Boxplot\u001b[39m\u001b[38;5;124m'\u001b[39m, fontsize\u001b[38;5;241m=\u001b[39m\u001b[38;5;241m13\u001b[39m)\n\u001b[0;32m      7\u001b[0m plt\u001b[38;5;241m.\u001b[39mxlabel(\u001b[38;5;124m'\u001b[39m\u001b[38;5;124mProfit\u001b[39m\u001b[38;5;124m'\u001b[39m)\n",
            "File \u001b[1;32m~\\AppData\\Local\\Packages\\PythonSoftwareFoundation.Python.3.11_qbz5n2kfra8p0\\LocalCache\\local-packages\\Python311\\site-packages\\pandas\\core\\frame.py:3893\u001b[0m, in \u001b[0;36mDataFrame.__getitem__\u001b[1;34m(self, key)\u001b[0m\n\u001b[0;32m   3891\u001b[0m \u001b[38;5;28;01mif\u001b[39;00m \u001b[38;5;28mself\u001b[39m\u001b[38;5;241m.\u001b[39mcolumns\u001b[38;5;241m.\u001b[39mnlevels \u001b[38;5;241m>\u001b[39m \u001b[38;5;241m1\u001b[39m:\n\u001b[0;32m   3892\u001b[0m     \u001b[38;5;28;01mreturn\u001b[39;00m \u001b[38;5;28mself\u001b[39m\u001b[38;5;241m.\u001b[39m_getitem_multilevel(key)\n\u001b[1;32m-> 3893\u001b[0m indexer \u001b[38;5;241m=\u001b[39m \u001b[38;5;28;43mself\u001b[39;49m\u001b[38;5;241;43m.\u001b[39;49m\u001b[43mcolumns\u001b[49m\u001b[38;5;241;43m.\u001b[39;49m\u001b[43mget_loc\u001b[49m\u001b[43m(\u001b[49m\u001b[43mkey\u001b[49m\u001b[43m)\u001b[49m\n\u001b[0;32m   3894\u001b[0m \u001b[38;5;28;01mif\u001b[39;00m is_integer(indexer):\n\u001b[0;32m   3895\u001b[0m     indexer \u001b[38;5;241m=\u001b[39m [indexer]\n",
            "File \u001b[1;32m~\\AppData\\Local\\Packages\\PythonSoftwareFoundation.Python.3.11_qbz5n2kfra8p0\\LocalCache\\local-packages\\Python311\\site-packages\\pandas\\core\\indexes\\base.py:3798\u001b[0m, in \u001b[0;36mIndex.get_loc\u001b[1;34m(self, key)\u001b[0m\n\u001b[0;32m   3793\u001b[0m     \u001b[38;5;28;01mif\u001b[39;00m \u001b[38;5;28misinstance\u001b[39m(casted_key, \u001b[38;5;28mslice\u001b[39m) \u001b[38;5;129;01mor\u001b[39;00m (\n\u001b[0;32m   3794\u001b[0m         \u001b[38;5;28misinstance\u001b[39m(casted_key, abc\u001b[38;5;241m.\u001b[39mIterable)\n\u001b[0;32m   3795\u001b[0m         \u001b[38;5;129;01mand\u001b[39;00m \u001b[38;5;28many\u001b[39m(\u001b[38;5;28misinstance\u001b[39m(x, \u001b[38;5;28mslice\u001b[39m) \u001b[38;5;28;01mfor\u001b[39;00m x \u001b[38;5;129;01min\u001b[39;00m casted_key)\n\u001b[0;32m   3796\u001b[0m     ):\n\u001b[0;32m   3797\u001b[0m         \u001b[38;5;28;01mraise\u001b[39;00m InvalidIndexError(key)\n\u001b[1;32m-> 3798\u001b[0m     \u001b[38;5;28;01mraise\u001b[39;00m \u001b[38;5;167;01mKeyError\u001b[39;00m(key) \u001b[38;5;28;01mfrom\u001b[39;00m \u001b[38;5;21;01merr\u001b[39;00m\n\u001b[0;32m   3799\u001b[0m \u001b[38;5;28;01mexcept\u001b[39;00m \u001b[38;5;167;01mTypeError\u001b[39;00m:\n\u001b[0;32m   3800\u001b[0m     \u001b[38;5;66;03m# If we have a listlike key, _check_indexing_error will raise\u001b[39;00m\n\u001b[0;32m   3801\u001b[0m     \u001b[38;5;66;03m#  InvalidIndexError. Otherwise we fall through and re-raise\u001b[39;00m\n\u001b[0;32m   3802\u001b[0m     \u001b[38;5;66;03m#  the TypeError.\u001b[39;00m\n\u001b[0;32m   3803\u001b[0m     \u001b[38;5;28mself\u001b[39m\u001b[38;5;241m.\u001b[39m_check_indexing_error(key)\n",
            "\u001b[1;31mKeyError\u001b[0m: 'Total Profit'"
          ]
        },
        {
          "data": {
            "image/png": "[encoded data removed]",
            "text/plain": [
              "<Figure size 1000x200 with 1 Axes>"
            ]
          },
          "metadata": {},
          "output_type": "display_data"
        }
      ],
      "source": [
        "import matplotlib.pyplot as plt\n",
        "sns.set(style='white')\n",
        "fig, ax = plt.subplots(figsize=(10, 2))\n",
        "sns.boxplot(data['Total Profit'], color=\"plum\", width=.6)\n",
        "\n",
        "plt.title('Total Profit Boxplot', fontsize=13)\n",
        "plt.xlabel('Profit')\n",
        "plt.show()"
      ]
    },
    {
      "cell_type": "markdown",
      "metadata": {
        "id": "5C6d3XeU9K9w"
      },
      "source": [
        "The function 'detect_outliers' takes in two arguments: a pandas DataFrame 'dataframe' and a column name 'column'. It aims to detect outliers in the specified column using the Z-score method.\n",
        "\n",
        "The Z-score method assumes that the data follows a normal distribution and detects outliers as values that fall outside a certain number of standard deviations from the mean. In this case, the threshold is set to 2 standard deviations.\n",
        "\n",
        "The function first calculates the mean and standard deviation of the column. It then loops through each value in the column and calculates its Z-score. If the absolute Z-score is greater than the threshold, the function appends the index of the outlier to a list and prints the corresponding row of the DataFrame. Finally, the function returns the list of outlier indices.\n",
        "\n",
        "Note that the function requires the 'numpy' library to be imported and assumes that the column values are numeric. Also, the function prints the corresponding rows of the DataFrame where the outliers are found, but this may not be desirable if the DataFrame is large."
      ]
    },
    {
      "cell_type": "code",
      "execution_count": null,
      "metadata": {
        "id": "S8cJKW3cqUsy"
      },
      "outputs": [],
      "source": [
        "def detect_outliers(dataframe, column):\n",
        "    threshold = 2     ## 2rd standard deviation\n",
        "    mean = np.mean(column)\n",
        "    std = np.std(column)\n",
        "    outliers = []\n",
        "\n",
        "    for i, value in enumerate(column):\n",
        "        z_score = (value - mean) / std\n",
        "        if np.abs(z_score) > threshold:\n",
        "            outliers.append(i)\n",
        "            print(dataframe.loc[i])\n",
        "\n",
        "    return outliers"
      ]
    },
    {
      "cell_type": "code",
      "execution_count": null,
      "metadata": {
        "colab": {
          "base_uri": "https://localhost:8080/"
        },
        "id": "ifL-HDvDqUz5",
        "outputId": "f2e91f33-ec6e-4f3a-f3b5-06e33ab910ae"
      },
      "outputs": [
        {
          "ename": "KeyError",
          "evalue": "'Profit'",
          "output_type": "error",
          "traceback": [
            "\u001b[1;31m---------------------------------------------------------------------------\u001b[0m",
            "\u001b[1;31mKeyError\u001b[0m                                  Traceback (most recent call last)",
            "File \u001b[1;32m~\\AppData\\Local\\Packages\\PythonSoftwareFoundation.Python.3.11_qbz5n2kfra8p0\\LocalCache\\local-packages\\Python311\\site-packages\\pandas\\core\\indexes\\base.py:3791\u001b[0m, in \u001b[0;36mIndex.get_loc\u001b[1;34m(self, key)\u001b[0m\n\u001b[0;32m   3790\u001b[0m \u001b[38;5;28;01mtry\u001b[39;00m:\n\u001b[1;32m-> 3791\u001b[0m     \u001b[38;5;28;01mreturn\u001b[39;00m \u001b[38;5;28;43mself\u001b[39;49m\u001b[38;5;241;43m.\u001b[39;49m\u001b[43m_engine\u001b[49m\u001b[38;5;241;43m.\u001b[39;49m\u001b[43mget_loc\u001b[49m\u001b[43m(\u001b[49m\u001b[43mcasted_key\u001b[49m\u001b[43m)\u001b[49m\n\u001b[0;32m   3792\u001b[0m \u001b[38;5;28;01mexcept\u001b[39;00m \u001b[38;5;167;01mKeyError\u001b[39;00m \u001b[38;5;28;01mas\u001b[39;00m err:\n",
            "File \u001b[1;32mindex.pyx:152\u001b[0m, in \u001b[0;36mpandas._libs.index.IndexEngine.get_loc\u001b[1;34m()\u001b[0m\n",
            "File \u001b[1;32mindex.pyx:181\u001b[0m, in \u001b[0;36mpandas._libs.index.IndexEngine.get_loc\u001b[1;34m()\u001b[0m\n",
            "File \u001b[1;32mpandas\\_libs\\hashtable_class_helper.pxi:7080\u001b[0m, in \u001b[0;36mpandas._libs.hashtable.PyObjectHashTable.get_item\u001b[1;34m()\u001b[0m\n",
            "File \u001b[1;32mpandas\\_libs\\hashtable_class_helper.pxi:7088\u001b[0m, in \u001b[0;36mpandas._libs.hashtable.PyObjectHashTable.get_item\u001b[1;34m()\u001b[0m\n",
            "\u001b[1;31mKeyError\u001b[0m: 'Profit'",
            "\nThe above exception was the direct cause of the following exception:\n",
            "\u001b[1;31mKeyError\u001b[0m                                  Traceback (most recent call last)",
            "Cell \u001b[1;32mIn[43], line 1\u001b[0m\n\u001b[1;32m----> 1\u001b[0m outliers \u001b[38;5;241m=\u001b[39m detect_outliers(df, \u001b[43mdf\u001b[49m\u001b[43m[\u001b[49m\u001b[38;5;124;43m\"\u001b[39;49m\u001b[38;5;124;43mProfit\u001b[39;49m\u001b[38;5;124;43m\"\u001b[39;49m\u001b[43m]\u001b[49m)\n",
            "File \u001b[1;32m~\\AppData\\Local\\Packages\\PythonSoftwareFoundation.Python.3.11_qbz5n2kfra8p0\\LocalCache\\local-packages\\Python311\\site-packages\\pandas\\core\\frame.py:3893\u001b[0m, in \u001b[0;36mDataFrame.__getitem__\u001b[1;34m(self, key)\u001b[0m\n\u001b[0;32m   3891\u001b[0m \u001b[38;5;28;01mif\u001b[39;00m \u001b[38;5;28mself\u001b[39m\u001b[38;5;241m.\u001b[39mcolumns\u001b[38;5;241m.\u001b[39mnlevels \u001b[38;5;241m>\u001b[39m \u001b[38;5;241m1\u001b[39m:\n\u001b[0;32m   3892\u001b[0m     \u001b[38;5;28;01mreturn\u001b[39;00m \u001b[38;5;28mself\u001b[39m\u001b[38;5;241m.\u001b[39m_getitem_multilevel(key)\n\u001b[1;32m-> 3893\u001b[0m indexer \u001b[38;5;241m=\u001b[39m \u001b[38;5;28;43mself\u001b[39;49m\u001b[38;5;241;43m.\u001b[39;49m\u001b[43mcolumns\u001b[49m\u001b[38;5;241;43m.\u001b[39;49m\u001b[43mget_loc\u001b[49m\u001b[43m(\u001b[49m\u001b[43mkey\u001b[49m\u001b[43m)\u001b[49m\n\u001b[0;32m   3894\u001b[0m \u001b[38;5;28;01mif\u001b[39;00m is_integer(indexer):\n\u001b[0;32m   3895\u001b[0m     indexer \u001b[38;5;241m=\u001b[39m [indexer]\n",
            "File \u001b[1;32m~\\AppData\\Local\\Packages\\PythonSoftwareFoundation.Python.3.11_qbz5n2kfra8p0\\LocalCache\\local-packages\\Python311\\site-packages\\pandas\\core\\indexes\\base.py:3798\u001b[0m, in \u001b[0;36mIndex.get_loc\u001b[1;34m(self, key)\u001b[0m\n\u001b[0;32m   3793\u001b[0m     \u001b[38;5;28;01mif\u001b[39;00m \u001b[38;5;28misinstance\u001b[39m(casted_key, \u001b[38;5;28mslice\u001b[39m) \u001b[38;5;129;01mor\u001b[39;00m (\n\u001b[0;32m   3794\u001b[0m         \u001b[38;5;28misinstance\u001b[39m(casted_key, abc\u001b[38;5;241m.\u001b[39mIterable)\n\u001b[0;32m   3795\u001b[0m         \u001b[38;5;129;01mand\u001b[39;00m \u001b[38;5;28many\u001b[39m(\u001b[38;5;28misinstance\u001b[39m(x, \u001b[38;5;28mslice\u001b[39m) \u001b[38;5;28;01mfor\u001b[39;00m x \u001b[38;5;129;01min\u001b[39;00m casted_key)\n\u001b[0;32m   3796\u001b[0m     ):\n\u001b[0;32m   3797\u001b[0m         \u001b[38;5;28;01mraise\u001b[39;00m InvalidIndexError(key)\n\u001b[1;32m-> 3798\u001b[0m     \u001b[38;5;28;01mraise\u001b[39;00m \u001b[38;5;167;01mKeyError\u001b[39;00m(key) \u001b[38;5;28;01mfrom\u001b[39;00m \u001b[38;5;21;01merr\u001b[39;00m\n\u001b[0;32m   3799\u001b[0m \u001b[38;5;28;01mexcept\u001b[39;00m \u001b[38;5;167;01mTypeError\u001b[39;00m:\n\u001b[0;32m   3800\u001b[0m     \u001b[38;5;66;03m# If we have a listlike key, _check_indexing_error will raise\u001b[39;00m\n\u001b[0;32m   3801\u001b[0m     \u001b[38;5;66;03m#  InvalidIndexError. Otherwise we fall through and re-raise\u001b[39;00m\n\u001b[0;32m   3802\u001b[0m     \u001b[38;5;66;03m#  the TypeError.\u001b[39;00m\n\u001b[0;32m   3803\u001b[0m     \u001b[38;5;28mself\u001b[39m\u001b[38;5;241m.\u001b[39m_check_indexing_error(key)\n",
            "\u001b[1;31mKeyError\u001b[0m: 'Profit'"
          ]
        }
      ],
      "source": [
        "outliers = detect_outliers(df, df[\"Profit\"])"
      ]
    },
    {
      "cell_type": "code",
      "execution_count": null,
      "metadata": {
        "colab": {
          "base_uri": "https://localhost:8080/"
        },
        "id": "IogKm7qKA0qw",
        "outputId": "3c55f000-486b-406c-806a-16307015defa"
      },
      "outputs": [
        {
          "ename": "NameError",
          "evalue": "name 'outliers' is not defined",
          "output_type": "error",
          "traceback": [
            "\u001b[1;31m---------------------------------------------------------------------------\u001b[0m",
            "\u001b[1;31mNameError\u001b[0m                                 Traceback (most recent call last)",
            "Cell \u001b[1;32mIn[45], line 2\u001b[0m\n\u001b[0;32m      1\u001b[0m \u001b[38;5;66;03m# Print rows where outlier is present for the Total Profit column value\u001b[39;00m\n\u001b[1;32m----> 2\u001b[0m \u001b[38;5;28mprint\u001b[39m(\u001b[43moutliers\u001b[49m)\n",
            "\u001b[1;31mNameError\u001b[0m: name 'outliers' is not defined"
          ]
        }
      ],
      "source": [
        "# Print rows where outlier is present for the Total Profit column value\n",
        "print(outliers)"
      ]
    },
    {
      "cell_type": "code",
      "execution_count": null,
      "metadata": {
        "colab": {
          "base_uri": "https://localhost:8080/"
        },
        "id": "cZL0rDH6qU3K",
        "outputId": "6c26771f-c31b-4b8b-b7ed-5f07fef0fad7"
      },
      "outputs": [
        {
          "name": "stdout",
          "output_type": "stream",
          "text": [
            "The list has 7 outliers in Total Profit column of dataframe data \n"
          ]
        }
      ],
      "source": [
        "list_length = len(outliers)\n",
        "\n",
        "# Print the number of values in the list\n",
        "print(\"The list has\", list_length, \"outliers in Total Profit column of dataframe data \")"
      ]
    },
    {
      "cell_type": "markdown",
      "metadata": {
        "id": "3KiSoj5LBc64"
      },
      "source": [
        "Box Plot of Total Cost "
      ]
    },
    {
      "cell_type": "code",
      "execution_count": null,
      "metadata": {
        "colab": {
          "base_uri": "https://localhost:8080/",
          "height": 196
        },
        "id": "SnX55zF2BStZ",
        "outputId": "3c5d79fd-c285-40b2-dbf2-e1042d984789"
      },
      "outputs": [
        {
          "data": {
            "image/png": "[encoded data removed]",
            "text/plain": [
              "<Figure size 1000x200 with 1 Axes>"
            ]
          },
          "metadata": {},
          "output_type": "display_data"
        }
      ],
      "source": [
        "sns.set(style='white')\n",
        "fig, ax = plt.subplots(figsize=(10, 2))\n",
        "sns.boxplot(data['Total Cost'], color=\"plum\", width=.6)\n",
        "\n",
        "plt.title('Total Cost Boxplot', fontsize=13)\n",
        "plt.xlabel('Cost')\n",
        "plt.show()"
      ]
    },
    {
      "cell_type": "code",
      "execution_count": null,
      "metadata": {
        "id": "gyAebK37BSwI"
      },
      "outputs": [],
      "source": [
        "def detect_outliers(dataframe, column):\n",
        "    threshold = 2     ## 3rd standard deviation\n",
        "    mean = np.mean(column)\n",
        "    std = np.std(column)\n",
        "    outliers = []\n",
        "\n",
        "    for i, value in enumerate(column):\n",
        "        z_score = (value - mean) / std\n",
        "        if np.abs(z_score) > threshold:\n",
        "            outliers.append(i)\n",
        "            print(dataframe.loc[i])\n",
        "\n",
        "    return outliers"
      ]
    },
    {
      "cell_type": "code",
      "execution_count": null,
      "metadata": {
        "colab": {
          "base_uri": "https://localhost:8080/"
        },
        "id": "TbmN1x9BBSyx",
        "outputId": "1c43bf53-78ae-4182-c9a2-c9da049acaba"
      },
      "outputs": [
        {
          "name": "stdout",
          "output_type": "stream",
          "text": [
            "Region                  Central America and the Caribbean\n",
            "Country                                          Honduras\n",
            "Item Type                                       Household\n",
            "Sales Channel                                     Offline\n",
            "Order Priority                                          H\n",
            "Order ID                                        522840487\n",
            "Ship Date                             2017-02-13 00:00:00\n",
            "Units Sold                                           8974\n",
            "Unit Price                                         668.27\n",
            "Unit Cost                                          502.54\n",
            "Total Revenue                                  5997054.98\n",
            "Total Cost                                     4509793.96\n",
            "Total Profit                                   1487261.02\n",
            "Order Month                                             2\n",
            "Order Year                                           2017\n",
            "Order Date MonthYear                              2017-02\n",
            "Name: 13, dtype: object\n",
            "Region                                 Asia\n",
            "Country                             Myanmar\n",
            "Item Type                         Household\n",
            "Sales Channel                       Offline\n",
            "Order Priority                            H\n",
            "Order ID                          177713572\n",
            "Ship Date               2015-03-01 00:00:00\n",
            "Units Sold                             8250\n",
            "Unit Price                           668.27\n",
            "Unit Cost                            502.54\n",
            "Total Revenue                     5513227.5\n",
            "Total Cost                        4145955.0\n",
            "Total Profit                      1367272.5\n",
            "Order Month                               1\n",
            "Order Year                             2015\n",
            "Order Date MonthYear                2015-01\n",
            "Name: 33, dtype: object\n",
            "Region                                 Asia\n",
            "Country                              Brunei\n",
            "Item Type                   Office Supplies\n",
            "Sales Channel                        Online\n",
            "Order Priority                            L\n",
            "Order ID                          320009267\n",
            "Ship Date               2012-05-08 00:00:00\n",
            "Units Sold                             6708\n",
            "Unit Price                           651.21\n",
            "Unit Cost                            524.96\n",
            "Total Revenue                    4368316.68\n",
            "Total Cost                       3521431.68\n",
            "Total Profit                       846885.0\n",
            "Order Month                               4\n",
            "Order Year                             2012\n",
            "Order Date MonthYear                2012-04\n",
            "Name: 38, dtype: object\n",
            "Region                               Europe\n",
            "Country                           Lithuania\n",
            "Item Type                   Office Supplies\n",
            "Sales Channel                       Offline\n",
            "Order Priority                            H\n",
            "Order ID                          166460740\n",
            "Ship Date               2010-11-17 00:00:00\n",
            "Units Sold                             8287\n",
            "Unit Price                           651.21\n",
            "Unit Cost                            524.96\n",
            "Total Revenue                    5396577.27\n",
            "Total Cost                       4350343.52\n",
            "Total Profit                     1046233.75\n",
            "Order Month                              10\n",
            "Order Year                             2010\n",
            "Order Date MonthYear                2010-10\n",
            "Name: 68, dtype: object\n",
            "Region                        North America\n",
            "Country                              Mexico\n",
            "Item Type                         Household\n",
            "Sales Channel                       Offline\n",
            "Order Priority                            C\n",
            "Order ID                          986435210\n",
            "Ship Date               2014-12-12 00:00:00\n",
            "Units Sold                             6954\n",
            "Unit Price                           668.27\n",
            "Unit Cost                            502.54\n",
            "Total Revenue                    4647149.58\n",
            "Total Cost                       3494663.16\n",
            "Total Profit                     1152486.42\n",
            "Order Month                              11\n",
            "Order Year                             2014\n",
            "Order Date MonthYear                2014-11\n",
            "Name: 75, dtype: object\n"
          ]
        }
      ],
      "source": [
        "outliers = detect_outliers(df, df[\"Total Cost\"])"
      ]
    },
    {
      "cell_type": "code",
      "execution_count": null,
      "metadata": {
        "colab": {
          "base_uri": "https://localhost:8080/"
        },
        "id": "-Ji9kW7_BS1E",
        "outputId": "d3f7a313-2605-41f9-f55e-6570d5f4e21e"
      },
      "outputs": [
        {
          "name": "stdout",
          "output_type": "stream",
          "text": [
            "[13, 33, 38, 68, 75]\n"
          ]
        }
      ],
      "source": [
        "# Print rows where outlier is present for the Total Cost column value\n",
        "print(outliers)"
      ]
    },
    {
      "cell_type": "code",
      "execution_count": null,
      "metadata": {
        "colab": {
          "base_uri": "https://localhost:8080/"
        },
        "id": "gavT3M31BS4E",
        "outputId": "22a3e516-b880-47c7-a92e-6522b56685d2"
      },
      "outputs": [
        {
          "name": "stdout",
          "output_type": "stream",
          "text": [
            "The list has 5 outliers in Total Cost column of dataframe data \n"
          ]
        }
      ],
      "source": [
        "list_length = len(outliers)\n",
        "\n",
        "# Print the number of values in the list\n",
        "print(\"The list has\", list_length, \"outliers in Total Cost column of dataframe data \")"
      ]
    },
    {
      "cell_type": "markdown",
      "metadata": {
        "id": "gcGsBanCB2cf"
      },
      "source": [
        "Box Plot of Total Revenue"
      ]
    },
    {
      "cell_type": "code",
      "execution_count": null,
      "metadata": {
        "colab": {
          "base_uri": "https://localhost:8080/",
          "height": 196
        },
        "id": "2hRDqmIJBTJV",
        "outputId": "f630efbf-1ca5-4882-b4b5-b4a16e8445b9"
      },
      "outputs": [
        {
          "data": {
            "image/png": "[encoded data removed]",
            "text/plain": [
              "<Figure size 720x144 with 1 Axes>"
            ]
          },
          "metadata": {},
          "output_type": "display_data"
        }
      ],
      "source": [
        "sns.set(style='white')\n",
        "fig, ax = plt.subplots(figsize=(10, 2))\n",
        "sns.boxplot(data['Total Revenue'], color=\"plum\", width=.6)\n",
        "\n",
        "plt.title('Total Revenue Boxplot', fontsize=13)\n",
        "plt.xlabel('Revenue')\n",
        "plt.show()"
      ]
    },
    {
      "cell_type": "code",
      "execution_count": null,
      "metadata": {
        "id": "cPh_QpHTB6su"
      },
      "outputs": [],
      "source": [
        "def detect_outliers(dataframe, column):\n",
        "    threshold = 2     ## 3rd standard deviation\n",
        "    mean = np.mean(column)\n",
        "    std = np.std(column)\n",
        "    outliers = []\n",
        "\n",
        "    for i, value in enumerate(column):\n",
        "        z_score = (value - mean) / std\n",
        "        if np.abs(z_score) > threshold:\n",
        "            outliers.append(i)\n",
        "            print(dataframe.loc[i])\n",
        "\n",
        "    return outliers"
      ]
    },
    {
      "cell_type": "code",
      "execution_count": null,
      "metadata": {
        "colab": {
          "base_uri": "https://localhost:8080/"
        },
        "id": "XWNiyRArB6vc",
        "outputId": "e7088e80-bc8e-43f6-c9dd-6b8dd63637d1"
      },
      "outputs": [
        {
          "name": "stdout",
          "output_type": "stream",
          "text": [
            "Region                  Central America and the Caribbean\n",
            "Country                                          Honduras\n",
            "Item Type                                       Household\n",
            "Sales Channel                                     Offline\n",
            "Order Priority                                          H\n",
            "Order ID                                        522840487\n",
            "Ship Date                             2017-02-13 00:00:00\n",
            "Units Sold                                           8974\n",
            "Unit Price                                         668.27\n",
            "Unit Cost                                          502.54\n",
            "Total Revenue                                  5997054.98\n",
            "Total Cost                                     4509793.96\n",
            "Total Profit                                   1487261.02\n",
            "Order Month                                             2\n",
            "Order Year                                           2017\n",
            "Order Date MonthYear                              2017-02\n",
            "Name: 13, dtype: object\n",
            "Region                                 Asia\n",
            "Country                             Myanmar\n",
            "Item Type                         Household\n",
            "Sales Channel                       Offline\n",
            "Order Priority                            H\n",
            "Order ID                          177713572\n",
            "Ship Date               2015-03-01 00:00:00\n",
            "Units Sold                             8250\n",
            "Unit Price                           668.27\n",
            "Unit Cost                            502.54\n",
            "Total Revenue                     5513227.5\n",
            "Total Cost                        4145955.0\n",
            "Total Profit                      1367272.5\n",
            "Order Month                               1\n",
            "Order Year                             2015\n",
            "Order Date MonthYear                2015-01\n",
            "Name: 33, dtype: object\n",
            "Region                                 Asia\n",
            "Country                              Brunei\n",
            "Item Type                   Office Supplies\n",
            "Sales Channel                        Online\n",
            "Order Priority                            L\n",
            "Order ID                          320009267\n",
            "Ship Date               2012-05-08 00:00:00\n",
            "Units Sold                             6708\n",
            "Unit Price                           651.21\n",
            "Unit Cost                            524.96\n",
            "Total Revenue                    4368316.68\n",
            "Total Cost                       3521431.68\n",
            "Total Profit                       846885.0\n",
            "Order Month                               4\n",
            "Order Year                             2012\n",
            "Order Date MonthYear                2012-04\n",
            "Name: 38, dtype: object\n",
            "Region                               Europe\n",
            "Country                           Lithuania\n",
            "Item Type                   Office Supplies\n",
            "Sales Channel                       Offline\n",
            "Order Priority                            H\n",
            "Order ID                          166460740\n",
            "Ship Date               2010-11-17 00:00:00\n",
            "Units Sold                             8287\n",
            "Unit Price                           651.21\n",
            "Unit Cost                            524.96\n",
            "Total Revenue                    5396577.27\n",
            "Total Cost                       4350343.52\n",
            "Total Profit                     1046233.75\n",
            "Order Month                              10\n",
            "Order Year                             2010\n",
            "Order Date MonthYear                2010-10\n",
            "Name: 68, dtype: object\n",
            "Region                  Middle East and North Africa\n",
            "Country                                     Pakistan\n",
            "Item Type                                  Cosmetics\n",
            "Sales Channel                                Offline\n",
            "Order Priority                                     L\n",
            "Order ID                                   231145322\n",
            "Ship Date                        2013-08-16 00:00:00\n",
            "Units Sold                                      9892\n",
            "Unit Price                                     437.2\n",
            "Unit Cost                                     263.33\n",
            "Total Revenue                              4324782.4\n",
            "Total Cost                                2604860.36\n",
            "Total Profit                              1719922.04\n",
            "Order Month                                        7\n",
            "Order Year                                      2013\n",
            "Order Date MonthYear                         2013-07\n",
            "Name: 74, dtype: object\n",
            "Region                        North America\n",
            "Country                              Mexico\n",
            "Item Type                         Household\n",
            "Sales Channel                       Offline\n",
            "Order Priority                            C\n",
            "Order ID                          986435210\n",
            "Ship Date               2014-12-12 00:00:00\n",
            "Units Sold                             6954\n",
            "Unit Price                           668.27\n",
            "Unit Cost                            502.54\n",
            "Total Revenue                    4647149.58\n",
            "Total Cost                       3494663.16\n",
            "Total Profit                     1152486.42\n",
            "Order Month                              11\n",
            "Order Year                             2014\n",
            "Order Date MonthYear                2014-11\n",
            "Name: 75, dtype: object\n"
          ]
        }
      ],
      "source": [
        "outliers = detect_outliers(df, df[\"Total Revenue\"])"
      ]
    },
    {
      "cell_type": "code",
      "execution_count": null,
      "metadata": {
        "colab": {
          "base_uri": "https://localhost:8080/"
        },
        "id": "zm7kvxBoB6x6",
        "outputId": "02127ac1-a5dd-4e07-84f4-9e76a9c1096e"
      },
      "outputs": [
        {
          "name": "stdout",
          "output_type": "stream",
          "text": [
            "[13, 33, 38, 68, 74, 75]\n"
          ]
        }
      ],
      "source": [
        "# Print rows where outlier is present for the Total Revenue column value\n",
        "print(outliers)"
      ]
    },
    {
      "cell_type": "code",
      "execution_count": null,
      "metadata": {
        "colab": {
          "base_uri": "https://localhost:8080/"
        },
        "id": "VDe0VEoTB604",
        "outputId": "c2bea640-d4a2-418f-f7b2-6ae3652d274a"
      },
      "outputs": [
        {
          "name": "stdout",
          "output_type": "stream",
          "text": [
            "The list has 6 outliers in Total Revenue column of dataframe data \n"
          ]
        }
      ],
      "source": [
        "list_length = len(outliers)\n",
        "\n",
        "# Print the number of values in the list\n",
        "print(\"The list has\", list_length, \"outliers in Total Revenue column of dataframe data \")"
      ]
    },
    {
      "cell_type": "markdown",
      "metadata": {
        "id": "7zEnn6V4CnpN"
      },
      "source": [
        "Box Plot of Unit Cost "
      ]
    },
    {
      "cell_type": "code",
      "execution_count": null,
      "metadata": {
        "colab": {
          "base_uri": "https://localhost:8080/",
          "height": 196
        },
        "id": "KNzzHvTRBTL3",
        "outputId": "a9bacaaa-26dc-493d-9b1b-cfa7b0df535b"
      },
      "outputs": [
        {
          "data": {
            "image/png": "[encoded data removed]",
            "text/plain": [
              "<Figure size 720x144 with 1 Axes>"
            ]
          },
          "metadata": {},
          "output_type": "display_data"
        }
      ],
      "source": [
        "sns.set(style='white')\n",
        "fig, ax = plt.subplots(figsize=(10, 2))\n",
        "sns.boxplot(data['Unit Cost'], color=\"plum\", width=.6)\n",
        "plt.title('Unit Cost Boxplot', fontsize=13)\n",
        "plt.xlabel('Unit Cost')\n",
        "plt.show()"
      ]
    },
    {
      "cell_type": "markdown",
      "metadata": {
        "id": "klynGJt3Cxwd"
      },
      "source": [
        "Box Plot of Unit Price"
      ]
    },
    {
      "cell_type": "code",
      "execution_count": null,
      "metadata": {
        "colab": {
          "base_uri": "https://localhost:8080/",
          "height": 196
        },
        "id": "wwqvfNYVCk78",
        "outputId": "feee3947-ddd2-4f39-fbf2-eb33b35d60d1"
      },
      "outputs": [
        {
          "data": {
            "image/png": "[encoded data removed]",
            "text/plain": [
              "<Figure size 720x144 with 1 Axes>"
            ]
          },
          "metadata": {},
          "output_type": "display_data"
        }
      ],
      "source": [
        "sns.set(style='white')\n",
        "fig, ax = plt.subplots(figsize=(10, 2))\n",
        "sns.boxplot(data['Unit Price'], color=\"plum\", width=.6)\n",
        "plt.title('Unit Price Boxplot', fontsize=13)\n",
        "plt.xlabel('Unit Price')\n",
        "plt.show()"
      ]
    },
    {
      "cell_type": "markdown",
      "metadata": {
        "id": "JTZ-jgHVC68h"
      },
      "source": [
        "Box Plot of Unit Sold "
      ]
    },
    {
      "cell_type": "code",
      "execution_count": null,
      "metadata": {
        "colab": {
          "base_uri": "https://localhost:8080/",
          "height": 196
        },
        "id": "-bnOBSXPC6kn",
        "outputId": "19b38fd0-8154-4e11-b4f1-0433b3a531fe"
      },
      "outputs": [
        {
          "data": {
            "image/png": "[encoded data removed]",
            "text/plain": [
              "<Figure size 720x144 with 1 Axes>"
            ]
          },
          "metadata": {},
          "output_type": "display_data"
        }
      ],
      "source": [
        "sns.set(style='white')\n",
        "fig, ax = plt.subplots(figsize=(10, 2))\n",
        "sns.boxplot(data['Units Sold'], color=\"plum\", width=.6)\n",
        "\n",
        "plt.title('Units Sold Boxplot', fontsize=13)\n",
        "plt.xlabel('Units Sold')\n",
        "plt.show()"
      ]
    },
    {
      "cell_type": "code",
      "execution_count": null,
      "metadata": {
        "colab": {
          "base_uri": "https://localhost:8080/",
          "height": 304
        },
        "id": "2HIYvc5CpkE2",
        "outputId": "336971b8-5cd9-40c9-ace4-3bb8f927155d"
      },
      "outputs": [
        {
          "data": {
            "image/png": "[encoded data removed]",
            "text/plain": [
              "<Figure size 432x288 with 1 Axes>"
            ]
          },
          "metadata": {},
          "output_type": "display_data"
        }
      ],
      "source": [
        "# Creating a bar chart for Total Revenue and Order Month \n",
        "plt.bar(df['Order Month'], df['Total Revenue'])\n",
        "\n",
        "# Set the chart title and axis labels\n",
        "plt.title('Number of Orders Purchased by Month and Year')\n",
        "plt.xticks([1,2,3,4,5,6,7,8,9,10,11,12])\n",
        "plt.xlabel('Order Month')\n",
        "plt.ylabel('Total Revenue')\n",
        "\n",
        "# Rotate the x-axis labels for better readability\n",
        "\n",
        "# Display the chart\n",
        "plt.show()"
      ]
    },
    {
      "cell_type": "code",
      "execution_count": null,
      "metadata": {
        "colab": {
          "base_uri": "https://localhost:8080/",
          "height": 321
        },
        "id": "ssUfDsCjAn38",
        "outputId": "38d8eb47-d592-435d-c299-638c88a12dc2"
      },
      "outputs": [
        {
          "data": {
            "text/plain": [
              "Text(0.5, 1.0, 'Profit per year')"
            ]
          },
          "execution_count": 104,
          "metadata": {},
          "output_type": "execute_result"
        },
        {
          "data": {
            "image/png": "[encoded data removed]",
            "text/plain": [
              "<Figure size 432x288 with 1 Axes>"
            ]
          },
          "metadata": {},
          "output_type": "display_data"
        }
      ],
      "source": [
        "# Plot line graph of Total Profit and Order Year\n",
        "df.groupby('Order Year')['Total Profit'].mean().plot()\n",
        "plt.xlabel('Order Year')\n",
        "plt.ylabel('Total Profit')\n",
        "plt.title('Profit per year')"
      ]
    },
    {
      "cell_type": "code",
      "execution_count": null,
      "metadata": {
        "colab": {
          "base_uri": "https://localhost:8080/"
        },
        "id": "IJgmJvrvpVn2",
        "outputId": "903c4a57-4351-4c2a-cb60-05f419f64ae5"
      },
      "outputs": [
        {
          "data": {
            "text/plain": [
              "Item Type\n",
              "Cosmetics          36601509.60\n",
              "Office Supplies    30585380.07\n",
              "Household          29889712.29\n",
              "Baby Food          10350327.60\n",
              "Clothes             7787292.80\n",
              "Cereal              5322898.90\n",
              "Meat                4503675.75\n",
              "Personal Care       3980904.84\n",
              "Vegetables          3089057.06\n",
              "Beverages           2690794.60\n",
              "Snacks              2080733.46\n",
              "Fruits               466481.34\n",
              "Name: Total Revenue, dtype: float64"
            ]
          },
          "execution_count": 105,
          "metadata": {},
          "output_type": "execute_result"
        }
      ],
      "source": [
        "# Calculating the total revenue for each group with respect to Item Type and then sorting then in descending order\n",
        "revenue_by_category = df.groupby('Item Type')['Total Revenue'].sum().sort_values(ascending=False)\n",
        "revenue_by_category"
      ]
    },
    {
      "cell_type": "code",
      "execution_count": null,
      "metadata": {
        "colab": {
          "base_uri": "https://localhost:8080/"
        },
        "id": "m9N4b885pWHE",
        "outputId": "8758a4a9-338c-4e48-bd2e-1107a243c7ae"
      },
      "outputs": [
        {
          "data": {
            "text/plain": [
              "Item Type\n",
              "Cosmetics          14556048.66\n",
              "Household           7412605.71\n",
              "Office Supplies     5929583.75\n",
              "Clothes             5233334.40\n",
              "Baby Food           3886643.70\n",
              "Cereal              2292443.43\n",
              "Vegetables          1265819.63\n",
              "Personal Care       1220622.48\n",
              "Beverages            888047.28\n",
              "Snacks               751944.18\n",
              "Meat                 610610.00\n",
              "Fruits               120495.18\n",
              "Name: Total Profit, dtype: float64"
            ]
          },
          "execution_count": 106,
          "metadata": {},
          "output_type": "execute_result"
        }
      ],
      "source": [
        "# Calculating the total profit for each group with respect to Item Type and then sorting then in descending order\n",
        "profit_by_category = df.groupby('Item Type')['Total Profit'].sum().sort_values(ascending=False)\n",
        "profit_by_category"
      ]
    },
    {
      "cell_type": "code",
      "execution_count": null,
      "metadata": {
        "colab": {
          "base_uri": "https://localhost:8080/"
        },
        "id": "dmuiM2DGoSUr",
        "outputId": "85cb1a52-f4fa-41f2-ec98-1b40b1307f80"
      },
      "outputs": [
        {
          "name": "stdout",
          "output_type": "stream",
          "text": [
            "               Total Revenue  Total Cost  Total Profit\n",
            "Total Revenue       1.000000    0.983928      0.897327\n",
            "Total Cost          0.983928    1.000000      0.804091\n",
            "Total Profit        0.897327    0.804091      1.000000\n"
          ]
        }
      ],
      "source": [
        "# Calculating correlation of 'Total Revenue', 'Total Cost' and 'Total Profit' columns present in dataframe\n",
        "print(df[['Total Revenue', 'Total Cost', 'Total Profit']].corr())"
      ]
    },
    {
      "cell_type": "markdown",
      "metadata": {
        "id": "DfF4yNVDPkbt"
      },
      "source": [
        "##Predictive Analytics "
      ]
    },
    {
      "cell_type": "code",
      "execution_count": null,
      "metadata": {
        "id": "lwgGASIwF1fP"
      },
      "outputs": [],
      "source": [
        "# Label Encoding of Item Type, Sales Channel and Order Priority for model training \n",
        "from sklearn.preprocessing import LabelEncoder \n",
        "le = LabelEncoder()\n",
        "df[\"Item Type\"] = le.fit_transform(df[\"Item Type\"])\n",
        "df[\"Sales Channel\"] = le.fit_transform(df[\"Sales Channel\"])\n",
        "df[\"Order Priority\"] = le.fit_transform(df[\"Order Priority\"])"
      ]
    },
    {
      "cell_type": "code",
      "execution_count": null,
      "metadata": {
        "id": "qm9iugciRNGR"
      },
      "outputs": [],
      "source": [
        "# Drop columns Region, Country, Order Date MonthYear, Order ID and Ship Date \n",
        "df = df.drop(\"Region\", axis=1)\n",
        "df = df.drop(\"Country\", axis=1)\n",
        "df = df.drop(\"Order Date MonthYear\", axis=1)\n",
        "df = df.drop(\"Order ID\", axis=1)\n",
        "df = df.drop(\"Ship Date\", axis=1)"
      ]
    },
    {
      "cell_type": "code",
      "execution_count": null,
      "metadata": {
        "colab": {
          "base_uri": "https://localhost:8080/",
          "height": 215
        },
        "id": "3eRrkw81VSZq",
        "outputId": "ca570380-8524-4a6c-ce5e-240b3bf7ef94"
      },
      "outputs": [
        {
          "data": {
            "text/html": [
              "\n",
              "  <div id=\"df-05f2b176-c1e5-4dcb-afec-1aed66e1f35d\">\n",
              "    <div class=\"colab-df-container\">\n",
              "      <div>\n",
              "<style scoped>\n",
              "    .dataframe tbody tr th:only-of-type {\n",
              "        vertical-align: middle;\n",
              "    }\n",
              "\n",
              "    .dataframe tbody tr th {\n",
              "        vertical-align: top;\n",
              "    }\n",
              "\n",
              "    .dataframe thead th {\n",
              "        text-align: right;\n",
              "    }\n",
              "</style>\n",
              "<table border=\"1\" class=\"dataframe\">\n",
              "  <thead>\n",
              "    <tr style=\"text-align: right;\">\n",
              "      <th></th>\n",
              "      <th>Item Type</th>\n",
              "      <th>Sales Channel</th>\n",
              "      <th>Order Priority</th>\n",
              "      <th>Units Sold</th>\n",
              "      <th>Unit Price</th>\n",
              "      <th>Unit Cost</th>\n",
              "      <th>Total Revenue</th>\n",
              "      <th>Total Cost</th>\n",
              "      <th>Total Profit</th>\n",
              "      <th>Order Month</th>\n",
              "      <th>Order Year</th>\n",
              "    </tr>\n",
              "  </thead>\n",
              "  <tbody>\n",
              "    <tr>\n",
              "      <th>0</th>\n",
              "      <td>0</td>\n",
              "      <td>0</td>\n",
              "      <td>1</td>\n",
              "      <td>9925</td>\n",
              "      <td>255.28</td>\n",
              "      <td>159.42</td>\n",
              "      <td>2533654.00</td>\n",
              "      <td>1582243.50</td>\n",
              "      <td>951410.50</td>\n",
              "      <td>5</td>\n",
              "      <td>2010</td>\n",
              "    </tr>\n",
              "    <tr>\n",
              "      <th>1</th>\n",
              "      <td>2</td>\n",
              "      <td>1</td>\n",
              "      <td>0</td>\n",
              "      <td>2804</td>\n",
              "      <td>205.70</td>\n",
              "      <td>117.11</td>\n",
              "      <td>576782.80</td>\n",
              "      <td>328376.44</td>\n",
              "      <td>248406.36</td>\n",
              "      <td>8</td>\n",
              "      <td>2012</td>\n",
              "    </tr>\n",
              "    <tr>\n",
              "      <th>2</th>\n",
              "      <td>8</td>\n",
              "      <td>0</td>\n",
              "      <td>2</td>\n",
              "      <td>1779</td>\n",
              "      <td>651.21</td>\n",
              "      <td>524.96</td>\n",
              "      <td>1158502.59</td>\n",
              "      <td>933903.84</td>\n",
              "      <td>224598.75</td>\n",
              "      <td>5</td>\n",
              "      <td>2014</td>\n",
              "    </tr>\n",
              "    <tr>\n",
              "      <th>3</th>\n",
              "      <td>5</td>\n",
              "      <td>1</td>\n",
              "      <td>0</td>\n",
              "      <td>8102</td>\n",
              "      <td>9.33</td>\n",
              "      <td>6.92</td>\n",
              "      <td>75591.66</td>\n",
              "      <td>56065.84</td>\n",
              "      <td>19525.82</td>\n",
              "      <td>6</td>\n",
              "      <td>2014</td>\n",
              "    </tr>\n",
              "    <tr>\n",
              "      <th>4</th>\n",
              "      <td>8</td>\n",
              "      <td>0</td>\n",
              "      <td>2</td>\n",
              "      <td>5062</td>\n",
              "      <td>651.21</td>\n",
              "      <td>524.96</td>\n",
              "      <td>3296425.02</td>\n",
              "      <td>2657347.52</td>\n",
              "      <td>639077.50</td>\n",
              "      <td>2</td>\n",
              "      <td>2013</td>\n",
              "    </tr>\n",
              "  </tbody>\n",
              "</table>\n",
              "</div>\n",
              "      <button class=\"colab-df-convert\" onclick=\"convertToInteractive('df-05f2b176-c1e5-4dcb-afec-1aed66e1f35d')\"\n",
              "              title=\"Convert this dataframe to an interactive table.\"\n",
              "              style=\"display:none;\">\n",
              "        \n",
              "  <svg xmlns=\"http://www.w3.org/2000/svg\" height=\"24px\"viewBox=\"0 0 24 24\"\n",
              "       width=\"24px\">\n",
              "    <path d=\"M0 0h24v24H0V0z\" fill=\"none\"/>\n",
              "    <path d=\"M18.56 5.44l.94 2.06.94-2.06 2.06-.94-2.06-.94-.94-2.06-.94 2.06-2.06.94zm-11 1L8.5 8.5l.94-2.06 2.06-.94-2.06-.94L8.5 2.5l-.94 2.06-2.06.94zm10 10l.94 2.06.94-2.06 2.06-.94-2.06-.94-.94-2.06-.94 2.06-2.06.94z\"/><path d=\"M17.41 7.96l-1.37-1.37c-.4-.4-.92-.59-1.43-.59-.52 0-1.04.2-1.43.59L10.3 9.45l-7.72 7.72c-.78.78-.78 2.05 0 2.83L4 21.41c.39.39.9.59 1.41.59.51 0 1.02-.2 1.41-.59l7.78-7.78 2.81-2.81c.8-.78.8-2.07 0-2.86zM5.41 20L4 18.59l7.72-7.72 1.47 1.35L5.41 20z\"/>\n",
              "  </svg>\n",
              "      </button>\n",
              "      \n",
              "  <style>\n",
              "    .colab-df-container {\n",
              "      display:flex;\n",
              "      flex-wrap:wrap;\n",
              "      gap: 12px;\n",
              "    }\n",
              "\n",
              "    .colab-df-convert {\n",
              "      background-color: #E8F0FE;\n",
              "      border: none;\n",
              "      border-radius: 50%;\n",
              "      cursor: pointer;\n",
              "      display: none;\n",
              "      fill: #1967D2;\n",
              "      height: 32px;\n",
              "      padding: 0 0 0 0;\n",
              "      width: 32px;\n",
              "    }\n",
              "\n",
              "    .colab-df-convert:hover {\n",
              "      background-color: #E2EBFA;\n",
              "      box-shadow: 0px 1px 2px rgba(60, 64, 67, 0.3), 0px 1px 3px 1px rgba(60, 64, 67, 0.15);\n",
              "      fill: #174EA6;\n",
              "    }\n",
              "\n",
              "    [theme=dark] .colab-df-convert {\n",
              "      background-color: #3B4455;\n",
              "      fill: #D2E3FC;\n",
              "    }\n",
              "\n",
              "    [theme=dark] .colab-df-convert:hover {\n",
              "      background-color: #434B5C;\n",
              "      box-shadow: 0px 1px 3px 1px rgba(0, 0, 0, 0.15);\n",
              "      filter: drop-shadow(0px 1px 2px rgba(0, 0, 0, 0.3));\n",
              "      fill: #FFFFFF;\n",
              "    }\n",
              "  </style>\n",
              "\n",
              "      <script>\n",
              "        const buttonEl =\n",
              "          document.querySelector('#df-05f2b176-c1e5-4dcb-afec-1aed66e1f35d button.colab-df-convert');\n",
              "        buttonEl.style.display =\n",
              "          google.colab.kernel.accessAllowed ? 'block' : 'none';\n",
              "\n",
              "        async function convertToInteractive(key) {\n",
              "          const element = document.querySelector('#df-05f2b176-c1e5-4dcb-afec-1aed66e1f35d');\n",
              "          const dataTable =\n",
              "            await google.colab.kernel.invokeFunction('convertToInteractive',\n",
              "                                                     [key], {});\n",
              "          if (!dataTable) return;\n",
              "\n",
              "          const docLinkHtml = 'Like what you see? Visit the ' +\n",
              "            '<a target=\"_blank\" href=https://colab.research.google.com/notebooks/data_table.ipynb>data table notebook</a>'\n",
              "            + ' to learn more about interactive tables.';\n",
              "          element.innerHTML = '';\n",
              "          dataTable['output_type'] = 'display_data';\n",
              "          await google.colab.output.renderOutput(dataTable, element);\n",
              "          const docLink = document.createElement('div');\n",
              "          docLink.innerHTML = docLinkHtml;\n",
              "          element.appendChild(docLink);\n",
              "        }\n",
              "      </script>\n",
              "    </div>\n",
              "  </div>\n",
              "  "
            ],
            "text/plain": [
              "   Item Type  Sales Channel  Order Priority  Units Sold  Unit Price  \\\n",
              "0          0              0               1        9925      255.28   \n",
              "1          2              1               0        2804      205.70   \n",
              "2          8              0               2        1779      651.21   \n",
              "3          5              1               0        8102        9.33   \n",
              "4          8              0               2        5062      651.21   \n",
              "\n",
              "   Unit Cost  Total Revenue  Total Cost  Total Profit  Order Month  Order Year  \n",
              "0     159.42     2533654.00  1582243.50     951410.50            5        2010  \n",
              "1     117.11      576782.80   328376.44     248406.36            8        2012  \n",
              "2     524.96     1158502.59   933903.84     224598.75            5        2014  \n",
              "3       6.92       75591.66    56065.84      19525.82            6        2014  \n",
              "4     524.96     3296425.02  2657347.52     639077.50            2        2013  "
            ]
          },
          "execution_count": 110,
          "metadata": {},
          "output_type": "execute_result"
        }
      ],
      "source": [
        "df.head()"
      ]
    },
    {
      "cell_type": "markdown",
      "metadata": {
        "id": "D9_5zRc3EbEF"
      },
      "source": [
        "##Using Pycaret library \n",
        "\n",
        "PyCaret is an open-source, low-code machine learning library in Python that allows users to quickly and easily build, compare, and deploy machine learning models on structured and tabular data. It is designed to streamline the machine learning workflow and reduce the amount of code needed to build a model, while still providing users with a high degree of flexibility and control over the modeling process.\n",
        "\n",
        "PyCaret provides a variety of pre-processing methods, feature engineering techniques, and model selection strategies that can be easily applied to a dataset with just a few lines of code. It also includes a range of tools for model interpretation, such as feature importance plots and SHAP value plots.\n",
        "\n",
        "Some of the key features of PyCaret include:\n",
        "\n",
        "*   Preprocessing and feature engineering functions\n",
        "*   Automatic model selection and hyperparameter tuning\n",
        "*   Interpretation tools for model results\n",
        "*   Support for a wide range of machine learning algorithms\n",
        "*   Deployment of models to production\n"
      ]
    },
    {
      "cell_type": "code",
      "execution_count": null,
      "metadata": {
        "id": "DRdPcnHzlxYp"
      },
      "outputs": [],
      "source": [
        "# Storing df dataframe in df_auto_ml for performing (Auto ML) Pycaret library \n",
        "df_auto_ml = df"
      ]
    },
    {
      "cell_type": "code",
      "execution_count": null,
      "metadata": {
        "colab": {
          "base_uri": "https://localhost:8080/"
        },
        "id": "Hq7GA2XpmcDJ",
        "outputId": "74999f48-eeab-4c90-c589-b1b3c0c0b3a7"
      },
      "outputs": [
        {
          "name": "stdout",
          "output_type": "stream",
          "text": [
            "Requirement already satisfied: pycaret in c:\\users\\sairam\\appdata\\local\\packages\\pythonsoftwarefoundation.python.3.11_qbz5n2kfra8p0\\localcache\\local-packages\\python311\\site-packages (3.3.2)\n",
            "Requirement already satisfied: ipython>=5.5.0 in c:\\users\\sairam\\appdata\\local\\packages\\pythonsoftwarefoundation.python.3.11_qbz5n2kfra8p0\\localcache\\local-packages\\python311\\site-packages (from pycaret) (8.28.0)\n",
            "Requirement already satisfied: ipywidgets>=7.6.5 in c:\\users\\sairam\\appdata\\local\\packages\\pythonsoftwarefoundation.python.3.11_qbz5n2kfra8p0\\localcache\\local-packages\\python311\\site-packages (from pycaret) (8.1.5)\n",
            "Requirement already satisfied: tqdm>=4.62.0 in c:\\users\\sairam\\appdata\\local\\packages\\pythonsoftwarefoundation.python.3.11_qbz5n2kfra8p0\\localcache\\local-packages\\python311\\site-packages (from pycaret) (4.67.1)\n",
            "Requirement already satisfied: numpy<1.27,>=1.21 in c:\\users\\sairam\\appdata\\local\\packages\\pythonsoftwarefoundation.python.3.11_qbz5n2kfra8p0\\localcache\\local-packages\\python311\\site-packages (from pycaret) (1.24.4)\n",
            "Requirement already satisfied: pandas<2.2.0 in c:\\users\\sairam\\appdata\\local\\packages\\pythonsoftwarefoundation.python.3.11_qbz5n2kfra8p0\\localcache\\local-packages\\python311\\site-packages (from pycaret) (2.1.4)\n",
            "Requirement already satisfied: jinja2>=3 in c:\\users\\sairam\\appdata\\local\\packages\\pythonsoftwarefoundation.python.3.11_qbz5n2kfra8p0\\localcache\\local-packages\\python311\\site-packages (from pycaret) (3.1.5)\n",
            "Requirement already satisfied: scipy<=1.11.4,>=1.6.1 in c:\\users\\sairam\\appdata\\local\\packages\\pythonsoftwarefoundation.python.3.11_qbz5n2kfra8p0\\localcache\\local-packages\\python311\\site-packages (from pycaret) (1.11.4)\n",
            "Requirement already satisfied: joblib<1.4,>=1.2.0 in c:\\users\\sairam\\appdata\\local\\packages\\pythonsoftwarefoundation.python.3.11_qbz5n2kfra8p0\\localcache\\local-packages\\python311\\site-packages (from pycaret) (1.3.2)\n",
            "Requirement already satisfied: scikit-learn>1.4.0 in c:\\users\\sairam\\appdata\\local\\packages\\pythonsoftwarefoundation.python.3.11_qbz5n2kfra8p0\\localcache\\local-packages\\python311\\site-packages (from pycaret) (1.4.2)\n",
            "Requirement already satisfied: pyod>=1.1.3 in c:\\users\\sairam\\appdata\\local\\packages\\pythonsoftwarefoundation.python.3.11_qbz5n2kfra8p0\\localcache\\local-packages\\python311\\site-packages (from pycaret) (2.0.3)\n",
            "Requirement already satisfied: imbalanced-learn>=0.12.0 in c:\\users\\sairam\\appdata\\local\\packages\\pythonsoftwarefoundation.python.3.11_qbz5n2kfra8p0\\localcache\\local-packages\\python311\\site-packages (from pycaret) (0.13.0)\n",
            "Requirement already satisfied: category-encoders>=2.4.0 in c:\\users\\sairam\\appdata\\local\\packages\\pythonsoftwarefoundation.python.3.11_qbz5n2kfra8p0\\localcache\\local-packages\\python311\\site-packages (from pycaret) (2.7.0)\n",
            "Requirement already satisfied: lightgbm>=3.0.0 in c:\\users\\sairam\\appdata\\local\\packages\\pythonsoftwarefoundation.python.3.11_qbz5n2kfra8p0\\localcache\\local-packages\\python311\\site-packages (from pycaret) (4.5.0)\n",
            "Requirement already satisfied: numba>=0.55.0 in c:\\users\\sairam\\appdata\\local\\packages\\pythonsoftwarefoundation.python.3.11_qbz5n2kfra8p0\\localcache\\local-packages\\python311\\site-packages (from pycaret) (0.61.0rc2)\n",
            "Requirement already satisfied: requests>=2.27.1 in c:\\users\\sairam\\appdata\\local\\packages\\pythonsoftwarefoundation.python.3.11_qbz5n2kfra8p0\\localcache\\local-packages\\python311\\site-packages (from pycaret) (2.32.3)\n",
            "Requirement already satisfied: psutil>=5.9.0 in c:\\users\\sairam\\appdata\\local\\packages\\pythonsoftwarefoundation.python.3.11_qbz5n2kfra8p0\\localcache\\local-packages\\python311\\site-packages (from pycaret) (6.0.0)\n",
            "Requirement already satisfied: markupsafe>=2.0.1 in c:\\users\\sairam\\appdata\\local\\packages\\pythonsoftwarefoundation.python.3.11_qbz5n2kfra8p0\\localcache\\local-packages\\python311\\site-packages (from pycaret) (3.0.2)\n",
            "Requirement already satisfied: importlib-metadata>=4.12.0 in c:\\users\\sairam\\appdata\\local\\packages\\pythonsoftwarefoundation.python.3.11_qbz5n2kfra8p0\\localcache\\local-packages\\python311\\site-packages (from pycaret) (8.5.0)\n",
            "Requirement already satisfied: nbformat>=4.2.0 in c:\\users\\sairam\\appdata\\local\\packages\\pythonsoftwarefoundation.python.3.11_qbz5n2kfra8p0\\localcache\\local-packages\\python311\\site-packages (from pycaret) (5.10.4)\n",
            "Requirement already satisfied: cloudpickle in c:\\users\\sairam\\appdata\\local\\packages\\pythonsoftwarefoundation.python.3.11_qbz5n2kfra8p0\\localcache\\local-packages\\python311\\site-packages (from pycaret) (3.1.0)\n",
            "Requirement already satisfied: deprecation>=2.1.0 in c:\\users\\sairam\\appdata\\local\\packages\\pythonsoftwarefoundation.python.3.11_qbz5n2kfra8p0\\localcache\\local-packages\\python311\\site-packages (from pycaret) (2.1.0)\n",
            "Requirement already satisfied: xxhash in c:\\users\\sairam\\appdata\\local\\packages\\pythonsoftwarefoundation.python.3.11_qbz5n2kfra8p0\\localcache\\local-packages\\python311\\site-packages (from pycaret) (3.5.0)\n",
            "Requirement already satisfied: matplotlib<3.8.0 in c:\\users\\sairam\\appdata\\local\\packages\\pythonsoftwarefoundation.python.3.11_qbz5n2kfra8p0\\localcache\\local-packages\\python311\\site-packages (from pycaret) (3.7.5)\n",
            "Requirement already satisfied: scikit-plot>=0.3.7 in c:\\users\\sairam\\appdata\\local\\packages\\pythonsoftwarefoundation.python.3.11_qbz5n2kfra8p0\\localcache\\local-packages\\python311\\site-packages (from pycaret) (0.3.7)\n",
            "Requirement already satisfied: yellowbrick>=1.4 in c:\\users\\sairam\\appdata\\local\\packages\\pythonsoftwarefoundation.python.3.11_qbz5n2kfra8p0\\localcache\\local-packages\\python311\\site-packages (from pycaret) (1.5)\n",
            "Requirement already satisfied: plotly>=5.14.0 in c:\\users\\sairam\\appdata\\local\\packages\\pythonsoftwarefoundation.python.3.11_qbz5n2kfra8p0\\localcache\\local-packages\\python311\\site-packages (from pycaret) (5.24.1)\n",
            "Requirement already satisfied: kaleido>=0.2.1 in c:\\users\\sairam\\appdata\\local\\packages\\pythonsoftwarefoundation.python.3.11_qbz5n2kfra8p0\\localcache\\local-packages\\python311\\site-packages (from pycaret) (0.2.1)\n",
            "Requirement already satisfied: schemdraw==0.15 in c:\\users\\sairam\\appdata\\local\\packages\\pythonsoftwarefoundation.python.3.11_qbz5n2kfra8p0\\localcache\\local-packages\\python311\\site-packages (from pycaret) (0.15)\n",
            "Requirement already satisfied: plotly-resampler>=0.8.3.1 in c:\\users\\sairam\\appdata\\local\\packages\\pythonsoftwarefoundation.python.3.11_qbz5n2kfra8p0\\localcache\\local-packages\\python311\\site-packages (from pycaret) (0.10.0)\n",
            "Requirement already satisfied: statsmodels>=0.12.1 in c:\\users\\sairam\\appdata\\local\\packages\\pythonsoftwarefoundation.python.3.11_qbz5n2kfra8p0\\localcache\\local-packages\\python311\\site-packages (from pycaret) (0.14.4)\n",
            "Requirement already satisfied: sktime==0.26.0 in c:\\users\\sairam\\appdata\\local\\packages\\pythonsoftwarefoundation.python.3.11_qbz5n2kfra8p0\\localcache\\local-packages\\python311\\site-packages (from pycaret) (0.26.0)\n",
            "Requirement already satisfied: tbats>=1.1.3 in c:\\users\\sairam\\appdata\\local\\packages\\pythonsoftwarefoundation.python.3.11_qbz5n2kfra8p0\\localcache\\local-packages\\python311\\site-packages (from pycaret) (1.1.3)\n",
            "Requirement already satisfied: pmdarima>=2.0.4 in c:\\users\\sairam\\appdata\\local\\packages\\pythonsoftwarefoundation.python.3.11_qbz5n2kfra8p0\\localcache\\local-packages\\python311\\site-packages (from pycaret) (2.0.4)\n",
            "Requirement already satisfied: packaging in c:\\users\\sairam\\appdata\\local\\packages\\pythonsoftwarefoundation.python.3.11_qbz5n2kfra8p0\\localcache\\local-packages\\python311\\site-packages (from sktime==0.26.0->pycaret) (24.1)\n",
            "Requirement already satisfied: scikit-base<0.8.0 in c:\\users\\sairam\\appdata\\local\\packages\\pythonsoftwarefoundation.python.3.11_qbz5n2kfra8p0\\localcache\\local-packages\\python311\\site-packages (from sktime==0.26.0->pycaret) (0.7.8)\n",
            "Requirement already satisfied: patsy>=0.5.1 in c:\\users\\sairam\\appdata\\local\\packages\\pythonsoftwarefoundation.python.3.11_qbz5n2kfra8p0\\localcache\\local-packages\\python311\\site-packages (from category-encoders>=2.4.0->pycaret) (1.0.1)\n",
            "Requirement already satisfied: sklearn-compat<1,>=0.1 in c:\\users\\sairam\\appdata\\local\\packages\\pythonsoftwarefoundation.python.3.11_qbz5n2kfra8p0\\localcache\\local-packages\\python311\\site-packages (from imbalanced-learn>=0.12.0->pycaret) (0.1.3)\n",
            "Requirement already satisfied: threadpoolctl<4,>=2.0.0 in c:\\users\\sairam\\appdata\\local\\packages\\pythonsoftwarefoundation.python.3.11_qbz5n2kfra8p0\\localcache\\local-packages\\python311\\site-packages (from imbalanced-learn>=0.12.0->pycaret) (3.5.0)\n",
            "Requirement already satisfied: zipp>=3.20 in c:\\users\\sairam\\appdata\\local\\packages\\pythonsoftwarefoundation.python.3.11_qbz5n2kfra8p0\\localcache\\local-packages\\python311\\site-packages (from importlib-metadata>=4.12.0->pycaret) (3.21.0)\n",
            "Requirement already satisfied: decorator in c:\\users\\sairam\\appdata\\local\\packages\\pythonsoftwarefoundation.python.3.11_qbz5n2kfra8p0\\localcache\\local-packages\\python311\\site-packages (from ipython>=5.5.0->pycaret) (5.1.1)\n",
            "Requirement already satisfied: jedi>=0.16 in c:\\users\\sairam\\appdata\\local\\packages\\pythonsoftwarefoundation.python.3.11_qbz5n2kfra8p0\\localcache\\local-packages\\python311\\site-packages (from ipython>=5.5.0->pycaret) (0.19.1)\n",
            "Requirement already satisfied: matplotlib-inline in c:\\users\\sairam\\appdata\\local\\packages\\pythonsoftwarefoundation.python.3.11_qbz5n2kfra8p0\\localcache\\local-packages\\python311\\site-packages (from ipython>=5.5.0->pycaret) (0.1.7)\n",
            "Requirement already satisfied: prompt-toolkit<3.1.0,>=3.0.41 in c:\\users\\sairam\\appdata\\local\\packages\\pythonsoftwarefoundation.python.3.11_qbz5n2kfra8p0\\localcache\\local-packages\\python311\\site-packages (from ipython>=5.5.0->pycaret) (3.0.48)\n",
            "Requirement already satisfied: pygments>=2.4.0 in c:\\users\\sairam\\appdata\\local\\packages\\pythonsoftwarefoundation.python.3.11_qbz5n2kfra8p0\\localcache\\local-packages\\python311\\site-packages (from ipython>=5.5.0->pycaret) (2.18.0)\n",
            "Requirement already satisfied: stack-data in c:\\users\\sairam\\appdata\\local\\packages\\pythonsoftwarefoundation.python.3.11_qbz5n2kfra8p0\\localcache\\local-packages\\python311\\site-packages (from ipython>=5.5.0->pycaret) (0.6.3)\n",
            "Requirement already satisfied: traitlets>=5.13.0 in c:\\users\\sairam\\appdata\\local\\packages\\pythonsoftwarefoundation.python.3.11_qbz5n2kfra8p0\\localcache\\local-packages\\python311\\site-packages (from ipython>=5.5.0->pycaret) (5.14.3)\n",
            "Requirement already satisfied: typing-extensions>=4.6 in c:\\users\\sairam\\appdata\\local\\packages\\pythonsoftwarefoundation.python.3.11_qbz5n2kfra8p0\\localcache\\local-packages\\python311\\site-packages (from ipython>=5.5.0->pycaret) (4.12.2)\n",
            "Requirement already satisfied: colorama in c:\\users\\sairam\\appdata\\local\\packages\\pythonsoftwarefoundation.python.3.11_qbz5n2kfra8p0\\localcache\\local-packages\\python311\\site-packages (from ipython>=5.5.0->pycaret) (0.4.6)\n",
            "Requirement already satisfied: comm>=0.1.3 in c:\\users\\sairam\\appdata\\local\\packages\\pythonsoftwarefoundation.python.3.11_qbz5n2kfra8p0\\localcache\\local-packages\\python311\\site-packages (from ipywidgets>=7.6.5->pycaret) (0.2.2)\n",
            "Requirement already satisfied: widgetsnbextension~=4.0.12 in c:\\users\\sairam\\appdata\\local\\packages\\pythonsoftwarefoundation.python.3.11_qbz5n2kfra8p0\\localcache\\local-packages\\python311\\site-packages (from ipywidgets>=7.6.5->pycaret) (4.0.13)\n",
            "Requirement already satisfied: jupyterlab-widgets~=3.0.12 in c:\\users\\sairam\\appdata\\local\\packages\\pythonsoftwarefoundation.python.3.11_qbz5n2kfra8p0\\localcache\\local-packages\\python311\\site-packages (from ipywidgets>=7.6.5->pycaret) (3.0.13)\n",
            "Requirement already satisfied: contourpy>=1.0.1 in c:\\users\\sairam\\appdata\\local\\packages\\pythonsoftwarefoundation.python.3.11_qbz5n2kfra8p0\\localcache\\local-packages\\python311\\site-packages (from matplotlib<3.8.0->pycaret) (1.3.1)\n",
            "Requirement already satisfied: cycler>=0.10 in c:\\users\\sairam\\appdata\\local\\packages\\pythonsoftwarefoundation.python.3.11_qbz5n2kfra8p0\\localcache\\local-packages\\python311\\site-packages (from matplotlib<3.8.0->pycaret) (0.12.1)\n",
            "Requirement already satisfied: fonttools>=4.22.0 in c:\\users\\sairam\\appdata\\local\\packages\\pythonsoftwarefoundation.python.3.11_qbz5n2kfra8p0\\localcache\\local-packages\\python311\\site-packages (from matplotlib<3.8.0->pycaret) (4.55.3)\n",
            "Requirement already satisfied: kiwisolver>=1.0.1 in c:\\users\\sairam\\appdata\\local\\packages\\pythonsoftwarefoundation.python.3.11_qbz5n2kfra8p0\\localcache\\local-packages\\python311\\site-packages (from matplotlib<3.8.0->pycaret) (1.4.7)\n",
            "Requirement already satisfied: pillow>=6.2.0 in c:\\users\\sairam\\appdata\\local\\packages\\pythonsoftwarefoundation.python.3.11_qbz5n2kfra8p0\\localcache\\local-packages\\python311\\site-packages (from matplotlib<3.8.0->pycaret) (11.0.0)\n",
            "Requirement already satisfied: pyparsing>=2.3.1 in c:\\users\\sairam\\appdata\\local\\packages\\pythonsoftwarefoundation.python.3.11_qbz5n2kfra8p0\\localcache\\local-packages\\python311\\site-packages (from matplotlib<3.8.0->pycaret) (3.2.0)\n",
            "Requirement already satisfied: python-dateutil>=2.7 in c:\\users\\sairam\\appdata\\local\\packages\\pythonsoftwarefoundation.python.3.11_qbz5n2kfra8p0\\localcache\\local-packages\\python311\\site-packages (from matplotlib<3.8.0->pycaret) (2.9.0.post0)\n",
            "Requirement already satisfied: fastjsonschema>=2.15 in c:\\users\\sairam\\appdata\\local\\packages\\pythonsoftwarefoundation.python.3.11_qbz5n2kfra8p0\\localcache\\local-packages\\python311\\site-packages (from nbformat>=4.2.0->pycaret) (2.21.1)\n",
            "Requirement already satisfied: jsonschema>=2.6 in c:\\users\\sairam\\appdata\\local\\packages\\pythonsoftwarefoundation.python.3.11_qbz5n2kfra8p0\\localcache\\local-packages\\python311\\site-packages (from nbformat>=4.2.0->pycaret) (4.23.0)\n",
            "Requirement already satisfied: jupyter-core!=5.0.*,>=4.12 in c:\\users\\sairam\\appdata\\local\\packages\\pythonsoftwarefoundation.python.3.11_qbz5n2kfra8p0\\localcache\\local-packages\\python311\\site-packages (from nbformat>=4.2.0->pycaret) (5.7.2)\n",
            "Requirement already satisfied: llvmlite<0.45,>=0.44.0dev0 in c:\\users\\sairam\\appdata\\local\\packages\\pythonsoftwarefoundation.python.3.11_qbz5n2kfra8p0\\localcache\\local-packages\\python311\\site-packages (from numba>=0.55.0->pycaret) (0.44.0rc2)\n",
            "Requirement already satisfied: pytz>=2020.1 in c:\\users\\sairam\\appdata\\local\\packages\\pythonsoftwarefoundation.python.3.11_qbz5n2kfra8p0\\localcache\\local-packages\\python311\\site-packages (from pandas<2.2.0->pycaret) (2024.2)\n",
            "Requirement already satisfied: tzdata>=2022.1 in c:\\users\\sairam\\appdata\\local\\packages\\pythonsoftwarefoundation.python.3.11_qbz5n2kfra8p0\\localcache\\local-packages\\python311\\site-packages (from pandas<2.2.0->pycaret) (2024.2)\n",
            "Requirement already satisfied: tenacity>=6.2.0 in c:\\users\\sairam\\appdata\\local\\packages\\pythonsoftwarefoundation.python.3.11_qbz5n2kfra8p0\\localcache\\local-packages\\python311\\site-packages (from plotly>=5.14.0->pycaret) (9.0.0)\n",
            "Requirement already satisfied: dash>=2.9.0 in c:\\users\\sairam\\appdata\\local\\packages\\pythonsoftwarefoundation.python.3.11_qbz5n2kfra8p0\\localcache\\local-packages\\python311\\site-packages (from plotly-resampler>=0.8.3.1->pycaret) (2.18.2)\n",
            "Requirement already satisfied: orjson<4.0.0,>=3.8.0 in c:\\users\\sairam\\appdata\\local\\packages\\pythonsoftwarefoundation.python.3.11_qbz5n2kfra8p0\\localcache\\local-packages\\python311\\site-packages (from plotly-resampler>=0.8.3.1->pycaret) (3.10.13)\n",
            "Requirement already satisfied: tsdownsample>=0.1.3 in c:\\users\\sairam\\appdata\\local\\packages\\pythonsoftwarefoundation.python.3.11_qbz5n2kfra8p0\\localcache\\local-packages\\python311\\site-packages (from plotly-resampler>=0.8.3.1->pycaret) (0.1.3)\n",
            "Requirement already satisfied: Cython!=0.29.18,!=0.29.31,>=0.29 in c:\\users\\sairam\\appdata\\local\\packages\\pythonsoftwarefoundation.python.3.11_qbz5n2kfra8p0\\localcache\\local-packages\\python311\\site-packages (from pmdarima>=2.0.4->pycaret) (3.1.0a1)\n",
            "Requirement already satisfied: urllib3 in c:\\users\\sairam\\appdata\\local\\packages\\pythonsoftwarefoundation.python.3.11_qbz5n2kfra8p0\\localcache\\local-packages\\python311\\site-packages (from pmdarima>=2.0.4->pycaret) (2.3.0)\n",
            "Requirement already satisfied: setuptools!=50.0.0,>=38.6.0 in c:\\program files\\windowsapps\\pythonsoftwarefoundation.python.3.11_3.11.2544.0_x64__qbz5n2kfra8p0\\lib\\site-packages (from pmdarima>=2.0.4->pycaret) (65.5.0)\n",
            "Requirement already satisfied: charset-normalizer<4,>=2 in c:\\users\\sairam\\appdata\\local\\packages\\pythonsoftwarefoundation.python.3.11_qbz5n2kfra8p0\\localcache\\local-packages\\python311\\site-packages (from requests>=2.27.1->pycaret) (3.4.1)\n",
            "Requirement already satisfied: idna<4,>=2.5 in c:\\users\\sairam\\appdata\\local\\packages\\pythonsoftwarefoundation.python.3.11_qbz5n2kfra8p0\\localcache\\local-packages\\python311\\site-packages (from requests>=2.27.1->pycaret) (3.10)\n",
            "Requirement already satisfied: certifi>=2017.4.17 in c:\\users\\sairam\\appdata\\local\\packages\\pythonsoftwarefoundation.python.3.11_qbz5n2kfra8p0\\localcache\\local-packages\\python311\\site-packages (from requests>=2.27.1->pycaret) (2024.12.14)\n",
            "Requirement already satisfied: Flask<3.1,>=1.0.4 in c:\\users\\sairam\\appdata\\local\\packages\\pythonsoftwarefoundation.python.3.11_qbz5n2kfra8p0\\localcache\\local-packages\\python311\\site-packages (from dash>=2.9.0->plotly-resampler>=0.8.3.1->pycaret) (3.0.3)\n",
            "Requirement already satisfied: Werkzeug<3.1 in c:\\users\\sairam\\appdata\\local\\packages\\pythonsoftwarefoundation.python.3.11_qbz5n2kfra8p0\\localcache\\local-packages\\python311\\site-packages (from dash>=2.9.0->plotly-resampler>=0.8.3.1->pycaret) (3.0.6)\n",
            "Requirement already satisfied: dash-html-components==2.0.0 in c:\\users\\sairam\\appdata\\local\\packages\\pythonsoftwarefoundation.python.3.11_qbz5n2kfra8p0\\localcache\\local-packages\\python311\\site-packages (from dash>=2.9.0->plotly-resampler>=0.8.3.1->pycaret) (2.0.0)\n",
            "Requirement already satisfied: dash-core-components==2.0.0 in c:\\users\\sairam\\appdata\\local\\packages\\pythonsoftwarefoundation.python.3.11_qbz5n2kfra8p0\\localcache\\local-packages\\python311\\site-packages (from dash>=2.9.0->plotly-resampler>=0.8.3.1->pycaret) (2.0.0)\n",
            "Requirement already satisfied: dash-table==5.0.0 in c:\\users\\sairam\\appdata\\local\\packages\\pythonsoftwarefoundation.python.3.11_qbz5n2kfra8p0\\localcache\\local-packages\\python311\\site-packages (from dash>=2.9.0->plotly-resampler>=0.8.3.1->pycaret) (5.0.0)\n",
            "Requirement already satisfied: retrying in c:\\users\\sairam\\appdata\\local\\packages\\pythonsoftwarefoundation.python.3.11_qbz5n2kfra8p0\\localcache\\local-packages\\python311\\site-packages (from dash>=2.9.0->plotly-resampler>=0.8.3.1->pycaret) (1.3.4)\n",
            "Requirement already satisfied: nest-asyncio in c:\\users\\sairam\\appdata\\local\\packages\\pythonsoftwarefoundation.python.3.11_qbz5n2kfra8p0\\localcache\\local-packages\\python311\\site-packages (from dash>=2.9.0->plotly-resampler>=0.8.3.1->pycaret) (1.6.0)\n",
            "Requirement already satisfied: parso<0.9.0,>=0.8.3 in c:\\users\\sairam\\appdata\\local\\packages\\pythonsoftwarefoundation.python.3.11_qbz5n2kfra8p0\\localcache\\local-packages\\python311\\site-packages (from jedi>=0.16->ipython>=5.5.0->pycaret) (0.8.4)\n",
            "Requirement already satisfied: attrs>=22.2.0 in c:\\users\\sairam\\appdata\\local\\packages\\pythonsoftwarefoundation.python.3.11_qbz5n2kfra8p0\\localcache\\local-packages\\python311\\site-packages (from jsonschema>=2.6->nbformat>=4.2.0->pycaret) (24.3.0)\n",
            "Requirement already satisfied: jsonschema-specifications>=2023.03.6 in c:\\users\\sairam\\appdata\\local\\packages\\pythonsoftwarefoundation.python.3.11_qbz5n2kfra8p0\\localcache\\local-packages\\python311\\site-packages (from jsonschema>=2.6->nbformat>=4.2.0->pycaret) (2024.10.1)\n",
            "Requirement already satisfied: referencing>=0.28.4 in c:\\users\\sairam\\appdata\\local\\packages\\pythonsoftwarefoundation.python.3.11_qbz5n2kfra8p0\\localcache\\local-packages\\python311\\site-packages (from jsonschema>=2.6->nbformat>=4.2.0->pycaret) (0.35.1)\n",
            "Requirement already satisfied: rpds-py>=0.7.1 in c:\\users\\sairam\\appdata\\local\\packages\\pythonsoftwarefoundation.python.3.11_qbz5n2kfra8p0\\localcache\\local-packages\\python311\\site-packages (from jsonschema>=2.6->nbformat>=4.2.0->pycaret) (0.22.3)\n",
            "Requirement already satisfied: platformdirs>=2.5 in c:\\users\\sairam\\appdata\\local\\packages\\pythonsoftwarefoundation.python.3.11_qbz5n2kfra8p0\\localcache\\local-packages\\python311\\site-packages (from jupyter-core!=5.0.*,>=4.12->nbformat>=4.2.0->pycaret) (4.3.6)\n",
            "Requirement already satisfied: pywin32>=300 in c:\\users\\sairam\\appdata\\local\\packages\\pythonsoftwarefoundation.python.3.11_qbz5n2kfra8p0\\localcache\\local-packages\\python311\\site-packages (from jupyter-core!=5.0.*,>=4.12->nbformat>=4.2.0->pycaret) (308)\n",
            "Requirement already satisfied: wcwidth in c:\\users\\sairam\\appdata\\local\\packages\\pythonsoftwarefoundation.python.3.11_qbz5n2kfra8p0\\localcache\\local-packages\\python311\\site-packages (from prompt-toolkit<3.1.0,>=3.0.41->ipython>=5.5.0->pycaret) (0.2.13)\n",
            "Requirement already satisfied: six>=1.5 in c:\\users\\sairam\\appdata\\local\\packages\\pythonsoftwarefoundation.python.3.11_qbz5n2kfra8p0\\localcache\\local-packages\\python311\\site-packages (from python-dateutil>=2.7->matplotlib<3.8.0->pycaret) (1.16.0)\n",
            "Requirement already satisfied: executing>=1.2.0 in c:\\users\\sairam\\appdata\\local\\packages\\pythonsoftwarefoundation.python.3.11_qbz5n2kfra8p0\\localcache\\local-packages\\python311\\site-packages (from stack-data->ipython>=5.5.0->pycaret) (2.1.0)\n",
            "Requirement already satisfied: asttokens>=2.1.0 in c:\\users\\sairam\\appdata\\local\\packages\\pythonsoftwarefoundation.python.3.11_qbz5n2kfra8p0\\localcache\\local-packages\\python311\\site-packages (from stack-data->ipython>=5.5.0->pycaret) (2.4.1)\n",
            "Requirement already satisfied: pure-eval in c:\\users\\sairam\\appdata\\local\\packages\\pythonsoftwarefoundation.python.3.11_qbz5n2kfra8p0\\localcache\\local-packages\\python311\\site-packages (from stack-data->ipython>=5.5.0->pycaret) (0.2.3)\n",
            "Requirement already satisfied: itsdangerous>=2.1.2 in c:\\users\\sairam\\appdata\\local\\packages\\pythonsoftwarefoundation.python.3.11_qbz5n2kfra8p0\\localcache\\local-packages\\python311\\site-packages (from Flask<3.1,>=1.0.4->dash>=2.9.0->plotly-resampler>=0.8.3.1->pycaret) (2.2.0)\n",
            "Requirement already satisfied: click>=8.1.3 in c:\\users\\sairam\\appdata\\local\\packages\\pythonsoftwarefoundation.python.3.11_qbz5n2kfra8p0\\localcache\\local-packages\\python311\\site-packages (from Flask<3.1,>=1.0.4->dash>=2.9.0->plotly-resampler>=0.8.3.1->pycaret) (8.1.8)\n",
            "Requirement already satisfied: blinker>=1.6.2 in c:\\users\\sairam\\appdata\\local\\packages\\pythonsoftwarefoundation.python.3.11_qbz5n2kfra8p0\\localcache\\local-packages\\python311\\site-packages (from Flask<3.1,>=1.0.4->dash>=2.9.0->plotly-resampler>=0.8.3.1->pycaret) (1.9.0)\n"
          ]
        },
        {
          "name": "stderr",
          "output_type": "stream",
          "text": [
            "WARNING: Ignoring invalid distribution ~atplotlib (C:\\Users\\sairam\\AppData\\Local\\Packages\\PythonSoftwareFoundation.Python.3.11_qbz5n2kfra8p0\\LocalCache\\local-packages\\Python311\\site-packages)\n",
            "WARNING: Ignoring invalid distribution ~atplotlib (C:\\Users\\sairam\\AppData\\Local\\Packages\\PythonSoftwareFoundation.Python.3.11_qbz5n2kfra8p0\\LocalCache\\local-packages\\Python311\\site-packages)\n",
            "WARNING: Ignoring invalid distribution ~atplotlib (C:\\Users\\sairam\\AppData\\Local\\Packages\\PythonSoftwareFoundation.Python.3.11_qbz5n2kfra8p0\\LocalCache\\local-packages\\Python311\\site-packages)\n",
            "WARNING: Ignoring invalid distribution ~atplotlib (C:\\Users\\sairam\\AppData\\Local\\Packages\\PythonSoftwareFoundation.Python.3.11_qbz5n2kfra8p0\\LocalCache\\local-packages\\Python311\\site-packages)\n"
          ]
        }
      ],
      "source": [
        "# Install pycaret dependency \n",
        "!pip install --pre pycaret"
      ]
    },
    {
      "cell_type": "code",
      "execution_count": null,
      "metadata": {
        "id": "5AyZRS9XmcAa"
      },
      "outputs": [],
      "source": [
        "# Import * to train dataframe on multiple regression algorithm  \n",
        "from pycaret.regression import *"
      ]
    },
    {
      "cell_type": "code",
      "execution_count": null,
      "metadata": {
        "colab": {
          "base_uri": "https://localhost:8080/",
          "height": 645
        },
        "id": "IFBsDv_omb9g",
        "outputId": "135f7fc5-2704-4104-df01-0c28a431921f"
      },
      "outputs": [
        {
          "ename": "ValueError",
          "evalue": "Invalid value for the target parameter. Column Profit not found in the data.",
          "output_type": "error",
          "traceback": [
            "\u001b[1;31m---------------------------------------------------------------------------\u001b[0m",
            "\u001b[1;31mValueError\u001b[0m                                Traceback (most recent call last)",
            "Cell \u001b[1;32mIn[63], line 2\u001b[0m\n\u001b[0;32m      1\u001b[0m \u001b[38;5;66;03m# Set target value\u001b[39;00m\n\u001b[1;32m----> 2\u001b[0m reg \u001b[38;5;241m=\u001b[39m \u001b[43msetup\u001b[49m\u001b[43m(\u001b[49m\u001b[43mdata\u001b[49m\u001b[38;5;241;43m=\u001b[39;49m\u001b[43mdf_auto_ml\u001b[49m\u001b[43m,\u001b[49m\u001b[43mtarget\u001b[49m\u001b[38;5;241;43m=\u001b[39;49m\u001b[38;5;124;43m'\u001b[39;49m\u001b[38;5;124;43mProfit\u001b[39;49m\u001b[38;5;124;43m'\u001b[39;49m\u001b[43m)\u001b[49m\n",
            "File \u001b[1;32m~\\AppData\\Local\\Packages\\PythonSoftwareFoundation.Python.3.11_qbz5n2kfra8p0\\LocalCache\\local-packages\\Python311\\site-packages\\pycaret\\regression\\functional.py:593\u001b[0m, in \u001b[0;36msetup\u001b[1;34m(data, data_func, target, index, train_size, test_data, ordinal_features, numeric_features, categorical_features, date_features, text_features, ignore_features, keep_features, preprocess, create_date_columns, imputation_type, numeric_imputation, categorical_imputation, iterative_imputation_iters, numeric_iterative_imputer, categorical_iterative_imputer, text_features_method, max_encoding_ohe, encoding_method, rare_to_value, rare_value, polynomial_features, polynomial_degree, low_variance_threshold, group_features, drop_groups, remove_multicollinearity, multicollinearity_threshold, bin_numeric_features, remove_outliers, outliers_method, outliers_threshold, transformation, transformation_method, normalize, normalize_method, pca, pca_method, pca_components, feature_selection, feature_selection_method, feature_selection_estimator, n_features_to_select, transform_target, transform_target_method, custom_pipeline, custom_pipeline_position, data_split_shuffle, data_split_stratify, fold_strategy, fold, fold_shuffle, fold_groups, n_jobs, use_gpu, html, session_id, system_log, log_experiment, experiment_name, experiment_custom_tags, log_plots, log_profile, log_data, verbose, memory, profile, profile_kwargs)\u001b[0m\n\u001b[0;32m    591\u001b[0m exp \u001b[38;5;241m=\u001b[39m _EXPERIMENT_CLASS()\n\u001b[0;32m    592\u001b[0m set_current_experiment(exp)\n\u001b[1;32m--> 593\u001b[0m \u001b[38;5;28;01mreturn\u001b[39;00m \u001b[43mexp\u001b[49m\u001b[38;5;241;43m.\u001b[39;49m\u001b[43msetup\u001b[49m\u001b[43m(\u001b[49m\n\u001b[0;32m    594\u001b[0m \u001b[43m    \u001b[49m\u001b[43mdata\u001b[49m\u001b[38;5;241;43m=\u001b[39;49m\u001b[43mdata\u001b[49m\u001b[43m,\u001b[49m\n\u001b[0;32m    595\u001b[0m \u001b[43m    \u001b[49m\u001b[43mdata_func\u001b[49m\u001b[38;5;241;43m=\u001b[39;49m\u001b[43mdata_func\u001b[49m\u001b[43m,\u001b[49m\n\u001b[0;32m    596\u001b[0m \u001b[43m    \u001b[49m\u001b[43mtarget\u001b[49m\u001b[38;5;241;43m=\u001b[39;49m\u001b[43mtarget\u001b[49m\u001b[43m,\u001b[49m\n\u001b[0;32m    597\u001b[0m \u001b[43m    \u001b[49m\u001b[43mindex\u001b[49m\u001b[38;5;241;43m=\u001b[39;49m\u001b[43mindex\u001b[49m\u001b[43m,\u001b[49m\n\u001b[0;32m    598\u001b[0m \u001b[43m    \u001b[49m\u001b[43mtrain_size\u001b[49m\u001b[38;5;241;43m=\u001b[39;49m\u001b[43mtrain_size\u001b[49m\u001b[43m,\u001b[49m\n\u001b[0;32m    599\u001b[0m \u001b[43m    \u001b[49m\u001b[43mtest_data\u001b[49m\u001b[38;5;241;43m=\u001b[39;49m\u001b[43mtest_data\u001b[49m\u001b[43m,\u001b[49m\n\u001b[0;32m    600\u001b[0m \u001b[43m    \u001b[49m\u001b[43mordinal_features\u001b[49m\u001b[38;5;241;43m=\u001b[39;49m\u001b[43mordinal_features\u001b[49m\u001b[43m,\u001b[49m\n\u001b[0;32m    601\u001b[0m \u001b[43m    \u001b[49m\u001b[43mnumeric_features\u001b[49m\u001b[38;5;241;43m=\u001b[39;49m\u001b[43mnumeric_features\u001b[49m\u001b[43m,\u001b[49m\n\u001b[0;32m    602\u001b[0m \u001b[43m    \u001b[49m\u001b[43mcategorical_features\u001b[49m\u001b[38;5;241;43m=\u001b[39;49m\u001b[43mcategorical_features\u001b[49m\u001b[43m,\u001b[49m\n\u001b[0;32m    603\u001b[0m \u001b[43m    \u001b[49m\u001b[43mdate_features\u001b[49m\u001b[38;5;241;43m=\u001b[39;49m\u001b[43mdate_features\u001b[49m\u001b[43m,\u001b[49m\n\u001b[0;32m    604\u001b[0m \u001b[43m    \u001b[49m\u001b[43mtext_features\u001b[49m\u001b[38;5;241;43m=\u001b[39;49m\u001b[43mtext_features\u001b[49m\u001b[43m,\u001b[49m\n\u001b[0;32m    605\u001b[0m \u001b[43m    \u001b[49m\u001b[43mignore_features\u001b[49m\u001b[38;5;241;43m=\u001b[39;49m\u001b[43mignore_features\u001b[49m\u001b[43m,\u001b[49m\n\u001b[0;32m    606\u001b[0m \u001b[43m    \u001b[49m\u001b[43mkeep_features\u001b[49m\u001b[38;5;241;43m=\u001b[39;49m\u001b[43mkeep_features\u001b[49m\u001b[43m,\u001b[49m\n\u001b[0;32m    607\u001b[0m \u001b[43m    \u001b[49m\u001b[43mpreprocess\u001b[49m\u001b[38;5;241;43m=\u001b[39;49m\u001b[43mpreprocess\u001b[49m\u001b[43m,\u001b[49m\n\u001b[0;32m    608\u001b[0m \u001b[43m    \u001b[49m\u001b[43mcreate_date_columns\u001b[49m\u001b[38;5;241;43m=\u001b[39;49m\u001b[43mcreate_date_columns\u001b[49m\u001b[43m,\u001b[49m\n\u001b[0;32m    609\u001b[0m \u001b[43m    \u001b[49m\u001b[43mimputation_type\u001b[49m\u001b[38;5;241;43m=\u001b[39;49m\u001b[43mimputation_type\u001b[49m\u001b[43m,\u001b[49m\n\u001b[0;32m    610\u001b[0m \u001b[43m    \u001b[49m\u001b[43mnumeric_imputation\u001b[49m\u001b[38;5;241;43m=\u001b[39;49m\u001b[43mnumeric_imputation\u001b[49m\u001b[43m,\u001b[49m\n\u001b[0;32m    611\u001b[0m \u001b[43m    \u001b[49m\u001b[43mcategorical_imputation\u001b[49m\u001b[38;5;241;43m=\u001b[39;49m\u001b[43mcategorical_imputation\u001b[49m\u001b[43m,\u001b[49m\n\u001b[0;32m    612\u001b[0m \u001b[43m    \u001b[49m\u001b[43miterative_imputation_iters\u001b[49m\u001b[38;5;241;43m=\u001b[39;49m\u001b[43miterative_imputation_iters\u001b[49m\u001b[43m,\u001b[49m\n\u001b[0;32m    613\u001b[0m \u001b[43m    \u001b[49m\u001b[43mnumeric_iterative_imputer\u001b[49m\u001b[38;5;241;43m=\u001b[39;49m\u001b[43mnumeric_iterative_imputer\u001b[49m\u001b[43m,\u001b[49m\n\u001b[0;32m    614\u001b[0m \u001b[43m    \u001b[49m\u001b[43mcategorical_iterative_imputer\u001b[49m\u001b[38;5;241;43m=\u001b[39;49m\u001b[43mcategorical_iterative_imputer\u001b[49m\u001b[43m,\u001b[49m\n\u001b[0;32m    615\u001b[0m \u001b[43m    \u001b[49m\u001b[43mtext_features_method\u001b[49m\u001b[38;5;241;43m=\u001b[39;49m\u001b[43mtext_features_method\u001b[49m\u001b[43m,\u001b[49m\n\u001b[0;32m    616\u001b[0m \u001b[43m    \u001b[49m\u001b[43mmax_encoding_ohe\u001b[49m\u001b[38;5;241;43m=\u001b[39;49m\u001b[43mmax_encoding_ohe\u001b[49m\u001b[43m,\u001b[49m\n\u001b[0;32m    617\u001b[0m \u001b[43m    \u001b[49m\u001b[43mencoding_method\u001b[49m\u001b[38;5;241;43m=\u001b[39;49m\u001b[43mencoding_method\u001b[49m\u001b[43m,\u001b[49m\n\u001b[0;32m    618\u001b[0m \u001b[43m    \u001b[49m\u001b[43mrare_to_value\u001b[49m\u001b[38;5;241;43m=\u001b[39;49m\u001b[43mrare_to_value\u001b[49m\u001b[43m,\u001b[49m\n\u001b[0;32m    619\u001b[0m \u001b[43m    \u001b[49m\u001b[43mrare_value\u001b[49m\u001b[38;5;241;43m=\u001b[39;49m\u001b[43mrare_value\u001b[49m\u001b[43m,\u001b[49m\n\u001b[0;32m    620\u001b[0m \u001b[43m    \u001b[49m\u001b[43mpolynomial_features\u001b[49m\u001b[38;5;241;43m=\u001b[39;49m\u001b[43mpolynomial_features\u001b[49m\u001b[43m,\u001b[49m\n\u001b[0;32m    621\u001b[0m \u001b[43m    \u001b[49m\u001b[43mpolynomial_degree\u001b[49m\u001b[38;5;241;43m=\u001b[39;49m\u001b[43mpolynomial_degree\u001b[49m\u001b[43m,\u001b[49m\n\u001b[0;32m    622\u001b[0m \u001b[43m    \u001b[49m\u001b[43mlow_variance_threshold\u001b[49m\u001b[38;5;241;43m=\u001b[39;49m\u001b[43mlow_variance_threshold\u001b[49m\u001b[43m,\u001b[49m\n\u001b[0;32m    623\u001b[0m \u001b[43m    \u001b[49m\u001b[43mgroup_features\u001b[49m\u001b[38;5;241;43m=\u001b[39;49m\u001b[43mgroup_features\u001b[49m\u001b[43m,\u001b[49m\n\u001b[0;32m    624\u001b[0m \u001b[43m    \u001b[49m\u001b[43mdrop_groups\u001b[49m\u001b[38;5;241;43m=\u001b[39;49m\u001b[43mdrop_groups\u001b[49m\u001b[43m,\u001b[49m\n\u001b[0;32m    625\u001b[0m \u001b[43m    \u001b[49m\u001b[43mremove_multicollinearity\u001b[49m\u001b[38;5;241;43m=\u001b[39;49m\u001b[43mremove_multicollinearity\u001b[49m\u001b[43m,\u001b[49m\n\u001b[0;32m    626\u001b[0m \u001b[43m    \u001b[49m\u001b[43mmulticollinearity_threshold\u001b[49m\u001b[38;5;241;43m=\u001b[39;49m\u001b[43mmulticollinearity_threshold\u001b[49m\u001b[43m,\u001b[49m\n\u001b[0;32m    627\u001b[0m \u001b[43m    \u001b[49m\u001b[43mbin_numeric_features\u001b[49m\u001b[38;5;241;43m=\u001b[39;49m\u001b[43mbin_numeric_features\u001b[49m\u001b[43m,\u001b[49m\n\u001b[0;32m    628\u001b[0m \u001b[43m    \u001b[49m\u001b[43mremove_outliers\u001b[49m\u001b[38;5;241;43m=\u001b[39;49m\u001b[43mremove_outliers\u001b[49m\u001b[43m,\u001b[49m\n\u001b[0;32m    629\u001b[0m \u001b[43m    \u001b[49m\u001b[43moutliers_method\u001b[49m\u001b[38;5;241;43m=\u001b[39;49m\u001b[43moutliers_method\u001b[49m\u001b[43m,\u001b[49m\n\u001b[0;32m    630\u001b[0m \u001b[43m    \u001b[49m\u001b[43moutliers_threshold\u001b[49m\u001b[38;5;241;43m=\u001b[39;49m\u001b[43moutliers_threshold\u001b[49m\u001b[43m,\u001b[49m\n\u001b[0;32m    631\u001b[0m \u001b[43m    \u001b[49m\u001b[43mtransformation\u001b[49m\u001b[38;5;241;43m=\u001b[39;49m\u001b[43mtransformation\u001b[49m\u001b[43m,\u001b[49m\n\u001b[0;32m    632\u001b[0m \u001b[43m    \u001b[49m\u001b[43mtransformation_method\u001b[49m\u001b[38;5;241;43m=\u001b[39;49m\u001b[43mtransformation_method\u001b[49m\u001b[43m,\u001b[49m\n\u001b[0;32m    633\u001b[0m \u001b[43m    \u001b[49m\u001b[43mnormalize\u001b[49m\u001b[38;5;241;43m=\u001b[39;49m\u001b[43mnormalize\u001b[49m\u001b[43m,\u001b[49m\n\u001b[0;32m    634\u001b[0m \u001b[43m    \u001b[49m\u001b[43mnormalize_method\u001b[49m\u001b[38;5;241;43m=\u001b[39;49m\u001b[43mnormalize_method\u001b[49m\u001b[43m,\u001b[49m\n\u001b[0;32m    635\u001b[0m \u001b[43m    \u001b[49m\u001b[43mpca\u001b[49m\u001b[38;5;241;43m=\u001b[39;49m\u001b[43mpca\u001b[49m\u001b[43m,\u001b[49m\n\u001b[0;32m    636\u001b[0m \u001b[43m    \u001b[49m\u001b[43mpca_method\u001b[49m\u001b[38;5;241;43m=\u001b[39;49m\u001b[43mpca_method\u001b[49m\u001b[43m,\u001b[49m\n\u001b[0;32m    637\u001b[0m \u001b[43m    \u001b[49m\u001b[43mpca_components\u001b[49m\u001b[38;5;241;43m=\u001b[39;49m\u001b[43mpca_components\u001b[49m\u001b[43m,\u001b[49m\n\u001b[0;32m    638\u001b[0m \u001b[43m    \u001b[49m\u001b[43mfeature_selection\u001b[49m\u001b[38;5;241;43m=\u001b[39;49m\u001b[43mfeature_selection\u001b[49m\u001b[43m,\u001b[49m\n\u001b[0;32m    639\u001b[0m \u001b[43m    \u001b[49m\u001b[43mfeature_selection_method\u001b[49m\u001b[38;5;241;43m=\u001b[39;49m\u001b[43mfeature_selection_method\u001b[49m\u001b[43m,\u001b[49m\n\u001b[0;32m    640\u001b[0m \u001b[43m    \u001b[49m\u001b[43mfeature_selection_estimator\u001b[49m\u001b[38;5;241;43m=\u001b[39;49m\u001b[43mfeature_selection_estimator\u001b[49m\u001b[43m,\u001b[49m\n\u001b[0;32m    641\u001b[0m \u001b[43m    \u001b[49m\u001b[43mn_features_to_select\u001b[49m\u001b[38;5;241;43m=\u001b[39;49m\u001b[43mn_features_to_select\u001b[49m\u001b[43m,\u001b[49m\n\u001b[0;32m    642\u001b[0m \u001b[43m    \u001b[49m\u001b[43mtransform_target\u001b[49m\u001b[38;5;241;43m=\u001b[39;49m\u001b[43mtransform_target\u001b[49m\u001b[43m,\u001b[49m\n\u001b[0;32m    643\u001b[0m \u001b[43m    \u001b[49m\u001b[43mtransform_target_method\u001b[49m\u001b[38;5;241;43m=\u001b[39;49m\u001b[43mtransform_target_method\u001b[49m\u001b[43m,\u001b[49m\n\u001b[0;32m    644\u001b[0m \u001b[43m    \u001b[49m\u001b[43mcustom_pipeline\u001b[49m\u001b[38;5;241;43m=\u001b[39;49m\u001b[43mcustom_pipeline\u001b[49m\u001b[43m,\u001b[49m\n\u001b[0;32m    645\u001b[0m \u001b[43m    \u001b[49m\u001b[43mcustom_pipeline_position\u001b[49m\u001b[38;5;241;43m=\u001b[39;49m\u001b[43mcustom_pipeline_position\u001b[49m\u001b[43m,\u001b[49m\n\u001b[0;32m    646\u001b[0m \u001b[43m    \u001b[49m\u001b[43mdata_split_shuffle\u001b[49m\u001b[38;5;241;43m=\u001b[39;49m\u001b[43mdata_split_shuffle\u001b[49m\u001b[43m,\u001b[49m\n\u001b[0;32m    647\u001b[0m \u001b[43m    \u001b[49m\u001b[43mdata_split_stratify\u001b[49m\u001b[38;5;241;43m=\u001b[39;49m\u001b[43mdata_split_stratify\u001b[49m\u001b[43m,\u001b[49m\n\u001b[0;32m    648\u001b[0m \u001b[43m    \u001b[49m\u001b[43mfold_strategy\u001b[49m\u001b[38;5;241;43m=\u001b[39;49m\u001b[43mfold_strategy\u001b[49m\u001b[43m,\u001b[49m\n\u001b[0;32m    649\u001b[0m \u001b[43m    \u001b[49m\u001b[43mfold\u001b[49m\u001b[38;5;241;43m=\u001b[39;49m\u001b[43mfold\u001b[49m\u001b[43m,\u001b[49m\n\u001b[0;32m    650\u001b[0m \u001b[43m    \u001b[49m\u001b[43mfold_shuffle\u001b[49m\u001b[38;5;241;43m=\u001b[39;49m\u001b[43mfold_shuffle\u001b[49m\u001b[43m,\u001b[49m\n\u001b[0;32m    651\u001b[0m \u001b[43m    \u001b[49m\u001b[43mfold_groups\u001b[49m\u001b[38;5;241;43m=\u001b[39;49m\u001b[43mfold_groups\u001b[49m\u001b[43m,\u001b[49m\n\u001b[0;32m    652\u001b[0m \u001b[43m    \u001b[49m\u001b[43mn_jobs\u001b[49m\u001b[38;5;241;43m=\u001b[39;49m\u001b[43mn_jobs\u001b[49m\u001b[43m,\u001b[49m\n\u001b[0;32m    653\u001b[0m \u001b[43m    \u001b[49m\u001b[43muse_gpu\u001b[49m\u001b[38;5;241;43m=\u001b[39;49m\u001b[43muse_gpu\u001b[49m\u001b[43m,\u001b[49m\n\u001b[0;32m    654\u001b[0m \u001b[43m    \u001b[49m\u001b[43mhtml\u001b[49m\u001b[38;5;241;43m=\u001b[39;49m\u001b[43mhtml\u001b[49m\u001b[43m,\u001b[49m\n\u001b[0;32m    655\u001b[0m \u001b[43m    \u001b[49m\u001b[43msession_id\u001b[49m\u001b[38;5;241;43m=\u001b[39;49m\u001b[43msession_id\u001b[49m\u001b[43m,\u001b[49m\n\u001b[0;32m    656\u001b[0m \u001b[43m    \u001b[49m\u001b[43msystem_log\u001b[49m\u001b[38;5;241;43m=\u001b[39;49m\u001b[43msystem_log\u001b[49m\u001b[43m,\u001b[49m\n\u001b[0;32m    657\u001b[0m \u001b[43m    \u001b[49m\u001b[43mlog_experiment\u001b[49m\u001b[38;5;241;43m=\u001b[39;49m\u001b[43mlog_experiment\u001b[49m\u001b[43m,\u001b[49m\n\u001b[0;32m    658\u001b[0m \u001b[43m    \u001b[49m\u001b[43mexperiment_name\u001b[49m\u001b[38;5;241;43m=\u001b[39;49m\u001b[43mexperiment_name\u001b[49m\u001b[43m,\u001b[49m\n\u001b[0;32m    659\u001b[0m \u001b[43m    \u001b[49m\u001b[43mexperiment_custom_tags\u001b[49m\u001b[38;5;241;43m=\u001b[39;49m\u001b[43mexperiment_custom_tags\u001b[49m\u001b[43m,\u001b[49m\n\u001b[0;32m    660\u001b[0m \u001b[43m    \u001b[49m\u001b[43mlog_plots\u001b[49m\u001b[38;5;241;43m=\u001b[39;49m\u001b[43mlog_plots\u001b[49m\u001b[43m,\u001b[49m\n\u001b[0;32m    661\u001b[0m \u001b[43m    \u001b[49m\u001b[43mlog_profile\u001b[49m\u001b[38;5;241;43m=\u001b[39;49m\u001b[43mlog_profile\u001b[49m\u001b[43m,\u001b[49m\n\u001b[0;32m    662\u001b[0m \u001b[43m    \u001b[49m\u001b[43mlog_data\u001b[49m\u001b[38;5;241;43m=\u001b[39;49m\u001b[43mlog_data\u001b[49m\u001b[43m,\u001b[49m\n\u001b[0;32m    663\u001b[0m \u001b[43m    \u001b[49m\u001b[43mverbose\u001b[49m\u001b[38;5;241;43m=\u001b[39;49m\u001b[43mverbose\u001b[49m\u001b[43m,\u001b[49m\n\u001b[0;32m    664\u001b[0m \u001b[43m    \u001b[49m\u001b[43mmemory\u001b[49m\u001b[38;5;241;43m=\u001b[39;49m\u001b[43mmemory\u001b[49m\u001b[43m,\u001b[49m\n\u001b[0;32m    665\u001b[0m \u001b[43m    \u001b[49m\u001b[43mprofile\u001b[49m\u001b[38;5;241;43m=\u001b[39;49m\u001b[43mprofile\u001b[49m\u001b[43m,\u001b[49m\n\u001b[0;32m    666\u001b[0m \u001b[43m    \u001b[49m\u001b[43mprofile_kwargs\u001b[49m\u001b[38;5;241;43m=\u001b[39;49m\u001b[43mprofile_kwargs\u001b[49m\u001b[43m,\u001b[49m\n\u001b[0;32m    667\u001b[0m \u001b[43m\u001b[49m\u001b[43m)\u001b[49m\n",
            "File \u001b[1;32m~\\AppData\\Local\\Packages\\PythonSoftwareFoundation.Python.3.11_qbz5n2kfra8p0\\LocalCache\\local-packages\\Python311\\site-packages\\pycaret\\regression\\oop.py:711\u001b[0m, in \u001b[0;36mRegressionExperiment.setup\u001b[1;34m(self, data, data_func, target, index, train_size, test_data, ordinal_features, numeric_features, categorical_features, date_features, text_features, ignore_features, keep_features, preprocess, create_date_columns, imputation_type, numeric_imputation, categorical_imputation, iterative_imputation_iters, numeric_iterative_imputer, categorical_iterative_imputer, text_features_method, max_encoding_ohe, encoding_method, rare_to_value, rare_value, polynomial_features, polynomial_degree, low_variance_threshold, group_features, drop_groups, remove_multicollinearity, multicollinearity_threshold, bin_numeric_features, remove_outliers, outliers_method, outliers_threshold, transformation, transformation_method, normalize, normalize_method, pca, pca_method, pca_components, feature_selection, feature_selection_method, feature_selection_estimator, n_features_to_select, transform_target, transform_target_method, custom_pipeline, custom_pipeline_position, data_split_shuffle, data_split_stratify, fold_strategy, fold, fold_shuffle, fold_groups, n_jobs, use_gpu, html, session_id, system_log, log_experiment, experiment_name, experiment_custom_tags, log_plots, log_profile, log_data, engine, verbose, memory, profile, profile_kwargs)\u001b[0m\n\u001b[0;32m    708\u001b[0m \u001b[38;5;28;01mif\u001b[39;00m data_func \u001b[38;5;129;01mis\u001b[39;00m \u001b[38;5;129;01mnot\u001b[39;00m \u001b[38;5;28;01mNone\u001b[39;00m:\n\u001b[0;32m    709\u001b[0m     data \u001b[38;5;241m=\u001b[39m data_func()\n\u001b[1;32m--> 711\u001b[0m \u001b[38;5;28mself\u001b[39m\u001b[38;5;241m.\u001b[39mdata \u001b[38;5;241m=\u001b[39m \u001b[38;5;28;43mself\u001b[39;49m\u001b[38;5;241;43m.\u001b[39;49m\u001b[43m_prepare_dataset\u001b[49m\u001b[43m(\u001b[49m\u001b[43mdata\u001b[49m\u001b[43m,\u001b[49m\u001b[43m \u001b[49m\u001b[43mtarget\u001b[49m\u001b[43m)\u001b[49m\n\u001b[0;32m    712\u001b[0m \u001b[38;5;28mself\u001b[39m\u001b[38;5;241m.\u001b[39mtarget_param \u001b[38;5;241m=\u001b[39m \u001b[38;5;28mself\u001b[39m\u001b[38;5;241m.\u001b[39mdata\u001b[38;5;241m.\u001b[39mcolumns[\u001b[38;5;241m-\u001b[39m\u001b[38;5;241m1\u001b[39m]\n\u001b[0;32m    713\u001b[0m \u001b[38;5;28mself\u001b[39m\u001b[38;5;241m.\u001b[39mindex \u001b[38;5;241m=\u001b[39m index\n",
            "File \u001b[1;32m~\\AppData\\Local\\Packages\\PythonSoftwareFoundation.Python.3.11_qbz5n2kfra8p0\\LocalCache\\local-packages\\Python311\\site-packages\\pycaret\\internal\\preprocess\\preprocessor.py:150\u001b[0m, in \u001b[0;36mPreprocessor._prepare_dataset\u001b[1;34m(self, X, y)\u001b[0m\n\u001b[0;32m    148\u001b[0m \u001b[38;5;28;01melif\u001b[39;00m \u001b[38;5;28misinstance\u001b[39m(y, \u001b[38;5;28mstr\u001b[39m):\n\u001b[0;32m    149\u001b[0m     \u001b[38;5;28;01mif\u001b[39;00m y \u001b[38;5;129;01mnot\u001b[39;00m \u001b[38;5;129;01min\u001b[39;00m X\u001b[38;5;241m.\u001b[39mcolumns:\n\u001b[1;32m--> 150\u001b[0m         \u001b[38;5;28;01mraise\u001b[39;00m \u001b[38;5;167;01mValueError\u001b[39;00m(\n\u001b[0;32m    151\u001b[0m             \u001b[38;5;124m\"\u001b[39m\u001b[38;5;124mInvalid value for the target parameter. \u001b[39m\u001b[38;5;124m\"\u001b[39m\n\u001b[0;32m    152\u001b[0m             \u001b[38;5;124mf\u001b[39m\u001b[38;5;124m\"\u001b[39m\u001b[38;5;124mColumn \u001b[39m\u001b[38;5;132;01m{\u001b[39;00my\u001b[38;5;132;01m}\u001b[39;00m\u001b[38;5;124m not found in the data.\u001b[39m\u001b[38;5;124m\"\u001b[39m\n\u001b[0;32m    153\u001b[0m         )\n\u001b[0;32m    155\u001b[0m     X, y \u001b[38;5;241m=\u001b[39m X\u001b[38;5;241m.\u001b[39mdrop(y, axis\u001b[38;5;241m=\u001b[39m\u001b[38;5;241m1\u001b[39m), X[y]\n\u001b[0;32m    157\u001b[0m \u001b[38;5;28;01melif\u001b[39;00m \u001b[38;5;28misinstance\u001b[39m(y, \u001b[38;5;28mint\u001b[39m):\n",
            "\u001b[1;31mValueError\u001b[0m: Invalid value for the target parameter. Column Profit not found in the data."
          ]
        }
      ],
      "source": [
        "# Set target value\n",
        "reg = setup(data=df_auto_ml,target='Profit')"
      ]
    },
    {
      "cell_type": "code",
      "execution_count": null,
      "metadata": {
        "colab": {
          "base_uri": "https://localhost:8080/",
          "height": 703,
          "referenced_widgets": [
            "14122eab44b54b6db5b8e712d785e468",
            "c281fe3929b240c98073623bc2ddc344",
            "4dc0bbc4ccff470e8791974fd65f0e71",
            "4351b0feba7e439f98cb3461d648b7a4",
            "da7db208b432408fb69faadab47535b2",
            "8003cf99b406405ba5c6ec2d5189c614",
            "40a1fd0b3dcd40b78562264a08eaeba5",
            "572a43331dbc432abc475b185a122ffe",
            "b86d3e8399fe4d4aacc2e602ff999d23",
            "3125b31e7e0f4d07b21860c64ff88faa",
            "5a3a457b67854a379050f0cf83e36989"
          ]
        },
        "id": "w2Szmzudmb6u",
        "outputId": "fc1a303d-a571-4914-a41d-e46104d951e7"
      },
      "outputs": [
        {
          "ename": "ValueError",
          "evalue": "_CURRENT_EXPERIMENT global variable is not set. Please run setup() first.",
          "output_type": "error",
          "traceback": [
            "\u001b[1;31m---------------------------------------------------------------------------\u001b[0m",
            "\u001b[1;31mValueError\u001b[0m                                Traceback (most recent call last)",
            "Cell \u001b[1;32mIn[58], line 2\u001b[0m\n\u001b[0;32m      1\u001b[0m \u001b[38;5;66;03m# Comparing multiple models \u001b[39;00m\n\u001b[1;32m----> 2\u001b[0m \u001b[43mcompare_models\u001b[49m\u001b[43m(\u001b[49m\u001b[43m)\u001b[49m\n",
            "File \u001b[1;32m~\\AppData\\Local\\Packages\\PythonSoftwareFoundation.Python.3.11_qbz5n2kfra8p0\\LocalCache\\local-packages\\Python311\\site-packages\\pycaret\\utils\\generic.py:963\u001b[0m, in \u001b[0;36mcheck_if_global_is_not_none.<locals>.decorator.<locals>.wrapper\u001b[1;34m(*args, **kwargs)\u001b[0m\n\u001b[0;32m    961\u001b[0m \u001b[38;5;28;01mfor\u001b[39;00m name, message \u001b[38;5;129;01min\u001b[39;00m global_names\u001b[38;5;241m.\u001b[39mitems():\n\u001b[0;32m    962\u001b[0m     \u001b[38;5;28;01mif\u001b[39;00m globals_d[name] \u001b[38;5;129;01mis\u001b[39;00m \u001b[38;5;28;01mNone\u001b[39;00m:\n\u001b[1;32m--> 963\u001b[0m         \u001b[38;5;28;01mraise\u001b[39;00m \u001b[38;5;167;01mValueError\u001b[39;00m(message)\n\u001b[0;32m    964\u001b[0m \u001b[38;5;28;01mreturn\u001b[39;00m func(\u001b[38;5;241m*\u001b[39margs, \u001b[38;5;241m*\u001b[39m\u001b[38;5;241m*\u001b[39mkwargs)\n",
            "\u001b[1;31mValueError\u001b[0m: _CURRENT_EXPERIMENT global variable is not set. Please run setup() first."
          ]
        }
      ],
      "source": [
        "# Comparing multiple models \n",
        "compare_models()"
      ]
    },
    {
      "cell_type": "code",
      "execution_count": null,
      "metadata": {
        "colab": {
          "base_uri": "https://localhost:8080/",
          "height": 457,
          "referenced_widgets": [
            "a42bc603c8124eac83752771fe227924",
            "a8f9dc11f9ca47c48c7867601fa99b21",
            "21783f0ff3534cf7b1ed1b6886aed152",
            "7013335c460f49079011df48ea676119",
            "9464d9f4e75b4b94a568cb3de3707ace",
            "b72965e084f44004b9e317fb79db4940",
            "65de1b782040470b8bf27c759068774b",
            "f02237156dfe4dbeb4220af18530be39",
            "bce73ba6104148d98525ed4fc15c8476",
            "34abb2af7c224eeba4e40eca157a3f1f",
            "27f83b2cfb664ac381ec78c6905c642a"
          ]
        },
        "id": "jCzEO_bOmbyM",
        "outputId": "b0c4796c-6e62-4492-e79c-235d1836d987"
      },
      "outputs": [
        {
          "data": {
            "text/html": [],
            "text/plain": [
              "<IPython.core.display.HTML object>"
            ]
          },
          "metadata": {},
          "output_type": "display_data"
        },
        {
          "data": {
            "text/html": [
              "<style type=\"text/css\">\n",
              "#T_6d79f_row10_col0, #T_6d79f_row10_col1, #T_6d79f_row10_col2, #T_6d79f_row10_col3, #T_6d79f_row10_col4, #T_6d79f_row10_col5 {\n",
              "  background: yellow;\n",
              "}\n",
              "</style>\n",
              "<table id=\"T_6d79f_\" class=\"dataframe\">\n",
              "  <thead>\n",
              "    <tr>\n",
              "      <th class=\"blank level0\" >&nbsp;</th>\n",
              "      <th class=\"col_heading level0 col0\" >MAE</th>\n",
              "      <th class=\"col_heading level0 col1\" >MSE</th>\n",
              "      <th class=\"col_heading level0 col2\" >RMSE</th>\n",
              "      <th class=\"col_heading level0 col3\" >R2</th>\n",
              "      <th class=\"col_heading level0 col4\" >RMSLE</th>\n",
              "      <th class=\"col_heading level0 col5\" >MAPE</th>\n",
              "    </tr>\n",
              "    <tr>\n",
              "      <th class=\"index_name level0\" >Fold</th>\n",
              "      <th class=\"blank col0\" >&nbsp;</th>\n",
              "      <th class=\"blank col1\" >&nbsp;</th>\n",
              "      <th class=\"blank col2\" >&nbsp;</th>\n",
              "      <th class=\"blank col3\" >&nbsp;</th>\n",
              "      <th class=\"blank col4\" >&nbsp;</th>\n",
              "      <th class=\"blank col5\" >&nbsp;</th>\n",
              "    </tr>\n",
              "  </thead>\n",
              "  <tbody>\n",
              "    <tr>\n",
              "      <th id=\"T_6d79f_level0_row0\" class=\"row_heading level0 row0\" >0</th>\n",
              "      <td id=\"T_6d79f_row0_col0\" class=\"data row0 col0\" >0.0215</td>\n",
              "      <td id=\"T_6d79f_row0_col1\" class=\"data row0 col1\" >0.0008</td>\n",
              "      <td id=\"T_6d79f_row0_col2\" class=\"data row0 col2\" >0.0281</td>\n",
              "      <td id=\"T_6d79f_row0_col3\" class=\"data row0 col3\" >1.0000</td>\n",
              "      <td id=\"T_6d79f_row0_col4\" class=\"data row0 col4\" >0.0000</td>\n",
              "      <td id=\"T_6d79f_row0_col5\" class=\"data row0 col5\" >0.0000</td>\n",
              "    </tr>\n",
              "    <tr>\n",
              "      <th id=\"T_6d79f_level0_row1\" class=\"row_heading level0 row1\" >1</th>\n",
              "      <td id=\"T_6d79f_row1_col0\" class=\"data row1 col0\" >0.0759</td>\n",
              "      <td id=\"T_6d79f_row1_col1\" class=\"data row1 col1\" >0.0173</td>\n",
              "      <td id=\"T_6d79f_row1_col2\" class=\"data row1 col2\" >0.1315</td>\n",
              "      <td id=\"T_6d79f_row1_col3\" class=\"data row1 col3\" >1.0000</td>\n",
              "      <td id=\"T_6d79f_row1_col4\" class=\"data row1 col4\" >0.0000</td>\n",
              "      <td id=\"T_6d79f_row1_col5\" class=\"data row1 col5\" >0.0000</td>\n",
              "    </tr>\n",
              "    <tr>\n",
              "      <th id=\"T_6d79f_level0_row2\" class=\"row_heading level0 row2\" >2</th>\n",
              "      <td id=\"T_6d79f_row2_col0\" class=\"data row2 col0\" >0.0202</td>\n",
              "      <td id=\"T_6d79f_row2_col1\" class=\"data row2 col1\" >0.0008</td>\n",
              "      <td id=\"T_6d79f_row2_col2\" class=\"data row2 col2\" >0.0289</td>\n",
              "      <td id=\"T_6d79f_row2_col3\" class=\"data row2 col3\" >1.0000</td>\n",
              "      <td id=\"T_6d79f_row2_col4\" class=\"data row2 col4\" >0.0000</td>\n",
              "      <td id=\"T_6d79f_row2_col5\" class=\"data row2 col5\" >0.0000</td>\n",
              "    </tr>\n",
              "    <tr>\n",
              "      <th id=\"T_6d79f_level0_row3\" class=\"row_heading level0 row3\" >3</th>\n",
              "      <td id=\"T_6d79f_row3_col0\" class=\"data row3 col0\" >0.0704</td>\n",
              "      <td id=\"T_6d79f_row3_col1\" class=\"data row3 col1\" >0.0184</td>\n",
              "      <td id=\"T_6d79f_row3_col2\" class=\"data row3 col2\" >0.1356</td>\n",
              "      <td id=\"T_6d79f_row3_col3\" class=\"data row3 col3\" >1.0000</td>\n",
              "      <td id=\"T_6d79f_row3_col4\" class=\"data row3 col4\" >0.0000</td>\n",
              "      <td id=\"T_6d79f_row3_col5\" class=\"data row3 col5\" >0.0000</td>\n",
              "    </tr>\n",
              "    <tr>\n",
              "      <th id=\"T_6d79f_level0_row4\" class=\"row_heading level0 row4\" >4</th>\n",
              "      <td id=\"T_6d79f_row4_col0\" class=\"data row4 col0\" >0.0169</td>\n",
              "      <td id=\"T_6d79f_row4_col1\" class=\"data row4 col1\" >0.0004</td>\n",
              "      <td id=\"T_6d79f_row4_col2\" class=\"data row4 col2\" >0.0192</td>\n",
              "      <td id=\"T_6d79f_row4_col3\" class=\"data row4 col3\" >1.0000</td>\n",
              "      <td id=\"T_6d79f_row4_col4\" class=\"data row4 col4\" >0.0000</td>\n",
              "      <td id=\"T_6d79f_row4_col5\" class=\"data row4 col5\" >0.0000</td>\n",
              "    </tr>\n",
              "    <tr>\n",
              "      <th id=\"T_6d79f_level0_row5\" class=\"row_heading level0 row5\" >5</th>\n",
              "      <td id=\"T_6d79f_row5_col0\" class=\"data row5 col0\" >0.0671</td>\n",
              "      <td id=\"T_6d79f_row5_col1\" class=\"data row5 col1\" >0.0099</td>\n",
              "      <td id=\"T_6d79f_row5_col2\" class=\"data row5 col2\" >0.0996</td>\n",
              "      <td id=\"T_6d79f_row5_col3\" class=\"data row5 col3\" >1.0000</td>\n",
              "      <td id=\"T_6d79f_row5_col4\" class=\"data row5 col4\" >0.0000</td>\n",
              "      <td id=\"T_6d79f_row5_col5\" class=\"data row5 col5\" >0.0000</td>\n",
              "    </tr>\n",
              "    <tr>\n",
              "      <th id=\"T_6d79f_level0_row6\" class=\"row_heading level0 row6\" >6</th>\n",
              "      <td id=\"T_6d79f_row6_col0\" class=\"data row6 col0\" >0.0178</td>\n",
              "      <td id=\"T_6d79f_row6_col1\" class=\"data row6 col1\" >0.0010</td>\n",
              "      <td id=\"T_6d79f_row6_col2\" class=\"data row6 col2\" >0.0308</td>\n",
              "      <td id=\"T_6d79f_row6_col3\" class=\"data row6 col3\" >1.0000</td>\n",
              "      <td id=\"T_6d79f_row6_col4\" class=\"data row6 col4\" >0.0000</td>\n",
              "      <td id=\"T_6d79f_row6_col5\" class=\"data row6 col5\" >0.0000</td>\n",
              "    </tr>\n",
              "    <tr>\n",
              "      <th id=\"T_6d79f_level0_row7\" class=\"row_heading level0 row7\" >7</th>\n",
              "      <td id=\"T_6d79f_row7_col0\" class=\"data row7 col0\" >0.0418</td>\n",
              "      <td id=\"T_6d79f_row7_col1\" class=\"data row7 col1\" >0.0066</td>\n",
              "      <td id=\"T_6d79f_row7_col2\" class=\"data row7 col2\" >0.0811</td>\n",
              "      <td id=\"T_6d79f_row7_col3\" class=\"data row7 col3\" >1.0000</td>\n",
              "      <td id=\"T_6d79f_row7_col4\" class=\"data row7 col4\" >0.0000</td>\n",
              "      <td id=\"T_6d79f_row7_col5\" class=\"data row7 col5\" >0.0000</td>\n",
              "    </tr>\n",
              "    <tr>\n",
              "      <th id=\"T_6d79f_level0_row8\" class=\"row_heading level0 row8\" >8</th>\n",
              "      <td id=\"T_6d79f_row8_col0\" class=\"data row8 col0\" >0.0207</td>\n",
              "      <td id=\"T_6d79f_row8_col1\" class=\"data row8 col1\" >0.0008</td>\n",
              "      <td id=\"T_6d79f_row8_col2\" class=\"data row8 col2\" >0.0279</td>\n",
              "      <td id=\"T_6d79f_row8_col3\" class=\"data row8 col3\" >1.0000</td>\n",
              "      <td id=\"T_6d79f_row8_col4\" class=\"data row8 col4\" >0.0000</td>\n",
              "      <td id=\"T_6d79f_row8_col5\" class=\"data row8 col5\" >0.0000</td>\n",
              "    </tr>\n",
              "    <tr>\n",
              "      <th id=\"T_6d79f_level0_row9\" class=\"row_heading level0 row9\" >9</th>\n",
              "      <td id=\"T_6d79f_row9_col0\" class=\"data row9 col0\" >0.0419</td>\n",
              "      <td id=\"T_6d79f_row9_col1\" class=\"data row9 col1\" >0.0064</td>\n",
              "      <td id=\"T_6d79f_row9_col2\" class=\"data row9 col2\" >0.0800</td>\n",
              "      <td id=\"T_6d79f_row9_col3\" class=\"data row9 col3\" >1.0000</td>\n",
              "      <td id=\"T_6d79f_row9_col4\" class=\"data row9 col4\" >0.0000</td>\n",
              "      <td id=\"T_6d79f_row9_col5\" class=\"data row9 col5\" >0.0000</td>\n",
              "    </tr>\n",
              "    <tr>\n",
              "      <th id=\"T_6d79f_level0_row10\" class=\"row_heading level0 row10\" >Mean</th>\n",
              "      <td id=\"T_6d79f_row10_col0\" class=\"data row10 col0\" >0.0394</td>\n",
              "      <td id=\"T_6d79f_row10_col1\" class=\"data row10 col1\" >0.0062</td>\n",
              "      <td id=\"T_6d79f_row10_col2\" class=\"data row10 col2\" >0.0663</td>\n",
              "      <td id=\"T_6d79f_row10_col3\" class=\"data row10 col3\" >1.0000</td>\n",
              "      <td id=\"T_6d79f_row10_col4\" class=\"data row10 col4\" >0.0000</td>\n",
              "      <td id=\"T_6d79f_row10_col5\" class=\"data row10 col5\" >0.0000</td>\n",
              "    </tr>\n",
              "    <tr>\n",
              "      <th id=\"T_6d79f_level0_row11\" class=\"row_heading level0 row11\" >Std</th>\n",
              "      <td id=\"T_6d79f_row11_col0\" class=\"data row11 col0\" >0.0226</td>\n",
              "      <td id=\"T_6d79f_row11_col1\" class=\"data row11 col1\" >0.0066</td>\n",
              "      <td id=\"T_6d79f_row11_col2\" class=\"data row11 col2\" >0.0429</td>\n",
              "      <td id=\"T_6d79f_row11_col3\" class=\"data row11 col3\" >0.0000</td>\n",
              "      <td id=\"T_6d79f_row11_col4\" class=\"data row11 col4\" >0.0000</td>\n",
              "      <td id=\"T_6d79f_row11_col5\" class=\"data row11 col5\" >0.0000</td>\n",
              "    </tr>\n",
              "  </tbody>\n",
              "</table>\n"
            ],
            "text/plain": [
              "<pandas.io.formats.style.Styler at 0x7fcc5a75c190>"
            ]
          },
          "metadata": {},
          "output_type": "display_data"
        },
        {
          "data": {
            "application/vnd.jupyter.widget-view+json": {
              "model_id": "a42bc603c8124eac83752771fe227924",
              "version_major": 2,
              "version_minor": 0
            },
            "text/plain": [
              "Processing:   0%|          | 0/4 [00:00<?, ?it/s]"
            ]
          },
          "metadata": {
            "application/vnd.jupyter.widget-view+json": {
              "colab": {
                "custom_widget_manager": {
                  "url": "https://ssl.gstatic.com/colaboratory-static/widgets/colab-cdn-widget-manager/b3e629b1971e1542/manager.min.js"
                }
              }
            }
          },
          "output_type": "display_data"
        },
        {
          "data": {
            "text/html": [],
            "text/plain": [
              "<IPython.core.display.HTML object>"
            ]
          },
          "metadata": {},
          "output_type": "display_data"
        }
      ],
      "source": [
        "# Using Lasso Least Angle Regression algorithm to train model \n",
        "llar_model = create_model('llar')"
      ]
    },
    {
      "cell_type": "code",
      "execution_count": null,
      "metadata": {
        "colab": {
          "base_uri": "https://localhost:8080/",
          "height": 492,
          "referenced_widgets": [
            "f2c0a8c8f7d14f43af753e399740f801",
            "9ef6375f901242bfadee7dc960edf26f",
            "07351670485e4e6aabd3e326938f426a",
            "ee66eb80046e48188bb8dae749680f9e",
            "aee8bb0333da495a9c529e6e39d5e536",
            "3cc57d8d587d4c04bd7b8acbfa67bba0",
            "2011c45118824728babba1639d3d676b",
            "11516af8571c4f4d886c48b0a3aa8377",
            "1564b8dc2b6243259b9a62b4f1e83e5b",
            "f2dffb58c52a480fa3c2b2851b21dc60",
            "4fe6c1bd71824535987939b0ab3249eb"
          ]
        },
        "id": "L3n1sINvq5AZ",
        "outputId": "64d61b99-e243-4295-f5f9-9fef823e2016"
      },
      "outputs": [
        {
          "ename": "NameError",
          "evalue": "name 'tune_model' is not defined",
          "output_type": "error",
          "traceback": [
            "\u001b[1;31m---------------------------------------------------------------------------\u001b[0m",
            "\u001b[1;31mNameError\u001b[0m                                 Traceback (most recent call last)",
            "Cell \u001b[1;32mIn[50], line 2\u001b[0m\n\u001b[0;32m      1\u001b[0m \u001b[38;5;66;03m# Tuning the model for better performance \u001b[39;00m\n\u001b[1;32m----> 2\u001b[0m tuned_llar_model \u001b[38;5;241m=\u001b[39m \u001b[43mtune_model\u001b[49m(llar_model)\n",
            "\u001b[1;31mNameError\u001b[0m: name 'tune_model' is not defined"
          ]
        }
      ],
      "source": [
        "# Tuning the model for better performance \n",
        "tuned_llar_model = tune_model(llar_model)"
      ]
    },
    {
      "cell_type": "code",
      "execution_count": null,
      "metadata": {
        "colab": {
          "base_uri": "https://localhost:8080/",
          "height": 304
        },
        "id": "ogkaLV5VtKs-",
        "outputId": "5c67224f-85f8-4fc0-f343-249c7ddda8f2"
      },
      "outputs": [
        {
          "data": {
            "text/html": [],
            "text/plain": [
              "<IPython.core.display.HTML object>"
            ]
          },
          "metadata": {},
          "output_type": "display_data"
        },
        {
          "data": {
            "image/png": "[encoded data removed]",
            "text/plain": [
              "<Figure size 432x288 with 2 Axes>"
            ]
          },
          "metadata": {
            "needs_background": "light"
          },
          "output_type": "display_data"
        }
      ],
      "source": [
        "# Plot residuals for Lasso Least Angle Regression based trained model \n",
        "plot_model(tuned_llar_model)"
      ]
    },
    {
      "cell_type": "code",
      "execution_count": null,
      "metadata": {
        "colab": {
          "base_uri": "https://localhost:8080/",
          "height": 305
        },
        "id": "PReljyLIq4us",
        "outputId": "9a72ae15-7dde-421c-934d-26b0e1a2dfb9"
      },
      "outputs": [
        {
          "data": {
            "text/html": [],
            "text/plain": [
              "<IPython.core.display.HTML object>"
            ]
          },
          "metadata": {},
          "output_type": "display_data"
        },
        {
          "data": {
            "image/png": "[encoded data removed]",
            "text/plain": [
              "<Figure size 432x288 with 1 Axes>"
            ]
          },
          "metadata": {
            "needs_background": "light"
          },
          "output_type": "display_data"
        }
      ],
      "source": [
        "# Plot prediction error plot for Lasso Least Angle Regression based trained model \n",
        "plot_model(tuned_llar_model, plot=\"error\")"
      ]
    },
    {
      "cell_type": "code",
      "execution_count": null,
      "metadata": {
        "colab": {
          "base_uri": "https://localhost:8080/",
          "height": 493
        },
        "id": "TBLmuI8Oq4hi",
        "outputId": "cfde087b-87e5-4100-8fd8-2cc29fef13ee"
      },
      "outputs": [
        {
          "data": {
            "text/html": [],
            "text/plain": [
              "<IPython.core.display.HTML object>"
            ]
          },
          "metadata": {},
          "output_type": "display_data"
        },
        {
          "data": {
            "image/png": "[encoded data removed]",
            "text/plain": [
              "<Figure size 800x500 with 1 Axes>"
            ]
          },
          "metadata": {
            "needs_background": "light"
          },
          "output_type": "display_data"
        }
      ],
      "source": [
        "# Plot feature importance plot \n",
        "plot_model(tuned_llar_model,plot='feature')"
      ]
    },
    {
      "cell_type": "code",
      "execution_count": null,
      "metadata": {
        "colab": {
          "base_uri": "https://localhost:8080/",
          "height": 1000
        },
        "id": "3NVisTuxucPP",
        "outputId": "8e615dff-9adf-4966-cf69-2dc89f7d7df7"
      },
      "outputs": [
        {
          "data": {
            "text/html": [
              "<style type=\"text/css\">\n",
              "</style>\n",
              "<table id=\"T_53efe_\" class=\"dataframe\">\n",
              "  <thead>\n",
              "    <tr>\n",
              "      <th class=\"blank level0\" >&nbsp;</th>\n",
              "      <th class=\"col_heading level0 col0\" >Model</th>\n",
              "      <th class=\"col_heading level0 col1\" >MAE</th>\n",
              "      <th class=\"col_heading level0 col2\" >MSE</th>\n",
              "      <th class=\"col_heading level0 col3\" >RMSE</th>\n",
              "      <th class=\"col_heading level0 col4\" >R2</th>\n",
              "      <th class=\"col_heading level0 col5\" >RMSLE</th>\n",
              "      <th class=\"col_heading level0 col6\" >MAPE</th>\n",
              "    </tr>\n",
              "  </thead>\n",
              "  <tbody>\n",
              "    <tr>\n",
              "      <th id=\"T_53efe_level0_row0\" class=\"row_heading level0 row0\" >0</th>\n",
              "      <td id=\"T_53efe_row0_col0\" class=\"data row0 col0\" >Lasso Least Angle Regression</td>\n",
              "      <td id=\"T_53efe_row0_col1\" class=\"data row0 col1\" >0.0405</td>\n",
              "      <td id=\"T_53efe_row0_col2\" class=\"data row0 col2\" >0.0046</td>\n",
              "      <td id=\"T_53efe_row0_col3\" class=\"data row0 col3\" >0.0677</td>\n",
              "      <td id=\"T_53efe_row0_col4\" class=\"data row0 col4\" >1.0000</td>\n",
              "      <td id=\"T_53efe_row0_col5\" class=\"data row0 col5\" >0.0000</td>\n",
              "      <td id=\"T_53efe_row0_col6\" class=\"data row0 col6\" >0.0000</td>\n",
              "    </tr>\n",
              "  </tbody>\n",
              "</table>\n"
            ],
            "text/plain": [
              "<pandas.io.formats.style.Styler at 0x7fcc5854c6d0>"
            ]
          },
          "metadata": {},
          "output_type": "display_data"
        },
        {
          "data": {
            "text/html": [
              "\n",
              "  <div id=\"df-4b7e685d-ab0b-48ed-8e07-a4dca06a7d51\">\n",
              "    <div class=\"colab-df-container\">\n",
              "      <div>\n",
              "<style scoped>\n",
              "    .dataframe tbody tr th:only-of-type {\n",
              "        vertical-align: middle;\n",
              "    }\n",
              "\n",
              "    .dataframe tbody tr th {\n",
              "        vertical-align: top;\n",
              "    }\n",
              "\n",
              "    .dataframe thead th {\n",
              "        text-align: right;\n",
              "    }\n",
              "</style>\n",
              "<table border=\"1\" class=\"dataframe\">\n",
              "  <thead>\n",
              "    <tr style=\"text-align: right;\">\n",
              "      <th></th>\n",
              "      <th>Item Type</th>\n",
              "      <th>Sales Channel</th>\n",
              "      <th>Order Priority</th>\n",
              "      <th>Units Sold</th>\n",
              "      <th>Unit Price</th>\n",
              "      <th>Unit Cost</th>\n",
              "      <th>Total Revenue</th>\n",
              "      <th>Total Cost</th>\n",
              "      <th>Order Month</th>\n",
              "      <th>Order Year</th>\n",
              "      <th>Total Profit</th>\n",
              "      <th>prediction_label</th>\n",
              "    </tr>\n",
              "  </thead>\n",
              "  <tbody>\n",
              "    <tr>\n",
              "      <th>70</th>\n",
              "      <td>8</td>\n",
              "      <td>1</td>\n",
              "      <td>3</td>\n",
              "      <td>5518</td>\n",
              "      <td>651.210022</td>\n",
              "      <td>524.960022</td>\n",
              "      <td>3.593377e+06</td>\n",
              "      <td>2.896729e+06</td>\n",
              "      <td>11</td>\n",
              "      <td>2011</td>\n",
              "      <td>6.966475e+05</td>\n",
              "      <td>6.966475e+05</td>\n",
              "    </tr>\n",
              "    <tr>\n",
              "      <th>71</th>\n",
              "      <td>1</td>\n",
              "      <td>0</td>\n",
              "      <td>0</td>\n",
              "      <td>5430</td>\n",
              "      <td>47.450001</td>\n",
              "      <td>31.790001</td>\n",
              "      <td>2.576535e+05</td>\n",
              "      <td>1.726197e+05</td>\n",
              "      <td>4</td>\n",
              "      <td>2015</td>\n",
              "      <td>8.503380e+04</td>\n",
              "      <td>8.503381e+04</td>\n",
              "    </tr>\n",
              "    <tr>\n",
              "      <th>72</th>\n",
              "      <td>3</td>\n",
              "      <td>1</td>\n",
              "      <td>1</td>\n",
              "      <td>5930</td>\n",
              "      <td>109.279999</td>\n",
              "      <td>35.840000</td>\n",
              "      <td>6.480304e+05</td>\n",
              "      <td>2.125312e+05</td>\n",
              "      <td>11</td>\n",
              "      <td>2015</td>\n",
              "      <td>4.354992e+05</td>\n",
              "      <td>4.354992e+05</td>\n",
              "    </tr>\n",
              "    <tr>\n",
              "      <th>73</th>\n",
              "      <td>5</td>\n",
              "      <td>1</td>\n",
              "      <td>3</td>\n",
              "      <td>5398</td>\n",
              "      <td>9.330000</td>\n",
              "      <td>6.920000</td>\n",
              "      <td>5.036334e+04</td>\n",
              "      <td>3.735416e+04</td>\n",
              "      <td>10</td>\n",
              "      <td>2014</td>\n",
              "      <td>1.300918e+04</td>\n",
              "      <td>1.300920e+04</td>\n",
              "    </tr>\n",
              "    <tr>\n",
              "      <th>74</th>\n",
              "      <td>5</td>\n",
              "      <td>1</td>\n",
              "      <td>2</td>\n",
              "      <td>673</td>\n",
              "      <td>9.330000</td>\n",
              "      <td>6.920000</td>\n",
              "      <td>6.279090e+03</td>\n",
              "      <td>4.657160e+03</td>\n",
              "      <td>8</td>\n",
              "      <td>2015</td>\n",
              "      <td>1.621930e+03</td>\n",
              "      <td>1.621936e+03</td>\n",
              "    </tr>\n",
              "    <tr>\n",
              "      <th>75</th>\n",
              "      <td>3</td>\n",
              "      <td>1</td>\n",
              "      <td>2</td>\n",
              "      <td>7884</td>\n",
              "      <td>109.279999</td>\n",
              "      <td>35.840000</td>\n",
              "      <td>8.615635e+05</td>\n",
              "      <td>2.825626e+05</td>\n",
              "      <td>9</td>\n",
              "      <td>2012</td>\n",
              "      <td>5.790009e+05</td>\n",
              "      <td>5.790009e+05</td>\n",
              "    </tr>\n",
              "    <tr>\n",
              "      <th>76</th>\n",
              "      <td>4</td>\n",
              "      <td>0</td>\n",
              "      <td>1</td>\n",
              "      <td>2847</td>\n",
              "      <td>437.200012</td>\n",
              "      <td>263.329987</td>\n",
              "      <td>1.244708e+06</td>\n",
              "      <td>7.497005e+05</td>\n",
              "      <td>2</td>\n",
              "      <td>2015</td>\n",
              "      <td>4.950079e+05</td>\n",
              "      <td>4.950079e+05</td>\n",
              "    </tr>\n",
              "    <tr>\n",
              "      <th>77</th>\n",
              "      <td>4</td>\n",
              "      <td>1</td>\n",
              "      <td>1</td>\n",
              "      <td>7910</td>\n",
              "      <td>437.200012</td>\n",
              "      <td>263.329987</td>\n",
              "      <td>3.458252e+06</td>\n",
              "      <td>2.082940e+06</td>\n",
              "      <td>11</td>\n",
              "      <td>2010</td>\n",
              "      <td>1.375312e+06</td>\n",
              "      <td>1.375312e+06</td>\n",
              "    </tr>\n",
              "    <tr>\n",
              "      <th>78</th>\n",
              "      <td>11</td>\n",
              "      <td>1</td>\n",
              "      <td>1</td>\n",
              "      <td>124</td>\n",
              "      <td>154.059998</td>\n",
              "      <td>90.930000</td>\n",
              "      <td>1.910344e+04</td>\n",
              "      <td>1.127532e+04</td>\n",
              "      <td>6</td>\n",
              "      <td>2011</td>\n",
              "      <td>7.828120e+03</td>\n",
              "      <td>7.828124e+03</td>\n",
              "    </tr>\n",
              "    <tr>\n",
              "      <th>79</th>\n",
              "      <td>11</td>\n",
              "      <td>1</td>\n",
              "      <td>1</td>\n",
              "      <td>171</td>\n",
              "      <td>154.059998</td>\n",
              "      <td>90.930000</td>\n",
              "      <td>2.634426e+04</td>\n",
              "      <td>1.554903e+04</td>\n",
              "      <td>10</td>\n",
              "      <td>2012</td>\n",
              "      <td>1.079523e+04</td>\n",
              "      <td>1.079523e+04</td>\n",
              "    </tr>\n",
              "    <tr>\n",
              "      <th>80</th>\n",
              "      <td>6</td>\n",
              "      <td>0</td>\n",
              "      <td>2</td>\n",
              "      <td>5367</td>\n",
              "      <td>668.270020</td>\n",
              "      <td>502.540009</td>\n",
              "      <td>3.586605e+06</td>\n",
              "      <td>2.697132e+06</td>\n",
              "      <td>2</td>\n",
              "      <td>2012</td>\n",
              "      <td>8.894729e+05</td>\n",
              "      <td>8.894727e+05</td>\n",
              "    </tr>\n",
              "    <tr>\n",
              "      <th>81</th>\n",
              "      <td>8</td>\n",
              "      <td>1</td>\n",
              "      <td>3</td>\n",
              "      <td>3987</td>\n",
              "      <td>651.210022</td>\n",
              "      <td>524.960022</td>\n",
              "      <td>2.596374e+06</td>\n",
              "      <td>2.093016e+06</td>\n",
              "      <td>2</td>\n",
              "      <td>2012</td>\n",
              "      <td>5.033588e+05</td>\n",
              "      <td>5.033588e+05</td>\n",
              "    </tr>\n",
              "    <tr>\n",
              "      <th>82</th>\n",
              "      <td>3</td>\n",
              "      <td>1</td>\n",
              "      <td>3</td>\n",
              "      <td>888</td>\n",
              "      <td>109.279999</td>\n",
              "      <td>35.840000</td>\n",
              "      <td>9.704064e+04</td>\n",
              "      <td>3.182592e+04</td>\n",
              "      <td>7</td>\n",
              "      <td>2011</td>\n",
              "      <td>6.521472e+04</td>\n",
              "      <td>6.521472e+04</td>\n",
              "    </tr>\n",
              "    <tr>\n",
              "      <th>83</th>\n",
              "      <td>5</td>\n",
              "      <td>1</td>\n",
              "      <td>0</td>\n",
              "      <td>8102</td>\n",
              "      <td>9.330000</td>\n",
              "      <td>6.920000</td>\n",
              "      <td>7.559166e+04</td>\n",
              "      <td>5.606584e+04</td>\n",
              "      <td>6</td>\n",
              "      <td>2014</td>\n",
              "      <td>1.952582e+04</td>\n",
              "      <td>1.952584e+04</td>\n",
              "    </tr>\n",
              "    <tr>\n",
              "      <th>84</th>\n",
              "      <td>2</td>\n",
              "      <td>1</td>\n",
              "      <td>1</td>\n",
              "      <td>6593</td>\n",
              "      <td>205.699997</td>\n",
              "      <td>117.110001</td>\n",
              "      <td>1.356180e+06</td>\n",
              "      <td>7.721062e+05</td>\n",
              "      <td>4</td>\n",
              "      <td>2014</td>\n",
              "      <td>5.840739e+05</td>\n",
              "      <td>5.840739e+05</td>\n",
              "    </tr>\n",
              "    <tr>\n",
              "      <th>85</th>\n",
              "      <td>9</td>\n",
              "      <td>1</td>\n",
              "      <td>1</td>\n",
              "      <td>3015</td>\n",
              "      <td>81.730003</td>\n",
              "      <td>56.669998</td>\n",
              "      <td>2.464160e+05</td>\n",
              "      <td>1.708600e+05</td>\n",
              "      <td>3</td>\n",
              "      <td>2017</td>\n",
              "      <td>7.555590e+04</td>\n",
              "      <td>7.555591e+04</td>\n",
              "    </tr>\n",
              "    <tr>\n",
              "      <th>86</th>\n",
              "      <td>1</td>\n",
              "      <td>0</td>\n",
              "      <td>0</td>\n",
              "      <td>8829</td>\n",
              "      <td>47.450001</td>\n",
              "      <td>31.790001</td>\n",
              "      <td>4.189361e+05</td>\n",
              "      <td>2.806739e+05</td>\n",
              "      <td>1</td>\n",
              "      <td>2011</td>\n",
              "      <td>1.382621e+05</td>\n",
              "      <td>1.382622e+05</td>\n",
              "    </tr>\n",
              "    <tr>\n",
              "      <th>87</th>\n",
              "      <td>8</td>\n",
              "      <td>0</td>\n",
              "      <td>1</td>\n",
              "      <td>948</td>\n",
              "      <td>651.210022</td>\n",
              "      <td>524.960022</td>\n",
              "      <td>6.173471e+05</td>\n",
              "      <td>4.976621e+05</td>\n",
              "      <td>12</td>\n",
              "      <td>2016</td>\n",
              "      <td>1.196850e+05</td>\n",
              "      <td>1.196850e+05</td>\n",
              "    </tr>\n",
              "    <tr>\n",
              "      <th>88</th>\n",
              "      <td>6</td>\n",
              "      <td>0</td>\n",
              "      <td>3</td>\n",
              "      <td>4187</td>\n",
              "      <td>668.270020</td>\n",
              "      <td>502.540009</td>\n",
              "      <td>2.798046e+06</td>\n",
              "      <td>2.104135e+06</td>\n",
              "      <td>4</td>\n",
              "      <td>2011</td>\n",
              "      <td>6.939115e+05</td>\n",
              "      <td>6.939115e+05</td>\n",
              "    </tr>\n",
              "    <tr>\n",
              "      <th>89</th>\n",
              "      <td>8</td>\n",
              "      <td>0</td>\n",
              "      <td>2</td>\n",
              "      <td>5062</td>\n",
              "      <td>651.210022</td>\n",
              "      <td>524.960022</td>\n",
              "      <td>3.296425e+06</td>\n",
              "      <td>2.657348e+06</td>\n",
              "      <td>2</td>\n",
              "      <td>2013</td>\n",
              "      <td>6.390775e+05</td>\n",
              "      <td>6.390775e+05</td>\n",
              "    </tr>\n",
              "    <tr>\n",
              "      <th>90</th>\n",
              "      <td>4</td>\n",
              "      <td>0</td>\n",
              "      <td>1</td>\n",
              "      <td>7215</td>\n",
              "      <td>437.200012</td>\n",
              "      <td>263.329987</td>\n",
              "      <td>3.154398e+06</td>\n",
              "      <td>1.899926e+06</td>\n",
              "      <td>4</td>\n",
              "      <td>2014</td>\n",
              "      <td>1.254472e+06</td>\n",
              "      <td>1.254472e+06</td>\n",
              "    </tr>\n",
              "    <tr>\n",
              "      <th>91</th>\n",
              "      <td>4</td>\n",
              "      <td>1</td>\n",
              "      <td>1</td>\n",
              "      <td>9654</td>\n",
              "      <td>437.200012</td>\n",
              "      <td>263.329987</td>\n",
              "      <td>4.220729e+06</td>\n",
              "      <td>2.542188e+06</td>\n",
              "      <td>7</td>\n",
              "      <td>2013</td>\n",
              "      <td>1.678541e+06</td>\n",
              "      <td>1.678541e+06</td>\n",
              "    </tr>\n",
              "    <tr>\n",
              "      <th>92</th>\n",
              "      <td>0</td>\n",
              "      <td>0</td>\n",
              "      <td>1</td>\n",
              "      <td>8614</td>\n",
              "      <td>255.279999</td>\n",
              "      <td>159.419998</td>\n",
              "      <td>2.198982e+06</td>\n",
              "      <td>1.373244e+06</td>\n",
              "      <td>5</td>\n",
              "      <td>2012</td>\n",
              "      <td>8.257381e+05</td>\n",
              "      <td>8.257381e+05</td>\n",
              "    </tr>\n",
              "    <tr>\n",
              "      <th>93</th>\n",
              "      <td>8</td>\n",
              "      <td>0</td>\n",
              "      <td>2</td>\n",
              "      <td>1779</td>\n",
              "      <td>651.210022</td>\n",
              "      <td>524.960022</td>\n",
              "      <td>1.158503e+06</td>\n",
              "      <td>9.339038e+05</td>\n",
              "      <td>5</td>\n",
              "      <td>2014</td>\n",
              "      <td>2.245988e+05</td>\n",
              "      <td>2.245988e+05</td>\n",
              "    </tr>\n",
              "    <tr>\n",
              "      <th>94</th>\n",
              "      <td>4</td>\n",
              "      <td>0</td>\n",
              "      <td>1</td>\n",
              "      <td>1705</td>\n",
              "      <td>437.200012</td>\n",
              "      <td>263.329987</td>\n",
              "      <td>7.454260e+05</td>\n",
              "      <td>4.489777e+05</td>\n",
              "      <td>10</td>\n",
              "      <td>2013</td>\n",
              "      <td>2.964483e+05</td>\n",
              "      <td>2.964483e+05</td>\n",
              "    </tr>\n",
              "    <tr>\n",
              "      <th>95</th>\n",
              "      <td>4</td>\n",
              "      <td>1</td>\n",
              "      <td>3</td>\n",
              "      <td>7234</td>\n",
              "      <td>437.200012</td>\n",
              "      <td>263.329987</td>\n",
              "      <td>3.162705e+06</td>\n",
              "      <td>1.904929e+06</td>\n",
              "      <td>2</td>\n",
              "      <td>2010</td>\n",
              "      <td>1.257776e+06</td>\n",
              "      <td>1.257775e+06</td>\n",
              "    </tr>\n",
              "    <tr>\n",
              "      <th>96</th>\n",
              "      <td>7</td>\n",
              "      <td>1</td>\n",
              "      <td>3</td>\n",
              "      <td>4767</td>\n",
              "      <td>421.890015</td>\n",
              "      <td>364.690002</td>\n",
              "      <td>2.011150e+06</td>\n",
              "      <td>1.738477e+06</td>\n",
              "      <td>1</td>\n",
              "      <td>2017</td>\n",
              "      <td>2.726724e+05</td>\n",
              "      <td>2.726724e+05</td>\n",
              "    </tr>\n",
              "    <tr>\n",
              "      <th>97</th>\n",
              "      <td>6</td>\n",
              "      <td>0</td>\n",
              "      <td>2</td>\n",
              "      <td>3830</td>\n",
              "      <td>668.270020</td>\n",
              "      <td>502.540009</td>\n",
              "      <td>2.559474e+06</td>\n",
              "      <td>1.924728e+06</td>\n",
              "      <td>12</td>\n",
              "      <td>2010</td>\n",
              "      <td>6.347459e+05</td>\n",
              "      <td>6.347457e+05</td>\n",
              "    </tr>\n",
              "    <tr>\n",
              "      <th>98</th>\n",
              "      <td>4</td>\n",
              "      <td>1</td>\n",
              "      <td>1</td>\n",
              "      <td>1815</td>\n",
              "      <td>437.200012</td>\n",
              "      <td>263.329987</td>\n",
              "      <td>7.935180e+05</td>\n",
              "      <td>4.779439e+05</td>\n",
              "      <td>5</td>\n",
              "      <td>2017</td>\n",
              "      <td>3.155741e+05</td>\n",
              "      <td>3.155741e+05</td>\n",
              "    </tr>\n",
              "    <tr>\n",
              "      <th>99</th>\n",
              "      <td>1</td>\n",
              "      <td>0</td>\n",
              "      <td>0</td>\n",
              "      <td>8156</td>\n",
              "      <td>47.450001</td>\n",
              "      <td>31.790001</td>\n",
              "      <td>3.870022e+05</td>\n",
              "      <td>2.592792e+05</td>\n",
              "      <td>2</td>\n",
              "      <td>2011</td>\n",
              "      <td>1.277230e+05</td>\n",
              "      <td>1.277230e+05</td>\n",
              "    </tr>\n",
              "  </tbody>\n",
              "</table>\n",
              "</div>\n",
              "      <button class=\"colab-df-convert\" onclick=\"convertToInteractive('df-4b7e685d-ab0b-48ed-8e07-a4dca06a7d51')\"\n",
              "              title=\"Convert this dataframe to an interactive table.\"\n",
              "              style=\"display:none;\">\n",
              "        \n",
              "  <svg xmlns=\"http://www.w3.org/2000/svg\" height=\"24px\"viewBox=\"0 0 24 24\"\n",
              "       width=\"24px\">\n",
              "    <path d=\"M0 0h24v24H0V0z\" fill=\"none\"/>\n",
              "    <path d=\"M18.56 5.44l.94 2.06.94-2.06 2.06-.94-2.06-.94-.94-2.06-.94 2.06-2.06.94zm-11 1L8.5 8.5l.94-2.06 2.06-.94-2.06-.94L8.5 2.5l-.94 2.06-2.06.94zm10 10l.94 2.06.94-2.06 2.06-.94-2.06-.94-.94-2.06-.94 2.06-2.06.94z\"/><path d=\"M17.41 7.96l-1.37-1.37c-.4-.4-.92-.59-1.43-.59-.52 0-1.04.2-1.43.59L10.3 9.45l-7.72 7.72c-.78.78-.78 2.05 0 2.83L4 21.41c.39.39.9.59 1.41.59.51 0 1.02-.2 1.41-.59l7.78-7.78 2.81-2.81c.8-.78.8-2.07 0-2.86zM5.41 20L4 18.59l7.72-7.72 1.47 1.35L5.41 20z\"/>\n",
              "  </svg>\n",
              "      </button>\n",
              "      \n",
              "  <style>\n",
              "    .colab-df-container {\n",
              "      display:flex;\n",
              "      flex-wrap:wrap;\n",
              "      gap: 12px;\n",
              "    }\n",
              "\n",
              "    .colab-df-convert {\n",
              "      background-color: #E8F0FE;\n",
              "      border: none;\n",
              "      border-radius: 50%;\n",
              "      cursor: pointer;\n",
              "      display: none;\n",
              "      fill: #1967D2;\n",
              "      height: 32px;\n",
              "      padding: 0 0 0 0;\n",
              "      width: 32px;\n",
              "    }\n",
              "\n",
              "    .colab-df-convert:hover {\n",
              "      background-color: #E2EBFA;\n",
              "      box-shadow: 0px 1px 2px rgba(60, 64, 67, 0.3), 0px 1px 3px 1px rgba(60, 64, 67, 0.15);\n",
              "      fill: #174EA6;\n",
              "    }\n",
              "\n",
              "    [theme=dark] .colab-df-convert {\n",
              "      background-color: #3B4455;\n",
              "      fill: #D2E3FC;\n",
              "    }\n",
              "\n",
              "    [theme=dark] .colab-df-convert:hover {\n",
              "      background-color: #434B5C;\n",
              "      box-shadow: 0px 1px 3px 1px rgba(0, 0, 0, 0.15);\n",
              "      filter: drop-shadow(0px 1px 2px rgba(0, 0, 0, 0.3));\n",
              "      fill: #FFFFFF;\n",
              "    }\n",
              "  </style>\n",
              "\n",
              "      <script>\n",
              "        const buttonEl =\n",
              "          document.querySelector('#df-4b7e685d-ab0b-48ed-8e07-a4dca06a7d51 button.colab-df-convert');\n",
              "        buttonEl.style.display =\n",
              "          google.colab.kernel.accessAllowed ? 'block' : 'none';\n",
              "\n",
              "        async function convertToInteractive(key) {\n",
              "          const element = document.querySelector('#df-4b7e685d-ab0b-48ed-8e07-a4dca06a7d51');\n",
              "          const dataTable =\n",
              "            await google.colab.kernel.invokeFunction('convertToInteractive',\n",
              "                                                     [key], {});\n",
              "          if (!dataTable) return;\n",
              "\n",
              "          const docLinkHtml = 'Like what you see? Visit the ' +\n",
              "            '<a target=\"_blank\" href=https://colab.research.google.com/notebooks/data_table.ipynb>data table notebook</a>'\n",
              "            + ' to learn more about interactive tables.';\n",
              "          element.innerHTML = '';\n",
              "          dataTable['output_type'] = 'display_data';\n",
              "          await google.colab.output.renderOutput(dataTable, element);\n",
              "          const docLink = document.createElement('div');\n",
              "          docLink.innerHTML = docLinkHtml;\n",
              "          element.appendChild(docLink);\n",
              "        }\n",
              "      </script>\n",
              "    </div>\n",
              "  </div>\n",
              "  "
            ],
            "text/plain": [
              "    Item Type  Sales Channel  Order Priority  Units Sold  Unit Price  \\\n",
              "70          8              1               3        5518  651.210022   \n",
              "71          1              0               0        5430   47.450001   \n",
              "72          3              1               1        5930  109.279999   \n",
              "73          5              1               3        5398    9.330000   \n",
              "74          5              1               2         673    9.330000   \n",
              "75          3              1               2        7884  109.279999   \n",
              "76          4              0               1        2847  437.200012   \n",
              "77          4              1               1        7910  437.200012   \n",
              "78         11              1               1         124  154.059998   \n",
              "79         11              1               1         171  154.059998   \n",
              "80          6              0               2        5367  668.270020   \n",
              "81          8              1               3        3987  651.210022   \n",
              "82          3              1               3         888  109.279999   \n",
              "83          5              1               0        8102    9.330000   \n",
              "84          2              1               1        6593  205.699997   \n",
              "85          9              1               1        3015   81.730003   \n",
              "86          1              0               0        8829   47.450001   \n",
              "87          8              0               1         948  651.210022   \n",
              "88          6              0               3        4187  668.270020   \n",
              "89          8              0               2        5062  651.210022   \n",
              "90          4              0               1        7215  437.200012   \n",
              "91          4              1               1        9654  437.200012   \n",
              "92          0              0               1        8614  255.279999   \n",
              "93          8              0               2        1779  651.210022   \n",
              "94          4              0               1        1705  437.200012   \n",
              "95          4              1               3        7234  437.200012   \n",
              "96          7              1               3        4767  421.890015   \n",
              "97          6              0               2        3830  668.270020   \n",
              "98          4              1               1        1815  437.200012   \n",
              "99          1              0               0        8156   47.450001   \n",
              "\n",
              "     Unit Cost  Total Revenue    Total Cost  Order Month  Order Year  \\\n",
              "70  524.960022   3.593377e+06  2.896729e+06           11        2011   \n",
              "71   31.790001   2.576535e+05  1.726197e+05            4        2015   \n",
              "72   35.840000   6.480304e+05  2.125312e+05           11        2015   \n",
              "73    6.920000   5.036334e+04  3.735416e+04           10        2014   \n",
              "74    6.920000   6.279090e+03  4.657160e+03            8        2015   \n",
              "75   35.840000   8.615635e+05  2.825626e+05            9        2012   \n",
              "76  263.329987   1.244708e+06  7.497005e+05            2        2015   \n",
              "77  263.329987   3.458252e+06  2.082940e+06           11        2010   \n",
              "78   90.930000   1.910344e+04  1.127532e+04            6        2011   \n",
              "79   90.930000   2.634426e+04  1.554903e+04           10        2012   \n",
              "80  502.540009   3.586605e+06  2.697132e+06            2        2012   \n",
              "81  524.960022   2.596374e+06  2.093016e+06            2        2012   \n",
              "82   35.840000   9.704064e+04  3.182592e+04            7        2011   \n",
              "83    6.920000   7.559166e+04  5.606584e+04            6        2014   \n",
              "84  117.110001   1.356180e+06  7.721062e+05            4        2014   \n",
              "85   56.669998   2.464160e+05  1.708600e+05            3        2017   \n",
              "86   31.790001   4.189361e+05  2.806739e+05            1        2011   \n",
              "87  524.960022   6.173471e+05  4.976621e+05           12        2016   \n",
              "88  502.540009   2.798046e+06  2.104135e+06            4        2011   \n",
              "89  524.960022   3.296425e+06  2.657348e+06            2        2013   \n",
              "90  263.329987   3.154398e+06  1.899926e+06            4        2014   \n",
              "91  263.329987   4.220729e+06  2.542188e+06            7        2013   \n",
              "92  159.419998   2.198982e+06  1.373244e+06            5        2012   \n",
              "93  524.960022   1.158503e+06  9.339038e+05            5        2014   \n",
              "94  263.329987   7.454260e+05  4.489777e+05           10        2013   \n",
              "95  263.329987   3.162705e+06  1.904929e+06            2        2010   \n",
              "96  364.690002   2.011150e+06  1.738477e+06            1        2017   \n",
              "97  502.540009   2.559474e+06  1.924728e+06           12        2010   \n",
              "98  263.329987   7.935180e+05  4.779439e+05            5        2017   \n",
              "99   31.790001   3.870022e+05  2.592792e+05            2        2011   \n",
              "\n",
              "    Total Profit  prediction_label  \n",
              "70  6.966475e+05      6.966475e+05  \n",
              "71  8.503380e+04      8.503381e+04  \n",
              "72  4.354992e+05      4.354992e+05  \n",
              "73  1.300918e+04      1.300920e+04  \n",
              "74  1.621930e+03      1.621936e+03  \n",
              "75  5.790009e+05      5.790009e+05  \n",
              "76  4.950079e+05      4.950079e+05  \n",
              "77  1.375312e+06      1.375312e+06  \n",
              "78  7.828120e+03      7.828124e+03  \n",
              "79  1.079523e+04      1.079523e+04  \n",
              "80  8.894729e+05      8.894727e+05  \n",
              "81  5.033588e+05      5.033588e+05  \n",
              "82  6.521472e+04      6.521472e+04  \n",
              "83  1.952582e+04      1.952584e+04  \n",
              "84  5.840739e+05      5.840739e+05  \n",
              "85  7.555590e+04      7.555591e+04  \n",
              "86  1.382621e+05      1.382622e+05  \n",
              "87  1.196850e+05      1.196850e+05  \n",
              "88  6.939115e+05      6.939115e+05  \n",
              "89  6.390775e+05      6.390775e+05  \n",
              "90  1.254472e+06      1.254472e+06  \n",
              "91  1.678541e+06      1.678541e+06  \n",
              "92  8.257381e+05      8.257381e+05  \n",
              "93  2.245988e+05      2.245988e+05  \n",
              "94  2.964483e+05      2.964483e+05  \n",
              "95  1.257776e+06      1.257775e+06  \n",
              "96  2.726724e+05      2.726724e+05  \n",
              "97  6.347459e+05      6.347457e+05  \n",
              "98  3.155741e+05      3.155741e+05  \n",
              "99  1.277230e+05      1.277230e+05  "
            ]
          },
          "execution_count": 121,
          "metadata": {},
          "output_type": "execute_result"
        }
      ],
      "source": [
        "# Predicting total profit using Lasso Least Angle Regression based trained model \n",
        "predict_model(tuned_llar_model)"
      ]
    },
    {
      "cell_type": "markdown",
      "metadata": {
        "id": "T0cTia5jvfsO"
      },
      "source": [
        "##Implement Linear Regression "
      ]
    },
    {
      "cell_type": "code",
      "execution_count": null,
      "metadata": {
        "id": "hQIog3a0TD_s"
      },
      "outputs": [],
      "source": [
        "# Select the independent variables and target variable\n",
        "X = df[['Item Type', 'Sales Channel', 'Order Priority', 'Units Sold', 'Unit Price', 'Unit Cost', 'Total Revenue', 'Total Cost', 'Order Month', 'Order Year']]\n",
        "y = df['Total Profit']"
      ]
    },
    {
      "cell_type": "code",
      "execution_count": null,
      "metadata": {
        "id": "8DCZx9PaWT-N"
      },
      "outputs": [],
      "source": [
        "# Split the data into training and testing sets\n",
        "from sklearn.model_selection import train_test_split\n",
        "X_train, X_test, y_train, y_test = train_test_split(X, y, test_size=0.3, random_state=42)"
      ]
    },
    {
      "cell_type": "code",
      "execution_count": null,
      "metadata": {
        "id": "6eLWyqI6WjtV"
      },
      "outputs": [],
      "source": [
        "# Standardizing the dataset \n",
        "from sklearn.preprocessing import StandardScaler\n",
        "scaler = StandardScaler()"
      ]
    },
    {
      "cell_type": "code",
      "execution_count": null,
      "metadata": {
        "id": "t4IP8ymHlU7b"
      },
      "outputs": [],
      "source": [
        "# Performing fit transform on X_train dataframe \n",
        "X_train = scaler.fit_transform(X_train)"
      ]
    },
    {
      "cell_type": "code",
      "execution_count": null,
      "metadata": {
        "id": "GVyHxLoDlyeu"
      },
      "outputs": [],
      "source": [
        "# Performing transform on X_test dataframe \n",
        "X_test = scaler.transform(X_test)"
      ]
    },
    {
      "cell_type": "code",
      "execution_count": null,
      "metadata": {
        "colab": {
          "base_uri": "https://localhost:8080/",
          "height": 75
        },
        "id": "v-lVneLsl7kN",
        "outputId": "966e106e-6ced-4152-d7f2-cf26a3d50318"
      },
      "outputs": [
        {
          "data": {
            "text/html": [
              "<style>#sk-container-id-4 {color: black;background-color: white;}#sk-container-id-4 pre{padding: 0;}#sk-container-id-4 div.sk-toggleable {background-color: white;}#sk-container-id-4 label.sk-toggleable__label {cursor: pointer;display: block;width: 100%;margin-bottom: 0;padding: 0.3em;box-sizing: border-box;text-align: center;}#sk-container-id-4 label.sk-toggleable__label-arrow:before {content: \"▸\";float: left;margin-right: 0.25em;color: #696969;}#sk-container-id-4 label.sk-toggleable__label-arrow:hover:before {color: black;}#sk-container-id-4 div.sk-estimator:hover label.sk-toggleable__label-arrow:before {color: black;}#sk-container-id-4 div.sk-toggleable__content {max-height: 0;max-width: 0;overflow: hidden;text-align: left;background-color: #f0f8ff;}#sk-container-id-4 div.sk-toggleable__content pre {margin: 0.2em;color: black;border-radius: 0.25em;background-color: #f0f8ff;}#sk-container-id-4 input.sk-toggleable__control:checked~div.sk-toggleable__content {max-height: 200px;max-width: 100%;overflow: auto;}#sk-container-id-4 input.sk-toggleable__control:checked~label.sk-toggleable__label-arrow:before {content: \"▾\";}#sk-container-id-4 div.sk-estimator input.sk-toggleable__control:checked~label.sk-toggleable__label {background-color: #d4ebff;}#sk-container-id-4 div.sk-label input.sk-toggleable__control:checked~label.sk-toggleable__label {background-color: #d4ebff;}#sk-container-id-4 input.sk-hidden--visually {border: 0;clip: rect(1px 1px 1px 1px);clip: rect(1px, 1px, 1px, 1px);height: 1px;margin: -1px;overflow: hidden;padding: 0;position: absolute;width: 1px;}#sk-container-id-4 div.sk-estimator {font-family: monospace;background-color: #f0f8ff;border: 1px dotted black;border-radius: 0.25em;box-sizing: border-box;margin-bottom: 0.5em;}#sk-container-id-4 div.sk-estimator:hover {background-color: #d4ebff;}#sk-container-id-4 div.sk-parallel-item::after {content: \"\";width: 100%;border-bottom: 1px solid gray;flex-grow: 1;}#sk-container-id-4 div.sk-label:hover label.sk-toggleable__label {background-color: #d4ebff;}#sk-container-id-4 div.sk-serial::before {content: \"\";position: absolute;border-left: 1px solid gray;box-sizing: border-box;top: 0;bottom: 0;left: 50%;z-index: 0;}#sk-container-id-4 div.sk-serial {display: flex;flex-direction: column;align-items: center;background-color: white;padding-right: 0.2em;padding-left: 0.2em;position: relative;}#sk-container-id-4 div.sk-item {position: relative;z-index: 1;}#sk-container-id-4 div.sk-parallel {display: flex;align-items: stretch;justify-content: center;background-color: white;position: relative;}#sk-container-id-4 div.sk-item::before, #sk-container-id-4 div.sk-parallel-item::before {content: \"\";position: absolute;border-left: 1px solid gray;box-sizing: border-box;top: 0;bottom: 0;left: 50%;z-index: -1;}#sk-container-id-4 div.sk-parallel-item {display: flex;flex-direction: column;z-index: 1;position: relative;background-color: white;}#sk-container-id-4 div.sk-parallel-item:first-child::after {align-self: flex-end;width: 50%;}#sk-container-id-4 div.sk-parallel-item:last-child::after {align-self: flex-start;width: 50%;}#sk-container-id-4 div.sk-parallel-item:only-child::after {width: 0;}#sk-container-id-4 div.sk-dashed-wrapped {border: 1px dashed gray;margin: 0 0.4em 0.5em 0.4em;box-sizing: border-box;padding-bottom: 0.4em;background-color: white;}#sk-container-id-4 div.sk-label label {font-family: monospace;font-weight: bold;display: inline-block;line-height: 1.2em;}#sk-container-id-4 div.sk-label-container {text-align: center;}#sk-container-id-4 div.sk-container {/* jupyter's `normalize.less` sets `[hidden] { display: none; }` but bootstrap.min.css set `[hidden] { display: none !important; }` so we also need the `!important` here to be able to override the default hidden behavior on the sphinx rendered scikit-learn.org. See: https://github.com/scikit-learn/scikit-learn/issues/21755 */display: inline-block !important;position: relative;}#sk-container-id-4 div.sk-text-repr-fallback {display: none;}</style><div id=\"sk-container-id-4\" class=\"sk-top-container\"><div class=\"sk-text-repr-fallback\"><pre>LinearRegression()</pre><b>In a Jupyter environment, please rerun this cell to show the HTML representation or trust the notebook. <br />On GitHub, the HTML representation is unable to render, please try loading this page with nbviewer.org.</b></div><div class=\"sk-container\" hidden><div class=\"sk-item\"><div class=\"sk-estimator sk-toggleable\"><input class=\"sk-toggleable__control sk-hidden--visually\" id=\"sk-estimator-id-4\" type=\"checkbox\" checked><label for=\"sk-estimator-id-4\" class=\"sk-toggleable__label sk-toggleable__label-arrow\">LinearRegression</label><div class=\"sk-toggleable__content\"><pre>LinearRegression()</pre></div></div></div></div></div>"
            ],
            "text/plain": [
              "LinearRegression()"
            ]
          },
          "execution_count": 127,
          "metadata": {},
          "output_type": "execute_result"
        }
      ],
      "source": [
        "# Applying Linear Regression on X_train and y_train\n",
        "from sklearn.linear_model import LinearRegression\n",
        "from sklearn.model_selection import cross_val_score\n",
        "regression = LinearRegression()\n",
        "regression.fit(X_train,y_train)"
      ]
    },
    {
      "cell_type": "code",
      "execution_count": null,
      "metadata": {
        "id": "NSdpboHBmPfm"
      },
      "outputs": [
        {
          "ename": "NameError",
          "evalue": "name 'cross_val_score' is not defined",
          "output_type": "error",
          "traceback": [
            "\u001b[1;31m---------------------------------------------------------------------------\u001b[0m",
            "\u001b[1;31mNameError\u001b[0m                                 Traceback (most recent call last)",
            "Cell \u001b[1;32mIn[21], line 2\u001b[0m\n\u001b[0;32m      1\u001b[0m \u001b[38;5;66;03m# Calculating mean squared error \u001b[39;00m\n\u001b[1;32m----> 2\u001b[0m mse \u001b[38;5;241m=\u001b[39m \u001b[43mcross_val_score\u001b[49m(regression,X_train,y_train,scoring\u001b[38;5;241m=\u001b[39m\u001b[38;5;124m\"\u001b[39m\u001b[38;5;124mneg_mean_squared_error\u001b[39m\u001b[38;5;124m\"\u001b[39m,cv\u001b[38;5;241m=\u001b[39m\u001b[38;5;241m5\u001b[39m)\n",
            "\u001b[1;31mNameError\u001b[0m: name 'cross_val_score' is not defined"
          ]
        }
      ],
      "source": [
        "# Calculating mean squared error \n",
        "mse = cross_val_score(regression,X_train,y_train,scoring=\"neg_mean_squared_error\",cv=5)"
      ]
    },
    {
      "cell_type": "code",
      "execution_count": null,
      "metadata": {
        "colab": {
          "base_uri": "https://localhost:8080/"
        },
        "id": "DHYG3sb0mxII",
        "outputId": "c267d70a-4023-41c9-ed9a-7d7464be8788"
      },
      "outputs": [
        {
          "data": {
            "text/plain": [
              "-6.727059692031499e-19"
            ]
          },
          "execution_count": 129,
          "metadata": {},
          "output_type": "execute_result"
        }
      ],
      "source": [
        "np.mean(mse)"
      ]
    },
    {
      "cell_type": "code",
      "execution_count": null,
      "metadata": {
        "id": "xmXFfaDGm787"
      },
      "outputs": [],
      "source": [
        "## prediction \n",
        "reg_pred = regression.predict(X_test)"
      ]
    },
    {
      "cell_type": "code",
      "execution_count": null,
      "metadata": {
        "colab": {
          "base_uri": "https://localhost:8080/"
        },
        "id": "j0NcHCZLnTq4",
        "outputId": "a0836261-12c4-4f72-8d8c-9f3ae64b9f3e"
      },
      "outputs": [
        {
          "ename": "NameError",
          "evalue": "name 'reg_pred' is not defined",
          "output_type": "error",
          "traceback": [
            "\u001b[1;31m---------------------------------------------------------------------------\u001b[0m",
            "\u001b[1;31mNameError\u001b[0m                                 Traceback (most recent call last)",
            "Cell \u001b[1;32mIn[20], line 1\u001b[0m\n\u001b[1;32m----> 1\u001b[0m \u001b[43mreg_pred\u001b[49m\n",
            "\u001b[1;31mNameError\u001b[0m: name 'reg_pred' is not defined"
          ]
        }
      ],
      "source": [
        "reg_pred"
      ]
    },
    {
      "cell_type": "code",
      "execution_count": null,
      "metadata": {
        "colab": {
          "base_uri": "https://localhost:8080/",
          "height": 386
        },
        "id": "xAQSwKAynVwY",
        "outputId": "714108f2-cd69-4a85-ca03-0e0b49ef246a"
      },
      "outputs": [
        {
          "ename": "NameError",
          "evalue": "name 'reg_pred' is not defined",
          "output_type": "error",
          "traceback": [
            "\u001b[1;31m---------------------------------------------------------------------------\u001b[0m",
            "\u001b[1;31mNameError\u001b[0m                                 Traceback (most recent call last)",
            "Cell \u001b[1;32mIn[19], line 3\u001b[0m\n\u001b[0;32m      1\u001b[0m \u001b[38;5;66;03m# Creating kernel density estimate plot \u001b[39;00m\n\u001b[0;32m      2\u001b[0m \u001b[38;5;28;01mimport\u001b[39;00m \u001b[38;5;21;01mseaborn\u001b[39;00m \u001b[38;5;28;01mas\u001b[39;00m \u001b[38;5;21;01msns\u001b[39;00m \n\u001b[1;32m----> 3\u001b[0m sns\u001b[38;5;241m.\u001b[39mdisplot(\u001b[43mreg_pred\u001b[49m \u001b[38;5;241m-\u001b[39m y_test,kind\u001b[38;5;241m=\u001b[39m\u001b[38;5;124m'\u001b[39m\u001b[38;5;124mkde\u001b[39m\u001b[38;5;124m'\u001b[39m, height\u001b[38;5;241m=\u001b[39m\u001b[38;5;241m5\u001b[39m, aspect\u001b[38;5;241m=\u001b[39m\u001b[38;5;241m2\u001b[39m)\n",
            "\u001b[1;31mNameError\u001b[0m: name 'reg_pred' is not defined"
          ]
        }
      ],
      "source": [
        "# Creating kernel density estimate plot \n",
        "import seaborn as sns \n",
        "sns.displot(reg_pred - y_test,kind='kde', height=5, aspect=2)"
      ]
    },
    {
      "cell_type": "code",
      "execution_count": null,
      "metadata": {
        "colab": {
          "base_uri": "https://localhost:8080/"
        },
        "id": "61vLWQTVnhZ4",
        "outputId": "ab2a20b2-5b71-45ee-cbcb-a7313d6f4f8e"
      },
      "outputs": [
        {
          "ename": "NameError",
          "evalue": "name 'reg_pred' is not defined",
          "output_type": "error",
          "traceback": [
            "\u001b[1;31m---------------------------------------------------------------------------\u001b[0m",
            "\u001b[1;31mNameError\u001b[0m                                 Traceback (most recent call last)",
            "Cell \u001b[1;32mIn[23], line 3\u001b[0m\n\u001b[0;32m      1\u001b[0m \u001b[38;5;66;03m# Finding Accuracy percentage on the bases of r2 score \u001b[39;00m\n\u001b[0;32m      2\u001b[0m \u001b[38;5;28;01mfrom\u001b[39;00m \u001b[38;5;21;01msklearn\u001b[39;00m\u001b[38;5;21;01m.\u001b[39;00m\u001b[38;5;21;01mmetrics\u001b[39;00m \u001b[38;5;28;01mimport\u001b[39;00m r2_score\n\u001b[1;32m----> 3\u001b[0m score \u001b[38;5;241m=\u001b[39m r2_score(\u001b[43mreg_pred\u001b[49m,y_test)\n\u001b[0;32m      5\u001b[0m \u001b[38;5;66;03m# Calculate the percentage of accuracy\u001b[39;00m\n\u001b[0;32m      6\u001b[0m accuracy_pct \u001b[38;5;241m=\u001b[39m score \u001b[38;5;241m*\u001b[39m \u001b[38;5;241m100\u001b[39m\n",
            "\u001b[1;31mNameError\u001b[0m: name 'reg_pred' is not defined"
          ]
        }
      ],
      "source": [
        "# Finding Accuracy percentage on the bases of r2 score \n",
        "from sklearn.metrics import r2_score\n",
        "score = r2_score(reg_pred,y_test)\n",
        "\n",
        "# Calculate the percentage of accuracy\n",
        "accuracy_pct = score * 100\n",
        "\n",
        "print(\"Accuracy: {:.2f}%\".format(accuracy_pct))\n",
        "\n",
        "# SVM AND LR to apply "
      ]
    },
    {
      "cell_type": "code",
      "execution_count": null,
      "metadata": {
        "colab": {
          "base_uri": "https://localhost:8080/",
          "height": 299
        },
        "id": "KLEi-962odFp",
        "outputId": "4bff9130-5587-4d39-b0d7-ca384e74dcfa"
      },
      "outputs": [
        {
          "data": {
            "image/png": "[encoded data removed]",
            "text/plain": [
              "<Figure size 432x288 with 1 Axes>"
            ]
          },
          "metadata": {
            "needs_background": "light"
          },
          "output_type": "display_data"
        }
      ],
      "source": [
        "# Plot the predicted values against the actual values to visualize how well the model is fitting the data.\n",
        "import matplotlib.pyplot as plt\n",
        "\n",
        "plt.scatter(y_test, reg_pred)\n",
        "plt.xlabel('Actual Values')\n",
        "plt.ylabel('Predicted Values')\n",
        "plt.show()"
      ]
    },
    {
      "cell_type": "code",
      "execution_count": null,
      "metadata": {
        "colab": {
          "base_uri": "https://localhost:8080/"
        },
        "id": "8ocZHshMpFzz",
        "outputId": "47381fc3-9f5a-44f7-83ec-2023790f862e"
      },
      "outputs": [
        {
          "name": "stdout",
          "output_type": "stream",
          "text": [
            "MSE: 4.2851929643772975e-19\n",
            "RMSE: 6.546138529222627e-10\n"
          ]
        }
      ],
      "source": [
        "# Calculate the mean squared error (MSE) or root mean squared error (RMSE) to quantify the model's performance.\n",
        "\n",
        "from sklearn.metrics import mean_squared_error\n",
        "import numpy as np\n",
        "\n",
        "mse = mean_squared_error(y_test, reg_pred)\n",
        "rmse = np.sqrt(mse)\n",
        "print('MSE:', mse)\n",
        "print('RMSE:', rmse)"
      ]
    },
    {
      "cell_type": "code",
      "execution_count": null,
      "metadata": {
        "colab": {
          "base_uri": "https://localhost:8080/",
          "height": 542
        },
        "id": "9RlSuMJW1Lsw",
        "outputId": "713811fa-3a3d-40a1-e49e-565ae84387bd"
      },
      "outputs": [
        {
          "data": {
            "application/vnd.plotly.v1+json": {
              "config": {
                "plotlyServerURL": "https://plot.ly"
              },
              "data": [
                {
                  "type": "bar",
                  "x": [
                    "Order Priority",
                    "Item Type",
                    "Sales Channel",
                    "Order Year",
                    "Order Month",
                    "Unit Price",
                    "Unit Cost",
                    "Units Sold",
                    "Total Revenue",
                    "Total Cost"
                  ],
                  "y": [
                    269.1679143910773,
                    -144.3431440979224,
                    -119.03424443697098,
                    -62.7103929699422,
                    13.074249378109466,
                    -5.923273246575608,
                    1.2282880515636727,
                    -0.2217237987471954,
                    0.09343980264698004,
                    0.0654183357061271
                  ]
                }
              ],
              "layout": {
                "template": {
                  "data": {
                    "bar": [
                      {
                        "error_x": {
                          "color": "#2a3f5f"
                        },
                        "error_y": {
                          "color": "#2a3f5f"
                        },
                        "marker": {
                          "line": {
                            "color": "#E5ECF6",
                            "width": 0.5
                          },
                          "pattern": {
                            "fillmode": "overlay",
                            "size": 10,
                            "solidity": 0.2
                          }
                        },
                        "type": "bar"
                      }
                    ],
                    "barpolar": [
                      {
                        "marker": {
                          "line": {
                            "color": "#E5ECF6",
                            "width": 0.5
                          },
                          "pattern": {
                            "fillmode": "overlay",
                            "size": 10,
                            "solidity": 0.2
                          }
                        },
                        "type": "barpolar"
                      }
                    ],
                    "carpet": [
                      {
                        "aaxis": {
                          "endlinecolor": "#2a3f5f",
                          "gridcolor": "white",
                          "linecolor": "white",
                          "minorgridcolor": "white",
                          "startlinecolor": "#2a3f5f"
                        },
                        "baxis": {
                          "endlinecolor": "#2a3f5f",
                          "gridcolor": "white",
                          "linecolor": "white",
                          "minorgridcolor": "white",
                          "startlinecolor": "#2a3f5f"
                        },
                        "type": "carpet"
                      }
                    ],
                    "choropleth": [
                      {
                        "colorbar": {
                          "outlinewidth": 0,
                          "ticks": ""
                        },
                        "type": "choropleth"
                      }
                    ],
                    "contour": [
                      {
                        "colorbar": {
                          "outlinewidth": 0,
                          "ticks": ""
                        },
                        "colorscale": [
                          [
                            0,
                            "#0d0887"
                          ],
                          [
                            0.1111111111111111,
                            "#46039f"
                          ],
                          [
                            0.2222222222222222,
                            "#7201a8"
                          ],
                          [
                            0.3333333333333333,
                            "#9c179e"
                          ],
                          [
                            0.4444444444444444,
                            "#bd3786"
                          ],
                          [
                            0.5555555555555556,
                            "#d8576b"
                          ],
                          [
                            0.6666666666666666,
                            "#ed7953"
                          ],
                          [
                            0.7777777777777778,
                            "#fb9f3a"
                          ],
                          [
                            0.8888888888888888,
                            "#fdca26"
                          ],
                          [
                            1,
                            "#f0f921"
                          ]
                        ],
                        "type": "contour"
                      }
                    ],
                    "contourcarpet": [
                      {
                        "colorbar": {
                          "outlinewidth": 0,
                          "ticks": ""
                        },
                        "type": "contourcarpet"
                      }
                    ],
                    "heatmap": [
                      {
                        "colorbar": {
                          "outlinewidth": 0,
                          "ticks": ""
                        },
                        "colorscale": [
                          [
                            0,
                            "#0d0887"
                          ],
                          [
                            0.1111111111111111,
                            "#46039f"
                          ],
                          [
                            0.2222222222222222,
                            "#7201a8"
                          ],
                          [
                            0.3333333333333333,
                            "#9c179e"
                          ],
                          [
                            0.4444444444444444,
                            "#bd3786"
                          ],
                          [
                            0.5555555555555556,
                            "#d8576b"
                          ],
                          [
                            0.6666666666666666,
                            "#ed7953"
                          ],
                          [
                            0.7777777777777778,
                            "#fb9f3a"
                          ],
                          [
                            0.8888888888888888,
                            "#fdca26"
                          ],
                          [
                            1,
                            "#f0f921"
                          ]
                        ],
                        "type": "heatmap"
                      }
                    ],
                    "heatmapgl": [
                      {
                        "colorbar": {
                          "outlinewidth": 0,
                          "ticks": ""
                        },
                        "colorscale": [
                          [
                            0,
                            "#0d0887"
                          ],
                          [
                            0.1111111111111111,
                            "#46039f"
                          ],
                          [
                            0.2222222222222222,
                            "#7201a8"
                          ],
                          [
                            0.3333333333333333,
                            "#9c179e"
                          ],
                          [
                            0.4444444444444444,
                            "#bd3786"
                          ],
                          [
                            0.5555555555555556,
                            "#d8576b"
                          ],
                          [
                            0.6666666666666666,
                            "#ed7953"
                          ],
                          [
                            0.7777777777777778,
                            "#fb9f3a"
                          ],
                          [
                            0.8888888888888888,
                            "#fdca26"
                          ],
                          [
                            1,
                            "#f0f921"
                          ]
                        ],
                        "type": "heatmapgl"
                      }
                    ],
                    "histogram": [
                      {
                        "marker": {
                          "pattern": {
                            "fillmode": "overlay",
                            "size": 10,
                            "solidity": 0.2
                          }
                        },
                        "type": "histogram"
                      }
                    ],
                    "histogram2d": [
                      {
                        "colorbar": {
                          "outlinewidth": 0,
                          "ticks": ""
                        },
                        "colorscale": [
                          [
                            0,
                            "#0d0887"
                          ],
                          [
                            0.1111111111111111,
                            "#46039f"
                          ],
                          [
                            0.2222222222222222,
                            "#7201a8"
                          ],
                          [
                            0.3333333333333333,
                            "#9c179e"
                          ],
                          [
                            0.4444444444444444,
                            "#bd3786"
                          ],
                          [
                            0.5555555555555556,
                            "#d8576b"
                          ],
                          [
                            0.6666666666666666,
                            "#ed7953"
                          ],
                          [
                            0.7777777777777778,
                            "#fb9f3a"
                          ],
                          [
                            0.8888888888888888,
                            "#fdca26"
                          ],
                          [
                            1,
                            "#f0f921"
                          ]
                        ],
                        "type": "histogram2d"
                      }
                    ],
                    "histogram2dcontour": [
                      {
                        "colorbar": {
                          "outlinewidth": 0,
                          "ticks": ""
                        },
                        "colorscale": [
                          [
                            0,
                            "#0d0887"
                          ],
                          [
                            0.1111111111111111,
                            "#46039f"
                          ],
                          [
                            0.2222222222222222,
                            "#7201a8"
                          ],
                          [
                            0.3333333333333333,
                            "#9c179e"
                          ],
                          [
                            0.4444444444444444,
                            "#bd3786"
                          ],
                          [
                            0.5555555555555556,
                            "#d8576b"
                          ],
                          [
                            0.6666666666666666,
                            "#ed7953"
                          ],
                          [
                            0.7777777777777778,
                            "#fb9f3a"
                          ],
                          [
                            0.8888888888888888,
                            "#fdca26"
                          ],
                          [
                            1,
                            "#f0f921"
                          ]
                        ],
                        "type": "histogram2dcontour"
                      }
                    ],
                    "mesh3d": [
                      {
                        "colorbar": {
                          "outlinewidth": 0,
                          "ticks": ""
                        },
                        "type": "mesh3d"
                      }
                    ],
                    "parcoords": [
                      {
                        "line": {
                          "colorbar": {
                            "outlinewidth": 0,
                            "ticks": ""
                          }
                        },
                        "type": "parcoords"
                      }
                    ],
                    "pie": [
                      {
                        "automargin": true,
                        "type": "pie"
                      }
                    ],
                    "scatter": [
                      {
                        "fillpattern": {
                          "fillmode": "overlay",
                          "size": 10,
                          "solidity": 0.2
                        },
                        "type": "scatter"
                      }
                    ],
                    "scatter3d": [
                      {
                        "line": {
                          "colorbar": {
                            "outlinewidth": 0,
                            "ticks": ""
                          }
                        },
                        "marker": {
                          "colorbar": {
                            "outlinewidth": 0,
                            "ticks": ""
                          }
                        },
                        "type": "scatter3d"
                      }
                    ],
                    "scattercarpet": [
                      {
                        "marker": {
                          "colorbar": {
                            "outlinewidth": 0,
                            "ticks": ""
                          }
                        },
                        "type": "scattercarpet"
                      }
                    ],
                    "scattergeo": [
                      {
                        "marker": {
                          "colorbar": {
                            "outlinewidth": 0,
                            "ticks": ""
                          }
                        },
                        "type": "scattergeo"
                      }
                    ],
                    "scattergl": [
                      {
                        "marker": {
                          "colorbar": {
                            "outlinewidth": 0,
                            "ticks": ""
                          }
                        },
                        "type": "scattergl"
                      }
                    ],
                    "scattermapbox": [
                      {
                        "marker": {
                          "colorbar": {
                            "outlinewidth": 0,
                            "ticks": ""
                          }
                        },
                        "type": "scattermapbox"
                      }
                    ],
                    "scatterpolar": [
                      {
                        "marker": {
                          "colorbar": {
                            "outlinewidth": 0,
                            "ticks": ""
                          }
                        },
                        "type": "scatterpolar"
                      }
                    ],
                    "scatterpolargl": [
                      {
                        "marker": {
                          "colorbar": {
                            "outlinewidth": 0,
                            "ticks": ""
                          }
                        },
                        "type": "scatterpolargl"
                      }
                    ],
                    "scatterternary": [
                      {
                        "marker": {
                          "colorbar": {
                            "outlinewidth": 0,
                            "ticks": ""
                          }
                        },
                        "type": "scatterternary"
                      }
                    ],
                    "surface": [
                      {
                        "colorbar": {
                          "outlinewidth": 0,
                          "ticks": ""
                        },
                        "colorscale": [
                          [
                            0,
                            "#0d0887"
                          ],
                          [
                            0.1111111111111111,
                            "#46039f"
                          ],
                          [
                            0.2222222222222222,
                            "#7201a8"
                          ],
                          [
                            0.3333333333333333,
                            "#9c179e"
                          ],
                          [
                            0.4444444444444444,
                            "#bd3786"
                          ],
                          [
                            0.5555555555555556,
                            "#d8576b"
                          ],
                          [
                            0.6666666666666666,
                            "#ed7953"
                          ],
                          [
                            0.7777777777777778,
                            "#fb9f3a"
                          ],
                          [
                            0.8888888888888888,
                            "#fdca26"
                          ],
                          [
                            1,
                            "#f0f921"
                          ]
                        ],
                        "type": "surface"
                      }
                    ],
                    "table": [
                      {
                        "cells": {
                          "fill": {
                            "color": "#EBF0F8"
                          },
                          "line": {
                            "color": "white"
                          }
                        },
                        "header": {
                          "fill": {
                            "color": "#C8D4E3"
                          },
                          "line": {
                            "color": "white"
                          }
                        },
                        "type": "table"
                      }
                    ]
                  },
                  "layout": {
                    "annotationdefaults": {
                      "arrowcolor": "#2a3f5f",
                      "arrowhead": 0,
                      "arrowwidth": 1
                    },
                    "autotypenumbers": "strict",
                    "coloraxis": {
                      "colorbar": {
                        "outlinewidth": 0,
                        "ticks": ""
                      }
                    },
                    "colorscale": {
                      "diverging": [
                        [
                          0,
                          "#8e0152"
                        ],
                        [
                          0.1,
                          "#c51b7d"
                        ],
                        [
                          0.2,
                          "#de77ae"
                        ],
                        [
                          0.3,
                          "#f1b6da"
                        ],
                        [
                          0.4,
                          "#fde0ef"
                        ],
                        [
                          0.5,
                          "#f7f7f7"
                        ],
                        [
                          0.6,
                          "#e6f5d0"
                        ],
                        [
                          0.7,
                          "#b8e186"
                        ],
                        [
                          0.8,
                          "#7fbc41"
                        ],
                        [
                          0.9,
                          "#4d9221"
                        ],
                        [
                          1,
                          "#276419"
                        ]
                      ],
                      "sequential": [
                        [
                          0,
                          "#0d0887"
                        ],
                        [
                          0.1111111111111111,
                          "#46039f"
                        ],
                        [
                          0.2222222222222222,
                          "#7201a8"
                        ],
                        [
                          0.3333333333333333,
                          "#9c179e"
                        ],
                        [
                          0.4444444444444444,
                          "#bd3786"
                        ],
                        [
                          0.5555555555555556,
                          "#d8576b"
                        ],
                        [
                          0.6666666666666666,
                          "#ed7953"
                        ],
                        [
                          0.7777777777777778,
                          "#fb9f3a"
                        ],
                        [
                          0.8888888888888888,
                          "#fdca26"
                        ],
                        [
                          1,
                          "#f0f921"
                        ]
                      ],
                      "sequentialminus": [
                        [
                          0,
                          "#0d0887"
                        ],
                        [
                          0.1111111111111111,
                          "#46039f"
                        ],
                        [
                          0.2222222222222222,
                          "#7201a8"
                        ],
                        [
                          0.3333333333333333,
                          "#9c179e"
                        ],
                        [
                          0.4444444444444444,
                          "#bd3786"
                        ],
                        [
                          0.5555555555555556,
                          "#d8576b"
                        ],
                        [
                          0.6666666666666666,
                          "#ed7953"
                        ],
                        [
                          0.7777777777777778,
                          "#fb9f3a"
                        ],
                        [
                          0.8888888888888888,
                          "#fdca26"
                        ],
                        [
                          1,
                          "#f0f921"
                        ]
                      ]
                    },
                    "colorway": [
                      "#636efa",
                      "#EF553B",
                      "#00cc96",
                      "#ab63fa",
                      "#FFA15A",
                      "#19d3f3",
                      "#FF6692",
                      "#B6E880",
                      "#FF97FF",
                      "#FECB52"
                    ],
                    "font": {
                      "color": "#2a3f5f"
                    },
                    "geo": {
                      "bgcolor": "white",
                      "lakecolor": "white",
                      "landcolor": "#E5ECF6",
                      "showlakes": true,
                      "showland": true,
                      "subunitcolor": "white"
                    },
                    "hoverlabel": {
                      "align": "left"
                    },
                    "hovermode": "closest",
                    "mapbox": {
                      "style": "light"
                    },
                    "paper_bgcolor": "white",
                    "plot_bgcolor": "#E5ECF6",
                    "polar": {
                      "angularaxis": {
                        "gridcolor": "white",
                        "linecolor": "white",
                        "ticks": ""
                      },
                      "bgcolor": "#E5ECF6",
                      "radialaxis": {
                        "gridcolor": "white",
                        "linecolor": "white",
                        "ticks": ""
                      }
                    },
                    "scene": {
                      "xaxis": {
                        "backgroundcolor": "#E5ECF6",
                        "gridcolor": "white",
                        "gridwidth": 2,
                        "linecolor": "white",
                        "showbackground": true,
                        "ticks": "",
                        "zerolinecolor": "white"
                      },
                      "yaxis": {
                        "backgroundcolor": "#E5ECF6",
                        "gridcolor": "white",
                        "gridwidth": 2,
                        "linecolor": "white",
                        "showbackground": true,
                        "ticks": "",
                        "zerolinecolor": "white"
                      },
                      "zaxis": {
                        "backgroundcolor": "#E5ECF6",
                        "gridcolor": "white",
                        "gridwidth": 2,
                        "linecolor": "white",
                        "showbackground": true,
                        "ticks": "",
                        "zerolinecolor": "white"
                      }
                    },
                    "shapedefaults": {
                      "line": {
                        "color": "#2a3f5f"
                      }
                    },
                    "ternary": {
                      "aaxis": {
                        "gridcolor": "white",
                        "linecolor": "white",
                        "ticks": ""
                      },
                      "baxis": {
                        "gridcolor": "white",
                        "linecolor": "white",
                        "ticks": ""
                      },
                      "bgcolor": "#E5ECF6",
                      "caxis": {
                        "gridcolor": "white",
                        "linecolor": "white",
                        "ticks": ""
                      }
                    },
                    "title": {
                      "x": 0.05
                    },
                    "xaxis": {
                      "automargin": true,
                      "gridcolor": "white",
                      "linecolor": "white",
                      "ticks": "",
                      "title": {
                        "standoff": 15
                      },
                      "zerolinecolor": "white",
                      "zerolinewidth": 2
                    },
                    "yaxis": {
                      "automargin": true,
                      "gridcolor": "white",
                      "linecolor": "white",
                      "ticks": "",
                      "title": {
                        "standoff": 15
                      },
                      "zerolinecolor": "white",
                      "zerolinewidth": 2
                    }
                  }
                },
                "title": {
                  "text": "Feature Importance (R² = -0.04)"
                },
                "xaxis": {
                  "tickangle": -45,
                  "title": {
                    "text": "Feature"
                  }
                },
                "yaxis": {
                  "title": {
                    "text": "Importance"
                  }
                }
              }
            }
          },
          "metadata": {},
          "output_type": "display_data"
        }
      ],
      "source": [
        "import plotly.graph_objs as go\n",
        "import pandas as pd\n",
        "import numpy as np\n",
        "from sklearn.model_selection import train_test_split\n",
        "from sklearn.linear_model import LinearRegression\n",
        "\n",
        "# Sample Data (Replace with actual dataset)\n",
        "data = pd.DataFrame({\n",
        "    'Item Type': np.random.randint(1, 5, 100),\n",
        "    'Sales Channel': np.random.randint(1, 3, 100),\n",
        "    'Order Priority': np.random.randint(1, 4, 100),\n",
        "    'Units Sold': np.random.randint(10, 500, 100),\n",
        "    'Unit Price': np.random.uniform(5, 100, 100),\n",
        "    'Unit Cost': np.random.uniform(2, 80, 100),\n",
        "    'Total Revenue': np.random.uniform(1000, 10000, 100),\n",
        "    'Total Cost': np.random.uniform(500, 7000, 100),\n",
        "    'Order Month': np.random.randint(1, 13, 100),\n",
        "    'Order Year': np.random.randint(2019, 2024, 100),\n",
        "    'Profit': np.random.uniform(500, 5000, 100)  # Target variable\n",
        "})\n",
        "\n",
        "# Define features (X) and target variable (y)\n",
        "X = data.drop(columns=['Profit'])\n",
        "y = data['Profit']\n",
        "\n",
        "# Split the dataset\n",
        "X_train, X_test, y_train, y_test = train_test_split(X, y, test_size=0.2, random_state=42)\n",
        "\n",
        "# Create and train the model\n",
        "reg = LinearRegression()\n",
        "reg.fit(X_train, y_train)\n",
        "\n",
        "# Make predictions\n",
        "y_pred = reg.predict(X_test)\n",
        "\n",
        "# R-squared score\n",
        "r2 = reg.score(X_test, y_test)\n",
        "\n",
        "# Convert X_train into a DataFrame with feature names\n",
        "X_train_df = pd.DataFrame(X_train, columns=X.columns)\n",
        "\n",
        "# Extract feature coefficients\n",
        "coef = reg.coef_\n",
        "\n",
        "# Create a DataFrame with feature importances\n",
        "feature_importances = pd.DataFrame({'Feature': X_train_df.columns, 'Importance': coef})\n",
        "\n",
        "# Sort by absolute importance\n",
        "feature_importances = feature_importances.reindex(feature_importances['Importance'].abs().sort_values(ascending=False).index)\n",
        "\n",
        "# Create a bar chart with Plotly\n",
        "fig = go.Figure()\n",
        "fig.add_trace(go.Bar(x=feature_importances['Feature'], y=feature_importances['Importance']))\n",
        "\n",
        "fig.update_layout(title=f'Feature Importance (R² = {r2:.2f})',\n",
        "                  xaxis_title='Feature',\n",
        "                  yaxis_title='Importance',\n",
        "                  xaxis_tickangle=-45)\n",
        "\n",
        "fig.show()\n"
      ]
    }
  ],
  "metadata": {
    "colab": {
      "provenance": []
    },
    "kernelspec": {
      "display_name": "Python 3",
      "name": "python3"
    },
    "language_info": {
      "codemirror_mode": {
        "name": "ipython",
        "version": 3
      },
      "file_extension": ".py",
      "mimetype": "text/x-python",
      "name": "python",
      "nbconvert_exporter": "python",
      "pygments_lexer": "ipython3",
      "version": "3.11.9"
    },
    "widgets": {
      "application/vnd.jupyter.widget-state+json": {
        "07351670485e4e6aabd3e326938f426a": {
          "model_module": "@jupyter-widgets/controls",
          "model_module_version": "1.5.0",
          "model_name": "FloatProgressModel",
          "state": {
            "_dom_classes": [],
            "_model_module": "@jupyter-widgets/controls",
            "_model_module_version": "1.5.0",
            "_model_name": "FloatProgressModel",
            "_view_count": null,
            "_view_module": "@jupyter-widgets/controls",
            "_view_module_version": "1.5.0",
            "_view_name": "ProgressView",
            "bar_style": "",
            "description": "",
            "description_tooltip": null,
            "layout": "IPY_MODEL_11516af8571c4f4d886c48b0a3aa8377",
            "max": 7,
            "min": 0,
            "orientation": "horizontal",
            "style": "IPY_MODEL_1564b8dc2b6243259b9a62b4f1e83e5b",
            "value": 7
          }
        },
        "11516af8571c4f4d886c48b0a3aa8377": {
          "model_module": "@jupyter-widgets/base",
          "model_module_version": "1.2.0",
          "model_name": "LayoutModel",
          "state": {
            "_model_module": "@jupyter-widgets/base",
            "_model_module_version": "1.2.0",
            "_model_name": "LayoutModel",
            "_view_count": null,
            "_view_module": "@jupyter-widgets/base",
            "_view_module_version": "1.2.0",
            "_view_name": "LayoutView",
            "align_content": null,
            "align_items": null,
            "align_self": null,
            "border": null,
            "bottom": null,
            "display": null,
            "flex": null,
            "flex_flow": null,
            "grid_area": null,
            "grid_auto_columns": null,
            "grid_auto_flow": null,
            "grid_auto_rows": null,
            "grid_column": null,
            "grid_gap": null,
            "grid_row": null,
            "grid_template_areas": null,
            "grid_template_columns": null,
            "grid_template_rows": null,
            "height": null,
            "justify_content": null,
            "justify_items": null,
            "left": null,
            "margin": null,
            "max_height": null,
            "max_width": null,
            "min_height": null,
            "min_width": null,
            "object_fit": null,
            "object_position": null,
            "order": null,
            "overflow": null,
            "overflow_x": null,
            "overflow_y": null,
            "padding": null,
            "right": null,
            "top": null,
            "visibility": null,
            "width": null
          }
        },
        "14122eab44b54b6db5b8e712d785e468": {
          "model_module": "@jupyter-widgets/controls",
          "model_module_version": "1.5.0",
          "model_name": "HBoxModel",
          "state": {
            "_dom_classes": [],
            "_model_module": "@jupyter-widgets/controls",
            "_model_module_version": "1.5.0",
            "_model_name": "HBoxModel",
            "_view_count": null,
            "_view_module": "@jupyter-widgets/controls",
            "_view_module_version": "1.5.0",
            "_view_name": "HBoxView",
            "box_style": "",
            "children": [
              "IPY_MODEL_c281fe3929b240c98073623bc2ddc344",
              "IPY_MODEL_4dc0bbc4ccff470e8791974fd65f0e71",
              "IPY_MODEL_4351b0feba7e439f98cb3461d648b7a4"
            ],
            "layout": "IPY_MODEL_da7db208b432408fb69faadab47535b2"
          }
        },
        "1564b8dc2b6243259b9a62b4f1e83e5b": {
          "model_module": "@jupyter-widgets/controls",
          "model_module_version": "1.5.0",
          "model_name": "ProgressStyleModel",
          "state": {
            "_model_module": "@jupyter-widgets/controls",
            "_model_module_version": "1.5.0",
            "_model_name": "ProgressStyleModel",
            "_view_count": null,
            "_view_module": "@jupyter-widgets/base",
            "_view_module_version": "1.2.0",
            "_view_name": "StyleView",
            "bar_color": null,
            "description_width": ""
          }
        },
        "2011c45118824728babba1639d3d676b": {
          "model_module": "@jupyter-widgets/controls",
          "model_module_version": "1.5.0",
          "model_name": "DescriptionStyleModel",
          "state": {
            "_model_module": "@jupyter-widgets/controls",
            "_model_module_version": "1.5.0",
            "_model_name": "DescriptionStyleModel",
            "_view_count": null,
            "_view_module": "@jupyter-widgets/base",
            "_view_module_version": "1.2.0",
            "_view_name": "StyleView",
            "description_width": ""
          }
        },
        "21783f0ff3534cf7b1ed1b6886aed152": {
          "model_module": "@jupyter-widgets/controls",
          "model_module_version": "1.5.0",
          "model_name": "FloatProgressModel",
          "state": {
            "_dom_classes": [],
            "_model_module": "@jupyter-widgets/controls",
            "_model_module_version": "1.5.0",
            "_model_name": "FloatProgressModel",
            "_view_count": null,
            "_view_module": "@jupyter-widgets/controls",
            "_view_module_version": "1.5.0",
            "_view_name": "ProgressView",
            "bar_style": "",
            "description": "",
            "description_tooltip": null,
            "layout": "IPY_MODEL_f02237156dfe4dbeb4220af18530be39",
            "max": 4,
            "min": 0,
            "orientation": "horizontal",
            "style": "IPY_MODEL_bce73ba6104148d98525ed4fc15c8476",
            "value": 4
          }
        },
        "27f83b2cfb664ac381ec78c6905c642a": {
          "model_module": "@jupyter-widgets/controls",
          "model_module_version": "1.5.0",
          "model_name": "DescriptionStyleModel",
          "state": {
            "_model_module": "@jupyter-widgets/controls",
            "_model_module_version": "1.5.0",
            "_model_name": "DescriptionStyleModel",
            "_view_count": null,
            "_view_module": "@jupyter-widgets/base",
            "_view_module_version": "1.2.0",
            "_view_name": "StyleView",
            "description_width": ""
          }
        },
        "3125b31e7e0f4d07b21860c64ff88faa": {
          "model_module": "@jupyter-widgets/base",
          "model_module_version": "1.2.0",
          "model_name": "LayoutModel",
          "state": {
            "_model_module": "@jupyter-widgets/base",
            "_model_module_version": "1.2.0",
            "_model_name": "LayoutModel",
            "_view_count": null,
            "_view_module": "@jupyter-widgets/base",
            "_view_module_version": "1.2.0",
            "_view_name": "LayoutView",
            "align_content": null,
            "align_items": null,
            "align_self": null,
            "border": null,
            "bottom": null,
            "display": null,
            "flex": null,
            "flex_flow": null,
            "grid_area": null,
            "grid_auto_columns": null,
            "grid_auto_flow": null,
            "grid_auto_rows": null,
            "grid_column": null,
            "grid_gap": null,
            "grid_row": null,
            "grid_template_areas": null,
            "grid_template_columns": null,
            "grid_template_rows": null,
            "height": null,
            "justify_content": null,
            "justify_items": null,
            "left": null,
            "margin": null,
            "max_height": null,
            "max_width": null,
            "min_height": null,
            "min_width": null,
            "object_fit": null,
            "object_position": null,
            "order": null,
            "overflow": null,
            "overflow_x": null,
            "overflow_y": null,
            "padding": null,
            "right": null,
            "top": null,
            "visibility": null,
            "width": null
          }
        },
        "34abb2af7c224eeba4e40eca157a3f1f": {
          "model_module": "@jupyter-widgets/base",
          "model_module_version": "1.2.0",
          "model_name": "LayoutModel",
          "state": {
            "_model_module": "@jupyter-widgets/base",
            "_model_module_version": "1.2.0",
            "_model_name": "LayoutModel",
            "_view_count": null,
            "_view_module": "@jupyter-widgets/base",
            "_view_module_version": "1.2.0",
            "_view_name": "LayoutView",
            "align_content": null,
            "align_items": null,
            "align_self": null,
            "border": null,
            "bottom": null,
            "display": null,
            "flex": null,
            "flex_flow": null,
            "grid_area": null,
            "grid_auto_columns": null,
            "grid_auto_flow": null,
            "grid_auto_rows": null,
            "grid_column": null,
            "grid_gap": null,
            "grid_row": null,
            "grid_template_areas": null,
            "grid_template_columns": null,
            "grid_template_rows": null,
            "height": null,
            "justify_content": null,
            "justify_items": null,
            "left": null,
            "margin": null,
            "max_height": null,
            "max_width": null,
            "min_height": null,
            "min_width": null,
            "object_fit": null,
            "object_position": null,
            "order": null,
            "overflow": null,
            "overflow_x": null,
            "overflow_y": null,
            "padding": null,
            "right": null,
            "top": null,
            "visibility": null,
            "width": null
          }
        },
        "3cc57d8d587d4c04bd7b8acbfa67bba0": {
          "model_module": "@jupyter-widgets/base",
          "model_module_version": "1.2.0",
          "model_name": "LayoutModel",
          "state": {
            "_model_module": "@jupyter-widgets/base",
            "_model_module_version": "1.2.0",
            "_model_name": "LayoutModel",
            "_view_count": null,
            "_view_module": "@jupyter-widgets/base",
            "_view_module_version": "1.2.0",
            "_view_name": "LayoutView",
            "align_content": null,
            "align_items": null,
            "align_self": null,
            "border": null,
            "bottom": null,
            "display": null,
            "flex": null,
            "flex_flow": null,
            "grid_area": null,
            "grid_auto_columns": null,
            "grid_auto_flow": null,
            "grid_auto_rows": null,
            "grid_column": null,
            "grid_gap": null,
            "grid_row": null,
            "grid_template_areas": null,
            "grid_template_columns": null,
            "grid_template_rows": null,
            "height": null,
            "justify_content": null,
            "justify_items": null,
            "left": null,
            "margin": null,
            "max_height": null,
            "max_width": null,
            "min_height": null,
            "min_width": null,
            "object_fit": null,
            "object_position": null,
            "order": null,
            "overflow": null,
            "overflow_x": null,
            "overflow_y": null,
            "padding": null,
            "right": null,
            "top": null,
            "visibility": null,
            "width": null
          }
        },
        "40a1fd0b3dcd40b78562264a08eaeba5": {
          "model_module": "@jupyter-widgets/controls",
          "model_module_version": "1.5.0",
          "model_name": "DescriptionStyleModel",
          "state": {
            "_model_module": "@jupyter-widgets/controls",
            "_model_module_version": "1.5.0",
            "_model_name": "DescriptionStyleModel",
            "_view_count": null,
            "_view_module": "@jupyter-widgets/base",
            "_view_module_version": "1.2.0",
            "_view_name": "StyleView",
            "description_width": ""
          }
        },
        "4351b0feba7e439f98cb3461d648b7a4": {
          "model_module": "@jupyter-widgets/controls",
          "model_module_version": "1.5.0",
          "model_name": "HTMLModel",
          "state": {
            "_dom_classes": [],
            "_model_module": "@jupyter-widgets/controls",
            "_model_module_version": "1.5.0",
            "_model_name": "HTMLModel",
            "_view_count": null,
            "_view_module": "@jupyter-widgets/controls",
            "_view_module_version": "1.5.0",
            "_view_name": "HTMLView",
            "description": "",
            "description_tooltip": null,
            "layout": "IPY_MODEL_3125b31e7e0f4d07b21860c64ff88faa",
            "placeholder": "​",
            "style": "IPY_MODEL_5a3a457b67854a379050f0cf83e36989",
            "value": " 81/81 [00:46&lt;00:00,  1.87it/s]"
          }
        },
        "4dc0bbc4ccff470e8791974fd65f0e71": {
          "model_module": "@jupyter-widgets/controls",
          "model_module_version": "1.5.0",
          "model_name": "FloatProgressModel",
          "state": {
            "_dom_classes": [],
            "_model_module": "@jupyter-widgets/controls",
            "_model_module_version": "1.5.0",
            "_model_name": "FloatProgressModel",
            "_view_count": null,
            "_view_module": "@jupyter-widgets/controls",
            "_view_module_version": "1.5.0",
            "_view_name": "ProgressView",
            "bar_style": "",
            "description": "",
            "description_tooltip": null,
            "layout": "IPY_MODEL_572a43331dbc432abc475b185a122ffe",
            "max": 81,
            "min": 0,
            "orientation": "horizontal",
            "style": "IPY_MODEL_b86d3e8399fe4d4aacc2e602ff999d23",
            "value": 81
          }
        },
        "4fe6c1bd71824535987939b0ab3249eb": {
          "model_module": "@jupyter-widgets/controls",
          "model_module_version": "1.5.0",
          "model_name": "DescriptionStyleModel",
          "state": {
            "_model_module": "@jupyter-widgets/controls",
            "_model_module_version": "1.5.0",
            "_model_name": "DescriptionStyleModel",
            "_view_count": null,
            "_view_module": "@jupyter-widgets/base",
            "_view_module_version": "1.2.0",
            "_view_name": "StyleView",
            "description_width": ""
          }
        },
        "572a43331dbc432abc475b185a122ffe": {
          "model_module": "@jupyter-widgets/base",
          "model_module_version": "1.2.0",
          "model_name": "LayoutModel",
          "state": {
            "_model_module": "@jupyter-widgets/base",
            "_model_module_version": "1.2.0",
            "_model_name": "LayoutModel",
            "_view_count": null,
            "_view_module": "@jupyter-widgets/base",
            "_view_module_version": "1.2.0",
            "_view_name": "LayoutView",
            "align_content": null,
            "align_items": null,
            "align_self": null,
            "border": null,
            "bottom": null,
            "display": null,
            "flex": null,
            "flex_flow": null,
            "grid_area": null,
            "grid_auto_columns": null,
            "grid_auto_flow": null,
            "grid_auto_rows": null,
            "grid_column": null,
            "grid_gap": null,
            "grid_row": null,
            "grid_template_areas": null,
            "grid_template_columns": null,
            "grid_template_rows": null,
            "height": null,
            "justify_content": null,
            "justify_items": null,
            "left": null,
            "margin": null,
            "max_height": null,
            "max_width": null,
            "min_height": null,
            "min_width": null,
            "object_fit": null,
            "object_position": null,
            "order": null,
            "overflow": null,
            "overflow_x": null,
            "overflow_y": null,
            "padding": null,
            "right": null,
            "top": null,
            "visibility": null,
            "width": null
          }
        },
        "5a3a457b67854a379050f0cf83e36989": {
          "model_module": "@jupyter-widgets/controls",
          "model_module_version": "1.5.0",
          "model_name": "DescriptionStyleModel",
          "state": {
            "_model_module": "@jupyter-widgets/controls",
            "_model_module_version": "1.5.0",
            "_model_name": "DescriptionStyleModel",
            "_view_count": null,
            "_view_module": "@jupyter-widgets/base",
            "_view_module_version": "1.2.0",
            "_view_name": "StyleView",
            "description_width": ""
          }
        },
        "65de1b782040470b8bf27c759068774b": {
          "model_module": "@jupyter-widgets/controls",
          "model_module_version": "1.5.0",
          "model_name": "DescriptionStyleModel",
          "state": {
            "_model_module": "@jupyter-widgets/controls",
            "_model_module_version": "1.5.0",
            "_model_name": "DescriptionStyleModel",
            "_view_count": null,
            "_view_module": "@jupyter-widgets/base",
            "_view_module_version": "1.2.0",
            "_view_name": "StyleView",
            "description_width": ""
          }
        },
        "7013335c460f49079011df48ea676119": {
          "model_module": "@jupyter-widgets/controls",
          "model_module_version": "1.5.0",
          "model_name": "HTMLModel",
          "state": {
            "_dom_classes": [],
            "_model_module": "@jupyter-widgets/controls",
            "_model_module_version": "1.5.0",
            "_model_name": "HTMLModel",
            "_view_count": null,
            "_view_module": "@jupyter-widgets/controls",
            "_view_module_version": "1.5.0",
            "_view_name": "HTMLView",
            "description": "",
            "description_tooltip": null,
            "layout": "IPY_MODEL_34abb2af7c224eeba4e40eca157a3f1f",
            "placeholder": "​",
            "style": "IPY_MODEL_27f83b2cfb664ac381ec78c6905c642a",
            "value": " 4/4 [00:01&lt;00:00,  2.94it/s]"
          }
        },
        "8003cf99b406405ba5c6ec2d5189c614": {
          "model_module": "@jupyter-widgets/base",
          "model_module_version": "1.2.0",
          "model_name": "LayoutModel",
          "state": {
            "_model_module": "@jupyter-widgets/base",
            "_model_module_version": "1.2.0",
            "_model_name": "LayoutModel",
            "_view_count": null,
            "_view_module": "@jupyter-widgets/base",
            "_view_module_version": "1.2.0",
            "_view_name": "LayoutView",
            "align_content": null,
            "align_items": null,
            "align_self": null,
            "border": null,
            "bottom": null,
            "display": null,
            "flex": null,
            "flex_flow": null,
            "grid_area": null,
            "grid_auto_columns": null,
            "grid_auto_flow": null,
            "grid_auto_rows": null,
            "grid_column": null,
            "grid_gap": null,
            "grid_row": null,
            "grid_template_areas": null,
            "grid_template_columns": null,
            "grid_template_rows": null,
            "height": null,
            "justify_content": null,
            "justify_items": null,
            "left": null,
            "margin": null,
            "max_height": null,
            "max_width": null,
            "min_height": null,
            "min_width": null,
            "object_fit": null,
            "object_position": null,
            "order": null,
            "overflow": null,
            "overflow_x": null,
            "overflow_y": null,
            "padding": null,
            "right": null,
            "top": null,
            "visibility": null,
            "width": null
          }
        },
        "9464d9f4e75b4b94a568cb3de3707ace": {
          "model_module": "@jupyter-widgets/base",
          "model_module_version": "1.2.0",
          "model_name": "LayoutModel",
          "state": {
            "_model_module": "@jupyter-widgets/base",
            "_model_module_version": "1.2.0",
            "_model_name": "LayoutModel",
            "_view_count": null,
            "_view_module": "@jupyter-widgets/base",
            "_view_module_version": "1.2.0",
            "_view_name": "LayoutView",
            "align_content": null,
            "align_items": null,
            "align_self": null,
            "border": null,
            "bottom": null,
            "display": null,
            "flex": null,
            "flex_flow": null,
            "grid_area": null,
            "grid_auto_columns": null,
            "grid_auto_flow": null,
            "grid_auto_rows": null,
            "grid_column": null,
            "grid_gap": null,
            "grid_row": null,
            "grid_template_areas": null,
            "grid_template_columns": null,
            "grid_template_rows": null,
            "height": null,
            "justify_content": null,
            "justify_items": null,
            "left": null,
            "margin": null,
            "max_height": null,
            "max_width": null,
            "min_height": null,
            "min_width": null,
            "object_fit": null,
            "object_position": null,
            "order": null,
            "overflow": null,
            "overflow_x": null,
            "overflow_y": null,
            "padding": null,
            "right": null,
            "top": null,
            "visibility": "hidden",
            "width": null
          }
        },
        "9ef6375f901242bfadee7dc960edf26f": {
          "model_module": "@jupyter-widgets/controls",
          "model_module_version": "1.5.0",
          "model_name": "HTMLModel",
          "state": {
            "_dom_classes": [],
            "_model_module": "@jupyter-widgets/controls",
            "_model_module_version": "1.5.0",
            "_model_name": "HTMLModel",
            "_view_count": null,
            "_view_module": "@jupyter-widgets/controls",
            "_view_module_version": "1.5.0",
            "_view_name": "HTMLView",
            "description": "",
            "description_tooltip": null,
            "layout": "IPY_MODEL_3cc57d8d587d4c04bd7b8acbfa67bba0",
            "placeholder": "​",
            "style": "IPY_MODEL_2011c45118824728babba1639d3d676b",
            "value": "Processing: 100%"
          }
        },
        "a42bc603c8124eac83752771fe227924": {
          "model_module": "@jupyter-widgets/controls",
          "model_module_version": "1.5.0",
          "model_name": "HBoxModel",
          "state": {
            "_dom_classes": [],
            "_model_module": "@jupyter-widgets/controls",
            "_model_module_version": "1.5.0",
            "_model_name": "HBoxModel",
            "_view_count": null,
            "_view_module": "@jupyter-widgets/controls",
            "_view_module_version": "1.5.0",
            "_view_name": "HBoxView",
            "box_style": "",
            "children": [
              "IPY_MODEL_a8f9dc11f9ca47c48c7867601fa99b21",
              "IPY_MODEL_21783f0ff3534cf7b1ed1b6886aed152",
              "IPY_MODEL_7013335c460f49079011df48ea676119"
            ],
            "layout": "IPY_MODEL_9464d9f4e75b4b94a568cb3de3707ace"
          }
        },
        "a8f9dc11f9ca47c48c7867601fa99b21": {
          "model_module": "@jupyter-widgets/controls",
          "model_module_version": "1.5.0",
          "model_name": "HTMLModel",
          "state": {
            "_dom_classes": [],
            "_model_module": "@jupyter-widgets/controls",
            "_model_module_version": "1.5.0",
            "_model_name": "HTMLModel",
            "_view_count": null,
            "_view_module": "@jupyter-widgets/controls",
            "_view_module_version": "1.5.0",
            "_view_name": "HTMLView",
            "description": "",
            "description_tooltip": null,
            "layout": "IPY_MODEL_b72965e084f44004b9e317fb79db4940",
            "placeholder": "​",
            "style": "IPY_MODEL_65de1b782040470b8bf27c759068774b",
            "value": "Processing: 100%"
          }
        },
        "aee8bb0333da495a9c529e6e39d5e536": {
          "model_module": "@jupyter-widgets/base",
          "model_module_version": "1.2.0",
          "model_name": "LayoutModel",
          "state": {
            "_model_module": "@jupyter-widgets/base",
            "_model_module_version": "1.2.0",
            "_model_name": "LayoutModel",
            "_view_count": null,
            "_view_module": "@jupyter-widgets/base",
            "_view_module_version": "1.2.0",
            "_view_name": "LayoutView",
            "align_content": null,
            "align_items": null,
            "align_self": null,
            "border": null,
            "bottom": null,
            "display": null,
            "flex": null,
            "flex_flow": null,
            "grid_area": null,
            "grid_auto_columns": null,
            "grid_auto_flow": null,
            "grid_auto_rows": null,
            "grid_column": null,
            "grid_gap": null,
            "grid_row": null,
            "grid_template_areas": null,
            "grid_template_columns": null,
            "grid_template_rows": null,
            "height": null,
            "justify_content": null,
            "justify_items": null,
            "left": null,
            "margin": null,
            "max_height": null,
            "max_width": null,
            "min_height": null,
            "min_width": null,
            "object_fit": null,
            "object_position": null,
            "order": null,
            "overflow": null,
            "overflow_x": null,
            "overflow_y": null,
            "padding": null,
            "right": null,
            "top": null,
            "visibility": "hidden",
            "width": null
          }
        },
        "b72965e084f44004b9e317fb79db4940": {
          "model_module": "@jupyter-widgets/base",
          "model_module_version": "1.2.0",
          "model_name": "LayoutModel",
          "state": {
            "_model_module": "@jupyter-widgets/base",
            "_model_module_version": "1.2.0",
            "_model_name": "LayoutModel",
            "_view_count": null,
            "_view_module": "@jupyter-widgets/base",
            "_view_module_version": "1.2.0",
            "_view_name": "LayoutView",
            "align_content": null,
            "align_items": null,
            "align_self": null,
            "border": null,
            "bottom": null,
            "display": null,
            "flex": null,
            "flex_flow": null,
            "grid_area": null,
            "grid_auto_columns": null,
            "grid_auto_flow": null,
            "grid_auto_rows": null,
            "grid_column": null,
            "grid_gap": null,
            "grid_row": null,
            "grid_template_areas": null,
            "grid_template_columns": null,
            "grid_template_rows": null,
            "height": null,
            "justify_content": null,
            "justify_items": null,
            "left": null,
            "margin": null,
            "max_height": null,
            "max_width": null,
            "min_height": null,
            "min_width": null,
            "object_fit": null,
            "object_position": null,
            "order": null,
            "overflow": null,
            "overflow_x": null,
            "overflow_y": null,
            "padding": null,
            "right": null,
            "top": null,
            "visibility": null,
            "width": null
          }
        },
        "b86d3e8399fe4d4aacc2e602ff999d23": {
          "model_module": "@jupyter-widgets/controls",
          "model_module_version": "1.5.0",
          "model_name": "ProgressStyleModel",
          "state": {
            "_model_module": "@jupyter-widgets/controls",
            "_model_module_version": "1.5.0",
            "_model_name": "ProgressStyleModel",
            "_view_count": null,
            "_view_module": "@jupyter-widgets/base",
            "_view_module_version": "1.2.0",
            "_view_name": "StyleView",
            "bar_color": null,
            "description_width": ""
          }
        },
        "bce73ba6104148d98525ed4fc15c8476": {
          "model_module": "@jupyter-widgets/controls",
          "model_module_version": "1.5.0",
          "model_name": "ProgressStyleModel",
          "state": {
            "_model_module": "@jupyter-widgets/controls",
            "_model_module_version": "1.5.0",
            "_model_name": "ProgressStyleModel",
            "_view_count": null,
            "_view_module": "@jupyter-widgets/base",
            "_view_module_version": "1.2.0",
            "_view_name": "StyleView",
            "bar_color": null,
            "description_width": ""
          }
        },
        "c281fe3929b240c98073623bc2ddc344": {
          "model_module": "@jupyter-widgets/controls",
          "model_module_version": "1.5.0",
          "model_name": "HTMLModel",
          "state": {
            "_dom_classes": [],
            "_model_module": "@jupyter-widgets/controls",
            "_model_module_version": "1.5.0",
            "_model_name": "HTMLModel",
            "_view_count": null,
            "_view_module": "@jupyter-widgets/controls",
            "_view_module_version": "1.5.0",
            "_view_name": "HTMLView",
            "description": "",
            "description_tooltip": null,
            "layout": "IPY_MODEL_8003cf99b406405ba5c6ec2d5189c614",
            "placeholder": "​",
            "style": "IPY_MODEL_40a1fd0b3dcd40b78562264a08eaeba5",
            "value": "Processing: 100%"
          }
        },
        "da7db208b432408fb69faadab47535b2": {
          "model_module": "@jupyter-widgets/base",
          "model_module_version": "1.2.0",
          "model_name": "LayoutModel",
          "state": {
            "_model_module": "@jupyter-widgets/base",
            "_model_module_version": "1.2.0",
            "_model_name": "LayoutModel",
            "_view_count": null,
            "_view_module": "@jupyter-widgets/base",
            "_view_module_version": "1.2.0",
            "_view_name": "LayoutView",
            "align_content": null,
            "align_items": null,
            "align_self": null,
            "border": null,
            "bottom": null,
            "display": null,
            "flex": null,
            "flex_flow": null,
            "grid_area": null,
            "grid_auto_columns": null,
            "grid_auto_flow": null,
            "grid_auto_rows": null,
            "grid_column": null,
            "grid_gap": null,
            "grid_row": null,
            "grid_template_areas": null,
            "grid_template_columns": null,
            "grid_template_rows": null,
            "height": null,
            "justify_content": null,
            "justify_items": null,
            "left": null,
            "margin": null,
            "max_height": null,
            "max_width": null,
            "min_height": null,
            "min_width": null,
            "object_fit": null,
            "object_position": null,
            "order": null,
            "overflow": null,
            "overflow_x": null,
            "overflow_y": null,
            "padding": null,
            "right": null,
            "top": null,
            "visibility": "hidden",
            "width": null
          }
        },
        "ee66eb80046e48188bb8dae749680f9e": {
          "model_module": "@jupyter-widgets/controls",
          "model_module_version": "1.5.0",
          "model_name": "HTMLModel",
          "state": {
            "_dom_classes": [],
            "_model_module": "@jupyter-widgets/controls",
            "_model_module_version": "1.5.0",
            "_model_name": "HTMLModel",
            "_view_count": null,
            "_view_module": "@jupyter-widgets/controls",
            "_view_module_version": "1.5.0",
            "_view_name": "HTMLView",
            "description": "",
            "description_tooltip": null,
            "layout": "IPY_MODEL_f2dffb58c52a480fa3c2b2851b21dc60",
            "placeholder": "​",
            "style": "IPY_MODEL_4fe6c1bd71824535987939b0ab3249eb",
            "value": " 7/7 [00:12&lt;00:00,  1.41s/it]"
          }
        },
        "f02237156dfe4dbeb4220af18530be39": {
          "model_module": "@jupyter-widgets/base",
          "model_module_version": "1.2.0",
          "model_name": "LayoutModel",
          "state": {
            "_model_module": "@jupyter-widgets/base",
            "_model_module_version": "1.2.0",
            "_model_name": "LayoutModel",
            "_view_count": null,
            "_view_module": "@jupyter-widgets/base",
            "_view_module_version": "1.2.0",
            "_view_name": "LayoutView",
            "align_content": null,
            "align_items": null,
            "align_self": null,
            "border": null,
            "bottom": null,
            "display": null,
            "flex": null,
            "flex_flow": null,
            "grid_area": null,
            "grid_auto_columns": null,
            "grid_auto_flow": null,
            "grid_auto_rows": null,
            "grid_column": null,
            "grid_gap": null,
            "grid_row": null,
            "grid_template_areas": null,
            "grid_template_columns": null,
            "grid_template_rows": null,
            "height": null,
            "justify_content": null,
            "justify_items": null,
            "left": null,
            "margin": null,
            "max_height": null,
            "max_width": null,
            "min_height": null,
            "min_width": null,
            "object_fit": null,
            "object_position": null,
            "order": null,
            "overflow": null,
            "overflow_x": null,
            "overflow_y": null,
            "padding": null,
            "right": null,
            "top": null,
            "visibility": null,
            "width": null
          }
        },
        "f2c0a8c8f7d14f43af753e399740f801": {
          "model_module": "@jupyter-widgets/controls",
          "model_module_version": "1.5.0",
          "model_name": "HBoxModel",
          "state": {
            "_dom_classes": [],
            "_model_module": "@jupyter-widgets/controls",
            "_model_module_version": "1.5.0",
            "_model_name": "HBoxModel",
            "_view_count": null,
            "_view_module": "@jupyter-widgets/controls",
            "_view_module_version": "1.5.0",
            "_view_name": "HBoxView",
            "box_style": "",
            "children": [
              "IPY_MODEL_9ef6375f901242bfadee7dc960edf26f",
              "IPY_MODEL_07351670485e4e6aabd3e326938f426a",
              "IPY_MODEL_ee66eb80046e48188bb8dae749680f9e"
            ],
            "layout": "IPY_MODEL_aee8bb0333da495a9c529e6e39d5e536"
          }
        },
        "f2dffb58c52a480fa3c2b2851b21dc60": {
          "model_module": "@jupyter-widgets/base",
          "model_module_version": "1.2.0",
          "model_name": "LayoutModel",
          "state": {
            "_model_module": "@jupyter-widgets/base",
            "_model_module_version": "1.2.0",
            "_model_name": "LayoutModel",
            "_view_count": null,
            "_view_module": "@jupyter-widgets/base",
            "_view_module_version": "1.2.0",
            "_view_name": "LayoutView",
            "align_content": null,
            "align_items": null,
            "align_self": null,
            "border": null,
            "bottom": null,
            "display": null,
            "flex": null,
            "flex_flow": null,
            "grid_area": null,
            "grid_auto_columns": null,
            "grid_auto_flow": null,
            "grid_auto_rows": null,
            "grid_column": null,
            "grid_gap": null,
            "grid_row": null,
            "grid_template_areas": null,
            "grid_template_columns": null,
            "grid_template_rows": null,
            "height": null,
            "justify_content": null,
            "justify_items": null,
            "left": null,
            "margin": null,
            "max_height": null,
            "max_width": null,
            "min_height": null,
            "min_width": null,
            "object_fit": null,
            "object_position": null,
            "order": null,
            "overflow": null,
            "overflow_x": null,
            "overflow_y": null,
            "padding": null,
            "right": null,
            "top": null,
            "visibility": null,
            "width": null
          }
        }
      }
    }
  },
  "nbformat": 4,
  "nbformat_minor": 0
}
