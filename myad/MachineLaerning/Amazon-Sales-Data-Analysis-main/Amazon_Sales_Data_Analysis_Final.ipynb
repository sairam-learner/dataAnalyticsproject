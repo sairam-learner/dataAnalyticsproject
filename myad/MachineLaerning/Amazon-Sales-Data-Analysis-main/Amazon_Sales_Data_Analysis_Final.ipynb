{
  "cells": [
    {
      "cell_type": "markdown",
      "metadata": {
        "id": "EDNc5C_u7EZQ"
      },
      "source": [
        "#**Project Amazon Sales Data Analysis**\n"
      ]
    },
    {
      "cell_type": "markdown",
      "metadata": {
        "id": "Hc7Z7DBO5pN0"
      },
      "source": [
        "##Data Preprocessing "
      ]
    },
    {
      "cell_type": "markdown",
      "metadata": {
        "id": "CRA0pGww_MZo"
      },
      "source": [
        "###Import Python Libraries \n",
        "\n",
        "Importing necessary libraries for data analysis \n",
        "\n",
        "\n",
        "\n",
        "1.   Pandas - This library is used for data manipulation and analysis. It also provides features like efficiently storing and manipulating large datasets and not only that it also provide tools for merging, transforming and cleaning data. \n",
        "2.   Numpy - This library is used for scientific computing with python. Generaly it provides support for large, multi-dimensional arrays and matrices. \n",
        "3.   Matplotlib - This library help in creating types of visualizations including line plots, scatter plots, bar charts and histograms. \n",
        "4.   Seaborn - This library is used for add enhanced aesthetics and additional plotting functions and its based on Matplotlib. \n",
        " \n",
        "\n"
      ]
    },
    {
      "cell_type": "code",
      "execution_count": 1,
      "metadata": {
        "id": "9LEq5c7yKpgj"
      },
      "outputs": [],
      "source": [
        "import pandas as pd\n",
        "import numpy as np \n",
        "import matplotlib.pyplot as pyplot\n",
        "import seaborn as sns\n",
        "\n",
        "# %matplotlib inline is a command that enables Matplotlib plots to be displayed inline in Jupyter Notebook, instead of opening a separate window.\n",
        "%matplotlib inline \n",
        "\n",
        "#  Using the pd.read_csv() function to read in a CSV file named \"Amazon Sales Records.csv\" and stores the data in a Pandas DataFrame named data. The encoding parameter is set to 'latin-1', which specifies the character encoding used in the CSV file.\n",
        "data = pd.read_csv(\"Amazon Sales data.csv\",encoding = 'latin-1')"
      ]
    },
    {
      "cell_type": "code",
      "execution_count": 2,
      "metadata": {
        "colab": {
          "base_uri": "https://localhost:8080/",
          "height": 1068
        },
        "id": "RUZncuxCaXlS",
        "outputId": "fe26f2e5-0347-485e-9c5c-bf2d76700ee5"
      },
      "outputs": [
        {
          "data": {
            "text/html": [
              "<div>\n",
              "<style scoped>\n",
              "    .dataframe tbody tr th:only-of-type {\n",
              "        vertical-align: middle;\n",
              "    }\n",
              "\n",
              "    .dataframe tbody tr th {\n",
              "        vertical-align: top;\n",
              "    }\n",
              "\n",
              "    .dataframe thead th {\n",
              "        text-align: right;\n",
              "    }\n",
              "</style>\n",
              "<table border=\"1\" class=\"dataframe\">\n",
              "  <thead>\n",
              "    <tr style=\"text-align: right;\">\n",
              "      <th></th>\n",
              "      <th>Region</th>\n",
              "      <th>Country</th>\n",
              "      <th>Item Type</th>\n",
              "      <th>Sales Channel</th>\n",
              "      <th>Order Priority</th>\n",
              "      <th>Order Date</th>\n",
              "      <th>Order ID</th>\n",
              "      <th>Ship Date</th>\n",
              "      <th>Units Sold</th>\n",
              "      <th>Unit Price</th>\n",
              "      <th>Unit Cost</th>\n",
              "      <th>Total Revenue</th>\n",
              "      <th>Total Cost</th>\n",
              "      <th>Total Profit</th>\n",
              "    </tr>\n",
              "  </thead>\n",
              "  <tbody>\n",
              "    <tr>\n",
              "      <th>0</th>\n",
              "      <td>Australia and Oceania</td>\n",
              "      <td>Tuvalu</td>\n",
              "      <td>Baby Food</td>\n",
              "      <td>Offline</td>\n",
              "      <td>H</td>\n",
              "      <td>5/28/2010</td>\n",
              "      <td>669165933</td>\n",
              "      <td>6/27/2010</td>\n",
              "      <td>9925</td>\n",
              "      <td>255.28</td>\n",
              "      <td>159.42</td>\n",
              "      <td>2533654.00</td>\n",
              "      <td>1582243.50</td>\n",
              "      <td>951410.50</td>\n",
              "    </tr>\n",
              "    <tr>\n",
              "      <th>1</th>\n",
              "      <td>Central America and the Caribbean</td>\n",
              "      <td>Grenada</td>\n",
              "      <td>Cereal</td>\n",
              "      <td>Online</td>\n",
              "      <td>C</td>\n",
              "      <td>8/22/2012</td>\n",
              "      <td>963881480</td>\n",
              "      <td>9/15/2012</td>\n",
              "      <td>2804</td>\n",
              "      <td>205.70</td>\n",
              "      <td>117.11</td>\n",
              "      <td>576782.80</td>\n",
              "      <td>328376.44</td>\n",
              "      <td>248406.36</td>\n",
              "    </tr>\n",
              "    <tr>\n",
              "      <th>2</th>\n",
              "      <td>Europe</td>\n",
              "      <td>Russia</td>\n",
              "      <td>Office Supplies</td>\n",
              "      <td>Offline</td>\n",
              "      <td>L</td>\n",
              "      <td>05-02-2014</td>\n",
              "      <td>341417157</td>\n",
              "      <td>05-08-2014</td>\n",
              "      <td>1779</td>\n",
              "      <td>651.21</td>\n",
              "      <td>524.96</td>\n",
              "      <td>1158502.59</td>\n",
              "      <td>933903.84</td>\n",
              "      <td>224598.75</td>\n",
              "    </tr>\n",
              "    <tr>\n",
              "      <th>3</th>\n",
              "      <td>Sub-Saharan Africa</td>\n",
              "      <td>Sao Tome and Principe</td>\n",
              "      <td>Fruits</td>\n",
              "      <td>Online</td>\n",
              "      <td>C</td>\n",
              "      <td>6/20/2014</td>\n",
              "      <td>514321792</td>\n",
              "      <td>07-05-2014</td>\n",
              "      <td>8102</td>\n",
              "      <td>9.33</td>\n",
              "      <td>6.92</td>\n",
              "      <td>75591.66</td>\n",
              "      <td>56065.84</td>\n",
              "      <td>19525.82</td>\n",
              "    </tr>\n",
              "    <tr>\n",
              "      <th>4</th>\n",
              "      <td>Sub-Saharan Africa</td>\n",
              "      <td>Rwanda</td>\n",
              "      <td>Office Supplies</td>\n",
              "      <td>Offline</td>\n",
              "      <td>L</td>\n",
              "      <td>02-01-2013</td>\n",
              "      <td>115456712</td>\n",
              "      <td>02-06-2013</td>\n",
              "      <td>5062</td>\n",
              "      <td>651.21</td>\n",
              "      <td>524.96</td>\n",
              "      <td>3296425.02</td>\n",
              "      <td>2657347.52</td>\n",
              "      <td>639077.50</td>\n",
              "    </tr>\n",
              "    <tr>\n",
              "      <th>...</th>\n",
              "      <td>...</td>\n",
              "      <td>...</td>\n",
              "      <td>...</td>\n",
              "      <td>...</td>\n",
              "      <td>...</td>\n",
              "      <td>...</td>\n",
              "      <td>...</td>\n",
              "      <td>...</td>\n",
              "      <td>...</td>\n",
              "      <td>...</td>\n",
              "      <td>...</td>\n",
              "      <td>...</td>\n",
              "      <td>...</td>\n",
              "      <td>...</td>\n",
              "    </tr>\n",
              "    <tr>\n",
              "      <th>95</th>\n",
              "      <td>Sub-Saharan Africa</td>\n",
              "      <td>Mali</td>\n",
              "      <td>Clothes</td>\n",
              "      <td>Online</td>\n",
              "      <td>M</td>\n",
              "      <td>7/26/2011</td>\n",
              "      <td>512878119</td>\n",
              "      <td>09-03-2011</td>\n",
              "      <td>888</td>\n",
              "      <td>109.28</td>\n",
              "      <td>35.84</td>\n",
              "      <td>97040.64</td>\n",
              "      <td>31825.92</td>\n",
              "      <td>65214.72</td>\n",
              "    </tr>\n",
              "    <tr>\n",
              "      <th>96</th>\n",
              "      <td>Asia</td>\n",
              "      <td>Malaysia</td>\n",
              "      <td>Fruits</td>\n",
              "      <td>Offline</td>\n",
              "      <td>L</td>\n",
              "      <td>11-11-2011</td>\n",
              "      <td>810711038</td>\n",
              "      <td>12/28/2011</td>\n",
              "      <td>6267</td>\n",
              "      <td>9.33</td>\n",
              "      <td>6.92</td>\n",
              "      <td>58471.11</td>\n",
              "      <td>43367.64</td>\n",
              "      <td>15103.47</td>\n",
              "    </tr>\n",
              "    <tr>\n",
              "      <th>97</th>\n",
              "      <td>Sub-Saharan Africa</td>\n",
              "      <td>Sierra Leone</td>\n",
              "      <td>Vegetables</td>\n",
              "      <td>Offline</td>\n",
              "      <td>C</td>\n",
              "      <td>06-01-2016</td>\n",
              "      <td>728815257</td>\n",
              "      <td>6/29/2016</td>\n",
              "      <td>1485</td>\n",
              "      <td>154.06</td>\n",
              "      <td>90.93</td>\n",
              "      <td>228779.10</td>\n",
              "      <td>135031.05</td>\n",
              "      <td>93748.05</td>\n",
              "    </tr>\n",
              "    <tr>\n",
              "      <th>98</th>\n",
              "      <td>North America</td>\n",
              "      <td>Mexico</td>\n",
              "      <td>Personal Care</td>\n",
              "      <td>Offline</td>\n",
              "      <td>M</td>\n",
              "      <td>7/30/2015</td>\n",
              "      <td>559427106</td>\n",
              "      <td>08-08-2015</td>\n",
              "      <td>5767</td>\n",
              "      <td>81.73</td>\n",
              "      <td>56.67</td>\n",
              "      <td>471336.91</td>\n",
              "      <td>326815.89</td>\n",
              "      <td>144521.02</td>\n",
              "    </tr>\n",
              "    <tr>\n",
              "      <th>99</th>\n",
              "      <td>Sub-Saharan Africa</td>\n",
              "      <td>Mozambique</td>\n",
              "      <td>Household</td>\n",
              "      <td>Offline</td>\n",
              "      <td>L</td>\n",
              "      <td>02-10-2012</td>\n",
              "      <td>665095412</td>\n",
              "      <td>2/15/2012</td>\n",
              "      <td>5367</td>\n",
              "      <td>668.27</td>\n",
              "      <td>502.54</td>\n",
              "      <td>3586605.09</td>\n",
              "      <td>2697132.18</td>\n",
              "      <td>889472.91</td>\n",
              "    </tr>\n",
              "  </tbody>\n",
              "</table>\n",
              "<p>100 rows × 14 columns</p>\n",
              "</div>"
            ],
            "text/plain": [
              "                               Region                Country        Item Type  \\\n",
              "0               Australia and Oceania                 Tuvalu        Baby Food   \n",
              "1   Central America and the Caribbean                Grenada           Cereal   \n",
              "2                              Europe                 Russia  Office Supplies   \n",
              "3                  Sub-Saharan Africa  Sao Tome and Principe           Fruits   \n",
              "4                  Sub-Saharan Africa                 Rwanda  Office Supplies   \n",
              "..                                ...                    ...              ...   \n",
              "95                 Sub-Saharan Africa                   Mali          Clothes   \n",
              "96                               Asia               Malaysia           Fruits   \n",
              "97                 Sub-Saharan Africa           Sierra Leone       Vegetables   \n",
              "98                      North America                 Mexico    Personal Care   \n",
              "99                 Sub-Saharan Africa             Mozambique        Household   \n",
              "\n",
              "   Sales Channel Order Priority  Order Date   Order ID   Ship Date  \\\n",
              "0        Offline              H   5/28/2010  669165933   6/27/2010   \n",
              "1         Online              C   8/22/2012  963881480   9/15/2012   \n",
              "2        Offline              L  05-02-2014  341417157  05-08-2014   \n",
              "3         Online              C   6/20/2014  514321792  07-05-2014   \n",
              "4        Offline              L  02-01-2013  115456712  02-06-2013   \n",
              "..           ...            ...         ...        ...         ...   \n",
              "95        Online              M   7/26/2011  512878119  09-03-2011   \n",
              "96       Offline              L  11-11-2011  810711038  12/28/2011   \n",
              "97       Offline              C  06-01-2016  728815257   6/29/2016   \n",
              "98       Offline              M   7/30/2015  559427106  08-08-2015   \n",
              "99       Offline              L  02-10-2012  665095412   2/15/2012   \n",
              "\n",
              "    Units Sold  Unit Price  Unit Cost  Total Revenue  Total Cost  Total Profit  \n",
              "0         9925      255.28     159.42     2533654.00  1582243.50     951410.50  \n",
              "1         2804      205.70     117.11      576782.80   328376.44     248406.36  \n",
              "2         1779      651.21     524.96     1158502.59   933903.84     224598.75  \n",
              "3         8102        9.33       6.92       75591.66    56065.84      19525.82  \n",
              "4         5062      651.21     524.96     3296425.02  2657347.52     639077.50  \n",
              "..         ...         ...        ...            ...         ...           ...  \n",
              "95         888      109.28      35.84       97040.64    31825.92      65214.72  \n",
              "96        6267        9.33       6.92       58471.11    43367.64      15103.47  \n",
              "97        1485      154.06      90.93      228779.10   135031.05      93748.05  \n",
              "98        5767       81.73      56.67      471336.91   326815.89     144521.02  \n",
              "99        5367      668.27     502.54     3586605.09  2697132.18     889472.91  \n",
              "\n",
              "[100 rows x 14 columns]"
            ]
          },
          "execution_count": 2,
          "metadata": {},
          "output_type": "execute_result"
        }
      ],
      "source": [
        "# Show dataframe\n",
        "data"
      ]
    },
    {
      "cell_type": "code",
      "execution_count": 3,
      "metadata": {
        "colab": {
          "base_uri": "https://localhost:8080/"
        },
        "id": "HjK974eCoXCI",
        "outputId": "cc673a72-99fc-47c3-fc75-9bf4359aa368"
      },
      "outputs": [
        {
          "data": {
            "text/plain": [
              "Index(['Region', 'Country', 'Item Type', 'Sales Channel', 'Order Priority',\n",
              "       'Order Date', 'Order ID', 'Ship Date', 'Units Sold', 'Unit Price',\n",
              "       'Unit Cost', 'Total Revenue', 'Total Cost', 'Total Profit'],\n",
              "      dtype='object')"
            ]
          },
          "execution_count": 3,
          "metadata": {},
          "output_type": "execute_result"
        }
      ],
      "source": [
        "# Show columns present in dataframe \n",
        "data.columns"
      ]
    },
    {
      "cell_type": "code",
      "execution_count": 4,
      "metadata": {
        "colab": {
          "base_uri": "https://localhost:8080/"
        },
        "id": "1wBaJS26ai4j",
        "outputId": "c188e4bb-b04d-47e3-edca-85861072e264"
      },
      "outputs": [
        {
          "name": "stdout",
          "output_type": "stream",
          "text": [
            "<class 'pandas.core.frame.DataFrame'>\n",
            "RangeIndex: 100 entries, 0 to 99\n",
            "Data columns (total 14 columns):\n",
            " #   Column          Non-Null Count  Dtype  \n",
            "---  ------          --------------  -----  \n",
            " 0   Region          100 non-null    object \n",
            " 1   Country         100 non-null    object \n",
            " 2   Item Type       100 non-null    object \n",
            " 3   Sales Channel   100 non-null    object \n",
            " 4   Order Priority  100 non-null    object \n",
            " 5   Order Date      100 non-null    object \n",
            " 6   Order ID        100 non-null    int64  \n",
            " 7   Ship Date       100 non-null    object \n",
            " 8   Units Sold      100 non-null    int64  \n",
            " 9   Unit Price      100 non-null    float64\n",
            " 10  Unit Cost       100 non-null    float64\n",
            " 11  Total Revenue   100 non-null    float64\n",
            " 12  Total Cost      100 non-null    float64\n",
            " 13  Total Profit    100 non-null    float64\n",
            "dtypes: float64(5), int64(2), object(7)\n",
            "memory usage: 11.1+ KB\n"
          ]
        }
      ],
      "source": [
        "# Show basic information of dataframe like null value count of each column and their data type \n",
        "data.info()"
      ]
    },
    {
      "cell_type": "code",
      "execution_count": 5,
      "metadata": {
        "colab": {
          "base_uri": "https://localhost:8080/",
          "height": 349
        },
        "id": "qDVfcvQ1goP5",
        "outputId": "8be0feb6-743e-4ef0-f597-0c6060c6da77"
      },
      "outputs": [
        {
          "data": {
            "text/html": [
              "<div>\n",
              "<style scoped>\n",
              "    .dataframe tbody tr th:only-of-type {\n",
              "        vertical-align: middle;\n",
              "    }\n",
              "\n",
              "    .dataframe tbody tr th {\n",
              "        vertical-align: top;\n",
              "    }\n",
              "\n",
              "    .dataframe thead th {\n",
              "        text-align: right;\n",
              "    }\n",
              "</style>\n",
              "<table border=\"1\" class=\"dataframe\">\n",
              "  <thead>\n",
              "    <tr style=\"text-align: right;\">\n",
              "      <th></th>\n",
              "      <th>Units Sold</th>\n",
              "      <th>Unit Price</th>\n",
              "      <th>Unit Cost</th>\n",
              "      <th>Total Revenue</th>\n",
              "      <th>Total Cost</th>\n",
              "      <th>Total Profit</th>\n",
              "    </tr>\n",
              "  </thead>\n",
              "  <tbody>\n",
              "    <tr>\n",
              "      <th>count</th>\n",
              "      <td>100.000000</td>\n",
              "      <td>100.000000</td>\n",
              "      <td>100.000000</td>\n",
              "      <td>1.000000e+02</td>\n",
              "      <td>1.000000e+02</td>\n",
              "      <td>1.000000e+02</td>\n",
              "    </tr>\n",
              "    <tr>\n",
              "      <th>mean</th>\n",
              "      <td>5128.710000</td>\n",
              "      <td>276.761300</td>\n",
              "      <td>191.048000</td>\n",
              "      <td>1.373488e+06</td>\n",
              "      <td>9.318057e+05</td>\n",
              "      <td>4.416820e+05</td>\n",
              "    </tr>\n",
              "    <tr>\n",
              "      <th>std</th>\n",
              "      <td>2794.484562</td>\n",
              "      <td>235.592241</td>\n",
              "      <td>188.208181</td>\n",
              "      <td>1.460029e+06</td>\n",
              "      <td>1.083938e+06</td>\n",
              "      <td>4.385379e+05</td>\n",
              "    </tr>\n",
              "    <tr>\n",
              "      <th>min</th>\n",
              "      <td>124.000000</td>\n",
              "      <td>9.330000</td>\n",
              "      <td>6.920000</td>\n",
              "      <td>4.870260e+03</td>\n",
              "      <td>3.612240e+03</td>\n",
              "      <td>1.258020e+03</td>\n",
              "    </tr>\n",
              "    <tr>\n",
              "      <th>25%</th>\n",
              "      <td>2836.250000</td>\n",
              "      <td>81.730000</td>\n",
              "      <td>35.840000</td>\n",
              "      <td>2.687212e+05</td>\n",
              "      <td>1.688680e+05</td>\n",
              "      <td>1.214436e+05</td>\n",
              "    </tr>\n",
              "    <tr>\n",
              "      <th>50%</th>\n",
              "      <td>5382.500000</td>\n",
              "      <td>179.880000</td>\n",
              "      <td>107.275000</td>\n",
              "      <td>7.523144e+05</td>\n",
              "      <td>3.635664e+05</td>\n",
              "      <td>2.907680e+05</td>\n",
              "    </tr>\n",
              "    <tr>\n",
              "      <th>75%</th>\n",
              "      <td>7369.000000</td>\n",
              "      <td>437.200000</td>\n",
              "      <td>263.330000</td>\n",
              "      <td>2.212045e+06</td>\n",
              "      <td>1.613870e+06</td>\n",
              "      <td>6.358288e+05</td>\n",
              "    </tr>\n",
              "    <tr>\n",
              "      <th>max</th>\n",
              "      <td>9925.000000</td>\n",
              "      <td>668.270000</td>\n",
              "      <td>524.960000</td>\n",
              "      <td>5.997055e+06</td>\n",
              "      <td>4.509794e+06</td>\n",
              "      <td>1.719922e+06</td>\n",
              "    </tr>\n",
              "  </tbody>\n",
              "</table>\n",
              "</div>"
            ],
            "text/plain": [
              "        Units Sold  Unit Price   Unit Cost  Total Revenue    Total Cost  \\\n",
              "count   100.000000  100.000000  100.000000   1.000000e+02  1.000000e+02   \n",
              "mean   5128.710000  276.761300  191.048000   1.373488e+06  9.318057e+05   \n",
              "std    2794.484562  235.592241  188.208181   1.460029e+06  1.083938e+06   \n",
              "min     124.000000    9.330000    6.920000   4.870260e+03  3.612240e+03   \n",
              "25%    2836.250000   81.730000   35.840000   2.687212e+05  1.688680e+05   \n",
              "50%    5382.500000  179.880000  107.275000   7.523144e+05  3.635664e+05   \n",
              "75%    7369.000000  437.200000  263.330000   2.212045e+06  1.613870e+06   \n",
              "max    9925.000000  668.270000  524.960000   5.997055e+06  4.509794e+06   \n",
              "\n",
              "       Total Profit  \n",
              "count  1.000000e+02  \n",
              "mean   4.416820e+05  \n",
              "std    4.385379e+05  \n",
              "min    1.258020e+03  \n",
              "25%    1.214436e+05  \n",
              "50%    2.907680e+05  \n",
              "75%    6.358288e+05  \n",
              "max    1.719922e+06  "
            ]
          },
          "execution_count": 5,
          "metadata": {},
          "output_type": "execute_result"
        }
      ],
      "source": [
        "# Using describe function on dataframe for getting basic stats of numerical dataset \n",
        "data[['Units Sold', 'Unit Price',\t'Unit Cost', 'Total Revenue', 'Total Cost',\t'Total Profit']].describe()"
      ]
    },
    {
      "cell_type": "code",
      "execution_count": 6,
      "metadata": {
        "id": "FBau7Q4apSGK"
      },
      "outputs": [],
      "source": [
        "# Saving the data dataframe to df \n",
        "df = data"
      ]
    },
    {
      "cell_type": "code",
      "execution_count": 7,
      "metadata": {
        "colab": {
          "base_uri": "https://localhost:8080/"
        },
        "id": "h7ose3zKpTjU",
        "outputId": "c5d90477-a388-4d43-825b-61e28f2bae49"
      },
      "outputs": [
        {
          "data": {
            "text/plain": [
              "Region            0\n",
              "Country           0\n",
              "Item Type         0\n",
              "Sales Channel     0\n",
              "Order Priority    0\n",
              "Order Date        0\n",
              "Order ID          0\n",
              "Ship Date         0\n",
              "Units Sold        0\n",
              "Unit Price        0\n",
              "Unit Cost         0\n",
              "Total Revenue     0\n",
              "Total Cost        0\n",
              "Total Profit      0\n",
              "dtype: int64"
            ]
          },
          "execution_count": 7,
          "metadata": {},
          "output_type": "execute_result"
        }
      ],
      "source": [
        "# Checking out total null value in the all the column of dataframe \n",
        "df.isnull().sum()"
      ]
    },
    {
      "cell_type": "code",
      "execution_count": 8,
      "metadata": {
        "colab": {
          "base_uri": "https://localhost:8080/"
        },
        "id": "MxILy8ohpUIq",
        "outputId": "ef8dab82-5568-454f-b71c-8cc3da504217"
      },
      "outputs": [
        {
          "data": {
            "text/plain": [
              "Country\n",
              "The Gambia                          4\n",
              "Sierra Leone                        3\n",
              "Sao Tome and Principe               3\n",
              "Mexico                              3\n",
              "Australia                           3\n",
              "Djibouti                            3\n",
              "Switzerland                         2\n",
              "Myanmar                             2\n",
              "Norway                              2\n",
              "Turkmenistan                        2\n",
              "Cameroon                            2\n",
              "Bulgaria                            2\n",
              "Honduras                            2\n",
              "Azerbaijan                          2\n",
              "Libya                               2\n",
              "Rwanda                              2\n",
              "Mali                                2\n",
              "Gabon                               1\n",
              "Belize                              1\n",
              "Haiti                               1\n",
              "Lithuania                           1\n",
              "San Marino                          1\n",
              "United Kingdom                      1\n",
              "Austria                             1\n",
              "Fiji                                1\n",
              "Madagascar                          1\n",
              "Cote d'Ivoire                       1\n",
              "Tuvalu                              1\n",
              "Democratic Republic of the Congo    1\n",
              "Zambia                              1\n",
              "Malaysia                            1\n",
              "Nicaragua                           1\n",
              "Romania                             1\n",
              "Slovenia                            1\n",
              "Kuwait                              1\n",
              "Kenya                               1\n",
              "Iran                                1\n",
              "Pakistan                            1\n",
              "Lebanon                             1\n",
              "Spain                               1\n",
              "Samoa                               1\n",
              "Monaco                              1\n",
              "Laos                                1\n",
              "Saudi Arabia                        1\n",
              "Federated States of Micronesia      1\n",
              "Slovakia                            1\n",
              "Lesotho                             1\n",
              "Albania                             1\n",
              "Russia                              1\n",
              "Solomon Islands                     1\n",
              "Angola                              1\n",
              "Burkina Faso                        1\n",
              "Republic of the Congo               1\n",
              "Senegal                             1\n",
              "Kyrgyzstan                          1\n",
              "Cape Verde                          1\n",
              "Bangladesh                          1\n",
              "Mongolia                            1\n",
              "Sri Lanka                           1\n",
              "East Timor                          1\n",
              "Portugal                            1\n",
              "New Zealand                         1\n",
              "Moldova                             1\n",
              "France                              1\n",
              "Kiribati                            1\n",
              "South Sudan                         1\n",
              "Costa Rica                          1\n",
              "Syria                               1\n",
              "Brunei                              1\n",
              "Niger                               1\n",
              "Grenada                             1\n",
              "Comoros                             1\n",
              "Iceland                             1\n",
              "Macedonia                           1\n",
              "Mauritania                          1\n",
              "Mozambique                          1\n",
              "Name: count, dtype: int64"
            ]
          },
          "execution_count": 8,
          "metadata": {},
          "output_type": "execute_result"
        }
      ],
      "source": [
        "# Display total values of all country \n",
        "pd.set_option('display.max_rows', None)\n",
        "df['Country'].value_counts()"
      ]
    },
    {
      "cell_type": "code",
      "execution_count": 9,
      "metadata": {
        "colab": {
          "base_uri": "https://localhost:8080/",
          "height": 520
        },
        "id": "BTM5BD72pjef",
        "outputId": "1a8316f7-e530-4e9d-a392-0fff18ff4b89"
      },
      "outputs": [
        {
          "data": {
            "image/png": "[encoded data removed]",
            "text/plain": [
              "<Figure size 900x900 with 1 Axes>"
            ]
          },
          "metadata": {},
          "output_type": "display_data"
        }
      ],
      "source": [
        "import matplotlib.pyplot as plt \n",
        "country_names = df.Country.value_counts().index\n",
        "country_val = df.Country.value_counts().values\n",
        "# Pie Chart for top 20 country\n",
        "fig,ax = plt.subplots(figsize=(9,9))\n",
        "ax.pie(country_val[:20],labels=country_names[:20],autopct='%1.2f%%')\n",
        "plt.show()"
      ]
    },
    {
      "cell_type": "markdown",
      "metadata": {
        "id": "325ly2VJ8u03"
      },
      "source": [
        "#Exploratory Data Analysis "
      ]
    },
    {
      "cell_type": "markdown",
      "metadata": {
        "id": "EKVmlXskNTh_"
      },
      "source": [
        "###Checking Outliers in the dataframe\n",
        "\n"
      ]
    },
    {
      "cell_type": "markdown",
      "metadata": {
        "id": "GRuYrV6IrsHg"
      },
      "source": [
        "Box Plot for Total Profit"
      ]
    },
    {
      "cell_type": "markdown",
      "metadata": {
        "id": "q_eGKouIPFe-"
      },
      "source": [
        "The first line imports the Matplotlib pyplot module and assigns it to the variable 'plt'. The second line imports the Seaborn library and sets the plot style to 'white'. The third line creates a figure with a size of 10 inches by 2 inches using the subplots() function and assigns the plot object to the variables 'fig' and 'ax'. This allows for further customization of the plot. The fourth line creates a boxplot of the 'Total Profit' variable in the dataset using the Seaborn boxplot() function. The 'color' parameter sets the color of the boxes to 'plum' and the 'width' parameter sets the width of the boxes to 0.6.\n",
        "The fifth line adds a title to the plot and sets the font size to 13. The sixth line adds a label to the x-axis. The last line displays the plot using the show() function.\n",
        "\n"
      ]
    },
    {
      "cell_type": "code",
      "execution_count": 10,
      "metadata": {
        "colab": {
          "base_uri": "https://localhost:8080/",
          "height": 196
        },
        "id": "APy1oNEWqUZr",
        "outputId": "82633c67-4fc5-4396-9a2d-09c7e55a7a39"
      },
      "outputs": [
        {
          "data": {
            "image/png": "[encoded data removed]",
            "text/plain": [
              "<Figure size 1000x200 with 1 Axes>"
            ]
          },
          "metadata": {},
          "output_type": "display_data"
        }
      ],
      "source": [
        "import matplotlib.pyplot as plt\n",
        "sns.set(style='white')\n",
        "fig, ax = plt.subplots(figsize=(10, 2))\n",
        "sns.boxplot(data['Total Profit'], color=\"plum\", width=.6)\n",
        "\n",
        "plt.title('Total Profit Boxplot', fontsize=13)\n",
        "plt.xlabel('Profit')\n",
        "plt.show()"
      ]
    },
    {
      "cell_type": "markdown",
      "metadata": {
        "id": "5C6d3XeU9K9w"
      },
      "source": [
        "The function 'detect_outliers' takes in two arguments: a pandas DataFrame 'dataframe' and a column name 'column'. It aims to detect outliers in the specified column using the Z-score method.\n",
        "\n",
        "The Z-score method assumes that the data follows a normal distribution and detects outliers as values that fall outside a certain number of standard deviations from the mean. In this case, the threshold is set to 2 standard deviations.\n",
        "\n",
        "The function first calculates the mean and standard deviation of the column. It then loops through each value in the column and calculates its Z-score. If the absolute Z-score is greater than the threshold, the function appends the index of the outlier to a list and prints the corresponding row of the DataFrame. Finally, the function returns the list of outlier indices.\n",
        "\n",
        "Note that the function requires the 'numpy' library to be imported and assumes that the column values are numeric. Also, the function prints the corresponding rows of the DataFrame where the outliers are found, but this may not be desirable if the DataFrame is large."
      ]
    },
    {
      "cell_type": "code",
      "execution_count": 11,
      "metadata": {
        "id": "S8cJKW3cqUsy"
      },
      "outputs": [],
      "source": [
        "def detect_outliers(dataframe, column):\n",
        "    threshold = 2     ## 2rd standard deviation\n",
        "    mean = np.mean(column)\n",
        "    std = np.std(column)\n",
        "    outliers = []\n",
        "\n",
        "    for i, value in enumerate(column):\n",
        "        z_score = (value - mean) / std\n",
        "        if np.abs(z_score) > threshold:\n",
        "            outliers.append(i)\n",
        "            print(dataframe.loc[i])\n",
        "\n",
        "    return outliers"
      ]
    },
    {
      "cell_type": "code",
      "execution_count": 12,
      "metadata": {
        "colab": {
          "base_uri": "https://localhost:8080/"
        },
        "id": "ifL-HDvDqUz5",
        "outputId": "f2e91f33-ec6e-4f3a-f3b5-06e33ab910ae"
      },
      "outputs": [
        {
          "name": "stdout",
          "output_type": "stream",
          "text": [
            "Region            Central America and the Caribbean\n",
            "Country                                    Honduras\n",
            "Item Type                                 Household\n",
            "Sales Channel                               Offline\n",
            "Order Priority                                    H\n",
            "Order Date                               02-08-2017\n",
            "Order ID                                  522840487\n",
            "Ship Date                                 2/13/2017\n",
            "Units Sold                                     8974\n",
            "Unit Price                                   668.27\n",
            "Unit Cost                                    502.54\n",
            "Total Revenue                            5997054.98\n",
            "Total Cost                               4509793.96\n",
            "Total Profit                             1487261.02\n",
            "Name: 13, dtype: object\n",
            "Region                 Europe\n",
            "Country           Switzerland\n",
            "Item Type           Cosmetics\n",
            "Sales Channel         Offline\n",
            "Order Priority              M\n",
            "Order Date          9/17/2012\n",
            "Order ID            249693334\n",
            "Ship Date          10/20/2012\n",
            "Units Sold               8661\n",
            "Unit Price              437.2\n",
            "Unit Cost              263.33\n",
            "Total Revenue       3786589.2\n",
            "Total Cost         2280701.13\n",
            "Total Profit       1505888.07\n",
            "Name: 30, dtype: object\n",
            "Region                  Asia\n",
            "Country              Myanmar\n",
            "Item Type          Household\n",
            "Sales Channel        Offline\n",
            "Order Priority             H\n",
            "Order Date         1/16/2015\n",
            "Order ID           177713572\n",
            "Ship Date         03-01-2015\n",
            "Units Sold              8250\n",
            "Unit Price            668.27\n",
            "Unit Cost             502.54\n",
            "Total Revenue      5513227.5\n",
            "Total Cost         4145955.0\n",
            "Total Profit       1367272.5\n",
            "Name: 33, dtype: object\n",
            "Region                Europe\n",
            "Country              Iceland\n",
            "Item Type          Cosmetics\n",
            "Sales Channel         Online\n",
            "Order Priority             C\n",
            "Order Date        12/31/2016\n",
            "Order ID           331438481\n",
            "Ship Date         12/31/2016\n",
            "Units Sold              8867\n",
            "Unit Price             437.2\n",
            "Unit Cost             263.33\n",
            "Total Revenue      3876652.4\n",
            "Total Cost        2334947.11\n",
            "Total Profit      1541705.29\n",
            "Name: 46, dtype: object\n",
            "Region            Middle East and North Africa\n",
            "Country                               Pakistan\n",
            "Item Type                            Cosmetics\n",
            "Sales Channel                          Offline\n",
            "Order Priority                               L\n",
            "Order Date                          07-05-2013\n",
            "Order ID                             231145322\n",
            "Ship Date                            8/16/2013\n",
            "Units Sold                                9892\n",
            "Unit Price                               437.2\n",
            "Unit Cost                               263.33\n",
            "Total Revenue                        4324782.4\n",
            "Total Cost                          2604860.36\n",
            "Total Profit                        1719922.04\n",
            "Name: 74, dtype: object\n",
            "Region            Australia and Oceania\n",
            "Country                          Samoa \n",
            "Item Type                     Cosmetics\n",
            "Sales Channel                    Online\n",
            "Order Priority                        H\n",
            "Order Date                    7/20/2013\n",
            "Order ID                      670854651\n",
            "Ship Date                    08-07-2013\n",
            "Units Sold                         9654\n",
            "Unit Price                        437.2\n",
            "Unit Cost                        263.33\n",
            "Total Revenue                 4220728.8\n",
            "Total Cost                   2542187.82\n",
            "Total Profit                 1678540.98\n",
            "Name: 79, dtype: object\n",
            "Region                Europe\n",
            "Country              Romania\n",
            "Item Type          Cosmetics\n",
            "Sales Channel         Online\n",
            "Order Priority             H\n",
            "Order Date        11/26/2010\n",
            "Order ID           660643374\n",
            "Ship Date         12/25/2010\n",
            "Units Sold              7910\n",
            "Unit Price             437.2\n",
            "Unit Cost             263.33\n",
            "Total Revenue      3458252.0\n",
            "Total Cost         2082940.3\n",
            "Total Profit       1375311.7\n",
            "Name: 93, dtype: object\n"
          ]
        }
      ],
      "source": [
        "outliers = detect_outliers(df, df[\"Total Profit\"])"
      ]
    },
    {
      "cell_type": "code",
      "execution_count": 13,
      "metadata": {
        "colab": {
          "base_uri": "https://localhost:8080/"
        },
        "id": "IogKm7qKA0qw",
        "outputId": "3c55f000-486b-406c-806a-16307015defa"
      },
      "outputs": [
        {
          "name": "stdout",
          "output_type": "stream",
          "text": [
            "[13, 30, 33, 46, 74, 79, 93]\n"
          ]
        }
      ],
      "source": [
        "# Print rows where outlier is present for the Total Profit column value\n",
        "print(outliers)"
      ]
    },
    {
      "cell_type": "code",
      "execution_count": 14,
      "metadata": {
        "colab": {
          "base_uri": "https://localhost:8080/"
        },
        "id": "cZL0rDH6qU3K",
        "outputId": "6c26771f-c31b-4b8b-b7ed-5f07fef0fad7"
      },
      "outputs": [
        {
          "name": "stdout",
          "output_type": "stream",
          "text": [
            "The list has 7 outliers in Total Profit column of dataframe data \n"
          ]
        }
      ],
      "source": [
        "list_length = len(outliers)\n",
        "\n",
        "# Print the number of values in the list\n",
        "print(\"The list has\", list_length, \"outliers in Total Profit column of dataframe data \")"
      ]
    },
    {
      "cell_type": "markdown",
      "metadata": {
        "id": "3KiSoj5LBc64"
      },
      "source": [
        "Box Plot of Total Cost "
      ]
    },
    {
      "cell_type": "code",
      "execution_count": 15,
      "metadata": {
        "colab": {
          "base_uri": "https://localhost:8080/",
          "height": 196
        },
        "id": "SnX55zF2BStZ",
        "outputId": "3c5d79fd-c285-40b2-dbf2-e1042d984789"
      },
      "outputs": [
        {
          "data": {
            "image/png": "[encoded data removed]",
            "text/plain": [
              "<Figure size 1000x200 with 1 Axes>"
            ]
          },
          "metadata": {},
          "output_type": "display_data"
        }
      ],
      "source": [
        "sns.set(style='white')\n",
        "fig, ax = plt.subplots(figsize=(10, 2))\n",
        "sns.boxplot(data['Total Cost'], color=\"plum\", width=.6)\n",
        "\n",
        "plt.title('Total Cost Boxplot', fontsize=13)\n",
        "plt.xlabel('Cost')\n",
        "plt.show()"
      ]
    },
    {
      "cell_type": "code",
      "execution_count": 16,
      "metadata": {
        "id": "gyAebK37BSwI"
      },
      "outputs": [],
      "source": [
        "def detect_outliers(dataframe, column):\n",
        "    threshold = 2     ## 3rd standard deviation\n",
        "    mean = np.mean(column)\n",
        "    std = np.std(column)\n",
        "    outliers = []\n",
        "\n",
        "    for i, value in enumerate(column):\n",
        "        z_score = (value - mean) / std\n",
        "        if np.abs(z_score) > threshold:\n",
        "            outliers.append(i)\n",
        "            print(dataframe.loc[i])\n",
        "\n",
        "    return outliers"
      ]
    },
    {
      "cell_type": "code",
      "execution_count": 17,
      "metadata": {
        "colab": {
          "base_uri": "https://localhost:8080/"
        },
        "id": "TbmN1x9BBSyx",
        "outputId": "1c43bf53-78ae-4182-c9a2-c9da049acaba"
      },
      "outputs": [
        {
          "name": "stdout",
          "output_type": "stream",
          "text": [
            "Region            Central America and the Caribbean\n",
            "Country                                    Honduras\n",
            "Item Type                                 Household\n",
            "Sales Channel                               Offline\n",
            "Order Priority                                    H\n",
            "Order Date                               02-08-2017\n",
            "Order ID                                  522840487\n",
            "Ship Date                                 2/13/2017\n",
            "Units Sold                                     8974\n",
            "Unit Price                                   668.27\n",
            "Unit Cost                                    502.54\n",
            "Total Revenue                            5997054.98\n",
            "Total Cost                               4509793.96\n",
            "Total Profit                             1487261.02\n",
            "Name: 13, dtype: object\n",
            "Region                  Asia\n",
            "Country              Myanmar\n",
            "Item Type          Household\n",
            "Sales Channel        Offline\n",
            "Order Priority             H\n",
            "Order Date         1/16/2015\n",
            "Order ID           177713572\n",
            "Ship Date         03-01-2015\n",
            "Units Sold              8250\n",
            "Unit Price            668.27\n",
            "Unit Cost             502.54\n",
            "Total Revenue      5513227.5\n",
            "Total Cost         4145955.0\n",
            "Total Profit       1367272.5\n",
            "Name: 33, dtype: object\n",
            "Region                       Asia\n",
            "Country                    Brunei\n",
            "Item Type         Office Supplies\n",
            "Sales Channel              Online\n",
            "Order Priority                  L\n",
            "Order Date             04-01-2012\n",
            "Order ID                320009267\n",
            "Ship Date              05-08-2012\n",
            "Units Sold                   6708\n",
            "Unit Price                 651.21\n",
            "Unit Cost                  524.96\n",
            "Total Revenue          4368316.68\n",
            "Total Cost             3521431.68\n",
            "Total Profit             846885.0\n",
            "Name: 38, dtype: object\n",
            "Region                     Europe\n",
            "Country                 Lithuania\n",
            "Item Type         Office Supplies\n",
            "Sales Channel             Offline\n",
            "Order Priority                  H\n",
            "Order Date             10/24/2010\n",
            "Order ID                166460740\n",
            "Ship Date              11/17/2010\n",
            "Units Sold                   8287\n",
            "Unit Price                 651.21\n",
            "Unit Cost                  524.96\n",
            "Total Revenue          5396577.27\n",
            "Total Cost             4350343.52\n",
            "Total Profit           1046233.75\n",
            "Name: 68, dtype: object\n",
            "Region            North America\n",
            "Country                  Mexico\n",
            "Item Type             Household\n",
            "Sales Channel           Offline\n",
            "Order Priority                C\n",
            "Order Date           11-06-2014\n",
            "Order ID              986435210\n",
            "Ship Date            12-12-2014\n",
            "Units Sold                 6954\n",
            "Unit Price               668.27\n",
            "Unit Cost                502.54\n",
            "Total Revenue        4647149.58\n",
            "Total Cost           3494663.16\n",
            "Total Profit         1152486.42\n",
            "Name: 75, dtype: object\n"
          ]
        }
      ],
      "source": [
        "outliers = detect_outliers(df, df[\"Total Cost\"])"
      ]
    },
    {
      "cell_type": "code",
      "execution_count": 18,
      "metadata": {
        "colab": {
          "base_uri": "https://localhost:8080/"
        },
        "id": "-Ji9kW7_BS1E",
        "outputId": "d3f7a313-2605-41f9-f55e-6570d5f4e21e"
      },
      "outputs": [
        {
          "name": "stdout",
          "output_type": "stream",
          "text": [
            "[13, 33, 38, 68, 75]\n"
          ]
        }
      ],
      "source": [
        "# Print rows where outlier is present for the Total Cost column value\n",
        "print(outliers)"
      ]
    },
    {
      "cell_type": "code",
      "execution_count": 19,
      "metadata": {
        "colab": {
          "base_uri": "https://localhost:8080/"
        },
        "id": "gavT3M31BS4E",
        "outputId": "22a3e516-b880-47c7-a92e-6522b56685d2"
      },
      "outputs": [
        {
          "name": "stdout",
          "output_type": "stream",
          "text": [
            "The list has 5 outliers in Total Cost column of dataframe data \n"
          ]
        }
      ],
      "source": [
        "list_length = len(outliers)\n",
        "\n",
        "# Print the number of values in the list\n",
        "print(\"The list has\", list_length, \"outliers in Total Cost column of dataframe data \")"
      ]
    },
    {
      "cell_type": "markdown",
      "metadata": {
        "id": "gcGsBanCB2cf"
      },
      "source": [
        "Box Plot of Total Revenue"
      ]
    },
    {
      "cell_type": "code",
      "execution_count": 20,
      "metadata": {
        "colab": {
          "base_uri": "https://localhost:8080/",
          "height": 196
        },
        "id": "2hRDqmIJBTJV",
        "outputId": "f630efbf-1ca5-4882-b4b5-b4a16e8445b9"
      },
      "outputs": [
        {
          "data": {
            "image/png": "[encoded data removed]",
            "text/plain": [
              "<Figure size 1000x200 with 1 Axes>"
            ]
          },
          "metadata": {},
          "output_type": "display_data"
        }
      ],
      "source": [
        "sns.set(style='white')\n",
        "fig, ax = plt.subplots(figsize=(10, 2))\n",
        "sns.boxplot(data['Total Revenue'], color=\"plum\", width=.6)\n",
        "\n",
        "plt.title('Total Revenue Boxplot', fontsize=13)\n",
        "plt.xlabel('Revenue')\n",
        "plt.show()"
      ]
    },
    {
      "cell_type": "code",
      "execution_count": 21,
      "metadata": {
        "id": "cPh_QpHTB6su"
      },
      "outputs": [],
      "source": [
        "def detect_outliers(dataframe, column):\n",
        "    threshold = 2     ## 3rd standard deviation\n",
        "    mean = np.mean(column)\n",
        "    std = np.std(column)\n",
        "    outliers = []\n",
        "\n",
        "    for i, value in enumerate(column):\n",
        "        z_score = (value - mean) / std\n",
        "        if np.abs(z_score) > threshold:\n",
        "            outliers.append(i)\n",
        "            print(dataframe.loc[i])\n",
        "\n",
        "    return outliers"
      ]
    },
    {
      "cell_type": "code",
      "execution_count": 22,
      "metadata": {
        "colab": {
          "base_uri": "https://localhost:8080/"
        },
        "id": "XWNiyRArB6vc",
        "outputId": "e7088e80-bc8e-43f6-c9dd-6b8dd63637d1"
      },
      "outputs": [
        {
          "name": "stdout",
          "output_type": "stream",
          "text": [
            "Region            Central America and the Caribbean\n",
            "Country                                    Honduras\n",
            "Item Type                                 Household\n",
            "Sales Channel                               Offline\n",
            "Order Priority                                    H\n",
            "Order Date                               02-08-2017\n",
            "Order ID                                  522840487\n",
            "Ship Date                                 2/13/2017\n",
            "Units Sold                                     8974\n",
            "Unit Price                                   668.27\n",
            "Unit Cost                                    502.54\n",
            "Total Revenue                            5997054.98\n",
            "Total Cost                               4509793.96\n",
            "Total Profit                             1487261.02\n",
            "Name: 13, dtype: object\n",
            "Region                  Asia\n",
            "Country              Myanmar\n",
            "Item Type          Household\n",
            "Sales Channel        Offline\n",
            "Order Priority             H\n",
            "Order Date         1/16/2015\n",
            "Order ID           177713572\n",
            "Ship Date         03-01-2015\n",
            "Units Sold              8250\n",
            "Unit Price            668.27\n",
            "Unit Cost             502.54\n",
            "Total Revenue      5513227.5\n",
            "Total Cost         4145955.0\n",
            "Total Profit       1367272.5\n",
            "Name: 33, dtype: object\n",
            "Region                       Asia\n",
            "Country                    Brunei\n",
            "Item Type         Office Supplies\n",
            "Sales Channel              Online\n",
            "Order Priority                  L\n",
            "Order Date             04-01-2012\n",
            "Order ID                320009267\n",
            "Ship Date              05-08-2012\n",
            "Units Sold                   6708\n",
            "Unit Price                 651.21\n",
            "Unit Cost                  524.96\n",
            "Total Revenue          4368316.68\n",
            "Total Cost             3521431.68\n",
            "Total Profit             846885.0\n",
            "Name: 38, dtype: object\n",
            "Region                     Europe\n",
            "Country                 Lithuania\n",
            "Item Type         Office Supplies\n",
            "Sales Channel             Offline\n",
            "Order Priority                  H\n",
            "Order Date             10/24/2010\n",
            "Order ID                166460740\n",
            "Ship Date              11/17/2010\n",
            "Units Sold                   8287\n",
            "Unit Price                 651.21\n",
            "Unit Cost                  524.96\n",
            "Total Revenue          5396577.27\n",
            "Total Cost             4350343.52\n",
            "Total Profit           1046233.75\n",
            "Name: 68, dtype: object\n",
            "Region            Middle East and North Africa\n",
            "Country                               Pakistan\n",
            "Item Type                            Cosmetics\n",
            "Sales Channel                          Offline\n",
            "Order Priority                               L\n",
            "Order Date                          07-05-2013\n",
            "Order ID                             231145322\n",
            "Ship Date                            8/16/2013\n",
            "Units Sold                                9892\n",
            "Unit Price                               437.2\n",
            "Unit Cost                               263.33\n",
            "Total Revenue                        4324782.4\n",
            "Total Cost                          2604860.36\n",
            "Total Profit                        1719922.04\n",
            "Name: 74, dtype: object\n",
            "Region            North America\n",
            "Country                  Mexico\n",
            "Item Type             Household\n",
            "Sales Channel           Offline\n",
            "Order Priority                C\n",
            "Order Date           11-06-2014\n",
            "Order ID              986435210\n",
            "Ship Date            12-12-2014\n",
            "Units Sold                 6954\n",
            "Unit Price               668.27\n",
            "Unit Cost                502.54\n",
            "Total Revenue        4647149.58\n",
            "Total Cost           3494663.16\n",
            "Total Profit         1152486.42\n",
            "Name: 75, dtype: object\n"
          ]
        }
      ],
      "source": [
        "outliers = detect_outliers(df, df[\"Total Revenue\"])"
      ]
    },
    {
      "cell_type": "code",
      "execution_count": 23,
      "metadata": {
        "colab": {
          "base_uri": "https://localhost:8080/"
        },
        "id": "zm7kvxBoB6x6",
        "outputId": "02127ac1-a5dd-4e07-84f4-9e76a9c1096e"
      },
      "outputs": [
        {
          "name": "stdout",
          "output_type": "stream",
          "text": [
            "[13, 33, 38, 68, 74, 75]\n"
          ]
        }
      ],
      "source": [
        "# Print rows where outlier is present for the Total Revenue column value\n",
        "print(outliers)"
      ]
    },
    {
      "cell_type": "code",
      "execution_count": 24,
      "metadata": {
        "colab": {
          "base_uri": "https://localhost:8080/"
        },
        "id": "VDe0VEoTB604",
        "outputId": "c2bea640-d4a2-418f-f7b2-6ae3652d274a"
      },
      "outputs": [
        {
          "name": "stdout",
          "output_type": "stream",
          "text": [
            "The list has 6 outliers in Total Revenue column of dataframe data \n"
          ]
        }
      ],
      "source": [
        "list_length = len(outliers)\n",
        "\n",
        "# Print the number of values in the list\n",
        "print(\"The list has\", list_length, \"outliers in Total Revenue column of dataframe data \")"
      ]
    },
    {
      "cell_type": "markdown",
      "metadata": {
        "id": "7zEnn6V4CnpN"
      },
      "source": [
        "Box Plot of Unit Cost "
      ]
    },
    {
      "cell_type": "code",
      "execution_count": 25,
      "metadata": {
        "colab": {
          "base_uri": "https://localhost:8080/",
          "height": 196
        },
        "id": "KNzzHvTRBTL3",
        "outputId": "a9bacaaa-26dc-493d-9b1b-cfa7b0df535b"
      },
      "outputs": [
        {
          "data": {
            "image/png": "[encoded data removed]",
            "text/plain": [
              "<Figure size 1000x200 with 1 Axes>"
            ]
          },
          "metadata": {},
          "output_type": "display_data"
        }
      ],
      "source": [
        "sns.set(style='white')\n",
        "fig, ax = plt.subplots(figsize=(10, 2))\n",
        "sns.boxplot(data['Unit Cost'], color=\"plum\", width=.6)\n",
        "plt.title('Unit Cost Boxplot', fontsize=13)\n",
        "plt.xlabel('Unit Cost')\n",
        "plt.show()"
      ]
    },
    {
      "cell_type": "markdown",
      "metadata": {
        "id": "klynGJt3Cxwd"
      },
      "source": [
        "Box Plot of Unit Price"
      ]
    },
    {
      "cell_type": "code",
      "execution_count": 26,
      "metadata": {
        "colab": {
          "base_uri": "https://localhost:8080/",
          "height": 196
        },
        "id": "wwqvfNYVCk78",
        "outputId": "feee3947-ddd2-4f39-fbf2-eb33b35d60d1"
      },
      "outputs": [
        {
          "data": {
            "image/png": "[encoded data removed]",
            "text/plain": [
              "<Figure size 1000x200 with 1 Axes>"
            ]
          },
          "metadata": {},
          "output_type": "display_data"
        }
      ],
      "source": [
        "sns.set(style='white')\n",
        "fig, ax = plt.subplots(figsize=(10, 2))\n",
        "sns.boxplot(data['Unit Price'], color=\"plum\", width=.6)\n",
        "plt.title('Unit Price Boxplot', fontsize=13)\n",
        "plt.xlabel('Unit Price')\n",
        "plt.show()"
      ]
    },
    {
      "cell_type": "markdown",
      "metadata": {
        "id": "JTZ-jgHVC68h"
      },
      "source": [
        "Box Plot of Unit Sold "
      ]
    },
    {
      "cell_type": "code",
      "execution_count": 27,
      "metadata": {
        "colab": {
          "base_uri": "https://localhost:8080/",
          "height": 196
        },
        "id": "-bnOBSXPC6kn",
        "outputId": "19b38fd0-8154-4e11-b4f1-0433b3a531fe"
      },
      "outputs": [
        {
          "data": {
            "image/png": "[encoded data removed]",
            "text/plain": [
              "<Figure size 1000x200 with 1 Axes>"
            ]
          },
          "metadata": {},
          "output_type": "display_data"
        }
      ],
      "source": [
        "sns.set(style='white')\n",
        "fig, ax = plt.subplots(figsize=(10, 2))\n",
        "sns.boxplot(data['Units Sold'], color=\"plum\", width=.6)\n",
        "\n",
        "plt.title('Units Sold Boxplot', fontsize=13)\n",
        "plt.xlabel('Units Sold')\n",
        "plt.show()"
      ]
    },
    {
      "cell_type": "code",
      "execution_count": 28,
      "metadata": {
        "colab": {
          "base_uri": "https://localhost:8080/"
        },
        "id": "IJgmJvrvpVn2",
        "outputId": "903c4a57-4351-4c2a-cb60-05f419f64ae5"
      },
      "outputs": [
        {
          "data": {
            "text/plain": [
              "Item Type\n",
              "Cosmetics          36601509.60\n",
              "Office Supplies    30585380.07\n",
              "Household          29889712.29\n",
              "Baby Food          10350327.60\n",
              "Clothes             7787292.80\n",
              "Cereal              5322898.90\n",
              "Meat                4503675.75\n",
              "Personal Care       3980904.84\n",
              "Vegetables          3089057.06\n",
              "Beverages           2690794.60\n",
              "Snacks              2080733.46\n",
              "Fruits               466481.34\n",
              "Name: Total Revenue, dtype: float64"
            ]
          },
          "execution_count": 28,
          "metadata": {},
          "output_type": "execute_result"
        }
      ],
      "source": [
        "# Calculating the total revenue for each group with respect to Item Type and then sorting then in descending order\n",
        "revenue_by_category = df.groupby('Item Type')['Total Revenue'].sum().sort_values(ascending=False)\n",
        "revenue_by_category"
      ]
    },
    {
      "cell_type": "code",
      "execution_count": 29,
      "metadata": {
        "colab": {
          "base_uri": "https://localhost:8080/"
        },
        "id": "m9N4b885pWHE",
        "outputId": "8758a4a9-338c-4e48-bd2e-1107a243c7ae"
      },
      "outputs": [
        {
          "data": {
            "text/plain": [
              "Item Type\n",
              "Cosmetics          14556048.66\n",
              "Household           7412605.71\n",
              "Office Supplies     5929583.75\n",
              "Clothes             5233334.40\n",
              "Baby Food           3886643.70\n",
              "Cereal              2292443.43\n",
              "Vegetables          1265819.63\n",
              "Personal Care       1220622.48\n",
              "Beverages            888047.28\n",
              "Snacks               751944.18\n",
              "Meat                 610610.00\n",
              "Fruits               120495.18\n",
              "Name: Total Profit, dtype: float64"
            ]
          },
          "execution_count": 29,
          "metadata": {},
          "output_type": "execute_result"
        }
      ],
      "source": [
        "# Calculating the total profit for each group with respect to Item Type and then sorting then in descending order\n",
        "profit_by_category = df.groupby('Item Type')['Total Profit'].sum().sort_values(ascending=False)\n",
        "profit_by_category"
      ]
    },
    {
      "cell_type": "code",
      "execution_count": 30,
      "metadata": {
        "colab": {
          "base_uri": "https://localhost:8080/"
        },
        "id": "dmuiM2DGoSUr",
        "outputId": "85cb1a52-f4fa-41f2-ec98-1b40b1307f80"
      },
      "outputs": [
        {
          "name": "stdout",
          "output_type": "stream",
          "text": [
            "               Total Revenue  Total Cost  Total Profit\n",
            "Total Revenue       1.000000    0.983928      0.897327\n",
            "Total Cost          0.983928    1.000000      0.804091\n",
            "Total Profit        0.897327    0.804091      1.000000\n"
          ]
        }
      ],
      "source": [
        "# Calculating correlation of 'Total Revenue', 'Total Cost' and 'Total Profit' columns present in dataframe\n",
        "print(df[['Total Revenue', 'Total Cost', 'Total Profit']].corr())"
      ]
    },
    {
      "cell_type": "markdown",
      "metadata": {
        "id": "DfF4yNVDPkbt"
      },
      "source": [
        "##Predictive Analytics "
      ]
    },
    {
      "cell_type": "code",
      "execution_count": 31,
      "metadata": {
        "id": "lwgGASIwF1fP"
      },
      "outputs": [],
      "source": [
        "# Label Encoding of Item Type, Sales Channel and Order Priority for model training \n",
        "from sklearn.preprocessing import LabelEncoder \n",
        "le = LabelEncoder()\n",
        "df[\"Item Type\"] = le.fit_transform(df[\"Item Type\"])\n",
        "df[\"Sales Channel\"] = le.fit_transform(df[\"Sales Channel\"])\n",
        "df[\"Order Priority\"] = le.fit_transform(df[\"Order Priority\"])"
      ]
    },
    {
      "cell_type": "code",
      "execution_count": 32,
      "metadata": {
        "colab": {
          "base_uri": "https://localhost:8080/",
          "height": 215
        },
        "id": "3eRrkw81VSZq",
        "outputId": "ca570380-8524-4a6c-ce5e-240b3bf7ef94"
      },
      "outputs": [
        {
          "data": {
            "text/html": [
              "<div>\n",
              "<style scoped>\n",
              "    .dataframe tbody tr th:only-of-type {\n",
              "        vertical-align: middle;\n",
              "    }\n",
              "\n",
              "    .dataframe tbody tr th {\n",
              "        vertical-align: top;\n",
              "    }\n",
              "\n",
              "    .dataframe thead th {\n",
              "        text-align: right;\n",
              "    }\n",
              "</style>\n",
              "<table border=\"1\" class=\"dataframe\">\n",
              "  <thead>\n",
              "    <tr style=\"text-align: right;\">\n",
              "      <th></th>\n",
              "      <th>Region</th>\n",
              "      <th>Country</th>\n",
              "      <th>Item Type</th>\n",
              "      <th>Sales Channel</th>\n",
              "      <th>Order Priority</th>\n",
              "      <th>Order Date</th>\n",
              "      <th>Order ID</th>\n",
              "      <th>Ship Date</th>\n",
              "      <th>Units Sold</th>\n",
              "      <th>Unit Price</th>\n",
              "      <th>Unit Cost</th>\n",
              "      <th>Total Revenue</th>\n",
              "      <th>Total Cost</th>\n",
              "      <th>Total Profit</th>\n",
              "    </tr>\n",
              "  </thead>\n",
              "  <tbody>\n",
              "    <tr>\n",
              "      <th>0</th>\n",
              "      <td>Australia and Oceania</td>\n",
              "      <td>Tuvalu</td>\n",
              "      <td>0</td>\n",
              "      <td>0</td>\n",
              "      <td>1</td>\n",
              "      <td>5/28/2010</td>\n",
              "      <td>669165933</td>\n",
              "      <td>6/27/2010</td>\n",
              "      <td>9925</td>\n",
              "      <td>255.28</td>\n",
              "      <td>159.42</td>\n",
              "      <td>2533654.00</td>\n",
              "      <td>1582243.50</td>\n",
              "      <td>951410.50</td>\n",
              "    </tr>\n",
              "    <tr>\n",
              "      <th>1</th>\n",
              "      <td>Central America and the Caribbean</td>\n",
              "      <td>Grenada</td>\n",
              "      <td>2</td>\n",
              "      <td>1</td>\n",
              "      <td>0</td>\n",
              "      <td>8/22/2012</td>\n",
              "      <td>963881480</td>\n",
              "      <td>9/15/2012</td>\n",
              "      <td>2804</td>\n",
              "      <td>205.70</td>\n",
              "      <td>117.11</td>\n",
              "      <td>576782.80</td>\n",
              "      <td>328376.44</td>\n",
              "      <td>248406.36</td>\n",
              "    </tr>\n",
              "    <tr>\n",
              "      <th>2</th>\n",
              "      <td>Europe</td>\n",
              "      <td>Russia</td>\n",
              "      <td>8</td>\n",
              "      <td>0</td>\n",
              "      <td>2</td>\n",
              "      <td>05-02-2014</td>\n",
              "      <td>341417157</td>\n",
              "      <td>05-08-2014</td>\n",
              "      <td>1779</td>\n",
              "      <td>651.21</td>\n",
              "      <td>524.96</td>\n",
              "      <td>1158502.59</td>\n",
              "      <td>933903.84</td>\n",
              "      <td>224598.75</td>\n",
              "    </tr>\n",
              "    <tr>\n",
              "      <th>3</th>\n",
              "      <td>Sub-Saharan Africa</td>\n",
              "      <td>Sao Tome and Principe</td>\n",
              "      <td>5</td>\n",
              "      <td>1</td>\n",
              "      <td>0</td>\n",
              "      <td>6/20/2014</td>\n",
              "      <td>514321792</td>\n",
              "      <td>07-05-2014</td>\n",
              "      <td>8102</td>\n",
              "      <td>9.33</td>\n",
              "      <td>6.92</td>\n",
              "      <td>75591.66</td>\n",
              "      <td>56065.84</td>\n",
              "      <td>19525.82</td>\n",
              "    </tr>\n",
              "    <tr>\n",
              "      <th>4</th>\n",
              "      <td>Sub-Saharan Africa</td>\n",
              "      <td>Rwanda</td>\n",
              "      <td>8</td>\n",
              "      <td>0</td>\n",
              "      <td>2</td>\n",
              "      <td>02-01-2013</td>\n",
              "      <td>115456712</td>\n",
              "      <td>02-06-2013</td>\n",
              "      <td>5062</td>\n",
              "      <td>651.21</td>\n",
              "      <td>524.96</td>\n",
              "      <td>3296425.02</td>\n",
              "      <td>2657347.52</td>\n",
              "      <td>639077.50</td>\n",
              "    </tr>\n",
              "  </tbody>\n",
              "</table>\n",
              "</div>"
            ],
            "text/plain": [
              "                              Region                Country  Item Type  \\\n",
              "0              Australia and Oceania                 Tuvalu          0   \n",
              "1  Central America and the Caribbean                Grenada          2   \n",
              "2                             Europe                 Russia          8   \n",
              "3                 Sub-Saharan Africa  Sao Tome and Principe          5   \n",
              "4                 Sub-Saharan Africa                 Rwanda          8   \n",
              "\n",
              "   Sales Channel  Order Priority  Order Date   Order ID   Ship Date  \\\n",
              "0              0               1   5/28/2010  669165933   6/27/2010   \n",
              "1              1               0   8/22/2012  963881480   9/15/2012   \n",
              "2              0               2  05-02-2014  341417157  05-08-2014   \n",
              "3              1               0   6/20/2014  514321792  07-05-2014   \n",
              "4              0               2  02-01-2013  115456712  02-06-2013   \n",
              "\n",
              "   Units Sold  Unit Price  Unit Cost  Total Revenue  Total Cost  Total Profit  \n",
              "0        9925      255.28     159.42     2533654.00  1582243.50     951410.50  \n",
              "1        2804      205.70     117.11      576782.80   328376.44     248406.36  \n",
              "2        1779      651.21     524.96     1158502.59   933903.84     224598.75  \n",
              "3        8102        9.33       6.92       75591.66    56065.84      19525.82  \n",
              "4        5062      651.21     524.96     3296425.02  2657347.52     639077.50  "
            ]
          },
          "execution_count": 32,
          "metadata": {},
          "output_type": "execute_result"
        }
      ],
      "source": [
        "df.head()"
      ]
    },
    {
      "cell_type": "markdown",
      "metadata": {
        "id": "D9_5zRc3EbEF"
      },
      "source": [
        "##Using Pycaret library \n",
        "\n",
        "PyCaret is an open-source, low-code machine learning library in Python that allows users to quickly and easily build, compare, and deploy machine learning models on structured and tabular data. It is designed to streamline the machine learning workflow and reduce the amount of code needed to build a model, while still providing users with a high degree of flexibility and control over the modeling process.\n",
        "\n",
        "PyCaret provides a variety of pre-processing methods, feature engineering techniques, and model selection strategies that can be easily applied to a dataset with just a few lines of code. It also includes a range of tools for model interpretation, such as feature importance plots and SHAP value plots.\n",
        "\n",
        "Some of the key features of PyCaret include:\n",
        "\n",
        "*   Preprocessing and feature engineering functions\n",
        "*   Automatic model selection and hyperparameter tuning\n",
        "*   Interpretation tools for model results\n",
        "*   Support for a wide range of machine learning algorithms\n",
        "*   Deployment of models to production\n"
      ]
    },
    {
      "cell_type": "code",
      "execution_count": 33,
      "metadata": {
        "id": "DRdPcnHzlxYp"
      },
      "outputs": [],
      "source": [
        "# Storing df dataframe in df_auto_ml for performing (Auto ML) Pycaret library \n",
        "df_auto_ml = df"
      ]
    },
    {
      "cell_type": "code",
      "execution_count": 34,
      "metadata": {
        "colab": {
          "base_uri": "https://localhost:8080/"
        },
        "id": "Hq7GA2XpmcDJ",
        "outputId": "74999f48-eeab-4c90-c589-b1b3c0c0b3a7"
      },
      "outputs": [
        {
          "name": "stdout",
          "output_type": "stream",
          "text": [
            "Requirement already satisfied: pycaret in c:\\users\\sairam\\appdata\\local\\packages\\pythonsoftwarefoundation.python.3.11_qbz5n2kfra8p0\\localcache\\local-packages\\python311\\site-packages (3.3.2)\n",
            "Requirement already satisfied: ipython>=5.5.0 in c:\\users\\sairam\\appdata\\local\\packages\\pythonsoftwarefoundation.python.3.11_qbz5n2kfra8p0\\localcache\\local-packages\\python311\\site-packages (from pycaret) (8.28.0)\n",
            "Requirement already satisfied: ipywidgets>=7.6.5 in c:\\users\\sairam\\appdata\\local\\packages\\pythonsoftwarefoundation.python.3.11_qbz5n2kfra8p0\\localcache\\local-packages\\python311\\site-packages (from pycaret) (8.1.5)\n",
            "Requirement already satisfied: tqdm>=4.62.0 in c:\\users\\sairam\\appdata\\local\\packages\\pythonsoftwarefoundation.python.3.11_qbz5n2kfra8p0\\localcache\\local-packages\\python311\\site-packages (from pycaret) (4.67.1)\n",
            "Requirement already satisfied: numpy<1.27,>=1.21 in c:\\users\\sairam\\appdata\\local\\packages\\pythonsoftwarefoundation.python.3.11_qbz5n2kfra8p0\\localcache\\local-packages\\python311\\site-packages (from pycaret) (1.24.4)\n",
            "Requirement already satisfied: pandas<2.2.0 in c:\\users\\sairam\\appdata\\local\\packages\\pythonsoftwarefoundation.python.3.11_qbz5n2kfra8p0\\localcache\\local-packages\\python311\\site-packages (from pycaret) (2.1.4)\n",
            "Requirement already satisfied: jinja2>=3 in c:\\users\\sairam\\appdata\\local\\packages\\pythonsoftwarefoundation.python.3.11_qbz5n2kfra8p0\\localcache\\local-packages\\python311\\site-packages (from pycaret) (3.1.5)\n",
            "Requirement already satisfied: scipy<=1.11.4,>=1.6.1 in c:\\users\\sairam\\appdata\\local\\packages\\pythonsoftwarefoundation.python.3.11_qbz5n2kfra8p0\\localcache\\local-packages\\python311\\site-packages (from pycaret) (1.11.4)\n",
            "Requirement already satisfied: joblib<1.4,>=1.2.0 in c:\\users\\sairam\\appdata\\local\\packages\\pythonsoftwarefoundation.python.3.11_qbz5n2kfra8p0\\localcache\\local-packages\\python311\\site-packages (from pycaret) (1.3.2)\n",
            "Requirement already satisfied: scikit-learn>1.4.0 in c:\\users\\sairam\\appdata\\local\\packages\\pythonsoftwarefoundation.python.3.11_qbz5n2kfra8p0\\localcache\\local-packages\\python311\\site-packages (from pycaret) (1.4.2)\n",
            "Requirement already satisfied: pyod>=1.1.3 in c:\\users\\sairam\\appdata\\local\\packages\\pythonsoftwarefoundation.python.3.11_qbz5n2kfra8p0\\localcache\\local-packages\\python311\\site-packages (from pycaret) (2.0.3)\n",
            "Requirement already satisfied: imbalanced-learn>=0.12.0 in c:\\users\\sairam\\appdata\\local\\packages\\pythonsoftwarefoundation.python.3.11_qbz5n2kfra8p0\\localcache\\local-packages\\python311\\site-packages (from pycaret) (0.13.0)\n",
            "Requirement already satisfied: category-encoders>=2.4.0 in c:\\users\\sairam\\appdata\\local\\packages\\pythonsoftwarefoundation.python.3.11_qbz5n2kfra8p0\\localcache\\local-packages\\python311\\site-packages (from pycaret) (2.7.0)\n",
            "Requirement already satisfied: lightgbm>=3.0.0 in c:\\users\\sairam\\appdata\\local\\packages\\pythonsoftwarefoundation.python.3.11_qbz5n2kfra8p0\\localcache\\local-packages\\python311\\site-packages (from pycaret) (4.5.0)\n",
            "Requirement already satisfied: numba>=0.55.0 in c:\\users\\sairam\\appdata\\local\\packages\\pythonsoftwarefoundation.python.3.11_qbz5n2kfra8p0\\localcache\\local-packages\\python311\\site-packages (from pycaret) (0.61.0rc2)\n",
            "Requirement already satisfied: requests>=2.27.1 in c:\\users\\sairam\\appdata\\local\\packages\\pythonsoftwarefoundation.python.3.11_qbz5n2kfra8p0\\localcache\\local-packages\\python311\\site-packages (from pycaret) (2.32.3)\n",
            "Requirement already satisfied: psutil>=5.9.0 in c:\\users\\sairam\\appdata\\local\\packages\\pythonsoftwarefoundation.python.3.11_qbz5n2kfra8p0\\localcache\\local-packages\\python311\\site-packages (from pycaret) (6.0.0)\n",
            "Requirement already satisfied: markupsafe>=2.0.1 in c:\\users\\sairam\\appdata\\local\\packages\\pythonsoftwarefoundation.python.3.11_qbz5n2kfra8p0\\localcache\\local-packages\\python311\\site-packages (from pycaret) (3.0.2)\n",
            "Requirement already satisfied: importlib-metadata>=4.12.0 in c:\\users\\sairam\\appdata\\local\\packages\\pythonsoftwarefoundation.python.3.11_qbz5n2kfra8p0\\localcache\\local-packages\\python311\\site-packages (from pycaret) (8.5.0)\n",
            "Requirement already satisfied: nbformat>=4.2.0 in c:\\users\\sairam\\appdata\\local\\packages\\pythonsoftwarefoundation.python.3.11_qbz5n2kfra8p0\\localcache\\local-packages\\python311\\site-packages (from pycaret) (5.10.4)\n",
            "Requirement already satisfied: cloudpickle in c:\\users\\sairam\\appdata\\local\\packages\\pythonsoftwarefoundation.python.3.11_qbz5n2kfra8p0\\localcache\\local-packages\\python311\\site-packages (from pycaret) (3.1.0)\n",
            "Requirement already satisfied: deprecation>=2.1.0 in c:\\users\\sairam\\appdata\\local\\packages\\pythonsoftwarefoundation.python.3.11_qbz5n2kfra8p0\\localcache\\local-packages\\python311\\site-packages (from pycaret) (2.1.0)\n",
            "Requirement already satisfied: xxhash in c:\\users\\sairam\\appdata\\local\\packages\\pythonsoftwarefoundation.python.3.11_qbz5n2kfra8p0\\localcache\\local-packages\\python311\\site-packages (from pycaret) (3.5.0)\n",
            "Requirement already satisfied: matplotlib<3.8.0 in c:\\users\\sairam\\appdata\\local\\packages\\pythonsoftwarefoundation.python.3.11_qbz5n2kfra8p0\\localcache\\local-packages\\python311\\site-packages (from pycaret) (3.7.5)\n",
            "Requirement already satisfied: scikit-plot>=0.3.7 in c:\\users\\sairam\\appdata\\local\\packages\\pythonsoftwarefoundation.python.3.11_qbz5n2kfra8p0\\localcache\\local-packages\\python311\\site-packages (from pycaret) (0.3.7)\n",
            "Requirement already satisfied: yellowbrick>=1.4 in c:\\users\\sairam\\appdata\\local\\packages\\pythonsoftwarefoundation.python.3.11_qbz5n2kfra8p0\\localcache\\local-packages\\python311\\site-packages (from pycaret) (1.5)\n",
            "Requirement already satisfied: plotly>=5.14.0 in c:\\users\\sairam\\appdata\\local\\packages\\pythonsoftwarefoundation.python.3.11_qbz5n2kfra8p0\\localcache\\local-packages\\python311\\site-packages (from pycaret) (5.24.1)\n",
            "Requirement already satisfied: kaleido>=0.2.1 in c:\\users\\sairam\\appdata\\local\\packages\\pythonsoftwarefoundation.python.3.11_qbz5n2kfra8p0\\localcache\\local-packages\\python311\\site-packages (from pycaret) (0.2.1)\n",
            "Requirement already satisfied: schemdraw==0.15 in c:\\users\\sairam\\appdata\\local\\packages\\pythonsoftwarefoundation.python.3.11_qbz5n2kfra8p0\\localcache\\local-packages\\python311\\site-packages (from pycaret) (0.15)\n",
            "Requirement already satisfied: plotly-resampler>=0.8.3.1 in c:\\users\\sairam\\appdata\\local\\packages\\pythonsoftwarefoundation.python.3.11_qbz5n2kfra8p0\\localcache\\local-packages\\python311\\site-packages (from pycaret) (0.10.0)\n",
            "Requirement already satisfied: statsmodels>=0.12.1 in c:\\users\\sairam\\appdata\\local\\packages\\pythonsoftwarefoundation.python.3.11_qbz5n2kfra8p0\\localcache\\local-packages\\python311\\site-packages (from pycaret) (0.14.4)\n",
            "Requirement already satisfied: sktime==0.26.0 in c:\\users\\sairam\\appdata\\local\\packages\\pythonsoftwarefoundation.python.3.11_qbz5n2kfra8p0\\localcache\\local-packages\\python311\\site-packages (from pycaret) (0.26.0)\n",
            "Requirement already satisfied: tbats>=1.1.3 in c:\\users\\sairam\\appdata\\local\\packages\\pythonsoftwarefoundation.python.3.11_qbz5n2kfra8p0\\localcache\\local-packages\\python311\\site-packages (from pycaret) (1.1.3)\n",
            "Requirement already satisfied: pmdarima>=2.0.4 in c:\\users\\sairam\\appdata\\local\\packages\\pythonsoftwarefoundation.python.3.11_qbz5n2kfra8p0\\localcache\\local-packages\\python311\\site-packages (from pycaret) (2.0.4)\n",
            "Requirement already satisfied: packaging in c:\\users\\sairam\\appdata\\local\\packages\\pythonsoftwarefoundation.python.3.11_qbz5n2kfra8p0\\localcache\\local-packages\\python311\\site-packages (from sktime==0.26.0->pycaret) (24.1)\n",
            "Requirement already satisfied: scikit-base<0.8.0 in c:\\users\\sairam\\appdata\\local\\packages\\pythonsoftwarefoundation.python.3.11_qbz5n2kfra8p0\\localcache\\local-packages\\python311\\site-packages (from sktime==0.26.0->pycaret) (0.7.8)\n",
            "Requirement already satisfied: patsy>=0.5.1 in c:\\users\\sairam\\appdata\\local\\packages\\pythonsoftwarefoundation.python.3.11_qbz5n2kfra8p0\\localcache\\local-packages\\python311\\site-packages (from category-encoders>=2.4.0->pycaret) (1.0.1)\n",
            "Requirement already satisfied: sklearn-compat<1,>=0.1 in c:\\users\\sairam\\appdata\\local\\packages\\pythonsoftwarefoundation.python.3.11_qbz5n2kfra8p0\\localcache\\local-packages\\python311\\site-packages (from imbalanced-learn>=0.12.0->pycaret) (0.1.3)\n",
            "Requirement already satisfied: threadpoolctl<4,>=2.0.0 in c:\\users\\sairam\\appdata\\local\\packages\\pythonsoftwarefoundation.python.3.11_qbz5n2kfra8p0\\localcache\\local-packages\\python311\\site-packages (from imbalanced-learn>=0.12.0->pycaret) (3.5.0)\n",
            "Requirement already satisfied: zipp>=3.20 in c:\\users\\sairam\\appdata\\local\\packages\\pythonsoftwarefoundation.python.3.11_qbz5n2kfra8p0\\localcache\\local-packages\\python311\\site-packages (from importlib-metadata>=4.12.0->pycaret) (3.21.0)\n",
            "Requirement already satisfied: decorator in c:\\users\\sairam\\appdata\\local\\packages\\pythonsoftwarefoundation.python.3.11_qbz5n2kfra8p0\\localcache\\local-packages\\python311\\site-packages (from ipython>=5.5.0->pycaret) (5.1.1)\n",
            "Requirement already satisfied: jedi>=0.16 in c:\\users\\sairam\\appdata\\local\\packages\\pythonsoftwarefoundation.python.3.11_qbz5n2kfra8p0\\localcache\\local-packages\\python311\\site-packages (from ipython>=5.5.0->pycaret) (0.19.1)\n",
            "Requirement already satisfied: matplotlib-inline in c:\\users\\sairam\\appdata\\local\\packages\\pythonsoftwarefoundation.python.3.11_qbz5n2kfra8p0\\localcache\\local-packages\\python311\\site-packages (from ipython>=5.5.0->pycaret) (0.1.7)\n",
            "Requirement already satisfied: prompt-toolkit<3.1.0,>=3.0.41 in c:\\users\\sairam\\appdata\\local\\packages\\pythonsoftwarefoundation.python.3.11_qbz5n2kfra8p0\\localcache\\local-packages\\python311\\site-packages (from ipython>=5.5.0->pycaret) (3.0.48)\n",
            "Requirement already satisfied: pygments>=2.4.0 in c:\\users\\sairam\\appdata\\local\\packages\\pythonsoftwarefoundation.python.3.11_qbz5n2kfra8p0\\localcache\\local-packages\\python311\\site-packages (from ipython>=5.5.0->pycaret) (2.18.0)\n",
            "Requirement already satisfied: stack-data in c:\\users\\sairam\\appdata\\local\\packages\\pythonsoftwarefoundation.python.3.11_qbz5n2kfra8p0\\localcache\\local-packages\\python311\\site-packages (from ipython>=5.5.0->pycaret) (0.6.3)\n",
            "Requirement already satisfied: traitlets>=5.13.0 in c:\\users\\sairam\\appdata\\local\\packages\\pythonsoftwarefoundation.python.3.11_qbz5n2kfra8p0\\localcache\\local-packages\\python311\\site-packages (from ipython>=5.5.0->pycaret) (5.14.3)\n",
            "Requirement already satisfied: typing-extensions>=4.6 in c:\\users\\sairam\\appdata\\local\\packages\\pythonsoftwarefoundation.python.3.11_qbz5n2kfra8p0\\localcache\\local-packages\\python311\\site-packages (from ipython>=5.5.0->pycaret) (4.12.2)\n",
            "Requirement already satisfied: colorama in c:\\users\\sairam\\appdata\\local\\packages\\pythonsoftwarefoundation.python.3.11_qbz5n2kfra8p0\\localcache\\local-packages\\python311\\site-packages (from ipython>=5.5.0->pycaret) (0.4.6)\n",
            "Requirement already satisfied: comm>=0.1.3 in c:\\users\\sairam\\appdata\\local\\packages\\pythonsoftwarefoundation.python.3.11_qbz5n2kfra8p0\\localcache\\local-packages\\python311\\site-packages (from ipywidgets>=7.6.5->pycaret) (0.2.2)\n",
            "Requirement already satisfied: widgetsnbextension~=4.0.12 in c:\\users\\sairam\\appdata\\local\\packages\\pythonsoftwarefoundation.python.3.11_qbz5n2kfra8p0\\localcache\\local-packages\\python311\\site-packages (from ipywidgets>=7.6.5->pycaret) (4.0.13)\n",
            "Requirement already satisfied: jupyterlab-widgets~=3.0.12 in c:\\users\\sairam\\appdata\\local\\packages\\pythonsoftwarefoundation.python.3.11_qbz5n2kfra8p0\\localcache\\local-packages\\python311\\site-packages (from ipywidgets>=7.6.5->pycaret) (3.0.13)\n",
            "Requirement already satisfied: contourpy>=1.0.1 in c:\\users\\sairam\\appdata\\local\\packages\\pythonsoftwarefoundation.python.3.11_qbz5n2kfra8p0\\localcache\\local-packages\\python311\\site-packages (from matplotlib<3.8.0->pycaret) (1.3.1)\n",
            "Requirement already satisfied: cycler>=0.10 in c:\\users\\sairam\\appdata\\local\\packages\\pythonsoftwarefoundation.python.3.11_qbz5n2kfra8p0\\localcache\\local-packages\\python311\\site-packages (from matplotlib<3.8.0->pycaret) (0.12.1)\n",
            "Requirement already satisfied: fonttools>=4.22.0 in c:\\users\\sairam\\appdata\\local\\packages\\pythonsoftwarefoundation.python.3.11_qbz5n2kfra8p0\\localcache\\local-packages\\python311\\site-packages (from matplotlib<3.8.0->pycaret) (4.55.3)\n",
            "Requirement already satisfied: kiwisolver>=1.0.1 in c:\\users\\sairam\\appdata\\local\\packages\\pythonsoftwarefoundation.python.3.11_qbz5n2kfra8p0\\localcache\\local-packages\\python311\\site-packages (from matplotlib<3.8.0->pycaret) (1.4.7)\n",
            "Requirement already satisfied: pillow>=6.2.0 in c:\\users\\sairam\\appdata\\local\\packages\\pythonsoftwarefoundation.python.3.11_qbz5n2kfra8p0\\localcache\\local-packages\\python311\\site-packages (from matplotlib<3.8.0->pycaret) (11.0.0)\n",
            "Requirement already satisfied: pyparsing>=2.3.1 in c:\\users\\sairam\\appdata\\local\\packages\\pythonsoftwarefoundation.python.3.11_qbz5n2kfra8p0\\localcache\\local-packages\\python311\\site-packages (from matplotlib<3.8.0->pycaret) (3.2.0)\n",
            "Requirement already satisfied: python-dateutil>=2.7 in c:\\users\\sairam\\appdata\\local\\packages\\pythonsoftwarefoundation.python.3.11_qbz5n2kfra8p0\\localcache\\local-packages\\python311\\site-packages (from matplotlib<3.8.0->pycaret) (2.9.0.post0)\n",
            "Requirement already satisfied: fastjsonschema>=2.15 in c:\\users\\sairam\\appdata\\local\\packages\\pythonsoftwarefoundation.python.3.11_qbz5n2kfra8p0\\localcache\\local-packages\\python311\\site-packages (from nbformat>=4.2.0->pycaret) (2.21.1)\n",
            "Requirement already satisfied: jsonschema>=2.6 in c:\\users\\sairam\\appdata\\local\\packages\\pythonsoftwarefoundation.python.3.11_qbz5n2kfra8p0\\localcache\\local-packages\\python311\\site-packages (from nbformat>=4.2.0->pycaret) (4.23.0)\n",
            "Requirement already satisfied: jupyter-core!=5.0.*,>=4.12 in c:\\users\\sairam\\appdata\\local\\packages\\pythonsoftwarefoundation.python.3.11_qbz5n2kfra8p0\\localcache\\local-packages\\python311\\site-packages (from nbformat>=4.2.0->pycaret) (5.7.2)\n",
            "Requirement already satisfied: llvmlite<0.45,>=0.44.0dev0 in c:\\users\\sairam\\appdata\\local\\packages\\pythonsoftwarefoundation.python.3.11_qbz5n2kfra8p0\\localcache\\local-packages\\python311\\site-packages (from numba>=0.55.0->pycaret) (0.44.0rc2)\n",
            "Requirement already satisfied: pytz>=2020.1 in c:\\users\\sairam\\appdata\\local\\packages\\pythonsoftwarefoundation.python.3.11_qbz5n2kfra8p0\\localcache\\local-packages\\python311\\site-packages (from pandas<2.2.0->pycaret) (2024.2)\n",
            "Requirement already satisfied: tzdata>=2022.1 in c:\\users\\sairam\\appdata\\local\\packages\\pythonsoftwarefoundation.python.3.11_qbz5n2kfra8p0\\localcache\\local-packages\\python311\\site-packages (from pandas<2.2.0->pycaret) (2024.2)\n",
            "Requirement already satisfied: tenacity>=6.2.0 in c:\\users\\sairam\\appdata\\local\\packages\\pythonsoftwarefoundation.python.3.11_qbz5n2kfra8p0\\localcache\\local-packages\\python311\\site-packages (from plotly>=5.14.0->pycaret) (9.0.0)\n",
            "Requirement already satisfied: dash>=2.9.0 in c:\\users\\sairam\\appdata\\local\\packages\\pythonsoftwarefoundation.python.3.11_qbz5n2kfra8p0\\localcache\\local-packages\\python311\\site-packages (from plotly-resampler>=0.8.3.1->pycaret) (2.18.2)\n",
            "Requirement already satisfied: orjson<4.0.0,>=3.8.0 in c:\\users\\sairam\\appdata\\local\\packages\\pythonsoftwarefoundation.python.3.11_qbz5n2kfra8p0\\localcache\\local-packages\\python311\\site-packages (from plotly-resampler>=0.8.3.1->pycaret) (3.10.13)\n",
            "Requirement already satisfied: tsdownsample>=0.1.3 in c:\\users\\sairam\\appdata\\local\\packages\\pythonsoftwarefoundation.python.3.11_qbz5n2kfra8p0\\localcache\\local-packages\\python311\\site-packages (from plotly-resampler>=0.8.3.1->pycaret) (0.1.3)\n",
            "Requirement already satisfied: Cython!=0.29.18,!=0.29.31,>=0.29 in c:\\users\\sairam\\appdata\\local\\packages\\pythonsoftwarefoundation.python.3.11_qbz5n2kfra8p0\\localcache\\local-packages\\python311\\site-packages (from pmdarima>=2.0.4->pycaret) (3.1.0a1)\n",
            "Requirement already satisfied: urllib3 in c:\\users\\sairam\\appdata\\local\\packages\\pythonsoftwarefoundation.python.3.11_qbz5n2kfra8p0\\localcache\\local-packages\\python311\\site-packages (from pmdarima>=2.0.4->pycaret) (2.3.0)\n",
            "Requirement already satisfied: setuptools!=50.0.0,>=38.6.0 in c:\\program files\\windowsapps\\pythonsoftwarefoundation.python.3.11_3.11.2544.0_x64__qbz5n2kfra8p0\\lib\\site-packages (from pmdarima>=2.0.4->pycaret) (65.5.0)\n",
            "Requirement already satisfied: charset-normalizer<4,>=2 in c:\\users\\sairam\\appdata\\local\\packages\\pythonsoftwarefoundation.python.3.11_qbz5n2kfra8p0\\localcache\\local-packages\\python311\\site-packages (from requests>=2.27.1->pycaret) (3.4.1)\n",
            "Requirement already satisfied: idna<4,>=2.5 in c:\\users\\sairam\\appdata\\local\\packages\\pythonsoftwarefoundation.python.3.11_qbz5n2kfra8p0\\localcache\\local-packages\\python311\\site-packages (from requests>=2.27.1->pycaret) (3.10)\n",
            "Requirement already satisfied: certifi>=2017.4.17 in c:\\users\\sairam\\appdata\\local\\packages\\pythonsoftwarefoundation.python.3.11_qbz5n2kfra8p0\\localcache\\local-packages\\python311\\site-packages (from requests>=2.27.1->pycaret) (2024.12.14)\n",
            "Requirement already satisfied: Flask<3.1,>=1.0.4 in c:\\users\\sairam\\appdata\\local\\packages\\pythonsoftwarefoundation.python.3.11_qbz5n2kfra8p0\\localcache\\local-packages\\python311\\site-packages (from dash>=2.9.0->plotly-resampler>=0.8.3.1->pycaret) (3.0.3)\n",
            "Requirement already satisfied: Werkzeug<3.1 in c:\\users\\sairam\\appdata\\local\\packages\\pythonsoftwarefoundation.python.3.11_qbz5n2kfra8p0\\localcache\\local-packages\\python311\\site-packages (from dash>=2.9.0->plotly-resampler>=0.8.3.1->pycaret) (3.0.6)\n",
            "Requirement already satisfied: dash-html-components==2.0.0 in c:\\users\\sairam\\appdata\\local\\packages\\pythonsoftwarefoundation.python.3.11_qbz5n2kfra8p0\\localcache\\local-packages\\python311\\site-packages (from dash>=2.9.0->plotly-resampler>=0.8.3.1->pycaret) (2.0.0)\n",
            "Requirement already satisfied: dash-core-components==2.0.0 in c:\\users\\sairam\\appdata\\local\\packages\\pythonsoftwarefoundation.python.3.11_qbz5n2kfra8p0\\localcache\\local-packages\\python311\\site-packages (from dash>=2.9.0->plotly-resampler>=0.8.3.1->pycaret) (2.0.0)\n",
            "Requirement already satisfied: dash-table==5.0.0 in c:\\users\\sairam\\appdata\\local\\packages\\pythonsoftwarefoundation.python.3.11_qbz5n2kfra8p0\\localcache\\local-packages\\python311\\site-packages (from dash>=2.9.0->plotly-resampler>=0.8.3.1->pycaret) (5.0.0)\n",
            "Requirement already satisfied: retrying in c:\\users\\sairam\\appdata\\local\\packages\\pythonsoftwarefoundation.python.3.11_qbz5n2kfra8p0\\localcache\\local-packages\\python311\\site-packages (from dash>=2.9.0->plotly-resampler>=0.8.3.1->pycaret) (1.3.4)\n",
            "Requirement already satisfied: nest-asyncio in c:\\users\\sairam\\appdata\\local\\packages\\pythonsoftwarefoundation.python.3.11_qbz5n2kfra8p0\\localcache\\local-packages\\python311\\site-packages (from dash>=2.9.0->plotly-resampler>=0.8.3.1->pycaret) (1.6.0)\n",
            "Requirement already satisfied: parso<0.9.0,>=0.8.3 in c:\\users\\sairam\\appdata\\local\\packages\\pythonsoftwarefoundation.python.3.11_qbz5n2kfra8p0\\localcache\\local-packages\\python311\\site-packages (from jedi>=0.16->ipython>=5.5.0->pycaret) (0.8.4)\n",
            "Requirement already satisfied: attrs>=22.2.0 in c:\\users\\sairam\\appdata\\local\\packages\\pythonsoftwarefoundation.python.3.11_qbz5n2kfra8p0\\localcache\\local-packages\\python311\\site-packages (from jsonschema>=2.6->nbformat>=4.2.0->pycaret) (24.3.0)\n",
            "Requirement already satisfied: jsonschema-specifications>=2023.03.6 in c:\\users\\sairam\\appdata\\local\\packages\\pythonsoftwarefoundation.python.3.11_qbz5n2kfra8p0\\localcache\\local-packages\\python311\\site-packages (from jsonschema>=2.6->nbformat>=4.2.0->pycaret) (2024.10.1)\n",
            "Requirement already satisfied: referencing>=0.28.4 in c:\\users\\sairam\\appdata\\local\\packages\\pythonsoftwarefoundation.python.3.11_qbz5n2kfra8p0\\localcache\\local-packages\\python311\\site-packages (from jsonschema>=2.6->nbformat>=4.2.0->pycaret) (0.35.1)\n",
            "Requirement already satisfied: rpds-py>=0.7.1 in c:\\users\\sairam\\appdata\\local\\packages\\pythonsoftwarefoundation.python.3.11_qbz5n2kfra8p0\\localcache\\local-packages\\python311\\site-packages (from jsonschema>=2.6->nbformat>=4.2.0->pycaret) (0.22.3)\n",
            "Requirement already satisfied: platformdirs>=2.5 in c:\\users\\sairam\\appdata\\local\\packages\\pythonsoftwarefoundation.python.3.11_qbz5n2kfra8p0\\localcache\\local-packages\\python311\\site-packages (from jupyter-core!=5.0.*,>=4.12->nbformat>=4.2.0->pycaret) (4.3.6)\n",
            "Requirement already satisfied: pywin32>=300 in c:\\users\\sairam\\appdata\\local\\packages\\pythonsoftwarefoundation.python.3.11_qbz5n2kfra8p0\\localcache\\local-packages\\python311\\site-packages (from jupyter-core!=5.0.*,>=4.12->nbformat>=4.2.0->pycaret) (308)\n",
            "Requirement already satisfied: wcwidth in c:\\users\\sairam\\appdata\\local\\packages\\pythonsoftwarefoundation.python.3.11_qbz5n2kfra8p0\\localcache\\local-packages\\python311\\site-packages (from prompt-toolkit<3.1.0,>=3.0.41->ipython>=5.5.0->pycaret) (0.2.13)\n",
            "Requirement already satisfied: six>=1.5 in c:\\users\\sairam\\appdata\\local\\packages\\pythonsoftwarefoundation.python.3.11_qbz5n2kfra8p0\\localcache\\local-packages\\python311\\site-packages (from python-dateutil>=2.7->matplotlib<3.8.0->pycaret) (1.16.0)\n",
            "Requirement already satisfied: executing>=1.2.0 in c:\\users\\sairam\\appdata\\local\\packages\\pythonsoftwarefoundation.python.3.11_qbz5n2kfra8p0\\localcache\\local-packages\\python311\\site-packages (from stack-data->ipython>=5.5.0->pycaret) (2.1.0)\n",
            "Requirement already satisfied: asttokens>=2.1.0 in c:\\users\\sairam\\appdata\\local\\packages\\pythonsoftwarefoundation.python.3.11_qbz5n2kfra8p0\\localcache\\local-packages\\python311\\site-packages (from stack-data->ipython>=5.5.0->pycaret) (2.4.1)\n",
            "Requirement already satisfied: pure-eval in c:\\users\\sairam\\appdata\\local\\packages\\pythonsoftwarefoundation.python.3.11_qbz5n2kfra8p0\\localcache\\local-packages\\python311\\site-packages (from stack-data->ipython>=5.5.0->pycaret) (0.2.3)\n",
            "Requirement already satisfied: itsdangerous>=2.1.2 in c:\\users\\sairam\\appdata\\local\\packages\\pythonsoftwarefoundation.python.3.11_qbz5n2kfra8p0\\localcache\\local-packages\\python311\\site-packages (from Flask<3.1,>=1.0.4->dash>=2.9.0->plotly-resampler>=0.8.3.1->pycaret) (2.2.0)\n",
            "Requirement already satisfied: click>=8.1.3 in c:\\users\\sairam\\appdata\\local\\packages\\pythonsoftwarefoundation.python.3.11_qbz5n2kfra8p0\\localcache\\local-packages\\python311\\site-packages (from Flask<3.1,>=1.0.4->dash>=2.9.0->plotly-resampler>=0.8.3.1->pycaret) (8.1.8)\n",
            "Requirement already satisfied: blinker>=1.6.2 in c:\\users\\sairam\\appdata\\local\\packages\\pythonsoftwarefoundation.python.3.11_qbz5n2kfra8p0\\localcache\\local-packages\\python311\\site-packages (from Flask<3.1,>=1.0.4->dash>=2.9.0->plotly-resampler>=0.8.3.1->pycaret) (1.9.0)\n"
          ]
        },
        {
          "name": "stderr",
          "output_type": "stream",
          "text": [
            "WARNING: Ignoring invalid distribution ~atplotlib (C:\\Users\\sairam\\AppData\\Local\\Packages\\PythonSoftwareFoundation.Python.3.11_qbz5n2kfra8p0\\LocalCache\\local-packages\\Python311\\site-packages)\n",
            "WARNING: Ignoring invalid distribution ~atplotlib (C:\\Users\\sairam\\AppData\\Local\\Packages\\PythonSoftwareFoundation.Python.3.11_qbz5n2kfra8p0\\LocalCache\\local-packages\\Python311\\site-packages)\n",
            "WARNING: Ignoring invalid distribution ~atplotlib (C:\\Users\\sairam\\AppData\\Local\\Packages\\PythonSoftwareFoundation.Python.3.11_qbz5n2kfra8p0\\LocalCache\\local-packages\\Python311\\site-packages)\n",
            "WARNING: Ignoring invalid distribution ~atplotlib (C:\\Users\\sairam\\AppData\\Local\\Packages\\PythonSoftwareFoundation.Python.3.11_qbz5n2kfra8p0\\LocalCache\\local-packages\\Python311\\site-packages)\n",
            "\n",
            "[notice] A new release of pip is available: 25.0.1 -> 25.1.1\n",
            "[notice] To update, run: C:\\Users\\sairam\\AppData\\Local\\Microsoft\\WindowsApps\\PythonSoftwareFoundation.Python.3.11_qbz5n2kfra8p0\\python.exe -m pip install --upgrade pip\n"
          ]
        }
      ],
      "source": [
        "# Install pycaret dependency \n",
        "!pip install --pre pycaret"
      ]
    },
    {
      "cell_type": "code",
      "execution_count": 35,
      "metadata": {
        "id": "5AyZRS9XmcAa"
      },
      "outputs": [],
      "source": [
        "# Import * to train dataframe on multiple regression algorithm  \n",
        "from pycaret.regression import *"
      ]
    },
    {
      "cell_type": "code",
      "execution_count": 36,
      "metadata": {
        "colab": {
          "base_uri": "https://localhost:8080/",
          "height": 645
        },
        "id": "IFBsDv_omb9g",
        "outputId": "135f7fc5-2704-4104-df01-0c28a431921f"
      },
      "outputs": [
        {
          "data": {
            "text/html": [
              "<style type=\"text/css\">\n",
              "#T_769f2_row9_col1 {\n",
              "  background-color: lightgreen;\n",
              "}\n",
              "</style>\n",
              "<table id=\"T_769f2\">\n",
              "  <thead>\n",
              "    <tr>\n",
              "      <th class=\"blank level0\" >&nbsp;</th>\n",
              "      <th id=\"T_769f2_level0_col0\" class=\"col_heading level0 col0\" >Description</th>\n",
              "      <th id=\"T_769f2_level0_col1\" class=\"col_heading level0 col1\" >Value</th>\n",
              "    </tr>\n",
              "  </thead>\n",
              "  <tbody>\n",
              "    <tr>\n",
              "      <th id=\"T_769f2_level0_row0\" class=\"row_heading level0 row0\" >0</th>\n",
              "      <td id=\"T_769f2_row0_col0\" class=\"data row0 col0\" >Session id</td>\n",
              "      <td id=\"T_769f2_row0_col1\" class=\"data row0 col1\" >6512</td>\n",
              "    </tr>\n",
              "    <tr>\n",
              "      <th id=\"T_769f2_level0_row1\" class=\"row_heading level0 row1\" >1</th>\n",
              "      <td id=\"T_769f2_row1_col0\" class=\"data row1 col0\" >Target</td>\n",
              "      <td id=\"T_769f2_row1_col1\" class=\"data row1 col1\" >Total Profit</td>\n",
              "    </tr>\n",
              "    <tr>\n",
              "      <th id=\"T_769f2_level0_row2\" class=\"row_heading level0 row2\" >2</th>\n",
              "      <td id=\"T_769f2_row2_col0\" class=\"data row2 col0\" >Target type</td>\n",
              "      <td id=\"T_769f2_row2_col1\" class=\"data row2 col1\" >Regression</td>\n",
              "    </tr>\n",
              "    <tr>\n",
              "      <th id=\"T_769f2_level0_row3\" class=\"row_heading level0 row3\" >3</th>\n",
              "      <td id=\"T_769f2_row3_col0\" class=\"data row3 col0\" >Original data shape</td>\n",
              "      <td id=\"T_769f2_row3_col1\" class=\"data row3 col1\" >(100, 14)</td>\n",
              "    </tr>\n",
              "    <tr>\n",
              "      <th id=\"T_769f2_level0_row4\" class=\"row_heading level0 row4\" >4</th>\n",
              "      <td id=\"T_769f2_row4_col0\" class=\"data row4 col0\" >Transformed data shape</td>\n",
              "      <td id=\"T_769f2_row4_col1\" class=\"data row4 col1\" >(100, 20)</td>\n",
              "    </tr>\n",
              "    <tr>\n",
              "      <th id=\"T_769f2_level0_row5\" class=\"row_heading level0 row5\" >5</th>\n",
              "      <td id=\"T_769f2_row5_col0\" class=\"data row5 col0\" >Transformed train set shape</td>\n",
              "      <td id=\"T_769f2_row5_col1\" class=\"data row5 col1\" >(70, 20)</td>\n",
              "    </tr>\n",
              "    <tr>\n",
              "      <th id=\"T_769f2_level0_row6\" class=\"row_heading level0 row6\" >6</th>\n",
              "      <td id=\"T_769f2_row6_col0\" class=\"data row6 col0\" >Transformed test set shape</td>\n",
              "      <td id=\"T_769f2_row6_col1\" class=\"data row6 col1\" >(30, 20)</td>\n",
              "    </tr>\n",
              "    <tr>\n",
              "      <th id=\"T_769f2_level0_row7\" class=\"row_heading level0 row7\" >7</th>\n",
              "      <td id=\"T_769f2_row7_col0\" class=\"data row7 col0\" >Numeric features</td>\n",
              "      <td id=\"T_769f2_row7_col1\" class=\"data row7 col1\" >9</td>\n",
              "    </tr>\n",
              "    <tr>\n",
              "      <th id=\"T_769f2_level0_row8\" class=\"row_heading level0 row8\" >8</th>\n",
              "      <td id=\"T_769f2_row8_col0\" class=\"data row8 col0\" >Categorical features</td>\n",
              "      <td id=\"T_769f2_row8_col1\" class=\"data row8 col1\" >4</td>\n",
              "    </tr>\n",
              "    <tr>\n",
              "      <th id=\"T_769f2_level0_row9\" class=\"row_heading level0 row9\" >9</th>\n",
              "      <td id=\"T_769f2_row9_col0\" class=\"data row9 col0\" >Preprocess</td>\n",
              "      <td id=\"T_769f2_row9_col1\" class=\"data row9 col1\" >True</td>\n",
              "    </tr>\n",
              "    <tr>\n",
              "      <th id=\"T_769f2_level0_row10\" class=\"row_heading level0 row10\" >10</th>\n",
              "      <td id=\"T_769f2_row10_col0\" class=\"data row10 col0\" >Imputation type</td>\n",
              "      <td id=\"T_769f2_row10_col1\" class=\"data row10 col1\" >simple</td>\n",
              "    </tr>\n",
              "    <tr>\n",
              "      <th id=\"T_769f2_level0_row11\" class=\"row_heading level0 row11\" >11</th>\n",
              "      <td id=\"T_769f2_row11_col0\" class=\"data row11 col0\" >Numeric imputation</td>\n",
              "      <td id=\"T_769f2_row11_col1\" class=\"data row11 col1\" >mean</td>\n",
              "    </tr>\n",
              "    <tr>\n",
              "      <th id=\"T_769f2_level0_row12\" class=\"row_heading level0 row12\" >12</th>\n",
              "      <td id=\"T_769f2_row12_col0\" class=\"data row12 col0\" >Categorical imputation</td>\n",
              "      <td id=\"T_769f2_row12_col1\" class=\"data row12 col1\" >mode</td>\n",
              "    </tr>\n",
              "    <tr>\n",
              "      <th id=\"T_769f2_level0_row13\" class=\"row_heading level0 row13\" >13</th>\n",
              "      <td id=\"T_769f2_row13_col0\" class=\"data row13 col0\" >Maximum one-hot encoding</td>\n",
              "      <td id=\"T_769f2_row13_col1\" class=\"data row13 col1\" >25</td>\n",
              "    </tr>\n",
              "    <tr>\n",
              "      <th id=\"T_769f2_level0_row14\" class=\"row_heading level0 row14\" >14</th>\n",
              "      <td id=\"T_769f2_row14_col0\" class=\"data row14 col0\" >Encoding method</td>\n",
              "      <td id=\"T_769f2_row14_col1\" class=\"data row14 col1\" >None</td>\n",
              "    </tr>\n",
              "    <tr>\n",
              "      <th id=\"T_769f2_level0_row15\" class=\"row_heading level0 row15\" >15</th>\n",
              "      <td id=\"T_769f2_row15_col0\" class=\"data row15 col0\" >Fold Generator</td>\n",
              "      <td id=\"T_769f2_row15_col1\" class=\"data row15 col1\" >KFold</td>\n",
              "    </tr>\n",
              "    <tr>\n",
              "      <th id=\"T_769f2_level0_row16\" class=\"row_heading level0 row16\" >16</th>\n",
              "      <td id=\"T_769f2_row16_col0\" class=\"data row16 col0\" >Fold Number</td>\n",
              "      <td id=\"T_769f2_row16_col1\" class=\"data row16 col1\" >10</td>\n",
              "    </tr>\n",
              "    <tr>\n",
              "      <th id=\"T_769f2_level0_row17\" class=\"row_heading level0 row17\" >17</th>\n",
              "      <td id=\"T_769f2_row17_col0\" class=\"data row17 col0\" >CPU Jobs</td>\n",
              "      <td id=\"T_769f2_row17_col1\" class=\"data row17 col1\" >-1</td>\n",
              "    </tr>\n",
              "    <tr>\n",
              "      <th id=\"T_769f2_level0_row18\" class=\"row_heading level0 row18\" >18</th>\n",
              "      <td id=\"T_769f2_row18_col0\" class=\"data row18 col0\" >Use GPU</td>\n",
              "      <td id=\"T_769f2_row18_col1\" class=\"data row18 col1\" >False</td>\n",
              "    </tr>\n",
              "    <tr>\n",
              "      <th id=\"T_769f2_level0_row19\" class=\"row_heading level0 row19\" >19</th>\n",
              "      <td id=\"T_769f2_row19_col0\" class=\"data row19 col0\" >Log Experiment</td>\n",
              "      <td id=\"T_769f2_row19_col1\" class=\"data row19 col1\" >False</td>\n",
              "    </tr>\n",
              "    <tr>\n",
              "      <th id=\"T_769f2_level0_row20\" class=\"row_heading level0 row20\" >20</th>\n",
              "      <td id=\"T_769f2_row20_col0\" class=\"data row20 col0\" >Experiment Name</td>\n",
              "      <td id=\"T_769f2_row20_col1\" class=\"data row20 col1\" >reg-default-name</td>\n",
              "    </tr>\n",
              "    <tr>\n",
              "      <th id=\"T_769f2_level0_row21\" class=\"row_heading level0 row21\" >21</th>\n",
              "      <td id=\"T_769f2_row21_col0\" class=\"data row21 col0\" >USI</td>\n",
              "      <td id=\"T_769f2_row21_col1\" class=\"data row21 col1\" >223e</td>\n",
              "    </tr>\n",
              "  </tbody>\n",
              "</table>\n"
            ],
            "text/plain": [
              "<pandas.io.formats.style.Styler at 0x20419734810>"
            ]
          },
          "metadata": {},
          "output_type": "display_data"
        }
      ],
      "source": [
        "# Set target value\n",
        "reg = setup(data=df_auto_ml,target='Total Profit')"
      ]
    },
    {
      "cell_type": "code",
      "execution_count": 37,
      "metadata": {
        "colab": {
          "base_uri": "https://localhost:8080/",
          "height": 703,
          "referenced_widgets": [
            "14122eab44b54b6db5b8e712d785e468",
            "c281fe3929b240c98073623bc2ddc344",
            "4dc0bbc4ccff470e8791974fd65f0e71",
            "4351b0feba7e439f98cb3461d648b7a4",
            "da7db208b432408fb69faadab47535b2",
            "8003cf99b406405ba5c6ec2d5189c614",
            "40a1fd0b3dcd40b78562264a08eaeba5",
            "572a43331dbc432abc475b185a122ffe",
            "b86d3e8399fe4d4aacc2e602ff999d23",
            "3125b31e7e0f4d07b21860c64ff88faa",
            "5a3a457b67854a379050f0cf83e36989"
          ]
        },
        "id": "w2Szmzudmb6u",
        "outputId": "fc1a303d-a571-4914-a41d-e46104d951e7"
      },
      "outputs": [
        {
          "data": {
            "text/html": [],
            "text/plain": [
              "<IPython.core.display.HTML object>"
            ]
          },
          "metadata": {},
          "output_type": "display_data"
        },
        {
          "data": {
            "text/html": [
              "<style type=\"text/css\">\n",
              "#T_3edb2 th {\n",
              "  text-align: left;\n",
              "}\n",
              "#T_3edb2_row0_col0, #T_3edb2_row1_col0, #T_3edb2_row1_col1, #T_3edb2_row1_col2, #T_3edb2_row1_col3, #T_3edb2_row1_col4, #T_3edb2_row1_col5, #T_3edb2_row1_col6, #T_3edb2_row2_col0, #T_3edb2_row2_col1, #T_3edb2_row2_col2, #T_3edb2_row2_col3, #T_3edb2_row2_col4, #T_3edb2_row2_col5, #T_3edb2_row2_col6, #T_3edb2_row3_col0, #T_3edb2_row3_col1, #T_3edb2_row3_col2, #T_3edb2_row3_col3, #T_3edb2_row3_col4, #T_3edb2_row3_col5, #T_3edb2_row3_col6, #T_3edb2_row4_col0, #T_3edb2_row4_col1, #T_3edb2_row4_col2, #T_3edb2_row4_col3, #T_3edb2_row4_col4, #T_3edb2_row4_col5, #T_3edb2_row4_col6, #T_3edb2_row5_col0, #T_3edb2_row5_col1, #T_3edb2_row5_col2, #T_3edb2_row5_col3, #T_3edb2_row5_col4, #T_3edb2_row5_col5, #T_3edb2_row5_col6, #T_3edb2_row6_col0, #T_3edb2_row6_col1, #T_3edb2_row6_col2, #T_3edb2_row6_col3, #T_3edb2_row6_col4, #T_3edb2_row6_col5, #T_3edb2_row6_col6, #T_3edb2_row7_col0, #T_3edb2_row7_col1, #T_3edb2_row7_col2, #T_3edb2_row7_col3, #T_3edb2_row7_col4, #T_3edb2_row7_col5, #T_3edb2_row7_col6, #T_3edb2_row8_col0, #T_3edb2_row8_col1, #T_3edb2_row8_col2, #T_3edb2_row8_col3, #T_3edb2_row8_col4, #T_3edb2_row8_col5, #T_3edb2_row8_col6, #T_3edb2_row9_col0, #T_3edb2_row9_col1, #T_3edb2_row9_col2, #T_3edb2_row9_col3, #T_3edb2_row9_col4, #T_3edb2_row9_col5, #T_3edb2_row9_col6, #T_3edb2_row10_col0, #T_3edb2_row10_col1, #T_3edb2_row10_col2, #T_3edb2_row10_col3, #T_3edb2_row10_col4, #T_3edb2_row10_col5, #T_3edb2_row10_col6, #T_3edb2_row11_col0, #T_3edb2_row11_col1, #T_3edb2_row11_col2, #T_3edb2_row11_col3, #T_3edb2_row11_col4, #T_3edb2_row11_col5, #T_3edb2_row11_col6, #T_3edb2_row12_col0, #T_3edb2_row12_col1, #T_3edb2_row12_col2, #T_3edb2_row12_col3, #T_3edb2_row12_col4, #T_3edb2_row12_col5, #T_3edb2_row12_col6, #T_3edb2_row13_col0, #T_3edb2_row13_col1, #T_3edb2_row13_col2, #T_3edb2_row13_col3, #T_3edb2_row13_col4, #T_3edb2_row13_col5, #T_3edb2_row13_col6, #T_3edb2_row14_col0, #T_3edb2_row14_col1, #T_3edb2_row14_col2, #T_3edb2_row14_col3, #T_3edb2_row14_col4, #T_3edb2_row14_col5, #T_3edb2_row14_col6, #T_3edb2_row15_col0, #T_3edb2_row15_col1, #T_3edb2_row15_col2, #T_3edb2_row15_col3, #T_3edb2_row15_col4, #T_3edb2_row15_col5, #T_3edb2_row15_col6, #T_3edb2_row16_col0, #T_3edb2_row16_col1, #T_3edb2_row16_col2, #T_3edb2_row16_col3, #T_3edb2_row16_col4, #T_3edb2_row16_col5, #T_3edb2_row16_col6, #T_3edb2_row17_col0, #T_3edb2_row17_col1, #T_3edb2_row17_col2, #T_3edb2_row17_col3, #T_3edb2_row17_col4, #T_3edb2_row17_col5, #T_3edb2_row17_col6, #T_3edb2_row18_col0, #T_3edb2_row18_col1, #T_3edb2_row18_col2, #T_3edb2_row18_col3, #T_3edb2_row18_col4, #T_3edb2_row18_col5, #T_3edb2_row18_col6 {\n",
              "  text-align: left;\n",
              "}\n",
              "#T_3edb2_row0_col1, #T_3edb2_row0_col2, #T_3edb2_row0_col3, #T_3edb2_row0_col4, #T_3edb2_row0_col5, #T_3edb2_row0_col6 {\n",
              "  text-align: left;\n",
              "  background-color: yellow;\n",
              "}\n",
              "#T_3edb2_row0_col7, #T_3edb2_row1_col7, #T_3edb2_row2_col7, #T_3edb2_row3_col7, #T_3edb2_row4_col7, #T_3edb2_row5_col7, #T_3edb2_row6_col7, #T_3edb2_row7_col7, #T_3edb2_row8_col7, #T_3edb2_row9_col7, #T_3edb2_row11_col7, #T_3edb2_row12_col7, #T_3edb2_row13_col7, #T_3edb2_row14_col7, #T_3edb2_row15_col7, #T_3edb2_row16_col7, #T_3edb2_row17_col7, #T_3edb2_row18_col7 {\n",
              "  text-align: left;\n",
              "  background-color: lightgrey;\n",
              "}\n",
              "#T_3edb2_row10_col7 {\n",
              "  text-align: left;\n",
              "  background-color: yellow;\n",
              "  background-color: lightgrey;\n",
              "}\n",
              "</style>\n",
              "<table id=\"T_3edb2\">\n",
              "  <thead>\n",
              "    <tr>\n",
              "      <th class=\"blank level0\" >&nbsp;</th>\n",
              "      <th id=\"T_3edb2_level0_col0\" class=\"col_heading level0 col0\" >Model</th>\n",
              "      <th id=\"T_3edb2_level0_col1\" class=\"col_heading level0 col1\" >MAE</th>\n",
              "      <th id=\"T_3edb2_level0_col2\" class=\"col_heading level0 col2\" >MSE</th>\n",
              "      <th id=\"T_3edb2_level0_col3\" class=\"col_heading level0 col3\" >RMSE</th>\n",
              "      <th id=\"T_3edb2_level0_col4\" class=\"col_heading level0 col4\" >R2</th>\n",
              "      <th id=\"T_3edb2_level0_col5\" class=\"col_heading level0 col5\" >RMSLE</th>\n",
              "      <th id=\"T_3edb2_level0_col6\" class=\"col_heading level0 col6\" >MAPE</th>\n",
              "      <th id=\"T_3edb2_level0_col7\" class=\"col_heading level0 col7\" >TT (Sec)</th>\n",
              "    </tr>\n",
              "  </thead>\n",
              "  <tbody>\n",
              "    <tr>\n",
              "      <th id=\"T_3edb2_level0_row0\" class=\"row_heading level0 row0\" >llar</th>\n",
              "      <td id=\"T_3edb2_row0_col0\" class=\"data row0 col0\" >Lasso Least Angle Regression</td>\n",
              "      <td id=\"T_3edb2_row0_col1\" class=\"data row0 col1\" >0.0396</td>\n",
              "      <td id=\"T_3edb2_row0_col2\" class=\"data row0 col2\" >0.0043</td>\n",
              "      <td id=\"T_3edb2_row0_col3\" class=\"data row0 col3\" >0.0600</td>\n",
              "      <td id=\"T_3edb2_row0_col4\" class=\"data row0 col4\" >1.0000</td>\n",
              "      <td id=\"T_3edb2_row0_col5\" class=\"data row0 col5\" >0.0000</td>\n",
              "      <td id=\"T_3edb2_row0_col6\" class=\"data row0 col6\" >0.0000</td>\n",
              "      <td id=\"T_3edb2_row0_col7\" class=\"data row0 col7\" >0.0390</td>\n",
              "    </tr>\n",
              "    <tr>\n",
              "      <th id=\"T_3edb2_level0_row1\" class=\"row_heading level0 row1\" >ridge</th>\n",
              "      <td id=\"T_3edb2_row1_col0\" class=\"data row1 col0\" >Ridge Regression</td>\n",
              "      <td id=\"T_3edb2_row1_col1\" class=\"data row1 col1\" >21192.1333</td>\n",
              "      <td id=\"T_3edb2_row1_col2\" class=\"data row1 col2\" >759508755.6782</td>\n",
              "      <td id=\"T_3edb2_row1_col3\" class=\"data row1 col3\" >26646.0314</td>\n",
              "      <td id=\"T_3edb2_row1_col4\" class=\"data row1 col4\" >0.9952</td>\n",
              "      <td id=\"T_3edb2_row1_col5\" class=\"data row1 col5\" >0.5643</td>\n",
              "      <td id=\"T_3edb2_row1_col6\" class=\"data row1 col6\" >0.9182</td>\n",
              "      <td id=\"T_3edb2_row1_col7\" class=\"data row1 col7\" >0.0370</td>\n",
              "    </tr>\n",
              "    <tr>\n",
              "      <th id=\"T_3edb2_level0_row2\" class=\"row_heading level0 row2\" >lightgbm</th>\n",
              "      <td id=\"T_3edb2_row2_col0\" class=\"data row2 col0\" >Light Gradient Boosting Machine</td>\n",
              "      <td id=\"T_3edb2_row2_col1\" class=\"data row2 col1\" >187156.8820</td>\n",
              "      <td id=\"T_3edb2_row2_col2\" class=\"data row2 col2\" >73880351584.0867</td>\n",
              "      <td id=\"T_3edb2_row2_col3\" class=\"data row2 col3\" >257139.2889</td>\n",
              "      <td id=\"T_3edb2_row2_col4\" class=\"data row2 col4\" >0.5440</td>\n",
              "      <td id=\"T_3edb2_row2_col5\" class=\"data row2 col5\" >1.1800</td>\n",
              "      <td id=\"T_3edb2_row2_col6\" class=\"data row2 col6\" >4.8952</td>\n",
              "      <td id=\"T_3edb2_row2_col7\" class=\"data row2 col7\" >0.0560</td>\n",
              "    </tr>\n",
              "    <tr>\n",
              "      <th id=\"T_3edb2_level0_row3\" class=\"row_heading level0 row3\" >huber</th>\n",
              "      <td id=\"T_3edb2_row3_col0\" class=\"data row3 col0\" >Huber Regressor</td>\n",
              "      <td id=\"T_3edb2_row3_col1\" class=\"data row3 col1\" >134357.5914</td>\n",
              "      <td id=\"T_3edb2_row3_col2\" class=\"data row3 col2\" >48433196419.2760</td>\n",
              "      <td id=\"T_3edb2_row3_col3\" class=\"data row3 col3\" >193894.5489</td>\n",
              "      <td id=\"T_3edb2_row3_col4\" class=\"data row3 col4\" >0.4502</td>\n",
              "      <td id=\"T_3edb2_row3_col5\" class=\"data row3 col5\" >0.8469</td>\n",
              "      <td id=\"T_3edb2_row3_col6\" class=\"data row3 col6\" >1.5163</td>\n",
              "      <td id=\"T_3edb2_row3_col7\" class=\"data row3 col7\" >0.0410</td>\n",
              "    </tr>\n",
              "    <tr>\n",
              "      <th id=\"T_3edb2_level0_row4\" class=\"row_heading level0 row4\" >et</th>\n",
              "      <td id=\"T_3edb2_row4_col0\" class=\"data row4 col0\" >Extra Trees Regressor</td>\n",
              "      <td id=\"T_3edb2_row4_col1\" class=\"data row4 col1\" >305881.3073</td>\n",
              "      <td id=\"T_3edb2_row4_col2\" class=\"data row4 col2\" >158880693309.8615</td>\n",
              "      <td id=\"T_3edb2_row4_col3\" class=\"data row4 col3\" >385118.5125</td>\n",
              "      <td id=\"T_3edb2_row4_col4\" class=\"data row4 col4\" >-0.0036</td>\n",
              "      <td id=\"T_3edb2_row4_col5\" class=\"data row4 col5\" >1.7123</td>\n",
              "      <td id=\"T_3edb2_row4_col6\" class=\"data row4 col6\" >13.0349</td>\n",
              "      <td id=\"T_3edb2_row4_col7\" class=\"data row4 col7\" >0.0670</td>\n",
              "    </tr>\n",
              "    <tr>\n",
              "      <th id=\"T_3edb2_level0_row5\" class=\"row_heading level0 row5\" >rf</th>\n",
              "      <td id=\"T_3edb2_row5_col0\" class=\"data row5 col0\" >Random Forest Regressor</td>\n",
              "      <td id=\"T_3edb2_row5_col1\" class=\"data row5 col1\" >309146.0734</td>\n",
              "      <td id=\"T_3edb2_row5_col2\" class=\"data row5 col2\" >162321928111.0467</td>\n",
              "      <td id=\"T_3edb2_row5_col3\" class=\"data row5 col3\" >390038.9615</td>\n",
              "      <td id=\"T_3edb2_row5_col4\" class=\"data row5 col4\" >-0.0356</td>\n",
              "      <td id=\"T_3edb2_row5_col5\" class=\"data row5 col5\" >1.7220</td>\n",
              "      <td id=\"T_3edb2_row5_col6\" class=\"data row5 col6\" >13.3430</td>\n",
              "      <td id=\"T_3edb2_row5_col7\" class=\"data row5 col7\" >0.0720</td>\n",
              "    </tr>\n",
              "    <tr>\n",
              "      <th id=\"T_3edb2_level0_row6\" class=\"row_heading level0 row6\" >xgboost</th>\n",
              "      <td id=\"T_3edb2_row6_col0\" class=\"data row6 col0\" >Extreme Gradient Boosting</td>\n",
              "      <td id=\"T_3edb2_row6_col1\" class=\"data row6 col1\" >311108.6031</td>\n",
              "      <td id=\"T_3edb2_row6_col2\" class=\"data row6 col2\" >166776042291.2000</td>\n",
              "      <td id=\"T_3edb2_row6_col3\" class=\"data row6 col3\" >394566.2422</td>\n",
              "      <td id=\"T_3edb2_row6_col4\" class=\"data row6 col4\" >-0.0514</td>\n",
              "      <td id=\"T_3edb2_row6_col5\" class=\"data row6 col5\" >1.7194</td>\n",
              "      <td id=\"T_3edb2_row6_col6\" class=\"data row6 col6\" >13.1215</td>\n",
              "      <td id=\"T_3edb2_row6_col7\" class=\"data row6 col7\" >0.0520</td>\n",
              "    </tr>\n",
              "    <tr>\n",
              "      <th id=\"T_3edb2_level0_row7\" class=\"row_heading level0 row7\" >lasso</th>\n",
              "      <td id=\"T_3edb2_row7_col0\" class=\"data row7 col0\" >Lasso Regression</td>\n",
              "      <td id=\"T_3edb2_row7_col1\" class=\"data row7 col1\" >313472.3415</td>\n",
              "      <td id=\"T_3edb2_row7_col2\" class=\"data row7 col2\" >166445653829.6680</td>\n",
              "      <td id=\"T_3edb2_row7_col3\" class=\"data row7 col3\" >394327.4114</td>\n",
              "      <td id=\"T_3edb2_row7_col4\" class=\"data row7 col4\" >-0.0516</td>\n",
              "      <td id=\"T_3edb2_row7_col5\" class=\"data row7 col5\" >1.7341</td>\n",
              "      <td id=\"T_3edb2_row7_col6\" class=\"data row7 col6\" >13.5545</td>\n",
              "      <td id=\"T_3edb2_row7_col7\" class=\"data row7 col7\" >0.5660</td>\n",
              "    </tr>\n",
              "    <tr>\n",
              "      <th id=\"T_3edb2_level0_row8\" class=\"row_heading level0 row8\" >en</th>\n",
              "      <td id=\"T_3edb2_row8_col0\" class=\"data row8 col0\" >Elastic Net</td>\n",
              "      <td id=\"T_3edb2_row8_col1\" class=\"data row8 col1\" >313563.9739</td>\n",
              "      <td id=\"T_3edb2_row8_col2\" class=\"data row8 col2\" >166532431193.1366</td>\n",
              "      <td id=\"T_3edb2_row8_col3\" class=\"data row8 col3\" >394438.5609</td>\n",
              "      <td id=\"T_3edb2_row8_col4\" class=\"data row8 col4\" >-0.0523</td>\n",
              "      <td id=\"T_3edb2_row8_col5\" class=\"data row8 col5\" >1.7344</td>\n",
              "      <td id=\"T_3edb2_row8_col6\" class=\"data row8 col6\" >13.5571</td>\n",
              "      <td id=\"T_3edb2_row8_col7\" class=\"data row8 col7\" >0.0320</td>\n",
              "    </tr>\n",
              "    <tr>\n",
              "      <th id=\"T_3edb2_level0_row9\" class=\"row_heading level0 row9\" >lr</th>\n",
              "      <td id=\"T_3edb2_row9_col0\" class=\"data row9 col0\" >Linear Regression</td>\n",
              "      <td id=\"T_3edb2_row9_col1\" class=\"data row9 col1\" >313717.9808</td>\n",
              "      <td id=\"T_3edb2_row9_col2\" class=\"data row9 col2\" >166684197126.1112</td>\n",
              "      <td id=\"T_3edb2_row9_col3\" class=\"data row9 col3\" >394625.2107</td>\n",
              "      <td id=\"T_3edb2_row9_col4\" class=\"data row9 col4\" >-0.0533</td>\n",
              "      <td id=\"T_3edb2_row9_col5\" class=\"data row9 col5\" >1.7348</td>\n",
              "      <td id=\"T_3edb2_row9_col6\" class=\"data row9 col6\" >13.5668</td>\n",
              "      <td id=\"T_3edb2_row9_col7\" class=\"data row9 col7\" >1.1540</td>\n",
              "    </tr>\n",
              "    <tr>\n",
              "      <th id=\"T_3edb2_level0_row10\" class=\"row_heading level0 row10\" >dummy</th>\n",
              "      <td id=\"T_3edb2_row10_col0\" class=\"data row10 col0\" >Dummy Regressor</td>\n",
              "      <td id=\"T_3edb2_row10_col1\" class=\"data row10 col1\" >313717.9844</td>\n",
              "      <td id=\"T_3edb2_row10_col2\" class=\"data row10 col2\" >166684192358.4000</td>\n",
              "      <td id=\"T_3edb2_row10_col3\" class=\"data row10 col3\" >394625.2078</td>\n",
              "      <td id=\"T_3edb2_row10_col4\" class=\"data row10 col4\" >-0.0533</td>\n",
              "      <td id=\"T_3edb2_row10_col5\" class=\"data row10 col5\" >1.7348</td>\n",
              "      <td id=\"T_3edb2_row10_col6\" class=\"data row10 col6\" >13.5668</td>\n",
              "      <td id=\"T_3edb2_row10_col7\" class=\"data row10 col7\" >0.0290</td>\n",
              "    </tr>\n",
              "    <tr>\n",
              "      <th id=\"T_3edb2_level0_row11\" class=\"row_heading level0 row11\" >gbr</th>\n",
              "      <td id=\"T_3edb2_row11_col0\" class=\"data row11 col0\" >Gradient Boosting Regressor</td>\n",
              "      <td id=\"T_3edb2_row11_col1\" class=\"data row11 col1\" >314271.4556</td>\n",
              "      <td id=\"T_3edb2_row11_col2\" class=\"data row11 col2\" >167006125793.0383</td>\n",
              "      <td id=\"T_3edb2_row11_col3\" class=\"data row11 col3\" >394974.7530</td>\n",
              "      <td id=\"T_3edb2_row11_col4\" class=\"data row11 col4\" >-0.0550</td>\n",
              "      <td id=\"T_3edb2_row11_col5\" class=\"data row11 col5\" >1.7331</td>\n",
              "      <td id=\"T_3edb2_row11_col6\" class=\"data row11 col6\" >13.3153</td>\n",
              "      <td id=\"T_3edb2_row11_col7\" class=\"data row11 col7\" >0.0560</td>\n",
              "    </tr>\n",
              "    <tr>\n",
              "      <th id=\"T_3edb2_level0_row12\" class=\"row_heading level0 row12\" >ada</th>\n",
              "      <td id=\"T_3edb2_row12_col0\" class=\"data row12 col0\" >AdaBoost Regressor</td>\n",
              "      <td id=\"T_3edb2_row12_col1\" class=\"data row12 col1\" >314686.1338</td>\n",
              "      <td id=\"T_3edb2_row12_col2\" class=\"data row12 col2\" >167629369644.5725</td>\n",
              "      <td id=\"T_3edb2_row12_col3\" class=\"data row12 col3\" >395836.8934</td>\n",
              "      <td id=\"T_3edb2_row12_col4\" class=\"data row12 col4\" >-0.0612</td>\n",
              "      <td id=\"T_3edb2_row12_col5\" class=\"data row12 col5\" >1.7295</td>\n",
              "      <td id=\"T_3edb2_row12_col6\" class=\"data row12 col6\" >13.2012</td>\n",
              "      <td id=\"T_3edb2_row12_col7\" class=\"data row12 col7\" >0.0470</td>\n",
              "    </tr>\n",
              "    <tr>\n",
              "      <th id=\"T_3edb2_level0_row13\" class=\"row_heading level0 row13\" >omp</th>\n",
              "      <td id=\"T_3edb2_row13_col0\" class=\"data row13 col0\" >Orthogonal Matching Pursuit</td>\n",
              "      <td id=\"T_3edb2_row13_col1\" class=\"data row13 col1\" >315679.5901</td>\n",
              "      <td id=\"T_3edb2_row13_col2\" class=\"data row13 col2\" >164388620151.3424</td>\n",
              "      <td id=\"T_3edb2_row13_col3\" class=\"data row13 col3\" >393793.0179</td>\n",
              "      <td id=\"T_3edb2_row13_col4\" class=\"data row13 col4\" >-0.0694</td>\n",
              "      <td id=\"T_3edb2_row13_col5\" class=\"data row13 col5\" >1.7306</td>\n",
              "      <td id=\"T_3edb2_row13_col6\" class=\"data row13 col6\" >13.2140</td>\n",
              "      <td id=\"T_3edb2_row13_col7\" class=\"data row13 col7\" >0.0350</td>\n",
              "    </tr>\n",
              "    <tr>\n",
              "      <th id=\"T_3edb2_level0_row14\" class=\"row_heading level0 row14\" >dt</th>\n",
              "      <td id=\"T_3edb2_row14_col0\" class=\"data row14 col0\" >Decision Tree Regressor</td>\n",
              "      <td id=\"T_3edb2_row14_col1\" class=\"data row14 col1\" >315273.3473</td>\n",
              "      <td id=\"T_3edb2_row14_col2\" class=\"data row14 col2\" >169132779644.3548</td>\n",
              "      <td id=\"T_3edb2_row14_col3\" class=\"data row14 col3\" >397862.1565</td>\n",
              "      <td id=\"T_3edb2_row14_col4\" class=\"data row14 col4\" >-0.0737</td>\n",
              "      <td id=\"T_3edb2_row14_col5\" class=\"data row14 col5\" >1.7335</td>\n",
              "      <td id=\"T_3edb2_row14_col6\" class=\"data row14 col6\" >13.5279</td>\n",
              "      <td id=\"T_3edb2_row14_col7\" class=\"data row14 col7\" >0.0330</td>\n",
              "    </tr>\n",
              "    <tr>\n",
              "      <th id=\"T_3edb2_level0_row15\" class=\"row_heading level0 row15\" >knn</th>\n",
              "      <td id=\"T_3edb2_row15_col0\" class=\"data row15 col0\" >K Neighbors Regressor</td>\n",
              "      <td id=\"T_3edb2_row15_col1\" class=\"data row15 col1\" >357309.6781</td>\n",
              "      <td id=\"T_3edb2_row15_col2\" class=\"data row15 col2\" >203395130982.4000</td>\n",
              "      <td id=\"T_3edb2_row15_col3\" class=\"data row15 col3\" >436514.8719</td>\n",
              "      <td id=\"T_3edb2_row15_col4\" class=\"data row15 col4\" >-0.3547</td>\n",
              "      <td id=\"T_3edb2_row15_col5\" class=\"data row15 col5\" >1.8982</td>\n",
              "      <td id=\"T_3edb2_row15_col6\" class=\"data row15 col6\" >12.7802</td>\n",
              "      <td id=\"T_3edb2_row15_col7\" class=\"data row15 col7\" >0.0670</td>\n",
              "    </tr>\n",
              "    <tr>\n",
              "      <th id=\"T_3edb2_level0_row16\" class=\"row_heading level0 row16\" >par</th>\n",
              "      <td id=\"T_3edb2_row16_col0\" class=\"data row16 col0\" >Passive Aggressive Regressor</td>\n",
              "      <td id=\"T_3edb2_row16_col1\" class=\"data row16 col1\" >399155.1458</td>\n",
              "      <td id=\"T_3edb2_row16_col2\" class=\"data row16 col2\" >342737108898.8610</td>\n",
              "      <td id=\"T_3edb2_row16_col3\" class=\"data row16 col3\" >559303.5779</td>\n",
              "      <td id=\"T_3edb2_row16_col4\" class=\"data row16 col4\" >-1.2274</td>\n",
              "      <td id=\"T_3edb2_row16_col5\" class=\"data row16 col5\" >2.5387</td>\n",
              "      <td id=\"T_3edb2_row16_col6\" class=\"data row16 col6\" >36.1784</td>\n",
              "      <td id=\"T_3edb2_row16_col7\" class=\"data row16 col7\" >0.0310</td>\n",
              "    </tr>\n",
              "    <tr>\n",
              "      <th id=\"T_3edb2_level0_row17\" class=\"row_heading level0 row17\" >br</th>\n",
              "      <td id=\"T_3edb2_row17_col0\" class=\"data row17 col0\" >Bayesian Ridge</td>\n",
              "      <td id=\"T_3edb2_row17_col1\" class=\"data row17 col1\" >14391827223.1316</td>\n",
              "      <td id=\"T_3edb2_row17_col2\" class=\"data row17 col2\" >1033574802243105193984.0000</td>\n",
              "      <td id=\"T_3edb2_row17_col3\" class=\"data row17 col3\" >17933941323.2672</td>\n",
              "      <td id=\"T_3edb2_row17_col4\" class=\"data row17 col4\" >-5879309669.3900</td>\n",
              "      <td id=\"T_3edb2_row17_col5\" class=\"data row17 col5\" >9.8541</td>\n",
              "      <td id=\"T_3edb2_row17_col6\" class=\"data row17 col6\" >462113.9790</td>\n",
              "      <td id=\"T_3edb2_row17_col7\" class=\"data row17 col7\" >0.0370</td>\n",
              "    </tr>\n",
              "    <tr>\n",
              "      <th id=\"T_3edb2_level0_row18\" class=\"row_heading level0 row18\" >lar</th>\n",
              "      <td id=\"T_3edb2_row18_col0\" class=\"data row18 col0\" >Least Angle Regression</td>\n",
              "      <td id=\"T_3edb2_row18_col1\" class=\"data row18 col1\" >23263725091422749065216.0000</td>\n",
              "      <td id=\"T_3edb2_row18_col2\" class=\"data row18 col2\" >9409000959642551573510558310751696767776980992.0000</td>\n",
              "      <td id=\"T_3edb2_row18_col3\" class=\"data row18 col3\" >30727216582472862007296.0000</td>\n",
              "      <td id=\"T_3edb2_row18_col4\" class=\"data row18 col4\" >-36593030620384250051136177991319552.0000</td>\n",
              "      <td id=\"T_3edb2_row18_col5\" class=\"data row18 col5\" >31.3816</td>\n",
              "      <td id=\"T_3edb2_row18_col6\" class=\"data row18 col6\" >528126460158518848.0000</td>\n",
              "      <td id=\"T_3edb2_row18_col7\" class=\"data row18 col7\" >0.0380</td>\n",
              "    </tr>\n",
              "  </tbody>\n",
              "</table>\n"
            ],
            "text/plain": [
              "<pandas.io.formats.style.Styler at 0x20419a07ad0>"
            ]
          },
          "metadata": {},
          "output_type": "display_data"
        },
        {
          "data": {
            "text/html": [],
            "text/plain": [
              "<IPython.core.display.HTML object>"
            ]
          },
          "metadata": {},
          "output_type": "display_data"
        },
        {
          "data": {
            "text/html": [
              "<style>#sk-container-id-1 {\n",
              "  /* Definition of color scheme common for light and dark mode */\n",
              "  --sklearn-color-text: black;\n",
              "  --sklearn-color-line: gray;\n",
              "  /* Definition of color scheme for unfitted estimators */\n",
              "  --sklearn-color-unfitted-level-0: #fff5e6;\n",
              "  --sklearn-color-unfitted-level-1: #f6e4d2;\n",
              "  --sklearn-color-unfitted-level-2: #ffe0b3;\n",
              "  --sklearn-color-unfitted-level-3: chocolate;\n",
              "  /* Definition of color scheme for fitted estimators */\n",
              "  --sklearn-color-fitted-level-0: #f0f8ff;\n",
              "  --sklearn-color-fitted-level-1: #d4ebff;\n",
              "  --sklearn-color-fitted-level-2: #b3dbfd;\n",
              "  --sklearn-color-fitted-level-3: cornflowerblue;\n",
              "\n",
              "  /* Specific color for light theme */\n",
              "  --sklearn-color-text-on-default-background: var(--sg-text-color, var(--theme-code-foreground, var(--jp-content-font-color1, black)));\n",
              "  --sklearn-color-background: var(--sg-background-color, var(--theme-background, var(--jp-layout-color0, white)));\n",
              "  --sklearn-color-border-box: var(--sg-text-color, var(--theme-code-foreground, var(--jp-content-font-color1, black)));\n",
              "  --sklearn-color-icon: #696969;\n",
              "\n",
              "  @media (prefers-color-scheme: dark) {\n",
              "    /* Redefinition of color scheme for dark theme */\n",
              "    --sklearn-color-text-on-default-background: var(--sg-text-color, var(--theme-code-foreground, var(--jp-content-font-color1, white)));\n",
              "    --sklearn-color-background: var(--sg-background-color, var(--theme-background, var(--jp-layout-color0, #111)));\n",
              "    --sklearn-color-border-box: var(--sg-text-color, var(--theme-code-foreground, var(--jp-content-font-color1, white)));\n",
              "    --sklearn-color-icon: #878787;\n",
              "  }\n",
              "}\n",
              "\n",
              "#sk-container-id-1 {\n",
              "  color: var(--sklearn-color-text);\n",
              "}\n",
              "\n",
              "#sk-container-id-1 pre {\n",
              "  padding: 0;\n",
              "}\n",
              "\n",
              "#sk-container-id-1 input.sk-hidden--visually {\n",
              "  border: 0;\n",
              "  clip: rect(1px 1px 1px 1px);\n",
              "  clip: rect(1px, 1px, 1px, 1px);\n",
              "  height: 1px;\n",
              "  margin: -1px;\n",
              "  overflow: hidden;\n",
              "  padding: 0;\n",
              "  position: absolute;\n",
              "  width: 1px;\n",
              "}\n",
              "\n",
              "#sk-container-id-1 div.sk-dashed-wrapped {\n",
              "  border: 1px dashed var(--sklearn-color-line);\n",
              "  margin: 0 0.4em 0.5em 0.4em;\n",
              "  box-sizing: border-box;\n",
              "  padding-bottom: 0.4em;\n",
              "  background-color: var(--sklearn-color-background);\n",
              "}\n",
              "\n",
              "#sk-container-id-1 div.sk-container {\n",
              "  /* jupyter's `normalize.less` sets `[hidden] { display: none; }`\n",
              "     but bootstrap.min.css set `[hidden] { display: none !important; }`\n",
              "     so we also need the `!important` here to be able to override the\n",
              "     default hidden behavior on the sphinx rendered scikit-learn.org.\n",
              "     See: https://github.com/scikit-learn/scikit-learn/issues/21755 */\n",
              "  display: inline-block !important;\n",
              "  position: relative;\n",
              "}\n",
              "\n",
              "#sk-container-id-1 div.sk-text-repr-fallback {\n",
              "  display: none;\n",
              "}\n",
              "\n",
              "div.sk-parallel-item,\n",
              "div.sk-serial,\n",
              "div.sk-item {\n",
              "  /* draw centered vertical line to link estimators */\n",
              "  background-image: linear-gradient(var(--sklearn-color-text-on-default-background), var(--sklearn-color-text-on-default-background));\n",
              "  background-size: 2px 100%;\n",
              "  background-repeat: no-repeat;\n",
              "  background-position: center center;\n",
              "}\n",
              "\n",
              "/* Parallel-specific style estimator block */\n",
              "\n",
              "#sk-container-id-1 div.sk-parallel-item::after {\n",
              "  content: \"\";\n",
              "  width: 100%;\n",
              "  border-bottom: 2px solid var(--sklearn-color-text-on-default-background);\n",
              "  flex-grow: 1;\n",
              "}\n",
              "\n",
              "#sk-container-id-1 div.sk-parallel {\n",
              "  display: flex;\n",
              "  align-items: stretch;\n",
              "  justify-content: center;\n",
              "  background-color: var(--sklearn-color-background);\n",
              "  position: relative;\n",
              "}\n",
              "\n",
              "#sk-container-id-1 div.sk-parallel-item {\n",
              "  display: flex;\n",
              "  flex-direction: column;\n",
              "}\n",
              "\n",
              "#sk-container-id-1 div.sk-parallel-item:first-child::after {\n",
              "  align-self: flex-end;\n",
              "  width: 50%;\n",
              "}\n",
              "\n",
              "#sk-container-id-1 div.sk-parallel-item:last-child::after {\n",
              "  align-self: flex-start;\n",
              "  width: 50%;\n",
              "}\n",
              "\n",
              "#sk-container-id-1 div.sk-parallel-item:only-child::after {\n",
              "  width: 0;\n",
              "}\n",
              "\n",
              "/* Serial-specific style estimator block */\n",
              "\n",
              "#sk-container-id-1 div.sk-serial {\n",
              "  display: flex;\n",
              "  flex-direction: column;\n",
              "  align-items: center;\n",
              "  background-color: var(--sklearn-color-background);\n",
              "  padding-right: 1em;\n",
              "  padding-left: 1em;\n",
              "}\n",
              "\n",
              "\n",
              "/* Toggleable style: style used for estimator/Pipeline/ColumnTransformer box that is\n",
              "clickable and can be expanded/collapsed.\n",
              "- Pipeline and ColumnTransformer use this feature and define the default style\n",
              "- Estimators will overwrite some part of the style using the `sk-estimator` class\n",
              "*/\n",
              "\n",
              "/* Pipeline and ColumnTransformer style (default) */\n",
              "\n",
              "#sk-container-id-1 div.sk-toggleable {\n",
              "  /* Default theme specific background. It is overwritten whether we have a\n",
              "  specific estimator or a Pipeline/ColumnTransformer */\n",
              "  background-color: var(--sklearn-color-background);\n",
              "}\n",
              "\n",
              "/* Toggleable label */\n",
              "#sk-container-id-1 label.sk-toggleable__label {\n",
              "  cursor: pointer;\n",
              "  display: block;\n",
              "  width: 100%;\n",
              "  margin-bottom: 0;\n",
              "  padding: 0.5em;\n",
              "  box-sizing: border-box;\n",
              "  text-align: center;\n",
              "}\n",
              "\n",
              "#sk-container-id-1 label.sk-toggleable__label-arrow:before {\n",
              "  /* Arrow on the left of the label */\n",
              "  content: \"▸\";\n",
              "  float: left;\n",
              "  margin-right: 0.25em;\n",
              "  color: var(--sklearn-color-icon);\n",
              "}\n",
              "\n",
              "#sk-container-id-1 label.sk-toggleable__label-arrow:hover:before {\n",
              "  color: var(--sklearn-color-text);\n",
              "}\n",
              "\n",
              "/* Toggleable content - dropdown */\n",
              "\n",
              "#sk-container-id-1 div.sk-toggleable__content {\n",
              "  max-height: 0;\n",
              "  max-width: 0;\n",
              "  overflow: hidden;\n",
              "  text-align: left;\n",
              "  /* unfitted */\n",
              "  background-color: var(--sklearn-color-unfitted-level-0);\n",
              "}\n",
              "\n",
              "#sk-container-id-1 div.sk-toggleable__content.fitted {\n",
              "  /* fitted */\n",
              "  background-color: var(--sklearn-color-fitted-level-0);\n",
              "}\n",
              "\n",
              "#sk-container-id-1 div.sk-toggleable__content pre {\n",
              "  margin: 0.2em;\n",
              "  border-radius: 0.25em;\n",
              "  color: var(--sklearn-color-text);\n",
              "  /* unfitted */\n",
              "  background-color: var(--sklearn-color-unfitted-level-0);\n",
              "}\n",
              "\n",
              "#sk-container-id-1 div.sk-toggleable__content.fitted pre {\n",
              "  /* unfitted */\n",
              "  background-color: var(--sklearn-color-fitted-level-0);\n",
              "}\n",
              "\n",
              "#sk-container-id-1 input.sk-toggleable__control:checked~div.sk-toggleable__content {\n",
              "  /* Expand drop-down */\n",
              "  max-height: 200px;\n",
              "  max-width: 100%;\n",
              "  overflow: auto;\n",
              "}\n",
              "\n",
              "#sk-container-id-1 input.sk-toggleable__control:checked~label.sk-toggleable__label-arrow:before {\n",
              "  content: \"▾\";\n",
              "}\n",
              "\n",
              "/* Pipeline/ColumnTransformer-specific style */\n",
              "\n",
              "#sk-container-id-1 div.sk-label input.sk-toggleable__control:checked~label.sk-toggleable__label {\n",
              "  color: var(--sklearn-color-text);\n",
              "  background-color: var(--sklearn-color-unfitted-level-2);\n",
              "}\n",
              "\n",
              "#sk-container-id-1 div.sk-label.fitted input.sk-toggleable__control:checked~label.sk-toggleable__label {\n",
              "  background-color: var(--sklearn-color-fitted-level-2);\n",
              "}\n",
              "\n",
              "/* Estimator-specific style */\n",
              "\n",
              "/* Colorize estimator box */\n",
              "#sk-container-id-1 div.sk-estimator input.sk-toggleable__control:checked~label.sk-toggleable__label {\n",
              "  /* unfitted */\n",
              "  background-color: var(--sklearn-color-unfitted-level-2);\n",
              "}\n",
              "\n",
              "#sk-container-id-1 div.sk-estimator.fitted input.sk-toggleable__control:checked~label.sk-toggleable__label {\n",
              "  /* fitted */\n",
              "  background-color: var(--sklearn-color-fitted-level-2);\n",
              "}\n",
              "\n",
              "#sk-container-id-1 div.sk-label label.sk-toggleable__label,\n",
              "#sk-container-id-1 div.sk-label label {\n",
              "  /* The background is the default theme color */\n",
              "  color: var(--sklearn-color-text-on-default-background);\n",
              "}\n",
              "\n",
              "/* On hover, darken the color of the background */\n",
              "#sk-container-id-1 div.sk-label:hover label.sk-toggleable__label {\n",
              "  color: var(--sklearn-color-text);\n",
              "  background-color: var(--sklearn-color-unfitted-level-2);\n",
              "}\n",
              "\n",
              "/* Label box, darken color on hover, fitted */\n",
              "#sk-container-id-1 div.sk-label.fitted:hover label.sk-toggleable__label.fitted {\n",
              "  color: var(--sklearn-color-text);\n",
              "  background-color: var(--sklearn-color-fitted-level-2);\n",
              "}\n",
              "\n",
              "/* Estimator label */\n",
              "\n",
              "#sk-container-id-1 div.sk-label label {\n",
              "  font-family: monospace;\n",
              "  font-weight: bold;\n",
              "  display: inline-block;\n",
              "  line-height: 1.2em;\n",
              "}\n",
              "\n",
              "#sk-container-id-1 div.sk-label-container {\n",
              "  text-align: center;\n",
              "}\n",
              "\n",
              "/* Estimator-specific */\n",
              "#sk-container-id-1 div.sk-estimator {\n",
              "  font-family: monospace;\n",
              "  border: 1px dotted var(--sklearn-color-border-box);\n",
              "  border-radius: 0.25em;\n",
              "  box-sizing: border-box;\n",
              "  margin-bottom: 0.5em;\n",
              "  /* unfitted */\n",
              "  background-color: var(--sklearn-color-unfitted-level-0);\n",
              "}\n",
              "\n",
              "#sk-container-id-1 div.sk-estimator.fitted {\n",
              "  /* fitted */\n",
              "  background-color: var(--sklearn-color-fitted-level-0);\n",
              "}\n",
              "\n",
              "/* on hover */\n",
              "#sk-container-id-1 div.sk-estimator:hover {\n",
              "  /* unfitted */\n",
              "  background-color: var(--sklearn-color-unfitted-level-2);\n",
              "}\n",
              "\n",
              "#sk-container-id-1 div.sk-estimator.fitted:hover {\n",
              "  /* fitted */\n",
              "  background-color: var(--sklearn-color-fitted-level-2);\n",
              "}\n",
              "\n",
              "/* Specification for estimator info (e.g. \"i\" and \"?\") */\n",
              "\n",
              "/* Common style for \"i\" and \"?\" */\n",
              "\n",
              ".sk-estimator-doc-link,\n",
              "a:link.sk-estimator-doc-link,\n",
              "a:visited.sk-estimator-doc-link {\n",
              "  float: right;\n",
              "  font-size: smaller;\n",
              "  line-height: 1em;\n",
              "  font-family: monospace;\n",
              "  background-color: var(--sklearn-color-background);\n",
              "  border-radius: 1em;\n",
              "  height: 1em;\n",
              "  width: 1em;\n",
              "  text-decoration: none !important;\n",
              "  margin-left: 1ex;\n",
              "  /* unfitted */\n",
              "  border: var(--sklearn-color-unfitted-level-1) 1pt solid;\n",
              "  color: var(--sklearn-color-unfitted-level-1);\n",
              "}\n",
              "\n",
              ".sk-estimator-doc-link.fitted,\n",
              "a:link.sk-estimator-doc-link.fitted,\n",
              "a:visited.sk-estimator-doc-link.fitted {\n",
              "  /* fitted */\n",
              "  border: var(--sklearn-color-fitted-level-1) 1pt solid;\n",
              "  color: var(--sklearn-color-fitted-level-1);\n",
              "}\n",
              "\n",
              "/* On hover */\n",
              "div.sk-estimator:hover .sk-estimator-doc-link:hover,\n",
              ".sk-estimator-doc-link:hover,\n",
              "div.sk-label-container:hover .sk-estimator-doc-link:hover,\n",
              ".sk-estimator-doc-link:hover {\n",
              "  /* unfitted */\n",
              "  background-color: var(--sklearn-color-unfitted-level-3);\n",
              "  color: var(--sklearn-color-background);\n",
              "  text-decoration: none;\n",
              "}\n",
              "\n",
              "div.sk-estimator.fitted:hover .sk-estimator-doc-link.fitted:hover,\n",
              ".sk-estimator-doc-link.fitted:hover,\n",
              "div.sk-label-container:hover .sk-estimator-doc-link.fitted:hover,\n",
              ".sk-estimator-doc-link.fitted:hover {\n",
              "  /* fitted */\n",
              "  background-color: var(--sklearn-color-fitted-level-3);\n",
              "  color: var(--sklearn-color-background);\n",
              "  text-decoration: none;\n",
              "}\n",
              "\n",
              "/* Span, style for the box shown on hovering the info icon */\n",
              ".sk-estimator-doc-link span {\n",
              "  display: none;\n",
              "  z-index: 9999;\n",
              "  position: relative;\n",
              "  font-weight: normal;\n",
              "  right: .2ex;\n",
              "  padding: .5ex;\n",
              "  margin: .5ex;\n",
              "  width: min-content;\n",
              "  min-width: 20ex;\n",
              "  max-width: 50ex;\n",
              "  color: var(--sklearn-color-text);\n",
              "  box-shadow: 2pt 2pt 4pt #999;\n",
              "  /* unfitted */\n",
              "  background: var(--sklearn-color-unfitted-level-0);\n",
              "  border: .5pt solid var(--sklearn-color-unfitted-level-3);\n",
              "}\n",
              "\n",
              ".sk-estimator-doc-link.fitted span {\n",
              "  /* fitted */\n",
              "  background: var(--sklearn-color-fitted-level-0);\n",
              "  border: var(--sklearn-color-fitted-level-3);\n",
              "}\n",
              "\n",
              ".sk-estimator-doc-link:hover span {\n",
              "  display: block;\n",
              "}\n",
              "\n",
              "/* \"?\"-specific style due to the `<a>` HTML tag */\n",
              "\n",
              "#sk-container-id-1 a.estimator_doc_link {\n",
              "  float: right;\n",
              "  font-size: 1rem;\n",
              "  line-height: 1em;\n",
              "  font-family: monospace;\n",
              "  background-color: var(--sklearn-color-background);\n",
              "  border-radius: 1rem;\n",
              "  height: 1rem;\n",
              "  width: 1rem;\n",
              "  text-decoration: none;\n",
              "  /* unfitted */\n",
              "  color: var(--sklearn-color-unfitted-level-1);\n",
              "  border: var(--sklearn-color-unfitted-level-1) 1pt solid;\n",
              "}\n",
              "\n",
              "#sk-container-id-1 a.estimator_doc_link.fitted {\n",
              "  /* fitted */\n",
              "  border: var(--sklearn-color-fitted-level-1) 1pt solid;\n",
              "  color: var(--sklearn-color-fitted-level-1);\n",
              "}\n",
              "\n",
              "/* On hover */\n",
              "#sk-container-id-1 a.estimator_doc_link:hover {\n",
              "  /* unfitted */\n",
              "  background-color: var(--sklearn-color-unfitted-level-3);\n",
              "  color: var(--sklearn-color-background);\n",
              "  text-decoration: none;\n",
              "}\n",
              "\n",
              "#sk-container-id-1 a.estimator_doc_link.fitted:hover {\n",
              "  /* fitted */\n",
              "  background-color: var(--sklearn-color-fitted-level-3);\n",
              "}\n",
              "</style><div id=\"sk-container-id-1\" class=\"sk-top-container\"><div class=\"sk-text-repr-fallback\"><pre>LassoLars(random_state=6512)</pre><b>In a Jupyter environment, please rerun this cell to show the HTML representation or trust the notebook. <br />On GitHub, the HTML representation is unable to render, please try loading this page with nbviewer.org.</b></div><div class=\"sk-container\" hidden><div class=\"sk-item\"><div class=\"sk-estimator fitted sk-toggleable\"><input class=\"sk-toggleable__control sk-hidden--visually\" id=\"sk-estimator-id-1\" type=\"checkbox\" checked><label for=\"sk-estimator-id-1\" class=\"sk-toggleable__label fitted sk-toggleable__label-arrow fitted\">&nbsp;&nbsp;LassoLars<a class=\"sk-estimator-doc-link fitted\" rel=\"noreferrer\" target=\"_blank\" href=\"https://scikit-learn.org/1.4/modules/generated/sklearn.linear_model.LassoLars.html\">?<span>Documentation for LassoLars</span></a><span class=\"sk-estimator-doc-link fitted\">i<span>Fitted</span></span></label><div class=\"sk-toggleable__content fitted\"><pre>LassoLars(random_state=6512)</pre></div> </div></div></div></div>"
            ],
            "text/plain": [
              "LassoLars(random_state=6512)"
            ]
          },
          "execution_count": 37,
          "metadata": {},
          "output_type": "execute_result"
        }
      ],
      "source": [
        "# Comparing multiple models \n",
        "compare_models()"
      ]
    },
    {
      "cell_type": "code",
      "execution_count": 38,
      "metadata": {
        "colab": {
          "base_uri": "https://localhost:8080/",
          "height": 457,
          "referenced_widgets": [
            "a42bc603c8124eac83752771fe227924",
            "a8f9dc11f9ca47c48c7867601fa99b21",
            "21783f0ff3534cf7b1ed1b6886aed152",
            "7013335c460f49079011df48ea676119",
            "9464d9f4e75b4b94a568cb3de3707ace",
            "b72965e084f44004b9e317fb79db4940",
            "65de1b782040470b8bf27c759068774b",
            "f02237156dfe4dbeb4220af18530be39",
            "bce73ba6104148d98525ed4fc15c8476",
            "34abb2af7c224eeba4e40eca157a3f1f",
            "27f83b2cfb664ac381ec78c6905c642a"
          ]
        },
        "id": "jCzEO_bOmbyM",
        "outputId": "b0c4796c-6e62-4492-e79c-235d1836d987"
      },
      "outputs": [
        {
          "data": {
            "text/html": [
              "<div>\n",
              "<style scoped>\n",
              "    .dataframe tbody tr th:only-of-type {\n",
              "        vertical-align: middle;\n",
              "    }\n",
              "\n",
              "    .dataframe tbody tr th {\n",
              "        vertical-align: top;\n",
              "    }\n",
              "\n",
              "    .dataframe thead th {\n",
              "        text-align: right;\n",
              "    }\n",
              "</style>\n",
              "<table border=\"1\" class=\"dataframe\">\n",
              "  <thead>\n",
              "    <tr style=\"text-align: right;\">\n",
              "      <th></th>\n",
              "      <th></th>\n",
              "      <th></th>\n",
              "    </tr>\n",
              "    <tr>\n",
              "      <th></th>\n",
              "      <th></th>\n",
              "      <th></th>\n",
              "    </tr>\n",
              "  </thead>\n",
              "  <tbody>\n",
              "    <tr>\n",
              "      <th>Initiated</th>\n",
              "      <td>. . . . . . . . . . . . . . . . . .</td>\n",
              "      <td>16:12:21</td>\n",
              "    </tr>\n",
              "    <tr>\n",
              "      <th>Status</th>\n",
              "      <td>. . . . . . . . . . . . . . . . . .</td>\n",
              "      <td>Loading Dependencies</td>\n",
              "    </tr>\n",
              "    <tr>\n",
              "      <th>Estimator</th>\n",
              "      <td>. . . . . . . . . . . . . . . . . .</td>\n",
              "      <td>Compiling Library</td>\n",
              "    </tr>\n",
              "  </tbody>\n",
              "</table>\n",
              "</div>"
            ],
            "text/plain": [
              "                                                                    \n",
              "                                                                    \n",
              "Initiated  . . . . . . . . . . . . . . . . . .              16:12:21\n",
              "Status     . . . . . . . . . . . . . . . . . .  Loading Dependencies\n",
              "Estimator  . . . . . . . . . . . . . . . . . .     Compiling Library"
            ]
          },
          "metadata": {},
          "output_type": "display_data"
        },
        {
          "data": {
            "text/html": [
              "<style type=\"text/css\">\n",
              "#T_85fb6_row10_col0, #T_85fb6_row10_col1, #T_85fb6_row10_col2, #T_85fb6_row10_col3, #T_85fb6_row10_col4, #T_85fb6_row10_col5 {\n",
              "  background: yellow;\n",
              "}\n",
              "</style>\n",
              "<table id=\"T_85fb6\">\n",
              "  <thead>\n",
              "    <tr>\n",
              "      <th class=\"blank level0\" >&nbsp;</th>\n",
              "      <th id=\"T_85fb6_level0_col0\" class=\"col_heading level0 col0\" >MAE</th>\n",
              "      <th id=\"T_85fb6_level0_col1\" class=\"col_heading level0 col1\" >MSE</th>\n",
              "      <th id=\"T_85fb6_level0_col2\" class=\"col_heading level0 col2\" >RMSE</th>\n",
              "      <th id=\"T_85fb6_level0_col3\" class=\"col_heading level0 col3\" >R2</th>\n",
              "      <th id=\"T_85fb6_level0_col4\" class=\"col_heading level0 col4\" >RMSLE</th>\n",
              "      <th id=\"T_85fb6_level0_col5\" class=\"col_heading level0 col5\" >MAPE</th>\n",
              "    </tr>\n",
              "    <tr>\n",
              "      <th class=\"index_name level0\" >Fold</th>\n",
              "      <th class=\"blank col0\" >&nbsp;</th>\n",
              "      <th class=\"blank col1\" >&nbsp;</th>\n",
              "      <th class=\"blank col2\" >&nbsp;</th>\n",
              "      <th class=\"blank col3\" >&nbsp;</th>\n",
              "      <th class=\"blank col4\" >&nbsp;</th>\n",
              "      <th class=\"blank col5\" >&nbsp;</th>\n",
              "    </tr>\n",
              "  </thead>\n",
              "  <tbody>\n",
              "    <tr>\n",
              "      <th id=\"T_85fb6_level0_row0\" class=\"row_heading level0 row0\" >0</th>\n",
              "      <td id=\"T_85fb6_row0_col0\" class=\"data row0 col0\" >0.0213</td>\n",
              "      <td id=\"T_85fb6_row0_col1\" class=\"data row0 col1\" >0.0006</td>\n",
              "      <td id=\"T_85fb6_row0_col2\" class=\"data row0 col2\" >0.0243</td>\n",
              "      <td id=\"T_85fb6_row0_col3\" class=\"data row0 col3\" >1.0000</td>\n",
              "      <td id=\"T_85fb6_row0_col4\" class=\"data row0 col4\" >0.0000</td>\n",
              "      <td id=\"T_85fb6_row0_col5\" class=\"data row0 col5\" >0.0000</td>\n",
              "    </tr>\n",
              "    <tr>\n",
              "      <th id=\"T_85fb6_level0_row1\" class=\"row_heading level0 row1\" >1</th>\n",
              "      <td id=\"T_85fb6_row1_col0\" class=\"data row1 col0\" >0.0507</td>\n",
              "      <td id=\"T_85fb6_row1_col1\" class=\"data row1 col1\" >0.0079</td>\n",
              "      <td id=\"T_85fb6_row1_col2\" class=\"data row1 col2\" >0.0887</td>\n",
              "      <td id=\"T_85fb6_row1_col3\" class=\"data row1 col3\" >1.0000</td>\n",
              "      <td id=\"T_85fb6_row1_col4\" class=\"data row1 col4\" >0.0000</td>\n",
              "      <td id=\"T_85fb6_row1_col5\" class=\"data row1 col5\" >0.0000</td>\n",
              "    </tr>\n",
              "    <tr>\n",
              "      <th id=\"T_85fb6_level0_row2\" class=\"row_heading level0 row2\" >2</th>\n",
              "      <td id=\"T_85fb6_row2_col0\" class=\"data row2 col0\" >0.0417</td>\n",
              "      <td id=\"T_85fb6_row2_col1\" class=\"data row2 col1\" >0.0081</td>\n",
              "      <td id=\"T_85fb6_row2_col2\" class=\"data row2 col2\" >0.0900</td>\n",
              "      <td id=\"T_85fb6_row2_col3\" class=\"data row2 col3\" >1.0000</td>\n",
              "      <td id=\"T_85fb6_row2_col4\" class=\"data row2 col4\" >0.0000</td>\n",
              "      <td id=\"T_85fb6_row2_col5\" class=\"data row2 col5\" >0.0000</td>\n",
              "    </tr>\n",
              "    <tr>\n",
              "      <th id=\"T_85fb6_level0_row3\" class=\"row_heading level0 row3\" >3</th>\n",
              "      <td id=\"T_85fb6_row3_col0\" class=\"data row3 col0\" >0.0250</td>\n",
              "      <td id=\"T_85fb6_row3_col1\" class=\"data row3 col1\" >0.0009</td>\n",
              "      <td id=\"T_85fb6_row3_col2\" class=\"data row3 col2\" >0.0297</td>\n",
              "      <td id=\"T_85fb6_row3_col3\" class=\"data row3 col3\" >1.0000</td>\n",
              "      <td id=\"T_85fb6_row3_col4\" class=\"data row3 col4\" >0.0000</td>\n",
              "      <td id=\"T_85fb6_row3_col5\" class=\"data row3 col5\" >0.0000</td>\n",
              "    </tr>\n",
              "    <tr>\n",
              "      <th id=\"T_85fb6_level0_row4\" class=\"row_heading level0 row4\" >4</th>\n",
              "      <td id=\"T_85fb6_row4_col0\" class=\"data row4 col0\" >0.0258</td>\n",
              "      <td id=\"T_85fb6_row4_col1\" class=\"data row4 col1\" >0.0012</td>\n",
              "      <td id=\"T_85fb6_row4_col2\" class=\"data row4 col2\" >0.0343</td>\n",
              "      <td id=\"T_85fb6_row4_col3\" class=\"data row4 col3\" >1.0000</td>\n",
              "      <td id=\"T_85fb6_row4_col4\" class=\"data row4 col4\" >0.0000</td>\n",
              "      <td id=\"T_85fb6_row4_col5\" class=\"data row4 col5\" >0.0000</td>\n",
              "    </tr>\n",
              "    <tr>\n",
              "      <th id=\"T_85fb6_level0_row5\" class=\"row_heading level0 row5\" >5</th>\n",
              "      <td id=\"T_85fb6_row5_col0\" class=\"data row5 col0\" >0.0506</td>\n",
              "      <td id=\"T_85fb6_row5_col1\" class=\"data row5 col1\" >0.0050</td>\n",
              "      <td id=\"T_85fb6_row5_col2\" class=\"data row5 col2\" >0.0704</td>\n",
              "      <td id=\"T_85fb6_row5_col3\" class=\"data row5 col3\" >1.0000</td>\n",
              "      <td id=\"T_85fb6_row5_col4\" class=\"data row5 col4\" >0.0000</td>\n",
              "      <td id=\"T_85fb6_row5_col5\" class=\"data row5 col5\" >0.0000</td>\n",
              "    </tr>\n",
              "    <tr>\n",
              "      <th id=\"T_85fb6_level0_row6\" class=\"row_heading level0 row6\" >6</th>\n",
              "      <td id=\"T_85fb6_row6_col0\" class=\"data row6 col0\" >0.0494</td>\n",
              "      <td id=\"T_85fb6_row6_col1\" class=\"data row6 col1\" >0.0080</td>\n",
              "      <td id=\"T_85fb6_row6_col2\" class=\"data row6 col2\" >0.0894</td>\n",
              "      <td id=\"T_85fb6_row6_col3\" class=\"data row6 col3\" >1.0000</td>\n",
              "      <td id=\"T_85fb6_row6_col4\" class=\"data row6 col4\" >0.0000</td>\n",
              "      <td id=\"T_85fb6_row6_col5\" class=\"data row6 col5\" >0.0000</td>\n",
              "    </tr>\n",
              "    <tr>\n",
              "      <th id=\"T_85fb6_level0_row7\" class=\"row_heading level0 row7\" >7</th>\n",
              "      <td id=\"T_85fb6_row7_col0\" class=\"data row7 col0\" >0.0505</td>\n",
              "      <td id=\"T_85fb6_row7_col1\" class=\"data row7 col1\" >0.0043</td>\n",
              "      <td id=\"T_85fb6_row7_col2\" class=\"data row7 col2\" >0.0658</td>\n",
              "      <td id=\"T_85fb6_row7_col3\" class=\"data row7 col3\" >1.0000</td>\n",
              "      <td id=\"T_85fb6_row7_col4\" class=\"data row7 col4\" >0.0000</td>\n",
              "      <td id=\"T_85fb6_row7_col5\" class=\"data row7 col5\" >0.0000</td>\n",
              "    </tr>\n",
              "    <tr>\n",
              "      <th id=\"T_85fb6_level0_row8\" class=\"row_heading level0 row8\" >8</th>\n",
              "      <td id=\"T_85fb6_row8_col0\" class=\"data row8 col0\" >0.0234</td>\n",
              "      <td id=\"T_85fb6_row8_col1\" class=\"data row8 col1\" >0.0010</td>\n",
              "      <td id=\"T_85fb6_row8_col2\" class=\"data row8 col2\" >0.0308</td>\n",
              "      <td id=\"T_85fb6_row8_col3\" class=\"data row8 col3\" >1.0000</td>\n",
              "      <td id=\"T_85fb6_row8_col4\" class=\"data row8 col4\" >0.0000</td>\n",
              "      <td id=\"T_85fb6_row8_col5\" class=\"data row8 col5\" >0.0000</td>\n",
              "    </tr>\n",
              "    <tr>\n",
              "      <th id=\"T_85fb6_level0_row9\" class=\"row_heading level0 row9\" >9</th>\n",
              "      <td id=\"T_85fb6_row9_col0\" class=\"data row9 col0\" >0.0573</td>\n",
              "      <td id=\"T_85fb6_row9_col1\" class=\"data row9 col1\" >0.0058</td>\n",
              "      <td id=\"T_85fb6_row9_col2\" class=\"data row9 col2\" >0.0763</td>\n",
              "      <td id=\"T_85fb6_row9_col3\" class=\"data row9 col3\" >1.0000</td>\n",
              "      <td id=\"T_85fb6_row9_col4\" class=\"data row9 col4\" >0.0000</td>\n",
              "      <td id=\"T_85fb6_row9_col5\" class=\"data row9 col5\" >0.0000</td>\n",
              "    </tr>\n",
              "    <tr>\n",
              "      <th id=\"T_85fb6_level0_row10\" class=\"row_heading level0 row10\" >Mean</th>\n",
              "      <td id=\"T_85fb6_row10_col0\" class=\"data row10 col0\" >0.0396</td>\n",
              "      <td id=\"T_85fb6_row10_col1\" class=\"data row10 col1\" >0.0043</td>\n",
              "      <td id=\"T_85fb6_row10_col2\" class=\"data row10 col2\" >0.0600</td>\n",
              "      <td id=\"T_85fb6_row10_col3\" class=\"data row10 col3\" >1.0000</td>\n",
              "      <td id=\"T_85fb6_row10_col4\" class=\"data row10 col4\" >0.0000</td>\n",
              "      <td id=\"T_85fb6_row10_col5\" class=\"data row10 col5\" >0.0000</td>\n",
              "    </tr>\n",
              "    <tr>\n",
              "      <th id=\"T_85fb6_level0_row11\" class=\"row_heading level0 row11\" >Std</th>\n",
              "      <td id=\"T_85fb6_row11_col0\" class=\"data row11 col0\" >0.0133</td>\n",
              "      <td id=\"T_85fb6_row11_col1\" class=\"data row11 col1\" >0.0030</td>\n",
              "      <td id=\"T_85fb6_row11_col2\" class=\"data row11 col2\" >0.0259</td>\n",
              "      <td id=\"T_85fb6_row11_col3\" class=\"data row11 col3\" >0.0000</td>\n",
              "      <td id=\"T_85fb6_row11_col4\" class=\"data row11 col4\" >0.0000</td>\n",
              "      <td id=\"T_85fb6_row11_col5\" class=\"data row11 col5\" >0.0000</td>\n",
              "    </tr>\n",
              "  </tbody>\n",
              "</table>\n"
            ],
            "text/plain": [
              "<pandas.io.formats.style.Styler at 0x20419babd50>"
            ]
          },
          "metadata": {},
          "output_type": "display_data"
        },
        {
          "data": {
            "text/html": [],
            "text/plain": [
              "<IPython.core.display.HTML object>"
            ]
          },
          "metadata": {},
          "output_type": "display_data"
        }
      ],
      "source": [
        "# Using Lasso Least Angle Regression algorithm to train model \n",
        "llar_model = create_model('llar')"
      ]
    },
    {
      "cell_type": "code",
      "execution_count": 39,
      "metadata": {
        "colab": {
          "base_uri": "https://localhost:8080/",
          "height": 492,
          "referenced_widgets": [
            "f2c0a8c8f7d14f43af753e399740f801",
            "9ef6375f901242bfadee7dc960edf26f",
            "07351670485e4e6aabd3e326938f426a",
            "ee66eb80046e48188bb8dae749680f9e",
            "aee8bb0333da495a9c529e6e39d5e536",
            "3cc57d8d587d4c04bd7b8acbfa67bba0",
            "2011c45118824728babba1639d3d676b",
            "11516af8571c4f4d886c48b0a3aa8377",
            "1564b8dc2b6243259b9a62b4f1e83e5b",
            "f2dffb58c52a480fa3c2b2851b21dc60",
            "4fe6c1bd71824535987939b0ab3249eb"
          ]
        },
        "id": "L3n1sINvq5AZ",
        "outputId": "64d61b99-e243-4295-f5f9-9fef823e2016"
      },
      "outputs": [
        {
          "data": {
            "text/html": [],
            "text/plain": [
              "<IPython.core.display.HTML object>"
            ]
          },
          "metadata": {},
          "output_type": "display_data"
        },
        {
          "data": {
            "text/html": [
              "<style type=\"text/css\">\n",
              "#T_f300a_row10_col0, #T_f300a_row10_col1, #T_f300a_row10_col2, #T_f300a_row10_col3, #T_f300a_row10_col4, #T_f300a_row10_col5 {\n",
              "  background: yellow;\n",
              "}\n",
              "</style>\n",
              "<table id=\"T_f300a\">\n",
              "  <thead>\n",
              "    <tr>\n",
              "      <th class=\"blank level0\" >&nbsp;</th>\n",
              "      <th id=\"T_f300a_level0_col0\" class=\"col_heading level0 col0\" >MAE</th>\n",
              "      <th id=\"T_f300a_level0_col1\" class=\"col_heading level0 col1\" >MSE</th>\n",
              "      <th id=\"T_f300a_level0_col2\" class=\"col_heading level0 col2\" >RMSE</th>\n",
              "      <th id=\"T_f300a_level0_col3\" class=\"col_heading level0 col3\" >R2</th>\n",
              "      <th id=\"T_f300a_level0_col4\" class=\"col_heading level0 col4\" >RMSLE</th>\n",
              "      <th id=\"T_f300a_level0_col5\" class=\"col_heading level0 col5\" >MAPE</th>\n",
              "    </tr>\n",
              "    <tr>\n",
              "      <th class=\"index_name level0\" >Fold</th>\n",
              "      <th class=\"blank col0\" >&nbsp;</th>\n",
              "      <th class=\"blank col1\" >&nbsp;</th>\n",
              "      <th class=\"blank col2\" >&nbsp;</th>\n",
              "      <th class=\"blank col3\" >&nbsp;</th>\n",
              "      <th class=\"blank col4\" >&nbsp;</th>\n",
              "      <th class=\"blank col5\" >&nbsp;</th>\n",
              "    </tr>\n",
              "  </thead>\n",
              "  <tbody>\n",
              "    <tr>\n",
              "      <th id=\"T_f300a_level0_row0\" class=\"row_heading level0 row0\" >0</th>\n",
              "      <td id=\"T_f300a_row0_col0\" class=\"data row0 col0\" >0.0219</td>\n",
              "      <td id=\"T_f300a_row0_col1\" class=\"data row0 col1\" >0.0006</td>\n",
              "      <td id=\"T_f300a_row0_col2\" class=\"data row0 col2\" >0.0243</td>\n",
              "      <td id=\"T_f300a_row0_col3\" class=\"data row0 col3\" >1.0000</td>\n",
              "      <td id=\"T_f300a_row0_col4\" class=\"data row0 col4\" >0.0000</td>\n",
              "      <td id=\"T_f300a_row0_col5\" class=\"data row0 col5\" >0.0000</td>\n",
              "    </tr>\n",
              "    <tr>\n",
              "      <th id=\"T_f300a_level0_row1\" class=\"row_heading level0 row1\" >1</th>\n",
              "      <td id=\"T_f300a_row1_col0\" class=\"data row1 col0\" >0.0457</td>\n",
              "      <td id=\"T_f300a_row1_col1\" class=\"data row1 col1\" >0.0057</td>\n",
              "      <td id=\"T_f300a_row1_col2\" class=\"data row1 col2\" >0.0752</td>\n",
              "      <td id=\"T_f300a_row1_col3\" class=\"data row1 col3\" >1.0000</td>\n",
              "      <td id=\"T_f300a_row1_col4\" class=\"data row1 col4\" >0.0000</td>\n",
              "      <td id=\"T_f300a_row1_col5\" class=\"data row1 col5\" >0.0000</td>\n",
              "    </tr>\n",
              "    <tr>\n",
              "      <th id=\"T_f300a_level0_row2\" class=\"row_heading level0 row2\" >2</th>\n",
              "      <td id=\"T_f300a_row2_col0\" class=\"data row2 col0\" >0.0417</td>\n",
              "      <td id=\"T_f300a_row2_col1\" class=\"data row2 col1\" >0.0057</td>\n",
              "      <td id=\"T_f300a_row2_col2\" class=\"data row2 col2\" >0.0758</td>\n",
              "      <td id=\"T_f300a_row2_col3\" class=\"data row2 col3\" >1.0000</td>\n",
              "      <td id=\"T_f300a_row2_col4\" class=\"data row2 col4\" >0.0000</td>\n",
              "      <td id=\"T_f300a_row2_col5\" class=\"data row2 col5\" >0.0000</td>\n",
              "    </tr>\n",
              "    <tr>\n",
              "      <th id=\"T_f300a_level0_row3\" class=\"row_heading level0 row3\" >3</th>\n",
              "      <td id=\"T_f300a_row3_col0\" class=\"data row3 col0\" >0.0280</td>\n",
              "      <td id=\"T_f300a_row3_col1\" class=\"data row3 col1\" >0.0010</td>\n",
              "      <td id=\"T_f300a_row3_col2\" class=\"data row3 col2\" >0.0318</td>\n",
              "      <td id=\"T_f300a_row3_col3\" class=\"data row3 col3\" >1.0000</td>\n",
              "      <td id=\"T_f300a_row3_col4\" class=\"data row3 col4\" >0.0000</td>\n",
              "      <td id=\"T_f300a_row3_col5\" class=\"data row3 col5\" >0.0000</td>\n",
              "    </tr>\n",
              "    <tr>\n",
              "      <th id=\"T_f300a_level0_row4\" class=\"row_heading level0 row4\" >4</th>\n",
              "      <td id=\"T_f300a_row4_col0\" class=\"data row4 col0\" >0.0409</td>\n",
              "      <td id=\"T_f300a_row4_col1\" class=\"data row4 col1\" >0.0020</td>\n",
              "      <td id=\"T_f300a_row4_col2\" class=\"data row4 col2\" >0.0446</td>\n",
              "      <td id=\"T_f300a_row4_col3\" class=\"data row4 col3\" >1.0000</td>\n",
              "      <td id=\"T_f300a_row4_col4\" class=\"data row4 col4\" >0.0000</td>\n",
              "      <td id=\"T_f300a_row4_col5\" class=\"data row4 col5\" >0.0000</td>\n",
              "    </tr>\n",
              "    <tr>\n",
              "      <th id=\"T_f300a_level0_row5\" class=\"row_heading level0 row5\" >5</th>\n",
              "      <td id=\"T_f300a_row5_col0\" class=\"data row5 col0\" >0.0336</td>\n",
              "      <td id=\"T_f300a_row5_col1\" class=\"data row5 col1\" >0.0017</td>\n",
              "      <td id=\"T_f300a_row5_col2\" class=\"data row5 col2\" >0.0412</td>\n",
              "      <td id=\"T_f300a_row5_col3\" class=\"data row5 col3\" >1.0000</td>\n",
              "      <td id=\"T_f300a_row5_col4\" class=\"data row5 col4\" >0.0000</td>\n",
              "      <td id=\"T_f300a_row5_col5\" class=\"data row5 col5\" >0.0000</td>\n",
              "    </tr>\n",
              "    <tr>\n",
              "      <th id=\"T_f300a_level0_row6\" class=\"row_heading level0 row6\" >6</th>\n",
              "      <td id=\"T_f300a_row6_col0\" class=\"data row6 col0\" >0.0442</td>\n",
              "      <td id=\"T_f300a_row6_col1\" class=\"data row6 col1\" >0.0063</td>\n",
              "      <td id=\"T_f300a_row6_col2\" class=\"data row6 col2\" >0.0792</td>\n",
              "      <td id=\"T_f300a_row6_col3\" class=\"data row6 col3\" >1.0000</td>\n",
              "      <td id=\"T_f300a_row6_col4\" class=\"data row6 col4\" >0.0000</td>\n",
              "      <td id=\"T_f300a_row6_col5\" class=\"data row6 col5\" >0.0000</td>\n",
              "    </tr>\n",
              "    <tr>\n",
              "      <th id=\"T_f300a_level0_row7\" class=\"row_heading level0 row7\" >7</th>\n",
              "      <td id=\"T_f300a_row7_col0\" class=\"data row7 col0\" >0.0458</td>\n",
              "      <td id=\"T_f300a_row7_col1\" class=\"data row7 col1\" >0.0036</td>\n",
              "      <td id=\"T_f300a_row7_col2\" class=\"data row7 col2\" >0.0597</td>\n",
              "      <td id=\"T_f300a_row7_col3\" class=\"data row7 col3\" >1.0000</td>\n",
              "      <td id=\"T_f300a_row7_col4\" class=\"data row7 col4\" >0.0000</td>\n",
              "      <td id=\"T_f300a_row7_col5\" class=\"data row7 col5\" >0.0000</td>\n",
              "    </tr>\n",
              "    <tr>\n",
              "      <th id=\"T_f300a_level0_row8\" class=\"row_heading level0 row8\" >8</th>\n",
              "      <td id=\"T_f300a_row8_col0\" class=\"data row8 col0\" >0.0349</td>\n",
              "      <td id=\"T_f300a_row8_col1\" class=\"data row8 col1\" >0.0016</td>\n",
              "      <td id=\"T_f300a_row8_col2\" class=\"data row8 col2\" >0.0405</td>\n",
              "      <td id=\"T_f300a_row8_col3\" class=\"data row8 col3\" >1.0000</td>\n",
              "      <td id=\"T_f300a_row8_col4\" class=\"data row8 col4\" >0.0000</td>\n",
              "      <td id=\"T_f300a_row8_col5\" class=\"data row8 col5\" >0.0000</td>\n",
              "    </tr>\n",
              "    <tr>\n",
              "      <th id=\"T_f300a_level0_row9\" class=\"row_heading level0 row9\" >9</th>\n",
              "      <td id=\"T_f300a_row9_col0\" class=\"data row9 col0\" >0.0510</td>\n",
              "      <td id=\"T_f300a_row9_col1\" class=\"data row9 col1\" >0.0065</td>\n",
              "      <td id=\"T_f300a_row9_col2\" class=\"data row9 col2\" >0.0804</td>\n",
              "      <td id=\"T_f300a_row9_col3\" class=\"data row9 col3\" >1.0000</td>\n",
              "      <td id=\"T_f300a_row9_col4\" class=\"data row9 col4\" >0.0000</td>\n",
              "      <td id=\"T_f300a_row9_col5\" class=\"data row9 col5\" >0.0000</td>\n",
              "    </tr>\n",
              "    <tr>\n",
              "      <th id=\"T_f300a_level0_row10\" class=\"row_heading level0 row10\" >Mean</th>\n",
              "      <td id=\"T_f300a_row10_col0\" class=\"data row10 col0\" >0.0388</td>\n",
              "      <td id=\"T_f300a_row10_col1\" class=\"data row10 col1\" >0.0035</td>\n",
              "      <td id=\"T_f300a_row10_col2\" class=\"data row10 col2\" >0.0553</td>\n",
              "      <td id=\"T_f300a_row10_col3\" class=\"data row10 col3\" >1.0000</td>\n",
              "      <td id=\"T_f300a_row10_col4\" class=\"data row10 col4\" >0.0000</td>\n",
              "      <td id=\"T_f300a_row10_col5\" class=\"data row10 col5\" >0.0000</td>\n",
              "    </tr>\n",
              "    <tr>\n",
              "      <th id=\"T_f300a_level0_row11\" class=\"row_heading level0 row11\" >Std</th>\n",
              "      <td id=\"T_f300a_row11_col0\" class=\"data row11 col0\" >0.0086</td>\n",
              "      <td id=\"T_f300a_row11_col1\" class=\"data row11 col1\" >0.0022</td>\n",
              "      <td id=\"T_f300a_row11_col2\" class=\"data row11 col2\" >0.0202</td>\n",
              "      <td id=\"T_f300a_row11_col3\" class=\"data row11 col3\" >0.0000</td>\n",
              "      <td id=\"T_f300a_row11_col4\" class=\"data row11 col4\" >0.0000</td>\n",
              "      <td id=\"T_f300a_row11_col5\" class=\"data row11 col5\" >0.0000</td>\n",
              "    </tr>\n",
              "  </tbody>\n",
              "</table>\n"
            ],
            "text/plain": [
              "<pandas.io.formats.style.Styler at 0x20419ba94d0>"
            ]
          },
          "metadata": {},
          "output_type": "display_data"
        },
        {
          "data": {
            "text/html": [],
            "text/plain": [
              "<IPython.core.display.HTML object>"
            ]
          },
          "metadata": {},
          "output_type": "display_data"
        },
        {
          "name": "stdout",
          "output_type": "stream",
          "text": [
            "Fitting 10 folds for each of 10 candidates, totalling 100 fits\n",
            "Original model was better than the tuned model, hence it will be returned. NOTE: The display metrics are for the tuned model (not the original one).\n"
          ]
        }
      ],
      "source": [
        "# Tuning the model for better performance \n",
        "tuned_llar_model = tune_model(llar_model)"
      ]
    },
    {
      "cell_type": "code",
      "execution_count": 40,
      "metadata": {
        "colab": {
          "base_uri": "https://localhost:8080/",
          "height": 304
        },
        "id": "ogkaLV5VtKs-",
        "outputId": "5c67224f-85f8-4fc0-f343-249c7ddda8f2"
      },
      "outputs": [
        {
          "data": {
            "text/html": [],
            "text/plain": [
              "<IPython.core.display.HTML object>"
            ]
          },
          "metadata": {},
          "output_type": "display_data"
        },
        {
          "data": {
            "image/png": "[encoded data removed]",
            "text/plain": [
              "<Figure size 800x550 with 2 Axes>"
            ]
          },
          "metadata": {},
          "output_type": "display_data"
        }
      ],
      "source": [
        "# Plot residuals for Lasso Least Angle Regression based trained model \n",
        "plot_model(tuned_llar_model)"
      ]
    },
    {
      "cell_type": "code",
      "execution_count": 41,
      "metadata": {
        "colab": {
          "base_uri": "https://localhost:8080/",
          "height": 305
        },
        "id": "PReljyLIq4us",
        "outputId": "9a72ae15-7dde-421c-934d-26b0e1a2dfb9"
      },
      "outputs": [
        {
          "data": {
            "text/html": [],
            "text/plain": [
              "<IPython.core.display.HTML object>"
            ]
          },
          "metadata": {},
          "output_type": "display_data"
        },
        {
          "data": {
            "image/png": "[encoded data removed]",
            "text/plain": [
              "<Figure size 800x550 with 1 Axes>"
            ]
          },
          "metadata": {},
          "output_type": "display_data"
        }
      ],
      "source": [
        "# Plot prediction error plot for Lasso Least Angle Regression based trained model \n",
        "plot_model(tuned_llar_model, plot=\"error\")"
      ]
    },
    {
      "cell_type": "code",
      "execution_count": 42,
      "metadata": {
        "colab": {
          "base_uri": "https://localhost:8080/",
          "height": 493
        },
        "id": "TBLmuI8Oq4hi",
        "outputId": "cfde087b-87e5-4100-8fd8-2cc29fef13ee"
      },
      "outputs": [
        {
          "data": {
            "text/html": [],
            "text/plain": [
              "<IPython.core.display.HTML object>"
            ]
          },
          "metadata": {},
          "output_type": "display_data"
        },
        {
          "data": {
            "image/png": "[encoded data removed]",
            "text/plain": [
              "<Figure size 800x500 with 1 Axes>"
            ]
          },
          "metadata": {},
          "output_type": "display_data"
        }
      ],
      "source": [
        "# Plot feature importance plot \n",
        "plot_model(tuned_llar_model,plot='feature')"
      ]
    },
    {
      "cell_type": "code",
      "execution_count": 43,
      "metadata": {
        "colab": {
          "base_uri": "https://localhost:8080/",
          "height": 1000
        },
        "id": "3NVisTuxucPP",
        "outputId": "8e615dff-9adf-4966-cf69-2dc89f7d7df7"
      },
      "outputs": [
        {
          "data": {
            "text/html": [
              "<style type=\"text/css\">\n",
              "</style>\n",
              "<table id=\"T_d0126\">\n",
              "  <thead>\n",
              "    <tr>\n",
              "      <th class=\"blank level0\" >&nbsp;</th>\n",
              "      <th id=\"T_d0126_level0_col0\" class=\"col_heading level0 col0\" >Model</th>\n",
              "      <th id=\"T_d0126_level0_col1\" class=\"col_heading level0 col1\" >MAE</th>\n",
              "      <th id=\"T_d0126_level0_col2\" class=\"col_heading level0 col2\" >MSE</th>\n",
              "      <th id=\"T_d0126_level0_col3\" class=\"col_heading level0 col3\" >RMSE</th>\n",
              "      <th id=\"T_d0126_level0_col4\" class=\"col_heading level0 col4\" >R2</th>\n",
              "      <th id=\"T_d0126_level0_col5\" class=\"col_heading level0 col5\" >RMSLE</th>\n",
              "      <th id=\"T_d0126_level0_col6\" class=\"col_heading level0 col6\" >MAPE</th>\n",
              "    </tr>\n",
              "  </thead>\n",
              "  <tbody>\n",
              "    <tr>\n",
              "      <th id=\"T_d0126_level0_row0\" class=\"row_heading level0 row0\" >0</th>\n",
              "      <td id=\"T_d0126_row0_col0\" class=\"data row0 col0\" >Lasso Least Angle Regression</td>\n",
              "      <td id=\"T_d0126_row0_col1\" class=\"data row0 col1\" >0.0543</td>\n",
              "      <td id=\"T_d0126_row0_col2\" class=\"data row0 col2\" >0.0082</td>\n",
              "      <td id=\"T_d0126_row0_col3\" class=\"data row0 col3\" >0.0908</td>\n",
              "      <td id=\"T_d0126_row0_col4\" class=\"data row0 col4\" >1.0000</td>\n",
              "      <td id=\"T_d0126_row0_col5\" class=\"data row0 col5\" >0.0000</td>\n",
              "      <td id=\"T_d0126_row0_col6\" class=\"data row0 col6\" >0.0000</td>\n",
              "    </tr>\n",
              "  </tbody>\n",
              "</table>\n"
            ],
            "text/plain": [
              "<pandas.io.formats.style.Styler at 0x20419871e90>"
            ]
          },
          "metadata": {},
          "output_type": "display_data"
        },
        {
          "data": {
            "text/html": [
              "<div>\n",
              "<style scoped>\n",
              "    .dataframe tbody tr th:only-of-type {\n",
              "        vertical-align: middle;\n",
              "    }\n",
              "\n",
              "    .dataframe tbody tr th {\n",
              "        vertical-align: top;\n",
              "    }\n",
              "\n",
              "    .dataframe thead th {\n",
              "        text-align: right;\n",
              "    }\n",
              "</style>\n",
              "<table border=\"1\" class=\"dataframe\">\n",
              "  <thead>\n",
              "    <tr style=\"text-align: right;\">\n",
              "      <th></th>\n",
              "      <th>Region</th>\n",
              "      <th>Country</th>\n",
              "      <th>Item Type</th>\n",
              "      <th>Sales Channel</th>\n",
              "      <th>Order Priority</th>\n",
              "      <th>Order Date</th>\n",
              "      <th>Order ID</th>\n",
              "      <th>Ship Date</th>\n",
              "      <th>Units Sold</th>\n",
              "      <th>Unit Price</th>\n",
              "      <th>Unit Cost</th>\n",
              "      <th>Total Revenue</th>\n",
              "      <th>Total Cost</th>\n",
              "      <th>Total Profit</th>\n",
              "      <th>prediction_label</th>\n",
              "    </tr>\n",
              "  </thead>\n",
              "  <tbody>\n",
              "    <tr>\n",
              "      <th>82</th>\n",
              "      <td>Middle East and North Africa</td>\n",
              "      <td>Iran</td>\n",
              "      <td>4</td>\n",
              "      <td>1</td>\n",
              "      <td>1</td>\n",
              "      <td>11/15/2016</td>\n",
              "      <td>286959302</td>\n",
              "      <td>12-08-2016</td>\n",
              "      <td>6489</td>\n",
              "      <td>437.200012</td>\n",
              "      <td>263.329987</td>\n",
              "      <td>2.836991e+06</td>\n",
              "      <td>1.708748e+06</td>\n",
              "      <td>1.128242e+06</td>\n",
              "      <td>1.128242e+06</td>\n",
              "    </tr>\n",
              "    <tr>\n",
              "      <th>14</th>\n",
              "      <td>Asia</td>\n",
              "      <td>Mongolia</td>\n",
              "      <td>9</td>\n",
              "      <td>0</td>\n",
              "      <td>0</td>\n",
              "      <td>2/19/2014</td>\n",
              "      <td>832401311</td>\n",
              "      <td>2/23/2014</td>\n",
              "      <td>4901</td>\n",
              "      <td>81.730003</td>\n",
              "      <td>56.669998</td>\n",
              "      <td>4.005587e+05</td>\n",
              "      <td>2.777397e+05</td>\n",
              "      <td>1.228191e+05</td>\n",
              "      <td>1.228191e+05</td>\n",
              "    </tr>\n",
              "    <tr>\n",
              "      <th>78</th>\n",
              "      <td>Europe</td>\n",
              "      <td>Monaco</td>\n",
              "      <td>0</td>\n",
              "      <td>0</td>\n",
              "      <td>1</td>\n",
              "      <td>5/29/2012</td>\n",
              "      <td>688288152</td>\n",
              "      <td>06-02-2012</td>\n",
              "      <td>8614</td>\n",
              "      <td>255.279999</td>\n",
              "      <td>159.419998</td>\n",
              "      <td>2.198982e+06</td>\n",
              "      <td>1.373244e+06</td>\n",
              "      <td>8.257381e+05</td>\n",
              "      <td>8.257381e+05</td>\n",
              "    </tr>\n",
              "    <tr>\n",
              "      <th>1</th>\n",
              "      <td>Central America and the Caribbean</td>\n",
              "      <td>Grenada</td>\n",
              "      <td>2</td>\n",
              "      <td>1</td>\n",
              "      <td>0</td>\n",
              "      <td>8/22/2012</td>\n",
              "      <td>963881480</td>\n",
              "      <td>9/15/2012</td>\n",
              "      <td>2804</td>\n",
              "      <td>205.699997</td>\n",
              "      <td>117.110001</td>\n",
              "      <td>5.767828e+05</td>\n",
              "      <td>3.283764e+05</td>\n",
              "      <td>2.484064e+05</td>\n",
              "      <td>2.484064e+05</td>\n",
              "    </tr>\n",
              "    <tr>\n",
              "      <th>55</th>\n",
              "      <td>Sub-Saharan Africa</td>\n",
              "      <td>Cote d'Ivoire</td>\n",
              "      <td>3</td>\n",
              "      <td>1</td>\n",
              "      <td>0</td>\n",
              "      <td>06-08-2012</td>\n",
              "      <td>114606559</td>\n",
              "      <td>6/27/2012</td>\n",
              "      <td>3482</td>\n",
              "      <td>109.279999</td>\n",
              "      <td>35.840000</td>\n",
              "      <td>3.805130e+05</td>\n",
              "      <td>1.247949e+05</td>\n",
              "      <td>2.557181e+05</td>\n",
              "      <td>2.557180e+05</td>\n",
              "    </tr>\n",
              "    <tr>\n",
              "      <th>12</th>\n",
              "      <td>Asia</td>\n",
              "      <td>Bangladesh</td>\n",
              "      <td>3</td>\n",
              "      <td>1</td>\n",
              "      <td>2</td>\n",
              "      <td>1/13/2017</td>\n",
              "      <td>187310731</td>\n",
              "      <td>03-01-2017</td>\n",
              "      <td>8263</td>\n",
              "      <td>109.279999</td>\n",
              "      <td>35.840000</td>\n",
              "      <td>9.029806e+05</td>\n",
              "      <td>2.961459e+05</td>\n",
              "      <td>6.068348e+05</td>\n",
              "      <td>6.068347e+05</td>\n",
              "    </tr>\n",
              "    <tr>\n",
              "      <th>90</th>\n",
              "      <td>Sub-Saharan Africa</td>\n",
              "      <td>Sierra Leone</td>\n",
              "      <td>8</td>\n",
              "      <td>0</td>\n",
              "      <td>1</td>\n",
              "      <td>12-06-2016</td>\n",
              "      <td>621386563</td>\n",
              "      <td>12/14/2016</td>\n",
              "      <td>948</td>\n",
              "      <td>651.210022</td>\n",
              "      <td>524.960022</td>\n",
              "      <td>6.173471e+05</td>\n",
              "      <td>4.976621e+05</td>\n",
              "      <td>1.196850e+05</td>\n",
              "      <td>1.196850e+05</td>\n",
              "    </tr>\n",
              "    <tr>\n",
              "      <th>38</th>\n",
              "      <td>Asia</td>\n",
              "      <td>Brunei</td>\n",
              "      <td>8</td>\n",
              "      <td>1</td>\n",
              "      <td>2</td>\n",
              "      <td>04-01-2012</td>\n",
              "      <td>320009267</td>\n",
              "      <td>05-08-2012</td>\n",
              "      <td>6708</td>\n",
              "      <td>651.210022</td>\n",
              "      <td>524.960022</td>\n",
              "      <td>4.368316e+06</td>\n",
              "      <td>3.521432e+06</td>\n",
              "      <td>8.468850e+05</td>\n",
              "      <td>8.468848e+05</td>\n",
              "    </tr>\n",
              "    <tr>\n",
              "      <th>68</th>\n",
              "      <td>Europe</td>\n",
              "      <td>Lithuania</td>\n",
              "      <td>8</td>\n",
              "      <td>0</td>\n",
              "      <td>1</td>\n",
              "      <td>10/24/2010</td>\n",
              "      <td>166460740</td>\n",
              "      <td>11/17/2010</td>\n",
              "      <td>8287</td>\n",
              "      <td>651.210022</td>\n",
              "      <td>524.960022</td>\n",
              "      <td>5.396578e+06</td>\n",
              "      <td>4.350344e+06</td>\n",
              "      <td>1.046234e+06</td>\n",
              "      <td>1.046234e+06</td>\n",
              "    </tr>\n",
              "    <tr>\n",
              "      <th>39</th>\n",
              "      <td>Europe</td>\n",
              "      <td>Bulgaria</td>\n",
              "      <td>8</td>\n",
              "      <td>1</td>\n",
              "      <td>3</td>\n",
              "      <td>2/16/2012</td>\n",
              "      <td>189965903</td>\n",
              "      <td>2/28/2012</td>\n",
              "      <td>3987</td>\n",
              "      <td>651.210022</td>\n",
              "      <td>524.960022</td>\n",
              "      <td>2.596374e+06</td>\n",
              "      <td>2.093016e+06</td>\n",
              "      <td>5.033588e+05</td>\n",
              "      <td>5.033588e+05</td>\n",
              "    </tr>\n",
              "    <tr>\n",
              "      <th>33</th>\n",
              "      <td>Asia</td>\n",
              "      <td>Myanmar</td>\n",
              "      <td>6</td>\n",
              "      <td>0</td>\n",
              "      <td>1</td>\n",
              "      <td>1/16/2015</td>\n",
              "      <td>177713572</td>\n",
              "      <td>03-01-2015</td>\n",
              "      <td>8250</td>\n",
              "      <td>668.270020</td>\n",
              "      <td>502.540009</td>\n",
              "      <td>5.513228e+06</td>\n",
              "      <td>4.145955e+06</td>\n",
              "      <td>1.367272e+06</td>\n",
              "      <td>1.367273e+06</td>\n",
              "    </tr>\n",
              "    <tr>\n",
              "      <th>67</th>\n",
              "      <td>Central America and the Caribbean</td>\n",
              "      <td>Belize</td>\n",
              "      <td>3</td>\n",
              "      <td>0</td>\n",
              "      <td>3</td>\n",
              "      <td>7/25/2016</td>\n",
              "      <td>807025039</td>\n",
              "      <td>09-07-2016</td>\n",
              "      <td>5498</td>\n",
              "      <td>109.279999</td>\n",
              "      <td>35.840000</td>\n",
              "      <td>6.008214e+05</td>\n",
              "      <td>1.970483e+05</td>\n",
              "      <td>4.037731e+05</td>\n",
              "      <td>4.037731e+05</td>\n",
              "    </tr>\n",
              "    <tr>\n",
              "      <th>79</th>\n",
              "      <td>Australia and Oceania</td>\n",
              "      <td>Samoa</td>\n",
              "      <td>4</td>\n",
              "      <td>1</td>\n",
              "      <td>1</td>\n",
              "      <td>7/20/2013</td>\n",
              "      <td>670854651</td>\n",
              "      <td>08-07-2013</td>\n",
              "      <td>9654</td>\n",
              "      <td>437.200012</td>\n",
              "      <td>263.329987</td>\n",
              "      <td>4.220729e+06</td>\n",
              "      <td>2.542188e+06</td>\n",
              "      <td>1.678541e+06</td>\n",
              "      <td>1.678541e+06</td>\n",
              "    </tr>\n",
              "    <tr>\n",
              "      <th>30</th>\n",
              "      <td>Europe</td>\n",
              "      <td>Switzerland</td>\n",
              "      <td>4</td>\n",
              "      <td>0</td>\n",
              "      <td>3</td>\n",
              "      <td>9/17/2012</td>\n",
              "      <td>249693334</td>\n",
              "      <td>10/20/2012</td>\n",
              "      <td>8661</td>\n",
              "      <td>437.200012</td>\n",
              "      <td>263.329987</td>\n",
              "      <td>3.786589e+06</td>\n",
              "      <td>2.280701e+06</td>\n",
              "      <td>1.505888e+06</td>\n",
              "      <td>1.505888e+06</td>\n",
              "    </tr>\n",
              "    <tr>\n",
              "      <th>8</th>\n",
              "      <td>Sub-Saharan Africa</td>\n",
              "      <td>Republic of the Congo</td>\n",
              "      <td>9</td>\n",
              "      <td>0</td>\n",
              "      <td>3</td>\n",
              "      <td>7/14/2015</td>\n",
              "      <td>770463311</td>\n",
              "      <td>8/25/2015</td>\n",
              "      <td>6070</td>\n",
              "      <td>81.730003</td>\n",
              "      <td>56.669998</td>\n",
              "      <td>4.961011e+05</td>\n",
              "      <td>3.439869e+05</td>\n",
              "      <td>1.521142e+05</td>\n",
              "      <td>1.521142e+05</td>\n",
              "    </tr>\n",
              "    <tr>\n",
              "      <th>56</th>\n",
              "      <td>Australia and Oceania</td>\n",
              "      <td>Fiji</td>\n",
              "      <td>3</td>\n",
              "      <td>0</td>\n",
              "      <td>0</td>\n",
              "      <td>6/30/2010</td>\n",
              "      <td>647876489</td>\n",
              "      <td>08-01-2010</td>\n",
              "      <td>9905</td>\n",
              "      <td>109.279999</td>\n",
              "      <td>35.840000</td>\n",
              "      <td>1.082418e+06</td>\n",
              "      <td>3.549952e+05</td>\n",
              "      <td>7.274232e+05</td>\n",
              "      <td>7.274232e+05</td>\n",
              "    </tr>\n",
              "    <tr>\n",
              "      <th>25</th>\n",
              "      <td>Europe</td>\n",
              "      <td>France</td>\n",
              "      <td>4</td>\n",
              "      <td>1</td>\n",
              "      <td>1</td>\n",
              "      <td>5/22/2017</td>\n",
              "      <td>898523128</td>\n",
              "      <td>06-05-2017</td>\n",
              "      <td>1815</td>\n",
              "      <td>437.200012</td>\n",
              "      <td>263.329987</td>\n",
              "      <td>7.935180e+05</td>\n",
              "      <td>4.779439e+05</td>\n",
              "      <td>3.155741e+05</td>\n",
              "      <td>3.155741e+05</td>\n",
              "    </tr>\n",
              "    <tr>\n",
              "      <th>75</th>\n",
              "      <td>North America</td>\n",
              "      <td>Mexico</td>\n",
              "      <td>6</td>\n",
              "      <td>0</td>\n",
              "      <td>0</td>\n",
              "      <td>11-06-2014</td>\n",
              "      <td>986435210</td>\n",
              "      <td>12-12-2014</td>\n",
              "      <td>6954</td>\n",
              "      <td>668.270020</td>\n",
              "      <td>502.540009</td>\n",
              "      <td>4.647150e+06</td>\n",
              "      <td>3.494663e+06</td>\n",
              "      <td>1.152486e+06</td>\n",
              "      <td>1.152486e+06</td>\n",
              "    </tr>\n",
              "    <tr>\n",
              "      <th>2</th>\n",
              "      <td>Europe</td>\n",
              "      <td>Russia</td>\n",
              "      <td>8</td>\n",
              "      <td>0</td>\n",
              "      <td>2</td>\n",
              "      <td>05-02-2014</td>\n",
              "      <td>341417157</td>\n",
              "      <td>05-08-2014</td>\n",
              "      <td>1779</td>\n",
              "      <td>651.210022</td>\n",
              "      <td>524.960022</td>\n",
              "      <td>1.158503e+06</td>\n",
              "      <td>9.339038e+05</td>\n",
              "      <td>2.245988e+05</td>\n",
              "      <td>2.245988e+05</td>\n",
              "    </tr>\n",
              "    <tr>\n",
              "      <th>26</th>\n",
              "      <td>Australia and Oceania</td>\n",
              "      <td>Kiribati</td>\n",
              "      <td>5</td>\n",
              "      <td>1</td>\n",
              "      <td>3</td>\n",
              "      <td>10/13/2014</td>\n",
              "      <td>347140347</td>\n",
              "      <td>11-10-2014</td>\n",
              "      <td>5398</td>\n",
              "      <td>9.330000</td>\n",
              "      <td>6.920000</td>\n",
              "      <td>5.036334e+04</td>\n",
              "      <td>3.735416e+04</td>\n",
              "      <td>1.300918e+04</td>\n",
              "      <td>1.300917e+04</td>\n",
              "    </tr>\n",
              "    <tr>\n",
              "      <th>64</th>\n",
              "      <td>Central America and the Caribbean</td>\n",
              "      <td>Haiti</td>\n",
              "      <td>4</td>\n",
              "      <td>0</td>\n",
              "      <td>1</td>\n",
              "      <td>10/13/2013</td>\n",
              "      <td>505716836</td>\n",
              "      <td>11/16/2013</td>\n",
              "      <td>1705</td>\n",
              "      <td>437.200012</td>\n",
              "      <td>263.329987</td>\n",
              "      <td>7.454260e+05</td>\n",
              "      <td>4.489777e+05</td>\n",
              "      <td>2.964483e+05</td>\n",
              "      <td>2.964483e+05</td>\n",
              "    </tr>\n",
              "    <tr>\n",
              "      <th>69</th>\n",
              "      <td>Sub-Saharan Africa</td>\n",
              "      <td>Madagascar</td>\n",
              "      <td>3</td>\n",
              "      <td>0</td>\n",
              "      <td>2</td>\n",
              "      <td>4/25/2015</td>\n",
              "      <td>610425555</td>\n",
              "      <td>5/28/2015</td>\n",
              "      <td>7342</td>\n",
              "      <td>109.279999</td>\n",
              "      <td>35.840000</td>\n",
              "      <td>8.023338e+05</td>\n",
              "      <td>2.631373e+05</td>\n",
              "      <td>5.391965e+05</td>\n",
              "      <td>5.391964e+05</td>\n",
              "    </tr>\n",
              "    <tr>\n",
              "      <th>9</th>\n",
              "      <td>Sub-Saharan Africa</td>\n",
              "      <td>Senegal</td>\n",
              "      <td>2</td>\n",
              "      <td>1</td>\n",
              "      <td>1</td>\n",
              "      <td>4/18/2014</td>\n",
              "      <td>616607081</td>\n",
              "      <td>5/30/2014</td>\n",
              "      <td>6593</td>\n",
              "      <td>205.699997</td>\n",
              "      <td>117.110001</td>\n",
              "      <td>1.356180e+06</td>\n",
              "      <td>7.721062e+05</td>\n",
              "      <td>5.840739e+05</td>\n",
              "      <td>5.840739e+05</td>\n",
              "    </tr>\n",
              "    <tr>\n",
              "      <th>59</th>\n",
              "      <td>Sub-Saharan Africa</td>\n",
              "      <td>Djibouti</td>\n",
              "      <td>4</td>\n",
              "      <td>0</td>\n",
              "      <td>1</td>\n",
              "      <td>04-07-2014</td>\n",
              "      <td>259353148</td>\n",
              "      <td>4/19/2014</td>\n",
              "      <td>7215</td>\n",
              "      <td>437.200012</td>\n",
              "      <td>263.329987</td>\n",
              "      <td>3.154398e+06</td>\n",
              "      <td>1.899926e+06</td>\n",
              "      <td>1.254472e+06</td>\n",
              "      <td>1.254472e+06</td>\n",
              "    </tr>\n",
              "    <tr>\n",
              "      <th>65</th>\n",
              "      <td>Sub-Saharan Africa</td>\n",
              "      <td>Rwanda</td>\n",
              "      <td>4</td>\n",
              "      <td>0</td>\n",
              "      <td>1</td>\n",
              "      <td>10-11-2013</td>\n",
              "      <td>699358165</td>\n",
              "      <td>11/25/2013</td>\n",
              "      <td>4477</td>\n",
              "      <td>437.200012</td>\n",
              "      <td>263.329987</td>\n",
              "      <td>1.957344e+06</td>\n",
              "      <td>1.178928e+06</td>\n",
              "      <td>7.784160e+05</td>\n",
              "      <td>7.784160e+05</td>\n",
              "    </tr>\n",
              "    <tr>\n",
              "      <th>42</th>\n",
              "      <td>Sub-Saharan Africa</td>\n",
              "      <td>The Gambia</td>\n",
              "      <td>2</td>\n",
              "      <td>0</td>\n",
              "      <td>1</td>\n",
              "      <td>06-07-2012</td>\n",
              "      <td>994022214</td>\n",
              "      <td>06-08-2012</td>\n",
              "      <td>2117</td>\n",
              "      <td>205.699997</td>\n",
              "      <td>117.110001</td>\n",
              "      <td>4.354669e+05</td>\n",
              "      <td>2.479219e+05</td>\n",
              "      <td>1.875450e+05</td>\n",
              "      <td>1.875450e+05</td>\n",
              "    </tr>\n",
              "    <tr>\n",
              "      <th>51</th>\n",
              "      <td>Sub-Saharan Africa</td>\n",
              "      <td>Lesotho</td>\n",
              "      <td>5</td>\n",
              "      <td>1</td>\n",
              "      <td>2</td>\n",
              "      <td>8/18/2013</td>\n",
              "      <td>918419539</td>\n",
              "      <td>9/18/2013</td>\n",
              "      <td>9606</td>\n",
              "      <td>9.330000</td>\n",
              "      <td>6.920000</td>\n",
              "      <td>8.962398e+04</td>\n",
              "      <td>6.647352e+04</td>\n",
              "      <td>2.315046e+04</td>\n",
              "      <td>2.315047e+04</td>\n",
              "    </tr>\n",
              "    <tr>\n",
              "      <th>45</th>\n",
              "      <td>Sub-Saharan Africa</td>\n",
              "      <td>Comoros</td>\n",
              "      <td>2</td>\n",
              "      <td>0</td>\n",
              "      <td>1</td>\n",
              "      <td>3/29/2016</td>\n",
              "      <td>902102267</td>\n",
              "      <td>4/29/2016</td>\n",
              "      <td>962</td>\n",
              "      <td>205.699997</td>\n",
              "      <td>117.110001</td>\n",
              "      <td>1.978834e+05</td>\n",
              "      <td>1.126598e+05</td>\n",
              "      <td>8.522358e+04</td>\n",
              "      <td>8.522359e+04</td>\n",
              "    </tr>\n",
              "    <tr>\n",
              "      <th>34</th>\n",
              "      <td>Sub-Saharan Africa</td>\n",
              "      <td>Djibouti</td>\n",
              "      <td>10</td>\n",
              "      <td>1</td>\n",
              "      <td>3</td>\n",
              "      <td>2/25/2017</td>\n",
              "      <td>756274640</td>\n",
              "      <td>2/25/2017</td>\n",
              "      <td>7327</td>\n",
              "      <td>152.580002</td>\n",
              "      <td>97.440002</td>\n",
              "      <td>1.117954e+06</td>\n",
              "      <td>7.139429e+05</td>\n",
              "      <td>4.040108e+05</td>\n",
              "      <td>4.040107e+05</td>\n",
              "    </tr>\n",
              "    <tr>\n",
              "      <th>15</th>\n",
              "      <td>Europe</td>\n",
              "      <td>Bulgaria</td>\n",
              "      <td>3</td>\n",
              "      <td>1</td>\n",
              "      <td>3</td>\n",
              "      <td>4/23/2012</td>\n",
              "      <td>972292029</td>\n",
              "      <td>06-03-2012</td>\n",
              "      <td>1673</td>\n",
              "      <td>109.279999</td>\n",
              "      <td>35.840000</td>\n",
              "      <td>1.828254e+05</td>\n",
              "      <td>5.996032e+04</td>\n",
              "      <td>1.228651e+05</td>\n",
              "      <td>1.228651e+05</td>\n",
              "    </tr>\n",
              "  </tbody>\n",
              "</table>\n",
              "</div>"
            ],
            "text/plain": [
              "                               Region                Country  Item Type  \\\n",
              "82       Middle East and North Africa                   Iran          4   \n",
              "14                               Asia               Mongolia          9   \n",
              "78                             Europe                 Monaco          0   \n",
              "1   Central America and the Caribbean                Grenada          2   \n",
              "55                 Sub-Saharan Africa          Cote d'Ivoire          3   \n",
              "12                               Asia             Bangladesh          3   \n",
              "90                 Sub-Saharan Africa           Sierra Leone          8   \n",
              "38                               Asia                 Brunei          8   \n",
              "68                             Europe              Lithuania          8   \n",
              "39                             Europe               Bulgaria          8   \n",
              "33                               Asia                Myanmar          6   \n",
              "67  Central America and the Caribbean                 Belize          3   \n",
              "79              Australia and Oceania                 Samoa           4   \n",
              "30                             Europe            Switzerland          4   \n",
              "8                  Sub-Saharan Africa  Republic of the Congo          9   \n",
              "56              Australia and Oceania                   Fiji          3   \n",
              "25                             Europe                 France          4   \n",
              "75                      North America                 Mexico          6   \n",
              "2                              Europe                 Russia          8   \n",
              "26              Australia and Oceania               Kiribati          5   \n",
              "64  Central America and the Caribbean                  Haiti          4   \n",
              "69                 Sub-Saharan Africa             Madagascar          3   \n",
              "9                  Sub-Saharan Africa                Senegal          2   \n",
              "59                 Sub-Saharan Africa               Djibouti          4   \n",
              "65                 Sub-Saharan Africa                 Rwanda          4   \n",
              "42                 Sub-Saharan Africa             The Gambia          2   \n",
              "51                 Sub-Saharan Africa                Lesotho          5   \n",
              "45                 Sub-Saharan Africa                Comoros          2   \n",
              "34                 Sub-Saharan Africa               Djibouti         10   \n",
              "15                             Europe               Bulgaria          3   \n",
              "\n",
              "    Sales Channel  Order Priority  Order Date   Order ID   Ship Date  \\\n",
              "82              1               1  11/15/2016  286959302  12-08-2016   \n",
              "14              0               0   2/19/2014  832401311   2/23/2014   \n",
              "78              0               1   5/29/2012  688288152  06-02-2012   \n",
              "1               1               0   8/22/2012  963881480   9/15/2012   \n",
              "55              1               0  06-08-2012  114606559   6/27/2012   \n",
              "12              1               2   1/13/2017  187310731  03-01-2017   \n",
              "90              0               1  12-06-2016  621386563  12/14/2016   \n",
              "38              1               2  04-01-2012  320009267  05-08-2012   \n",
              "68              0               1  10/24/2010  166460740  11/17/2010   \n",
              "39              1               3   2/16/2012  189965903   2/28/2012   \n",
              "33              0               1   1/16/2015  177713572  03-01-2015   \n",
              "67              0               3   7/25/2016  807025039  09-07-2016   \n",
              "79              1               1   7/20/2013  670854651  08-07-2013   \n",
              "30              0               3   9/17/2012  249693334  10/20/2012   \n",
              "8               0               3   7/14/2015  770463311   8/25/2015   \n",
              "56              0               0   6/30/2010  647876489  08-01-2010   \n",
              "25              1               1   5/22/2017  898523128  06-05-2017   \n",
              "75              0               0  11-06-2014  986435210  12-12-2014   \n",
              "2               0               2  05-02-2014  341417157  05-08-2014   \n",
              "26              1               3  10/13/2014  347140347  11-10-2014   \n",
              "64              0               1  10/13/2013  505716836  11/16/2013   \n",
              "69              0               2   4/25/2015  610425555   5/28/2015   \n",
              "9               1               1   4/18/2014  616607081   5/30/2014   \n",
              "59              0               1  04-07-2014  259353148   4/19/2014   \n",
              "65              0               1  10-11-2013  699358165  11/25/2013   \n",
              "42              0               1  06-07-2012  994022214  06-08-2012   \n",
              "51              1               2   8/18/2013  918419539   9/18/2013   \n",
              "45              0               1   3/29/2016  902102267   4/29/2016   \n",
              "34              1               3   2/25/2017  756274640   2/25/2017   \n",
              "15              1               3   4/23/2012  972292029  06-03-2012   \n",
              "\n",
              "    Units Sold  Unit Price   Unit Cost  Total Revenue    Total Cost  \\\n",
              "82        6489  437.200012  263.329987   2.836991e+06  1.708748e+06   \n",
              "14        4901   81.730003   56.669998   4.005587e+05  2.777397e+05   \n",
              "78        8614  255.279999  159.419998   2.198982e+06  1.373244e+06   \n",
              "1         2804  205.699997  117.110001   5.767828e+05  3.283764e+05   \n",
              "55        3482  109.279999   35.840000   3.805130e+05  1.247949e+05   \n",
              "12        8263  109.279999   35.840000   9.029806e+05  2.961459e+05   \n",
              "90         948  651.210022  524.960022   6.173471e+05  4.976621e+05   \n",
              "38        6708  651.210022  524.960022   4.368316e+06  3.521432e+06   \n",
              "68        8287  651.210022  524.960022   5.396578e+06  4.350344e+06   \n",
              "39        3987  651.210022  524.960022   2.596374e+06  2.093016e+06   \n",
              "33        8250  668.270020  502.540009   5.513228e+06  4.145955e+06   \n",
              "67        5498  109.279999   35.840000   6.008214e+05  1.970483e+05   \n",
              "79        9654  437.200012  263.329987   4.220729e+06  2.542188e+06   \n",
              "30        8661  437.200012  263.329987   3.786589e+06  2.280701e+06   \n",
              "8         6070   81.730003   56.669998   4.961011e+05  3.439869e+05   \n",
              "56        9905  109.279999   35.840000   1.082418e+06  3.549952e+05   \n",
              "25        1815  437.200012  263.329987   7.935180e+05  4.779439e+05   \n",
              "75        6954  668.270020  502.540009   4.647150e+06  3.494663e+06   \n",
              "2         1779  651.210022  524.960022   1.158503e+06  9.339038e+05   \n",
              "26        5398    9.330000    6.920000   5.036334e+04  3.735416e+04   \n",
              "64        1705  437.200012  263.329987   7.454260e+05  4.489777e+05   \n",
              "69        7342  109.279999   35.840000   8.023338e+05  2.631373e+05   \n",
              "9         6593  205.699997  117.110001   1.356180e+06  7.721062e+05   \n",
              "59        7215  437.200012  263.329987   3.154398e+06  1.899926e+06   \n",
              "65        4477  437.200012  263.329987   1.957344e+06  1.178928e+06   \n",
              "42        2117  205.699997  117.110001   4.354669e+05  2.479219e+05   \n",
              "51        9606    9.330000    6.920000   8.962398e+04  6.647352e+04   \n",
              "45         962  205.699997  117.110001   1.978834e+05  1.126598e+05   \n",
              "34        7327  152.580002   97.440002   1.117954e+06  7.139429e+05   \n",
              "15        1673  109.279999   35.840000   1.828254e+05  5.996032e+04   \n",
              "\n",
              "    Total Profit  prediction_label  \n",
              "82  1.128242e+06      1.128242e+06  \n",
              "14  1.228191e+05      1.228191e+05  \n",
              "78  8.257381e+05      8.257381e+05  \n",
              "1   2.484064e+05      2.484064e+05  \n",
              "55  2.557181e+05      2.557180e+05  \n",
              "12  6.068348e+05      6.068347e+05  \n",
              "90  1.196850e+05      1.196850e+05  \n",
              "38  8.468850e+05      8.468848e+05  \n",
              "68  1.046234e+06      1.046234e+06  \n",
              "39  5.033588e+05      5.033588e+05  \n",
              "33  1.367272e+06      1.367273e+06  \n",
              "67  4.037731e+05      4.037731e+05  \n",
              "79  1.678541e+06      1.678541e+06  \n",
              "30  1.505888e+06      1.505888e+06  \n",
              "8   1.521142e+05      1.521142e+05  \n",
              "56  7.274232e+05      7.274232e+05  \n",
              "25  3.155741e+05      3.155741e+05  \n",
              "75  1.152486e+06      1.152486e+06  \n",
              "2   2.245988e+05      2.245988e+05  \n",
              "26  1.300918e+04      1.300917e+04  \n",
              "64  2.964483e+05      2.964483e+05  \n",
              "69  5.391965e+05      5.391964e+05  \n",
              "9   5.840739e+05      5.840739e+05  \n",
              "59  1.254472e+06      1.254472e+06  \n",
              "65  7.784160e+05      7.784160e+05  \n",
              "42  1.875450e+05      1.875450e+05  \n",
              "51  2.315046e+04      2.315047e+04  \n",
              "45  8.522358e+04      8.522359e+04  \n",
              "34  4.040108e+05      4.040107e+05  \n",
              "15  1.228651e+05      1.228651e+05  "
            ]
          },
          "execution_count": 43,
          "metadata": {},
          "output_type": "execute_result"
        }
      ],
      "source": [
        "# Predicting total profit using Lasso Least Angle Regression based trained model \n",
        "predict_model(tuned_llar_model)"
      ]
    },
    {
      "cell_type": "code",
      "execution_count": null,
      "metadata": {},
      "outputs": [],
      "source": []
    },
    {
      "cell_type": "markdown",
      "metadata": {
        "id": "T0cTia5jvfsO"
      },
      "source": [
        "##Implement Linear Regression "
      ]
    },
    {
      "cell_type": "code",
      "execution_count": 44,
      "metadata": {
        "id": "hQIog3a0TD_s"
      },
      "outputs": [],
      "source": [
        "# Select the independent variables and target variable\n",
        "X = df[['Item Type', 'Sales Channel', 'Order Priority', 'Units Sold', 'Unit Price', 'Unit Cost',                                    ]]\n",
        "y = df['Total Profit']"
      ]
    },
    {
      "cell_type": "code",
      "execution_count": 45,
      "metadata": {
        "id": "8DCZx9PaWT-N"
      },
      "outputs": [],
      "source": [
        "# Split the data into training and testing sets\n",
        "from sklearn.model_selection import train_test_split\n",
        "X_train, X_test, y_train, y_test = train_test_split(X, y, test_size=0.3, random_state=42)"
      ]
    },
    {
      "cell_type": "code",
      "execution_count": 46,
      "metadata": {
        "id": "6eLWyqI6WjtV"
      },
      "outputs": [],
      "source": [
        "# Standardizing the dataset \n",
        "from sklearn.preprocessing import StandardScaler\n",
        "scaler = StandardScaler()"
      ]
    },
    {
      "cell_type": "code",
      "execution_count": 47,
      "metadata": {
        "id": "t4IP8ymHlU7b"
      },
      "outputs": [],
      "source": [
        "# Performing fit transform on X_train dataframe \n",
        "X_train = scaler.fit_transform(X_train)"
      ]
    },
    {
      "cell_type": "code",
      "execution_count": 48,
      "metadata": {
        "id": "GVyHxLoDlyeu"
      },
      "outputs": [],
      "source": [
        "# Performing transform on X_test dataframe \n",
        "X_test = scaler.transform(X_test)"
      ]
    },
    {
      "cell_type": "code",
      "execution_count": 49,
      "metadata": {
        "colab": {
          "base_uri": "https://localhost:8080/",
          "height": 75
        },
        "id": "v-lVneLsl7kN",
        "outputId": "966e106e-6ced-4152-d7f2-cf26a3d50318"
      },
      "outputs": [
        {
          "data": {
            "text/html": [
              "<style>#sk-container-id-2 {\n",
              "  /* Definition of color scheme common for light and dark mode */\n",
              "  --sklearn-color-text: black;\n",
              "  --sklearn-color-line: gray;\n",
              "  /* Definition of color scheme for unfitted estimators */\n",
              "  --sklearn-color-unfitted-level-0: #fff5e6;\n",
              "  --sklearn-color-unfitted-level-1: #f6e4d2;\n",
              "  --sklearn-color-unfitted-level-2: #ffe0b3;\n",
              "  --sklearn-color-unfitted-level-3: chocolate;\n",
              "  /* Definition of color scheme for fitted estimators */\n",
              "  --sklearn-color-fitted-level-0: #f0f8ff;\n",
              "  --sklearn-color-fitted-level-1: #d4ebff;\n",
              "  --sklearn-color-fitted-level-2: #b3dbfd;\n",
              "  --sklearn-color-fitted-level-3: cornflowerblue;\n",
              "\n",
              "  /* Specific color for light theme */\n",
              "  --sklearn-color-text-on-default-background: var(--sg-text-color, var(--theme-code-foreground, var(--jp-content-font-color1, black)));\n",
              "  --sklearn-color-background: var(--sg-background-color, var(--theme-background, var(--jp-layout-color0, white)));\n",
              "  --sklearn-color-border-box: var(--sg-text-color, var(--theme-code-foreground, var(--jp-content-font-color1, black)));\n",
              "  --sklearn-color-icon: #696969;\n",
              "\n",
              "  @media (prefers-color-scheme: dark) {\n",
              "    /* Redefinition of color scheme for dark theme */\n",
              "    --sklearn-color-text-on-default-background: var(--sg-text-color, var(--theme-code-foreground, var(--jp-content-font-color1, white)));\n",
              "    --sklearn-color-background: var(--sg-background-color, var(--theme-background, var(--jp-layout-color0, #111)));\n",
              "    --sklearn-color-border-box: var(--sg-text-color, var(--theme-code-foreground, var(--jp-content-font-color1, white)));\n",
              "    --sklearn-color-icon: #878787;\n",
              "  }\n",
              "}\n",
              "\n",
              "#sk-container-id-2 {\n",
              "  color: var(--sklearn-color-text);\n",
              "}\n",
              "\n",
              "#sk-container-id-2 pre {\n",
              "  padding: 0;\n",
              "}\n",
              "\n",
              "#sk-container-id-2 input.sk-hidden--visually {\n",
              "  border: 0;\n",
              "  clip: rect(1px 1px 1px 1px);\n",
              "  clip: rect(1px, 1px, 1px, 1px);\n",
              "  height: 1px;\n",
              "  margin: -1px;\n",
              "  overflow: hidden;\n",
              "  padding: 0;\n",
              "  position: absolute;\n",
              "  width: 1px;\n",
              "}\n",
              "\n",
              "#sk-container-id-2 div.sk-dashed-wrapped {\n",
              "  border: 1px dashed var(--sklearn-color-line);\n",
              "  margin: 0 0.4em 0.5em 0.4em;\n",
              "  box-sizing: border-box;\n",
              "  padding-bottom: 0.4em;\n",
              "  background-color: var(--sklearn-color-background);\n",
              "}\n",
              "\n",
              "#sk-container-id-2 div.sk-container {\n",
              "  /* jupyter's `normalize.less` sets `[hidden] { display: none; }`\n",
              "     but bootstrap.min.css set `[hidden] { display: none !important; }`\n",
              "     so we also need the `!important` here to be able to override the\n",
              "     default hidden behavior on the sphinx rendered scikit-learn.org.\n",
              "     See: https://github.com/scikit-learn/scikit-learn/issues/21755 */\n",
              "  display: inline-block !important;\n",
              "  position: relative;\n",
              "}\n",
              "\n",
              "#sk-container-id-2 div.sk-text-repr-fallback {\n",
              "  display: none;\n",
              "}\n",
              "\n",
              "div.sk-parallel-item,\n",
              "div.sk-serial,\n",
              "div.sk-item {\n",
              "  /* draw centered vertical line to link estimators */\n",
              "  background-image: linear-gradient(var(--sklearn-color-text-on-default-background), var(--sklearn-color-text-on-default-background));\n",
              "  background-size: 2px 100%;\n",
              "  background-repeat: no-repeat;\n",
              "  background-position: center center;\n",
              "}\n",
              "\n",
              "/* Parallel-specific style estimator block */\n",
              "\n",
              "#sk-container-id-2 div.sk-parallel-item::after {\n",
              "  content: \"\";\n",
              "  width: 100%;\n",
              "  border-bottom: 2px solid var(--sklearn-color-text-on-default-background);\n",
              "  flex-grow: 1;\n",
              "}\n",
              "\n",
              "#sk-container-id-2 div.sk-parallel {\n",
              "  display: flex;\n",
              "  align-items: stretch;\n",
              "  justify-content: center;\n",
              "  background-color: var(--sklearn-color-background);\n",
              "  position: relative;\n",
              "}\n",
              "\n",
              "#sk-container-id-2 div.sk-parallel-item {\n",
              "  display: flex;\n",
              "  flex-direction: column;\n",
              "}\n",
              "\n",
              "#sk-container-id-2 div.sk-parallel-item:first-child::after {\n",
              "  align-self: flex-end;\n",
              "  width: 50%;\n",
              "}\n",
              "\n",
              "#sk-container-id-2 div.sk-parallel-item:last-child::after {\n",
              "  align-self: flex-start;\n",
              "  width: 50%;\n",
              "}\n",
              "\n",
              "#sk-container-id-2 div.sk-parallel-item:only-child::after {\n",
              "  width: 0;\n",
              "}\n",
              "\n",
              "/* Serial-specific style estimator block */\n",
              "\n",
              "#sk-container-id-2 div.sk-serial {\n",
              "  display: flex;\n",
              "  flex-direction: column;\n",
              "  align-items: center;\n",
              "  background-color: var(--sklearn-color-background);\n",
              "  padding-right: 1em;\n",
              "  padding-left: 1em;\n",
              "}\n",
              "\n",
              "\n",
              "/* Toggleable style: style used for estimator/Pipeline/ColumnTransformer box that is\n",
              "clickable and can be expanded/collapsed.\n",
              "- Pipeline and ColumnTransformer use this feature and define the default style\n",
              "- Estimators will overwrite some part of the style using the `sk-estimator` class\n",
              "*/\n",
              "\n",
              "/* Pipeline and ColumnTransformer style (default) */\n",
              "\n",
              "#sk-container-id-2 div.sk-toggleable {\n",
              "  /* Default theme specific background. It is overwritten whether we have a\n",
              "  specific estimator or a Pipeline/ColumnTransformer */\n",
              "  background-color: var(--sklearn-color-background);\n",
              "}\n",
              "\n",
              "/* Toggleable label */\n",
              "#sk-container-id-2 label.sk-toggleable__label {\n",
              "  cursor: pointer;\n",
              "  display: block;\n",
              "  width: 100%;\n",
              "  margin-bottom: 0;\n",
              "  padding: 0.5em;\n",
              "  box-sizing: border-box;\n",
              "  text-align: center;\n",
              "}\n",
              "\n",
              "#sk-container-id-2 label.sk-toggleable__label-arrow:before {\n",
              "  /* Arrow on the left of the label */\n",
              "  content: \"▸\";\n",
              "  float: left;\n",
              "  margin-right: 0.25em;\n",
              "  color: var(--sklearn-color-icon);\n",
              "}\n",
              "\n",
              "#sk-container-id-2 label.sk-toggleable__label-arrow:hover:before {\n",
              "  color: var(--sklearn-color-text);\n",
              "}\n",
              "\n",
              "/* Toggleable content - dropdown */\n",
              "\n",
              "#sk-container-id-2 div.sk-toggleable__content {\n",
              "  max-height: 0;\n",
              "  max-width: 0;\n",
              "  overflow: hidden;\n",
              "  text-align: left;\n",
              "  /* unfitted */\n",
              "  background-color: var(--sklearn-color-unfitted-level-0);\n",
              "}\n",
              "\n",
              "#sk-container-id-2 div.sk-toggleable__content.fitted {\n",
              "  /* fitted */\n",
              "  background-color: var(--sklearn-color-fitted-level-0);\n",
              "}\n",
              "\n",
              "#sk-container-id-2 div.sk-toggleable__content pre {\n",
              "  margin: 0.2em;\n",
              "  border-radius: 0.25em;\n",
              "  color: var(--sklearn-color-text);\n",
              "  /* unfitted */\n",
              "  background-color: var(--sklearn-color-unfitted-level-0);\n",
              "}\n",
              "\n",
              "#sk-container-id-2 div.sk-toggleable__content.fitted pre {\n",
              "  /* unfitted */\n",
              "  background-color: var(--sklearn-color-fitted-level-0);\n",
              "}\n",
              "\n",
              "#sk-container-id-2 input.sk-toggleable__control:checked~div.sk-toggleable__content {\n",
              "  /* Expand drop-down */\n",
              "  max-height: 200px;\n",
              "  max-width: 100%;\n",
              "  overflow: auto;\n",
              "}\n",
              "\n",
              "#sk-container-id-2 input.sk-toggleable__control:checked~label.sk-toggleable__label-arrow:before {\n",
              "  content: \"▾\";\n",
              "}\n",
              "\n",
              "/* Pipeline/ColumnTransformer-specific style */\n",
              "\n",
              "#sk-container-id-2 div.sk-label input.sk-toggleable__control:checked~label.sk-toggleable__label {\n",
              "  color: var(--sklearn-color-text);\n",
              "  background-color: var(--sklearn-color-unfitted-level-2);\n",
              "}\n",
              "\n",
              "#sk-container-id-2 div.sk-label.fitted input.sk-toggleable__control:checked~label.sk-toggleable__label {\n",
              "  background-color: var(--sklearn-color-fitted-level-2);\n",
              "}\n",
              "\n",
              "/* Estimator-specific style */\n",
              "\n",
              "/* Colorize estimator box */\n",
              "#sk-container-id-2 div.sk-estimator input.sk-toggleable__control:checked~label.sk-toggleable__label {\n",
              "  /* unfitted */\n",
              "  background-color: var(--sklearn-color-unfitted-level-2);\n",
              "}\n",
              "\n",
              "#sk-container-id-2 div.sk-estimator.fitted input.sk-toggleable__control:checked~label.sk-toggleable__label {\n",
              "  /* fitted */\n",
              "  background-color: var(--sklearn-color-fitted-level-2);\n",
              "}\n",
              "\n",
              "#sk-container-id-2 div.sk-label label.sk-toggleable__label,\n",
              "#sk-container-id-2 div.sk-label label {\n",
              "  /* The background is the default theme color */\n",
              "  color: var(--sklearn-color-text-on-default-background);\n",
              "}\n",
              "\n",
              "/* On hover, darken the color of the background */\n",
              "#sk-container-id-2 div.sk-label:hover label.sk-toggleable__label {\n",
              "  color: var(--sklearn-color-text);\n",
              "  background-color: var(--sklearn-color-unfitted-level-2);\n",
              "}\n",
              "\n",
              "/* Label box, darken color on hover, fitted */\n",
              "#sk-container-id-2 div.sk-label.fitted:hover label.sk-toggleable__label.fitted {\n",
              "  color: var(--sklearn-color-text);\n",
              "  background-color: var(--sklearn-color-fitted-level-2);\n",
              "}\n",
              "\n",
              "/* Estimator label */\n",
              "\n",
              "#sk-container-id-2 div.sk-label label {\n",
              "  font-family: monospace;\n",
              "  font-weight: bold;\n",
              "  display: inline-block;\n",
              "  line-height: 1.2em;\n",
              "}\n",
              "\n",
              "#sk-container-id-2 div.sk-label-container {\n",
              "  text-align: center;\n",
              "}\n",
              "\n",
              "/* Estimator-specific */\n",
              "#sk-container-id-2 div.sk-estimator {\n",
              "  font-family: monospace;\n",
              "  border: 1px dotted var(--sklearn-color-border-box);\n",
              "  border-radius: 0.25em;\n",
              "  box-sizing: border-box;\n",
              "  margin-bottom: 0.5em;\n",
              "  /* unfitted */\n",
              "  background-color: var(--sklearn-color-unfitted-level-0);\n",
              "}\n",
              "\n",
              "#sk-container-id-2 div.sk-estimator.fitted {\n",
              "  /* fitted */\n",
              "  background-color: var(--sklearn-color-fitted-level-0);\n",
              "}\n",
              "\n",
              "/* on hover */\n",
              "#sk-container-id-2 div.sk-estimator:hover {\n",
              "  /* unfitted */\n",
              "  background-color: var(--sklearn-color-unfitted-level-2);\n",
              "}\n",
              "\n",
              "#sk-container-id-2 div.sk-estimator.fitted:hover {\n",
              "  /* fitted */\n",
              "  background-color: var(--sklearn-color-fitted-level-2);\n",
              "}\n",
              "\n",
              "/* Specification for estimator info (e.g. \"i\" and \"?\") */\n",
              "\n",
              "/* Common style for \"i\" and \"?\" */\n",
              "\n",
              ".sk-estimator-doc-link,\n",
              "a:link.sk-estimator-doc-link,\n",
              "a:visited.sk-estimator-doc-link {\n",
              "  float: right;\n",
              "  font-size: smaller;\n",
              "  line-height: 1em;\n",
              "  font-family: monospace;\n",
              "  background-color: var(--sklearn-color-background);\n",
              "  border-radius: 1em;\n",
              "  height: 1em;\n",
              "  width: 1em;\n",
              "  text-decoration: none !important;\n",
              "  margin-left: 1ex;\n",
              "  /* unfitted */\n",
              "  border: var(--sklearn-color-unfitted-level-1) 1pt solid;\n",
              "  color: var(--sklearn-color-unfitted-level-1);\n",
              "}\n",
              "\n",
              ".sk-estimator-doc-link.fitted,\n",
              "a:link.sk-estimator-doc-link.fitted,\n",
              "a:visited.sk-estimator-doc-link.fitted {\n",
              "  /* fitted */\n",
              "  border: var(--sklearn-color-fitted-level-1) 1pt solid;\n",
              "  color: var(--sklearn-color-fitted-level-1);\n",
              "}\n",
              "\n",
              "/* On hover */\n",
              "div.sk-estimator:hover .sk-estimator-doc-link:hover,\n",
              ".sk-estimator-doc-link:hover,\n",
              "div.sk-label-container:hover .sk-estimator-doc-link:hover,\n",
              ".sk-estimator-doc-link:hover {\n",
              "  /* unfitted */\n",
              "  background-color: var(--sklearn-color-unfitted-level-3);\n",
              "  color: var(--sklearn-color-background);\n",
              "  text-decoration: none;\n",
              "}\n",
              "\n",
              "div.sk-estimator.fitted:hover .sk-estimator-doc-link.fitted:hover,\n",
              ".sk-estimator-doc-link.fitted:hover,\n",
              "div.sk-label-container:hover .sk-estimator-doc-link.fitted:hover,\n",
              ".sk-estimator-doc-link.fitted:hover {\n",
              "  /* fitted */\n",
              "  background-color: var(--sklearn-color-fitted-level-3);\n",
              "  color: var(--sklearn-color-background);\n",
              "  text-decoration: none;\n",
              "}\n",
              "\n",
              "/* Span, style for the box shown on hovering the info icon */\n",
              ".sk-estimator-doc-link span {\n",
              "  display: none;\n",
              "  z-index: 9999;\n",
              "  position: relative;\n",
              "  font-weight: normal;\n",
              "  right: .2ex;\n",
              "  padding: .5ex;\n",
              "  margin: .5ex;\n",
              "  width: min-content;\n",
              "  min-width: 20ex;\n",
              "  max-width: 50ex;\n",
              "  color: var(--sklearn-color-text);\n",
              "  box-shadow: 2pt 2pt 4pt #999;\n",
              "  /* unfitted */\n",
              "  background: var(--sklearn-color-unfitted-level-0);\n",
              "  border: .5pt solid var(--sklearn-color-unfitted-level-3);\n",
              "}\n",
              "\n",
              ".sk-estimator-doc-link.fitted span {\n",
              "  /* fitted */\n",
              "  background: var(--sklearn-color-fitted-level-0);\n",
              "  border: var(--sklearn-color-fitted-level-3);\n",
              "}\n",
              "\n",
              ".sk-estimator-doc-link:hover span {\n",
              "  display: block;\n",
              "}\n",
              "\n",
              "/* \"?\"-specific style due to the `<a>` HTML tag */\n",
              "\n",
              "#sk-container-id-2 a.estimator_doc_link {\n",
              "  float: right;\n",
              "  font-size: 1rem;\n",
              "  line-height: 1em;\n",
              "  font-family: monospace;\n",
              "  background-color: var(--sklearn-color-background);\n",
              "  border-radius: 1rem;\n",
              "  height: 1rem;\n",
              "  width: 1rem;\n",
              "  text-decoration: none;\n",
              "  /* unfitted */\n",
              "  color: var(--sklearn-color-unfitted-level-1);\n",
              "  border: var(--sklearn-color-unfitted-level-1) 1pt solid;\n",
              "}\n",
              "\n",
              "#sk-container-id-2 a.estimator_doc_link.fitted {\n",
              "  /* fitted */\n",
              "  border: var(--sklearn-color-fitted-level-1) 1pt solid;\n",
              "  color: var(--sklearn-color-fitted-level-1);\n",
              "}\n",
              "\n",
              "/* On hover */\n",
              "#sk-container-id-2 a.estimator_doc_link:hover {\n",
              "  /* unfitted */\n",
              "  background-color: var(--sklearn-color-unfitted-level-3);\n",
              "  color: var(--sklearn-color-background);\n",
              "  text-decoration: none;\n",
              "}\n",
              "\n",
              "#sk-container-id-2 a.estimator_doc_link.fitted:hover {\n",
              "  /* fitted */\n",
              "  background-color: var(--sklearn-color-fitted-level-3);\n",
              "}\n",
              "</style><div id=\"sk-container-id-2\" class=\"sk-top-container\"><div class=\"sk-text-repr-fallback\"><pre>LinearRegression()</pre><b>In a Jupyter environment, please rerun this cell to show the HTML representation or trust the notebook. <br />On GitHub, the HTML representation is unable to render, please try loading this page with nbviewer.org.</b></div><div class=\"sk-container\" hidden><div class=\"sk-item\"><div class=\"sk-estimator fitted sk-toggleable\"><input class=\"sk-toggleable__control sk-hidden--visually\" id=\"sk-estimator-id-2\" type=\"checkbox\" checked><label for=\"sk-estimator-id-2\" class=\"sk-toggleable__label fitted sk-toggleable__label-arrow fitted\">&nbsp;&nbsp;LinearRegression<a class=\"sk-estimator-doc-link fitted\" rel=\"noreferrer\" target=\"_blank\" href=\"https://scikit-learn.org/1.4/modules/generated/sklearn.linear_model.LinearRegression.html\">?<span>Documentation for LinearRegression</span></a><span class=\"sk-estimator-doc-link fitted\">i<span>Fitted</span></span></label><div class=\"sk-toggleable__content fitted\"><pre>LinearRegression()</pre></div> </div></div></div></div>"
            ],
            "text/plain": [
              "LinearRegression()"
            ]
          },
          "execution_count": 49,
          "metadata": {},
          "output_type": "execute_result"
        }
      ],
      "source": [
        "# Applying Linear Regression on X_train and y_train\n",
        "from sklearn.linear_model import LinearRegression\n",
        "from sklearn.model_selection import cross_val_score\n",
        "regression = LinearRegression()\n",
        "regression.fit(X_train,y_train)"
      ]
    },
    {
      "cell_type": "code",
      "execution_count": 50,
      "metadata": {
        "id": "NSdpboHBmPfm"
      },
      "outputs": [],
      "source": [
        "# Calculating mean squared error \n",
        "mse = cross_val_score(regression,X_train,y_train,scoring=\"neg_mean_squared_error\",cv=5)"
      ]
    },
    {
      "cell_type": "code",
      "execution_count": 51,
      "metadata": {
        "colab": {
          "base_uri": "https://localhost:8080/"
        },
        "id": "DHYG3sb0mxII",
        "outputId": "c267d70a-4023-41c9-ed9a-7d7464be8788"
      },
      "outputs": [
        {
          "data": {
            "text/plain": [
              "-35550960551.43354"
            ]
          },
          "execution_count": 51,
          "metadata": {},
          "output_type": "execute_result"
        }
      ],
      "source": [
        "np.mean(mse)"
      ]
    },
    {
      "cell_type": "code",
      "execution_count": 52,
      "metadata": {
        "id": "xmXFfaDGm787"
      },
      "outputs": [],
      "source": [
        "## prediction \n",
        "reg_pred = regression.predict(X_test)"
      ]
    },
    {
      "cell_type": "code",
      "execution_count": 53,
      "metadata": {
        "colab": {
          "base_uri": "https://localhost:8080/"
        },
        "id": "j0NcHCZLnTq4",
        "outputId": "a0836261-12c4-4f72-8d8c-9f3ae64b9f3e"
      },
      "outputs": [
        {
          "data": {
            "text/plain": [
              "array([ 228365.003484  ,  427221.6290519 ,  633756.95987074,\n",
              "         31211.03872966,  489904.15888987,  538269.23191961,\n",
              "         54750.95266376,  771489.4807716 ,  -84991.78898986,\n",
              "        889165.19307094,  707737.6545833 , 1275577.79333456,\n",
              "        810952.7599179 , 1116745.1135973 ,  185910.81441383,\n",
              "        573474.4896471 ,  423664.17723861,  186645.93687078,\n",
              "        711227.71341839, -211382.03024846,  257846.40229451,\n",
              "       -445061.10614315,   10069.06149099,  139019.76383578,\n",
              "        563683.82352342,   99670.52844744,  -63172.44396424,\n",
              "         26046.0963857 ,  618390.50892749,   84090.02837623])"
            ]
          },
          "execution_count": 53,
          "metadata": {},
          "output_type": "execute_result"
        }
      ],
      "source": [
        "reg_pred"
      ]
    },
    {
      "cell_type": "code",
      "execution_count": 54,
      "metadata": {
        "colab": {
          "base_uri": "https://localhost:8080/",
          "height": 386
        },
        "id": "xAQSwKAynVwY",
        "outputId": "714108f2-cd69-4a85-ca03-0e0b49ef246a"
      },
      "outputs": [
        {
          "data": {
            "text/plain": [
              "<seaborn.axisgrid.FacetGrid at 0x2041b094890>"
            ]
          },
          "execution_count": 54,
          "metadata": {},
          "output_type": "execute_result"
        },
        {
          "data": {
            "image/png": "[encoded data removed]",
            "text/plain": [
              "<Figure size 1000x500 with 1 Axes>"
            ]
          },
          "metadata": {},
          "output_type": "display_data"
        }
      ],
      "source": [
        "# Creating kernel density estimate plot \n",
        "import seaborn as sns \n",
        "sns.displot(reg_pred - y_test,kind='kde', height=5, aspect=2)"
      ]
    },
    {
      "cell_type": "code",
      "execution_count": 55,
      "metadata": {
        "colab": {
          "base_uri": "https://localhost:8080/"
        },
        "id": "61vLWQTVnhZ4",
        "outputId": "ab2a20b2-5b71-45ee-cbcb-a7313d6f4f8e"
      },
      "outputs": [
        {
          "name": "stdout",
          "output_type": "stream",
          "text": [
            "Accuracy: 88.41%\n"
          ]
        }
      ],
      "source": [
        "# Finding Accuracy percentage on the bases of r2 score \n",
        "from sklearn.metrics import r2_score\n",
        "score = r2_score(reg_pred,y_test)\n",
        "\n",
        "# Calculate the percentage of accuracy\n",
        "accuracy_pct = score * 100\n",
        "\n",
        "print(\"Accuracy: {:.2f}%\".format(accuracy_pct))\n"
      ]
    },
    {
      "cell_type": "code",
      "execution_count": 56,
      "metadata": {
        "colab": {
          "base_uri": "https://localhost:8080/",
          "height": 299
        },
        "id": "KLEi-962odFp",
        "outputId": "4bff9130-5587-4d39-b0d7-ca384e74dcfa"
      },
      "outputs": [
        {
          "data": {
            "image/png": "[encoded data removed]",
            "text/plain": [
              "<Figure size 800x550 with 1 Axes>"
            ]
          },
          "metadata": {},
          "output_type": "display_data"
        }
      ],
      "source": [
        "# Plot the predicted values against the actual values to visualize how well the model is fitting the data.\n",
        "import matplotlib.pyplot as plt\n",
        "\n",
        "plt.scatter(y_test, reg_pred)\n",
        "plt.xlabel('Actual Values')\n",
        "plt.ylabel('Predicted Values')\n",
        "plt.show()"
      ]
    },
    {
      "cell_type": "code",
      "execution_count": null,
      "metadata": {},
      "outputs": [],
      "source": []
    },
    {
      "cell_type": "code",
      "execution_count": 57,
      "metadata": {
        "colab": {
          "base_uri": "https://localhost:8080/"
        },
        "id": "8ocZHshMpFzz",
        "outputId": "47381fc3-9f5a-44f7-83ec-2023790f862e"
      },
      "outputs": [
        {
          "name": "stdout",
          "output_type": "stream",
          "text": [
            "MSE: 17994796525.40397\n",
            "RMSE: 134144.68504344096\n"
          ]
        }
      ],
      "source": [
        "# Calculate the mean squared error (MSE) or root mean squared error (RMSE) to quantify the model's performance.\n",
        "\n",
        "from sklearn.metrics import mean_squared_error\n",
        "import numpy as np\n",
        "\n",
        "mse = mean_squared_error(y_test, reg_pred)\n",
        "rmse = np.sqrt(mse)\n",
        "print('MSE:', mse)\n",
        "print('RMSE:', rmse)"
      ]
    },
    {
      "cell_type": "code",
      "execution_count": 58,
      "metadata": {
        "colab": {
          "base_uri": "https://localhost:8080/",
          "height": 542
        },
        "id": "9RlSuMJW1Lsw",
        "outputId": "713811fa-3a3d-40a1-e49e-565ae84387bd"
      },
      "outputs": [
        {
          "data": {
            "application/vnd.plotly.v1+json": {
              "config": {
                "plotlyServerURL": "https://plot.ly"
              },
              "data": [
                {
                  "type": "bar",
                  "x": [
                    "Feature_4",
                    "Feature_3",
                    "Feature_1",
                    "Feature_0",
                    "Feature_2",
                    "Feature_5"
                  ],
                  "y": [
                    1483132.848246386,
                    259222.42723243122,
                    30775.89694974727,
                    19849.74307278472,
                    3784.574270383251,
                    -1222086.4052121951
                  ]
                }
              ],
              "layout": {
                "template": {
                  "data": {
                    "bar": [
                      {
                        "error_x": {
                          "color": "#2a3f5f"
                        },
                        "error_y": {
                          "color": "#2a3f5f"
                        },
                        "marker": {
                          "line": {
                            "color": "#E5ECF6",
                            "width": 0.5
                          },
                          "pattern": {
                            "fillmode": "overlay",
                            "size": 10,
                            "solidity": 0.2
                          }
                        },
                        "type": "bar"
                      }
                    ],
                    "barpolar": [
                      {
                        "marker": {
                          "line": {
                            "color": "#E5ECF6",
                            "width": 0.5
                          },
                          "pattern": {
                            "fillmode": "overlay",
                            "size": 10,
                            "solidity": 0.2
                          }
                        },
                        "type": "barpolar"
                      }
                    ],
                    "carpet": [
                      {
                        "aaxis": {
                          "endlinecolor": "#2a3f5f",
                          "gridcolor": "white",
                          "linecolor": "white",
                          "minorgridcolor": "white",
                          "startlinecolor": "#2a3f5f"
                        },
                        "baxis": {
                          "endlinecolor": "#2a3f5f",
                          "gridcolor": "white",
                          "linecolor": "white",
                          "minorgridcolor": "white",
                          "startlinecolor": "#2a3f5f"
                        },
                        "type": "carpet"
                      }
                    ],
                    "choropleth": [
                      {
                        "colorbar": {
                          "outlinewidth": 0,
                          "ticks": ""
                        },
                        "type": "choropleth"
                      }
                    ],
                    "contour": [
                      {
                        "colorbar": {
                          "outlinewidth": 0,
                          "ticks": ""
                        },
                        "colorscale": [
                          [
                            0,
                            "#0d0887"
                          ],
                          [
                            0.1111111111111111,
                            "#46039f"
                          ],
                          [
                            0.2222222222222222,
                            "#7201a8"
                          ],
                          [
                            0.3333333333333333,
                            "#9c179e"
                          ],
                          [
                            0.4444444444444444,
                            "#bd3786"
                          ],
                          [
                            0.5555555555555556,
                            "#d8576b"
                          ],
                          [
                            0.6666666666666666,
                            "#ed7953"
                          ],
                          [
                            0.7777777777777778,
                            "#fb9f3a"
                          ],
                          [
                            0.8888888888888888,
                            "#fdca26"
                          ],
                          [
                            1,
                            "#f0f921"
                          ]
                        ],
                        "type": "contour"
                      }
                    ],
                    "contourcarpet": [
                      {
                        "colorbar": {
                          "outlinewidth": 0,
                          "ticks": ""
                        },
                        "type": "contourcarpet"
                      }
                    ],
                    "heatmap": [
                      {
                        "colorbar": {
                          "outlinewidth": 0,
                          "ticks": ""
                        },
                        "colorscale": [
                          [
                            0,
                            "#0d0887"
                          ],
                          [
                            0.1111111111111111,
                            "#46039f"
                          ],
                          [
                            0.2222222222222222,
                            "#7201a8"
                          ],
                          [
                            0.3333333333333333,
                            "#9c179e"
                          ],
                          [
                            0.4444444444444444,
                            "#bd3786"
                          ],
                          [
                            0.5555555555555556,
                            "#d8576b"
                          ],
                          [
                            0.6666666666666666,
                            "#ed7953"
                          ],
                          [
                            0.7777777777777778,
                            "#fb9f3a"
                          ],
                          [
                            0.8888888888888888,
                            "#fdca26"
                          ],
                          [
                            1,
                            "#f0f921"
                          ]
                        ],
                        "type": "heatmap"
                      }
                    ],
                    "heatmapgl": [
                      {
                        "colorbar": {
                          "outlinewidth": 0,
                          "ticks": ""
                        },
                        "colorscale": [
                          [
                            0,
                            "#0d0887"
                          ],
                          [
                            0.1111111111111111,
                            "#46039f"
                          ],
                          [
                            0.2222222222222222,
                            "#7201a8"
                          ],
                          [
                            0.3333333333333333,
                            "#9c179e"
                          ],
                          [
                            0.4444444444444444,
                            "#bd3786"
                          ],
                          [
                            0.5555555555555556,
                            "#d8576b"
                          ],
                          [
                            0.6666666666666666,
                            "#ed7953"
                          ],
                          [
                            0.7777777777777778,
                            "#fb9f3a"
                          ],
                          [
                            0.8888888888888888,
                            "#fdca26"
                          ],
                          [
                            1,
                            "#f0f921"
                          ]
                        ],
                        "type": "heatmapgl"
                      }
                    ],
                    "histogram": [
                      {
                        "marker": {
                          "pattern": {
                            "fillmode": "overlay",
                            "size": 10,
                            "solidity": 0.2
                          }
                        },
                        "type": "histogram"
                      }
                    ],
                    "histogram2d": [
                      {
                        "colorbar": {
                          "outlinewidth": 0,
                          "ticks": ""
                        },
                        "colorscale": [
                          [
                            0,
                            "#0d0887"
                          ],
                          [
                            0.1111111111111111,
                            "#46039f"
                          ],
                          [
                            0.2222222222222222,
                            "#7201a8"
                          ],
                          [
                            0.3333333333333333,
                            "#9c179e"
                          ],
                          [
                            0.4444444444444444,
                            "#bd3786"
                          ],
                          [
                            0.5555555555555556,
                            "#d8576b"
                          ],
                          [
                            0.6666666666666666,
                            "#ed7953"
                          ],
                          [
                            0.7777777777777778,
                            "#fb9f3a"
                          ],
                          [
                            0.8888888888888888,
                            "#fdca26"
                          ],
                          [
                            1,
                            "#f0f921"
                          ]
                        ],
                        "type": "histogram2d"
                      }
                    ],
                    "histogram2dcontour": [
                      {
                        "colorbar": {
                          "outlinewidth": 0,
                          "ticks": ""
                        },
                        "colorscale": [
                          [
                            0,
                            "#0d0887"
                          ],
                          [
                            0.1111111111111111,
                            "#46039f"
                          ],
                          [
                            0.2222222222222222,
                            "#7201a8"
                          ],
                          [
                            0.3333333333333333,
                            "#9c179e"
                          ],
                          [
                            0.4444444444444444,
                            "#bd3786"
                          ],
                          [
                            0.5555555555555556,
                            "#d8576b"
                          ],
                          [
                            0.6666666666666666,
                            "#ed7953"
                          ],
                          [
                            0.7777777777777778,
                            "#fb9f3a"
                          ],
                          [
                            0.8888888888888888,
                            "#fdca26"
                          ],
                          [
                            1,
                            "#f0f921"
                          ]
                        ],
                        "type": "histogram2dcontour"
                      }
                    ],
                    "mesh3d": [
                      {
                        "colorbar": {
                          "outlinewidth": 0,
                          "ticks": ""
                        },
                        "type": "mesh3d"
                      }
                    ],
                    "parcoords": [
                      {
                        "line": {
                          "colorbar": {
                            "outlinewidth": 0,
                            "ticks": ""
                          }
                        },
                        "type": "parcoords"
                      }
                    ],
                    "pie": [
                      {
                        "automargin": true,
                        "type": "pie"
                      }
                    ],
                    "scatter": [
                      {
                        "fillpattern": {
                          "fillmode": "overlay",
                          "size": 10,
                          "solidity": 0.2
                        },
                        "type": "scatter"
                      }
                    ],
                    "scatter3d": [
                      {
                        "line": {
                          "colorbar": {
                            "outlinewidth": 0,
                            "ticks": ""
                          }
                        },
                        "marker": {
                          "colorbar": {
                            "outlinewidth": 0,
                            "ticks": ""
                          }
                        },
                        "type": "scatter3d"
                      }
                    ],
                    "scattercarpet": [
                      {
                        "marker": {
                          "colorbar": {
                            "outlinewidth": 0,
                            "ticks": ""
                          }
                        },
                        "type": "scattercarpet"
                      }
                    ],
                    "scattergeo": [
                      {
                        "marker": {
                          "colorbar": {
                            "outlinewidth": 0,
                            "ticks": ""
                          }
                        },
                        "type": "scattergeo"
                      }
                    ],
                    "scattergl": [
                      {
                        "marker": {
                          "colorbar": {
                            "outlinewidth": 0,
                            "ticks": ""
                          }
                        },
                        "type": "scattergl"
                      }
                    ],
                    "scattermapbox": [
                      {
                        "marker": {
                          "colorbar": {
                            "outlinewidth": 0,
                            "ticks": ""
                          }
                        },
                        "type": "scattermapbox"
                      }
                    ],
                    "scatterpolar": [
                      {
                        "marker": {
                          "colorbar": {
                            "outlinewidth": 0,
                            "ticks": ""
                          }
                        },
                        "type": "scatterpolar"
                      }
                    ],
                    "scatterpolargl": [
                      {
                        "marker": {
                          "colorbar": {
                            "outlinewidth": 0,
                            "ticks": ""
                          }
                        },
                        "type": "scatterpolargl"
                      }
                    ],
                    "scatterternary": [
                      {
                        "marker": {
                          "colorbar": {
                            "outlinewidth": 0,
                            "ticks": ""
                          }
                        },
                        "type": "scatterternary"
                      }
                    ],
                    "surface": [
                      {
                        "colorbar": {
                          "outlinewidth": 0,
                          "ticks": ""
                        },
                        "colorscale": [
                          [
                            0,
                            "#0d0887"
                          ],
                          [
                            0.1111111111111111,
                            "#46039f"
                          ],
                          [
                            0.2222222222222222,
                            "#7201a8"
                          ],
                          [
                            0.3333333333333333,
                            "#9c179e"
                          ],
                          [
                            0.4444444444444444,
                            "#bd3786"
                          ],
                          [
                            0.5555555555555556,
                            "#d8576b"
                          ],
                          [
                            0.6666666666666666,
                            "#ed7953"
                          ],
                          [
                            0.7777777777777778,
                            "#fb9f3a"
                          ],
                          [
                            0.8888888888888888,
                            "#fdca26"
                          ],
                          [
                            1,
                            "#f0f921"
                          ]
                        ],
                        "type": "surface"
                      }
                    ],
                    "table": [
                      {
                        "cells": {
                          "fill": {
                            "color": "#EBF0F8"
                          },
                          "line": {
                            "color": "white"
                          }
                        },
                        "header": {
                          "fill": {
                            "color": "#C8D4E3"
                          },
                          "line": {
                            "color": "white"
                          }
                        },
                        "type": "table"
                      }
                    ]
                  },
                  "layout": {
                    "annotationdefaults": {
                      "arrowcolor": "#2a3f5f",
                      "arrowhead": 0,
                      "arrowwidth": 1
                    },
                    "autotypenumbers": "strict",
                    "coloraxis": {
                      "colorbar": {
                        "outlinewidth": 0,
                        "ticks": ""
                      }
                    },
                    "colorscale": {
                      "diverging": [
                        [
                          0,
                          "#8e0152"
                        ],
                        [
                          0.1,
                          "#c51b7d"
                        ],
                        [
                          0.2,
                          "#de77ae"
                        ],
                        [
                          0.3,
                          "#f1b6da"
                        ],
                        [
                          0.4,
                          "#fde0ef"
                        ],
                        [
                          0.5,
                          "#f7f7f7"
                        ],
                        [
                          0.6,
                          "#e6f5d0"
                        ],
                        [
                          0.7,
                          "#b8e186"
                        ],
                        [
                          0.8,
                          "#7fbc41"
                        ],
                        [
                          0.9,
                          "#4d9221"
                        ],
                        [
                          1,
                          "#276419"
                        ]
                      ],
                      "sequential": [
                        [
                          0,
                          "#0d0887"
                        ],
                        [
                          0.1111111111111111,
                          "#46039f"
                        ],
                        [
                          0.2222222222222222,
                          "#7201a8"
                        ],
                        [
                          0.3333333333333333,
                          "#9c179e"
                        ],
                        [
                          0.4444444444444444,
                          "#bd3786"
                        ],
                        [
                          0.5555555555555556,
                          "#d8576b"
                        ],
                        [
                          0.6666666666666666,
                          "#ed7953"
                        ],
                        [
                          0.7777777777777778,
                          "#fb9f3a"
                        ],
                        [
                          0.8888888888888888,
                          "#fdca26"
                        ],
                        [
                          1,
                          "#f0f921"
                        ]
                      ],
                      "sequentialminus": [
                        [
                          0,
                          "#0d0887"
                        ],
                        [
                          0.1111111111111111,
                          "#46039f"
                        ],
                        [
                          0.2222222222222222,
                          "#7201a8"
                        ],
                        [
                          0.3333333333333333,
                          "#9c179e"
                        ],
                        [
                          0.4444444444444444,
                          "#bd3786"
                        ],
                        [
                          0.5555555555555556,
                          "#d8576b"
                        ],
                        [
                          0.6666666666666666,
                          "#ed7953"
                        ],
                        [
                          0.7777777777777778,
                          "#fb9f3a"
                        ],
                        [
                          0.8888888888888888,
                          "#fdca26"
                        ],
                        [
                          1,
                          "#f0f921"
                        ]
                      ]
                    },
                    "colorway": [
                      "#636efa",
                      "#EF553B",
                      "#00cc96",
                      "#ab63fa",
                      "#FFA15A",
                      "#19d3f3",
                      "#FF6692",
                      "#B6E880",
                      "#FF97FF",
                      "#FECB52"
                    ],
                    "font": {
                      "color": "#2a3f5f"
                    },
                    "geo": {
                      "bgcolor": "white",
                      "lakecolor": "white",
                      "landcolor": "#E5ECF6",
                      "showlakes": true,
                      "showland": true,
                      "subunitcolor": "white"
                    },
                    "hoverlabel": {
                      "align": "left"
                    },
                    "hovermode": "closest",
                    "mapbox": {
                      "style": "light"
                    },
                    "paper_bgcolor": "white",
                    "plot_bgcolor": "#E5ECF6",
                    "polar": {
                      "angularaxis": {
                        "gridcolor": "white",
                        "linecolor": "white",
                        "ticks": ""
                      },
                      "bgcolor": "#E5ECF6",
                      "radialaxis": {
                        "gridcolor": "white",
                        "linecolor": "white",
                        "ticks": ""
                      }
                    },
                    "scene": {
                      "xaxis": {
                        "backgroundcolor": "#E5ECF6",
                        "gridcolor": "white",
                        "gridwidth": 2,
                        "linecolor": "white",
                        "showbackground": true,
                        "ticks": "",
                        "zerolinecolor": "white"
                      },
                      "yaxis": {
                        "backgroundcolor": "#E5ECF6",
                        "gridcolor": "white",
                        "gridwidth": 2,
                        "linecolor": "white",
                        "showbackground": true,
                        "ticks": "",
                        "zerolinecolor": "white"
                      },
                      "zaxis": {
                        "backgroundcolor": "#E5ECF6",
                        "gridcolor": "white",
                        "gridwidth": 2,
                        "linecolor": "white",
                        "showbackground": true,
                        "ticks": "",
                        "zerolinecolor": "white"
                      }
                    },
                    "shapedefaults": {
                      "line": {
                        "color": "#2a3f5f"
                      }
                    },
                    "ternary": {
                      "aaxis": {
                        "gridcolor": "white",
                        "linecolor": "white",
                        "ticks": ""
                      },
                      "baxis": {
                        "gridcolor": "white",
                        "linecolor": "white",
                        "ticks": ""
                      },
                      "bgcolor": "#E5ECF6",
                      "caxis": {
                        "gridcolor": "white",
                        "linecolor": "white",
                        "ticks": ""
                      }
                    },
                    "title": {
                      "x": 0.05
                    },
                    "xaxis": {
                      "automargin": true,
                      "gridcolor": "white",
                      "linecolor": "white",
                      "ticks": "",
                      "title": {
                        "standoff": 15
                      },
                      "zerolinecolor": "white",
                      "zerolinewidth": 2
                    },
                    "yaxis": {
                      "automargin": true,
                      "gridcolor": "white",
                      "linecolor": "white",
                      "ticks": "",
                      "title": {
                        "standoff": 15
                      },
                      "zerolinecolor": "white",
                      "zerolinewidth": 2
                    }
                  }
                },
                "title": {
                  "text": "Feature Importance (R-squared = 0.88)"
                },
                "xaxis": {
                  "tickangle": -45,
                  "title": {
                    "text": "Feature"
                  }
                },
                "yaxis": {
                  "title": {
                    "text": "Importance"
                  }
                }
              }
            }
          },
          "metadata": {},
          "output_type": "display_data"
        }
      ],
      "source": [
        "import plotly.graph_objs as go\n",
        "import pandas as pd\n",
        "from sklearn.linear_model import LinearRegression\n",
        "\n",
        "# Create a linear regression model\n",
        "reg = LinearRegression()\n",
        "\n",
        "# Fit the model to the training data\n",
        "reg.fit(X_train, y_train)\n",
        "\n",
        "# Make predictions on the test set\n",
        "y_pred = reg.predict(X_test)\n",
        "\n",
        "# Calculate the R-squared score\n",
        "r2 = reg.score(X_test, y_test)\n",
        "\n",
        "# Ensure correct number of column names\n",
        "expected_columns = ['Item Type', 'Sales Channel', 'Order Priority', 'Units Sold', \n",
        "                    'Unit Price', 'Unit Cost', 'Total Revenue', 'Total Cost', \n",
        "                    'Order Month', 'Order Year']\n",
        "\n",
        "# Match column names dynamically\n",
        "if X_train.shape[1] == len(expected_columns):\n",
        "    X_train_df = pd.DataFrame(X_train, columns=expected_columns)\n",
        "else:\n",
        "    column_names = [f\"Feature_{i}\" for i in range(X_train.shape[1])]\n",
        "    X_train_df = pd.DataFrame(X_train, columns=column_names)\n",
        "\n",
        "# Extract coefficients\n",
        "coef = reg.coef_\n",
        "\n",
        "# Create a DataFrame with feature importance\n",
        "feature_importances = pd.DataFrame({'Feature': X_train_df.columns, 'Importance': coef})\n",
        "\n",
        "# Sort by importance\n",
        "feature_importances = feature_importances.sort_values('Importance', ascending=False)\n",
        "\n",
        "# Create a bar chart of feature importance using Plotly\n",
        "fig = go.Figure()\n",
        "fig.add_trace(go.Bar(x=feature_importances['Feature'], y=feature_importances['Importance']))\n",
        "fig.update_layout(title='Feature Importance (R-squared = {:.2f})'.format(r2),\n",
        "                  xaxis_title='Feature',\n",
        "                  yaxis_title='Importance',\n",
        "                  xaxis_tickangle=-45)\n",
        "fig.show()\n"
      ]
    },
    {
      "cell_type": "code",
      "execution_count": 59,
      "metadata": {},
      "outputs": [
        {
          "name": "stdout",
          "output_type": "stream",
          "text": [
            "+----+-------------------+--------+--------+--------+------------+\n",
            "|    | Model             |    MSE |    MAE |   RMSE |   R² Score |\n",
            "+====+===================+========+========+========+============+\n",
            "|  0 | Linear Regression | 2.6148 | 1.1827 | 1.617  |       0.97 |\n",
            "+----+-------------------+--------+--------+--------+------------+\n",
            "|  1 | Lasso Regression  | 2.6043 | 1.1713 | 1.6138 |       0.97 |\n",
            "+----+-------------------+--------+--------+--------+------------+\n",
            "|  2 | LARS              | 2.6148 | 1.1827 | 1.617  |       0.97 |\n",
            "+----+-------------------+--------+--------+--------+------------+\n"
          ]
        }
      ],
      "source": [
        "import numpy as np\n",
        "import pandas as pd\n",
        "from sklearn.model_selection import train_test_split\n",
        "from sklearn.linear_model import LinearRegression, Lasso, Lars\n",
        "from sklearn.metrics import mean_squared_error, mean_absolute_error, r2_score\n",
        "\n",
        "# 1️⃣ Generate Sample Data\n",
        "np.random.seed(42)\n",
        "X = np.random.rand(100, 1) * 10  # 100 rows, 1 feature\n",
        "y = 3 * X.squeeze() + np.random.randn(100) * 2  # y = 3x + noise\n",
        "\n",
        "# 2️⃣ Split Data into Train and Test\n",
        "X_train, X_test, y_train, y_test = train_test_split(X, y, test_size=0.2, random_state=42)\n",
        "\n",
        "# 3️⃣ Define Models\n",
        "models = {\n",
        "    \"Linear Regression\": LinearRegression(),\n",
        "    \"Lasso Regression\": Lasso(alpha=0.1),\n",
        "    \"LARS\": Lars()\n",
        "}\n",
        "\n",
        "# 4️⃣ Train Models & Calculate Metrics\n",
        "results = []\n",
        "for name, model in models.items():\n",
        "    model.fit(X_train, y_train)\n",
        "    y_pred = model.predict(X_test)\n",
        "\n",
        "    mse = mean_squared_error(y_test, y_pred)\n",
        "    mae = mean_absolute_error(y_test, y_pred)\n",
        "    rmse = np.sqrt(mse)\n",
        "    r2 = r2_score(y_test, y_pred)\n",
        "\n",
        "    results.append([name, round(mse, 4), round(mae, 4), round(rmse, 4), round(r2, 2)])\n",
        "\n",
        "# 5️⃣ Create DataFrame for Table\n",
        "df_results = pd.DataFrame(results, columns=[\"Model\", \"MSE\", \"MAE\", \"RMSE\", \"R² Score\"])\n",
        "\n",
        "# 6️⃣ Print Table\n",
        "from tabulate import tabulate\n",
        "print(tabulate(df_results, headers=\"keys\", tablefmt=\"grid\"))\n"
      ]
    },
    {
      "cell_type": "code",
      "execution_count": 60,
      "metadata": {},
      "outputs": [
        {
          "data": {
            "text/plain": [
              "Index(['Region', 'Country', 'Item Type', 'Sales Channel', 'Order Priority',\n",
              "       'Order Date', 'Order ID', 'Ship Date', 'Units Sold', 'Unit Price',\n",
              "       'Unit Cost', 'Total Revenue', 'Total Cost', 'Total Profit'],\n",
              "      dtype='object')"
            ]
          },
          "execution_count": 60,
          "metadata": {},
          "output_type": "execute_result"
        }
      ],
      "source": [
        "import pandas as pd\n",
        "data = pd.read_csv(\"Amazon Sales data.csv\")\n",
        "\n",
        "data.columns"
      ]
    },
    {
      "cell_type": "code",
      "execution_count": 61,
      "metadata": {},
      "outputs": [
        {
          "name": "stdout",
          "output_type": "stream",
          "text": [
            "Accuracy: 90.00%\n",
            "Precision: 0.8667\n",
            "Recall (Sensitivity): 0.9286\n",
            "Specificity: 0.8750\n",
            "Negative Predictive Value (NPV): 0.9333\n",
            "F1-Score: 0.8966\n",
            "AUC-ROC Score: 0.9732\n",
            "Mean Squared Error: 0.24285714285714283\n"
          ]
        },
        {
          "data": {
            "image/png": "[encoded data removed]",
            "text/plain": [
              "<Figure size 600x400 with 2 Axes>"
            ]
          },
          "metadata": {},
          "output_type": "display_data"
        },
        {
          "data": {
            "image/png": "[encoded data removed]",
            "text/plain": [
              "<Figure size 600x400 with 1 Axes>"
            ]
          },
          "metadata": {},
          "output_type": "display_data"
        }
      ],
      "source": [
        "import pandas as pd\n",
        "import numpy as np\n",
        "import matplotlib.pyplot as plt\n",
        "import seaborn as sns\n",
        "from sklearn.model_selection import train_test_split, cross_val_score\n",
        "from sklearn.preprocessing import StandardScaler\n",
        "from sklearn.linear_model import LogisticRegression\n",
        "from sklearn.metrics import (\n",
        "    accuracy_score, precision_score, recall_score, f1_score, roc_auc_score, confusion_matrix, roc_curve\n",
        ")\n",
        "\n",
        "# Load dataset\n",
        "df = pd.read_csv(\"Amazon Sales data.csv\")\n",
        "\n",
        "# Select features and target variable\n",
        "X = df[['Units Sold', 'Unit Price', 'Unit Cost']]  # Independent Variables\n",
        "y = df['Total Profit']  # Ensure correct column name\n",
        "\n",
        "# Convert \"Total Profit\" into a binary classification problem (High Profit vs. Low Profit)\n",
        "threshold = df['Total Profit'].median()\n",
        "y_binary = (df['Total Profit'] >= threshold).astype(int)  # 1 = High Profit, 0 = Low Profit\n",
        "\n",
        "# Split data\n",
        "X_train, X_test, y_train, y_test = train_test_split(X, y_binary, test_size=0.3, random_state=42)\n",
        "\n",
        "# Standardize dataset\n",
        "scaler = StandardScaler()\n",
        "X_train = scaler.fit_transform(X_train)\n",
        "X_test = scaler.transform(X_test)\n",
        "\n",
        "# Train Logistic Regression Model (Better for Classification)\n",
        "model = LogisticRegression()\n",
        "model.fit(X_train, y_train)\n",
        "\n",
        "# Predictions\n",
        "y_pred = model.predict(X_test)\n",
        "y_pred_prob = model.predict_proba(X_test)[:, 1]  # Probabilities for ROC Curve\n",
        "\n",
        "# Calculate Metrics\n",
        "accuracy = accuracy_score(y_test, y_pred)\n",
        "precision = precision_score(y_test, y_pred)\n",
        "recall = recall_score(y_test, y_pred)\n",
        "f1 = f1_score(y_test, y_pred)\n",
        "roc_auc = roc_auc_score(y_test, y_pred_prob)\n",
        "\n",
        "# Confusion Matrix for Specificity & NPV\n",
        "tn, fp, fn, tp = confusion_matrix(y_test, y_pred).ravel()\n",
        "specificity = tn / (tn + fp) if (tn + fp) != 0 else 0\n",
        "npv = tn / (tn + fn) if (tn + fn) != 0 else 0\n",
        "\n",
        "# Cross-validation MSE\n",
        "mse = cross_val_score(model, X_train, y_train, scoring=\"neg_mean_squared_error\", cv=5)\n",
        "mse_mean = -mse.mean()\n",
        "\n",
        "# Print Metrics\n",
        "print(\"Accuracy: {:.2f}%\".format(accuracy * 100))\n",
        "print(\"Precision: {:.4f}\".format(precision))\n",
        "print(\"Recall (Sensitivity): {:.4f}\".format(recall))\n",
        "print(\"Specificity: {:.4f}\".format(specificity))\n",
        "print(\"Negative Predictive Value (NPV): {:.4f}\".format(npv))\n",
        "print(\"F1-Score: {:.4f}\".format(f1))\n",
        "print(\"AUC-ROC Score: {:.4f}\".format(roc_auc))\n",
        "print(\"Mean Squared Error:\", mse_mean)\n",
        "\n",
        "# ✅ Confusion Matrix Heatmap\n",
        "plt.figure(figsize=(6, 4))\n",
        "sns.heatmap(confusion_matrix(y_test, y_pred), annot=True, fmt=\"d\", cmap=\"Blues\",\n",
        "            xticklabels=['Low Profit', 'High Profit'], yticklabels=['Low Profit', 'High Profit'])\n",
        "plt.xlabel(\"Predicted\")\n",
        "plt.ylabel(\"Actual\")\n",
        "plt.title(\"Confusion Matrix\")\n",
        "plt.show()\n",
        "\n",
        "# ✅ ROC Curve\n",
        "fpr, tpr, _ = roc_curve(y_test, y_pred_prob)\n",
        "plt.figure(figsize=(6, 4))\n",
        "plt.plot(fpr, tpr, color=\"blue\", label=\"ROC Curve (AUC = {:.2f})\".format(roc_auc))\n",
        "plt.plot([0, 1], [0, 1], linestyle=\"--\", color=\"gray\")  # Baseline\n",
        "plt.xlabel(\"False Positive Rate\")\n",
        "plt.ylabel(\"True Positive Rate\")\n",
        "plt.title(\"ROC Curve\")\n",
        "plt.legend()\n",
        "plt.show()\n"
      ]
    },
    {
      "cell_type": "code",
      "execution_count": null,
      "metadata": {},
      "outputs": [],
      "source": []
    }
  ],
  "metadata": {
    "colab": {
      "provenance": []
    },
    "kernelspec": {
      "display_name": "Python 3",
      "name": "python3"
    },
    "language_info": {
      "codemirror_mode": {
        "name": "ipython",
        "version": 3
      },
      "file_extension": ".py",
      "mimetype": "text/x-python",
      "name": "python",
      "nbconvert_exporter": "python",
      "pygments_lexer": "ipython3",
      "version": "3.11.9"
    },
    "widgets": {
      "application/vnd.jupyter.widget-state+json": {
        "07351670485e4e6aabd3e326938f426a": {
          "model_module": "@jupyter-widgets/controls",
          "model_module_version": "1.5.0",
          "model_name": "FloatProgressModel",
          "state": {
            "_dom_classes": [],
            "_model_module": "@jupyter-widgets/controls",
            "_model_module_version": "1.5.0",
            "_model_name": "FloatProgressModel",
            "_view_count": null,
            "_view_module": "@jupyter-widgets/controls",
            "_view_module_version": "1.5.0",
            "_view_name": "ProgressView",
            "bar_style": "",
            "description": "",
            "description_tooltip": null,
            "layout": "IPY_MODEL_11516af8571c4f4d886c48b0a3aa8377",
            "max": 7,
            "min": 0,
            "orientation": "horizontal",
            "style": "IPY_MODEL_1564b8dc2b6243259b9a62b4f1e83e5b",
            "value": 7
          }
        },
        "11516af8571c4f4d886c48b0a3aa8377": {
          "model_module": "@jupyter-widgets/base",
          "model_module_version": "1.2.0",
          "model_name": "LayoutModel",
          "state": {
            "_model_module": "@jupyter-widgets/base",
            "_model_module_version": "1.2.0",
            "_model_name": "LayoutModel",
            "_view_count": null,
            "_view_module": "@jupyter-widgets/base",
            "_view_module_version": "1.2.0",
            "_view_name": "LayoutView",
            "align_content": null,
            "align_items": null,
            "align_self": null,
            "border": null,
            "bottom": null,
            "display": null,
            "flex": null,
            "flex_flow": null,
            "grid_area": null,
            "grid_auto_columns": null,
            "grid_auto_flow": null,
            "grid_auto_rows": null,
            "grid_column": null,
            "grid_gap": null,
            "grid_row": null,
            "grid_template_areas": null,
            "grid_template_columns": null,
            "grid_template_rows": null,
            "height": null,
            "justify_content": null,
            "justify_items": null,
            "left": null,
            "margin": null,
            "max_height": null,
            "max_width": null,
            "min_height": null,
            "min_width": null,
            "object_fit": null,
            "object_position": null,
            "order": null,
            "overflow": null,
            "overflow_x": null,
            "overflow_y": null,
            "padding": null,
            "right": null,
            "top": null,
            "visibility": null,
            "width": null
          }
        },
        "14122eab44b54b6db5b8e712d785e468": {
          "model_module": "@jupyter-widgets/controls",
          "model_module_version": "1.5.0",
          "model_name": "HBoxModel",
          "state": {
            "_dom_classes": [],
            "_model_module": "@jupyter-widgets/controls",
            "_model_module_version": "1.5.0",
            "_model_name": "HBoxModel",
            "_view_count": null,
            "_view_module": "@jupyter-widgets/controls",
            "_view_module_version": "1.5.0",
            "_view_name": "HBoxView",
            "box_style": "",
            "children": [
              "IPY_MODEL_c281fe3929b240c98073623bc2ddc344",
              "IPY_MODEL_4dc0bbc4ccff470e8791974fd65f0e71",
              "IPY_MODEL_4351b0feba7e439f98cb3461d648b7a4"
            ],
            "layout": "IPY_MODEL_da7db208b432408fb69faadab47535b2"
          }
        },
        "1564b8dc2b6243259b9a62b4f1e83e5b": {
          "model_module": "@jupyter-widgets/controls",
          "model_module_version": "1.5.0",
          "model_name": "ProgressStyleModel",
          "state": {
            "_model_module": "@jupyter-widgets/controls",
            "_model_module_version": "1.5.0",
            "_model_name": "ProgressStyleModel",
            "_view_count": null,
            "_view_module": "@jupyter-widgets/base",
            "_view_module_version": "1.2.0",
            "_view_name": "StyleView",
            "bar_color": null,
            "description_width": ""
          }
        },
        "2011c45118824728babba1639d3d676b": {
          "model_module": "@jupyter-widgets/controls",
          "model_module_version": "1.5.0",
          "model_name": "DescriptionStyleModel",
          "state": {
            "_model_module": "@jupyter-widgets/controls",
            "_model_module_version": "1.5.0",
            "_model_name": "DescriptionStyleModel",
            "_view_count": null,
            "_view_module": "@jupyter-widgets/base",
            "_view_module_version": "1.2.0",
            "_view_name": "StyleView",
            "description_width": ""
          }
        },
        "21783f0ff3534cf7b1ed1b6886aed152": {
          "model_module": "@jupyter-widgets/controls",
          "model_module_version": "1.5.0",
          "model_name": "FloatProgressModel",
          "state": {
            "_dom_classes": [],
            "_model_module": "@jupyter-widgets/controls",
            "_model_module_version": "1.5.0",
            "_model_name": "FloatProgressModel",
            "_view_count": null,
            "_view_module": "@jupyter-widgets/controls",
            "_view_module_version": "1.5.0",
            "_view_name": "ProgressView",
            "bar_style": "",
            "description": "",
            "description_tooltip": null,
            "layout": "IPY_MODEL_f02237156dfe4dbeb4220af18530be39",
            "max": 4,
            "min": 0,
            "orientation": "horizontal",
            "style": "IPY_MODEL_bce73ba6104148d98525ed4fc15c8476",
            "value": 4
          }
        },
        "27f83b2cfb664ac381ec78c6905c642a": {
          "model_module": "@jupyter-widgets/controls",
          "model_module_version": "1.5.0",
          "model_name": "DescriptionStyleModel",
          "state": {
            "_model_module": "@jupyter-widgets/controls",
            "_model_module_version": "1.5.0",
            "_model_name": "DescriptionStyleModel",
            "_view_count": null,
            "_view_module": "@jupyter-widgets/base",
            "_view_module_version": "1.2.0",
            "_view_name": "StyleView",
            "description_width": ""
          }
        },
        "3125b31e7e0f4d07b21860c64ff88faa": {
          "model_module": "@jupyter-widgets/base",
          "model_module_version": "1.2.0",
          "model_name": "LayoutModel",
          "state": {
            "_model_module": "@jupyter-widgets/base",
            "_model_module_version": "1.2.0",
            "_model_name": "LayoutModel",
            "_view_count": null,
            "_view_module": "@jupyter-widgets/base",
            "_view_module_version": "1.2.0",
            "_view_name": "LayoutView",
            "align_content": null,
            "align_items": null,
            "align_self": null,
            "border": null,
            "bottom": null,
            "display": null,
            "flex": null,
            "flex_flow": null,
            "grid_area": null,
            "grid_auto_columns": null,
            "grid_auto_flow": null,
            "grid_auto_rows": null,
            "grid_column": null,
            "grid_gap": null,
            "grid_row": null,
            "grid_template_areas": null,
            "grid_template_columns": null,
            "grid_template_rows": null,
            "height": null,
            "justify_content": null,
            "justify_items": null,
            "left": null,
            "margin": null,
            "max_height": null,
            "max_width": null,
            "min_height": null,
            "min_width": null,
            "object_fit": null,
            "object_position": null,
            "order": null,
            "overflow": null,
            "overflow_x": null,
            "overflow_y": null,
            "padding": null,
            "right": null,
            "top": null,
            "visibility": null,
            "width": null
          }
        },
        "34abb2af7c224eeba4e40eca157a3f1f": {
          "model_module": "@jupyter-widgets/base",
          "model_module_version": "1.2.0",
          "model_name": "LayoutModel",
          "state": {
            "_model_module": "@jupyter-widgets/base",
            "_model_module_version": "1.2.0",
            "_model_name": "LayoutModel",
            "_view_count": null,
            "_view_module": "@jupyter-widgets/base",
            "_view_module_version": "1.2.0",
            "_view_name": "LayoutView",
            "align_content": null,
            "align_items": null,
            "align_self": null,
            "border": null,
            "bottom": null,
            "display": null,
            "flex": null,
            "flex_flow": null,
            "grid_area": null,
            "grid_auto_columns": null,
            "grid_auto_flow": null,
            "grid_auto_rows": null,
            "grid_column": null,
            "grid_gap": null,
            "grid_row": null,
            "grid_template_areas": null,
            "grid_template_columns": null,
            "grid_template_rows": null,
            "height": null,
            "justify_content": null,
            "justify_items": null,
            "left": null,
            "margin": null,
            "max_height": null,
            "max_width": null,
            "min_height": null,
            "min_width": null,
            "object_fit": null,
            "object_position": null,
            "order": null,
            "overflow": null,
            "overflow_x": null,
            "overflow_y": null,
            "padding": null,
            "right": null,
            "top": null,
            "visibility": null,
            "width": null
          }
        },
        "3cc57d8d587d4c04bd7b8acbfa67bba0": {
          "model_module": "@jupyter-widgets/base",
          "model_module_version": "1.2.0",
          "model_name": "LayoutModel",
          "state": {
            "_model_module": "@jupyter-widgets/base",
            "_model_module_version": "1.2.0",
            "_model_name": "LayoutModel",
            "_view_count": null,
            "_view_module": "@jupyter-widgets/base",
            "_view_module_version": "1.2.0",
            "_view_name": "LayoutView",
            "align_content": null,
            "align_items": null,
            "align_self": null,
            "border": null,
            "bottom": null,
            "display": null,
            "flex": null,
            "flex_flow": null,
            "grid_area": null,
            "grid_auto_columns": null,
            "grid_auto_flow": null,
            "grid_auto_rows": null,
            "grid_column": null,
            "grid_gap": null,
            "grid_row": null,
            "grid_template_areas": null,
            "grid_template_columns": null,
            "grid_template_rows": null,
            "height": null,
            "justify_content": null,
            "justify_items": null,
            "left": null,
            "margin": null,
            "max_height": null,
            "max_width": null,
            "min_height": null,
            "min_width": null,
            "object_fit": null,
            "object_position": null,
            "order": null,
            "overflow": null,
            "overflow_x": null,
            "overflow_y": null,
            "padding": null,
            "right": null,
            "top": null,
            "visibility": null,
            "width": null
          }
        },
        "40a1fd0b3dcd40b78562264a08eaeba5": {
          "model_module": "@jupyter-widgets/controls",
          "model_module_version": "1.5.0",
          "model_name": "DescriptionStyleModel",
          "state": {
            "_model_module": "@jupyter-widgets/controls",
            "_model_module_version": "1.5.0",
            "_model_name": "DescriptionStyleModel",
            "_view_count": null,
            "_view_module": "@jupyter-widgets/base",
            "_view_module_version": "1.2.0",
            "_view_name": "StyleView",
            "description_width": ""
          }
        },
        "4351b0feba7e439f98cb3461d648b7a4": {
          "model_module": "@jupyter-widgets/controls",
          "model_module_version": "1.5.0",
          "model_name": "HTMLModel",
          "state": {
            "_dom_classes": [],
            "_model_module": "@jupyter-widgets/controls",
            "_model_module_version": "1.5.0",
            "_model_name": "HTMLModel",
            "_view_count": null,
            "_view_module": "@jupyter-widgets/controls",
            "_view_module_version": "1.5.0",
            "_view_name": "HTMLView",
            "description": "",
            "description_tooltip": null,
            "layout": "IPY_MODEL_3125b31e7e0f4d07b21860c64ff88faa",
            "placeholder": "​",
            "style": "IPY_MODEL_5a3a457b67854a379050f0cf83e36989",
            "value": " 81/81 [00:46&lt;00:00,  1.87it/s]"
          }
        },
        "4dc0bbc4ccff470e8791974fd65f0e71": {
          "model_module": "@jupyter-widgets/controls",
          "model_module_version": "1.5.0",
          "model_name": "FloatProgressModel",
          "state": {
            "_dom_classes": [],
            "_model_module": "@jupyter-widgets/controls",
            "_model_module_version": "1.5.0",
            "_model_name": "FloatProgressModel",
            "_view_count": null,
            "_view_module": "@jupyter-widgets/controls",
            "_view_module_version": "1.5.0",
            "_view_name": "ProgressView",
            "bar_style": "",
            "description": "",
            "description_tooltip": null,
            "layout": "IPY_MODEL_572a43331dbc432abc475b185a122ffe",
            "max": 81,
            "min": 0,
            "orientation": "horizontal",
            "style": "IPY_MODEL_b86d3e8399fe4d4aacc2e602ff999d23",
            "value": 81
          }
        },
        "4fe6c1bd71824535987939b0ab3249eb": {
          "model_module": "@jupyter-widgets/controls",
          "model_module_version": "1.5.0",
          "model_name": "DescriptionStyleModel",
          "state": {
            "_model_module": "@jupyter-widgets/controls",
            "_model_module_version": "1.5.0",
            "_model_name": "DescriptionStyleModel",
            "_view_count": null,
            "_view_module": "@jupyter-widgets/base",
            "_view_module_version": "1.2.0",
            "_view_name": "StyleView",
            "description_width": ""
          }
        },
        "572a43331dbc432abc475b185a122ffe": {
          "model_module": "@jupyter-widgets/base",
          "model_module_version": "1.2.0",
          "model_name": "LayoutModel",
          "state": {
            "_model_module": "@jupyter-widgets/base",
            "_model_module_version": "1.2.0",
            "_model_name": "LayoutModel",
            "_view_count": null,
            "_view_module": "@jupyter-widgets/base",
            "_view_module_version": "1.2.0",
            "_view_name": "LayoutView",
            "align_content": null,
            "align_items": null,
            "align_self": null,
            "border": null,
            "bottom": null,
            "display": null,
            "flex": null,
            "flex_flow": null,
            "grid_area": null,
            "grid_auto_columns": null,
            "grid_auto_flow": null,
            "grid_auto_rows": null,
            "grid_column": null,
            "grid_gap": null,
            "grid_row": null,
            "grid_template_areas": null,
            "grid_template_columns": null,
            "grid_template_rows": null,
            "height": null,
            "justify_content": null,
            "justify_items": null,
            "left": null,
            "margin": null,
            "max_height": null,
            "max_width": null,
            "min_height": null,
            "min_width": null,
            "object_fit": null,
            "object_position": null,
            "order": null,
            "overflow": null,
            "overflow_x": null,
            "overflow_y": null,
            "padding": null,
            "right": null,
            "top": null,
            "visibility": null,
            "width": null
          }
        },
        "5a3a457b67854a379050f0cf83e36989": {
          "model_module": "@jupyter-widgets/controls",
          "model_module_version": "1.5.0",
          "model_name": "DescriptionStyleModel",
          "state": {
            "_model_module": "@jupyter-widgets/controls",
            "_model_module_version": "1.5.0",
            "_model_name": "DescriptionStyleModel",
            "_view_count": null,
            "_view_module": "@jupyter-widgets/base",
            "_view_module_version": "1.2.0",
            "_view_name": "StyleView",
            "description_width": ""
          }
        },
        "65de1b782040470b8bf27c759068774b": {
          "model_module": "@jupyter-widgets/controls",
          "model_module_version": "1.5.0",
          "model_name": "DescriptionStyleModel",
          "state": {
            "_model_module": "@jupyter-widgets/controls",
            "_model_module_version": "1.5.0",
            "_model_name": "DescriptionStyleModel",
            "_view_count": null,
            "_view_module": "@jupyter-widgets/base",
            "_view_module_version": "1.2.0",
            "_view_name": "StyleView",
            "description_width": ""
          }
        },
        "7013335c460f49079011df48ea676119": {
          "model_module": "@jupyter-widgets/controls",
          "model_module_version": "1.5.0",
          "model_name": "HTMLModel",
          "state": {
            "_dom_classes": [],
            "_model_module": "@jupyter-widgets/controls",
            "_model_module_version": "1.5.0",
            "_model_name": "HTMLModel",
            "_view_count": null,
            "_view_module": "@jupyter-widgets/controls",
            "_view_module_version": "1.5.0",
            "_view_name": "HTMLView",
            "description": "",
            "description_tooltip": null,
            "layout": "IPY_MODEL_34abb2af7c224eeba4e40eca157a3f1f",
            "placeholder": "​",
            "style": "IPY_MODEL_27f83b2cfb664ac381ec78c6905c642a",
            "value": " 4/4 [00:01&lt;00:00,  2.94it/s]"
          }
        },
        "8003cf99b406405ba5c6ec2d5189c614": {
          "model_module": "@jupyter-widgets/base",
          "model_module_version": "1.2.0",
          "model_name": "LayoutModel",
          "state": {
            "_model_module": "@jupyter-widgets/base",
            "_model_module_version": "1.2.0",
            "_model_name": "LayoutModel",
            "_view_count": null,
            "_view_module": "@jupyter-widgets/base",
            "_view_module_version": "1.2.0",
            "_view_name": "LayoutView",
            "align_content": null,
            "align_items": null,
            "align_self": null,
            "border": null,
            "bottom": null,
            "display": null,
            "flex": null,
            "flex_flow": null,
            "grid_area": null,
            "grid_auto_columns": null,
            "grid_auto_flow": null,
            "grid_auto_rows": null,
            "grid_column": null,
            "grid_gap": null,
            "grid_row": null,
            "grid_template_areas": null,
            "grid_template_columns": null,
            "grid_template_rows": null,
            "height": null,
            "justify_content": null,
            "justify_items": null,
            "left": null,
            "margin": null,
            "max_height": null,
            "max_width": null,
            "min_height": null,
            "min_width": null,
            "object_fit": null,
            "object_position": null,
            "order": null,
            "overflow": null,
            "overflow_x": null,
            "overflow_y": null,
            "padding": null,
            "right": null,
            "top": null,
            "visibility": null,
            "width": null
          }
        },
        "9464d9f4e75b4b94a568cb3de3707ace": {
          "model_module": "@jupyter-widgets/base",
          "model_module_version": "1.2.0",
          "model_name": "LayoutModel",
          "state": {
            "_model_module": "@jupyter-widgets/base",
            "_model_module_version": "1.2.0",
            "_model_name": "LayoutModel",
            "_view_count": null,
            "_view_module": "@jupyter-widgets/base",
            "_view_module_version": "1.2.0",
            "_view_name": "LayoutView",
            "align_content": null,
            "align_items": null,
            "align_self": null,
            "border": null,
            "bottom": null,
            "display": null,
            "flex": null,
            "flex_flow": null,
            "grid_area": null,
            "grid_auto_columns": null,
            "grid_auto_flow": null,
            "grid_auto_rows": null,
            "grid_column": null,
            "grid_gap": null,
            "grid_row": null,
            "grid_template_areas": null,
            "grid_template_columns": null,
            "grid_template_rows": null,
            "height": null,
            "justify_content": null,
            "justify_items": null,
            "left": null,
            "margin": null,
            "max_height": null,
            "max_width": null,
            "min_height": null,
            "min_width": null,
            "object_fit": null,
            "object_position": null,
            "order": null,
            "overflow": null,
            "overflow_x": null,
            "overflow_y": null,
            "padding": null,
            "right": null,
            "top": null,
            "visibility": "hidden",
            "width": null
          }
        },
        "9ef6375f901242bfadee7dc960edf26f": {
          "model_module": "@jupyter-widgets/controls",
          "model_module_version": "1.5.0",
          "model_name": "HTMLModel",
          "state": {
            "_dom_classes": [],
            "_model_module": "@jupyter-widgets/controls",
            "_model_module_version": "1.5.0",
            "_model_name": "HTMLModel",
            "_view_count": null,
            "_view_module": "@jupyter-widgets/controls",
            "_view_module_version": "1.5.0",
            "_view_name": "HTMLView",
            "description": "",
            "description_tooltip": null,
            "layout": "IPY_MODEL_3cc57d8d587d4c04bd7b8acbfa67bba0",
            "placeholder": "​",
            "style": "IPY_MODEL_2011c45118824728babba1639d3d676b",
            "value": "Processing: 100%"
          }
        },
        "a42bc603c8124eac83752771fe227924": {
          "model_module": "@jupyter-widgets/controls",
          "model_module_version": "1.5.0",
          "model_name": "HBoxModel",
          "state": {
            "_dom_classes": [],
            "_model_module": "@jupyter-widgets/controls",
            "_model_module_version": "1.5.0",
            "_model_name": "HBoxModel",
            "_view_count": null,
            "_view_module": "@jupyter-widgets/controls",
            "_view_module_version": "1.5.0",
            "_view_name": "HBoxView",
            "box_style": "",
            "children": [
              "IPY_MODEL_a8f9dc11f9ca47c48c7867601fa99b21",
              "IPY_MODEL_21783f0ff3534cf7b1ed1b6886aed152",
              "IPY_MODEL_7013335c460f49079011df48ea676119"
            ],
            "layout": "IPY_MODEL_9464d9f4e75b4b94a568cb3de3707ace"
          }
        },
        "a8f9dc11f9ca47c48c7867601fa99b21": {
          "model_module": "@jupyter-widgets/controls",
          "model_module_version": "1.5.0",
          "model_name": "HTMLModel",
          "state": {
            "_dom_classes": [],
            "_model_module": "@jupyter-widgets/controls",
            "_model_module_version": "1.5.0",
            "_model_name": "HTMLModel",
            "_view_count": null,
            "_view_module": "@jupyter-widgets/controls",
            "_view_module_version": "1.5.0",
            "_view_name": "HTMLView",
            "description": "",
            "description_tooltip": null,
            "layout": "IPY_MODEL_b72965e084f44004b9e317fb79db4940",
            "placeholder": "​",
            "style": "IPY_MODEL_65de1b782040470b8bf27c759068774b",
            "value": "Processing: 100%"
          }
        },
        "aee8bb0333da495a9c529e6e39d5e536": {
          "model_module": "@jupyter-widgets/base",
          "model_module_version": "1.2.0",
          "model_name": "LayoutModel",
          "state": {
            "_model_module": "@jupyter-widgets/base",
            "_model_module_version": "1.2.0",
            "_model_name": "LayoutModel",
            "_view_count": null,
            "_view_module": "@jupyter-widgets/base",
            "_view_module_version": "1.2.0",
            "_view_name": "LayoutView",
            "align_content": null,
            "align_items": null,
            "align_self": null,
            "border": null,
            "bottom": null,
            "display": null,
            "flex": null,
            "flex_flow": null,
            "grid_area": null,
            "grid_auto_columns": null,
            "grid_auto_flow": null,
            "grid_auto_rows": null,
            "grid_column": null,
            "grid_gap": null,
            "grid_row": null,
            "grid_template_areas": null,
            "grid_template_columns": null,
            "grid_template_rows": null,
            "height": null,
            "justify_content": null,
            "justify_items": null,
            "left": null,
            "margin": null,
            "max_height": null,
            "max_width": null,
            "min_height": null,
            "min_width": null,
            "object_fit": null,
            "object_position": null,
            "order": null,
            "overflow": null,
            "overflow_x": null,
            "overflow_y": null,
            "padding": null,
            "right": null,
            "top": null,
            "visibility": "hidden",
            "width": null
          }
        },
        "b72965e084f44004b9e317fb79db4940": {
          "model_module": "@jupyter-widgets/base",
          "model_module_version": "1.2.0",
          "model_name": "LayoutModel",
          "state": {
            "_model_module": "@jupyter-widgets/base",
            "_model_module_version": "1.2.0",
            "_model_name": "LayoutModel",
            "_view_count": null,
            "_view_module": "@jupyter-widgets/base",
            "_view_module_version": "1.2.0",
            "_view_name": "LayoutView",
            "align_content": null,
            "align_items": null,
            "align_self": null,
            "border": null,
            "bottom": null,
            "display": null,
            "flex": null,
            "flex_flow": null,
            "grid_area": null,
            "grid_auto_columns": null,
            "grid_auto_flow": null,
            "grid_auto_rows": null,
            "grid_column": null,
            "grid_gap": null,
            "grid_row": null,
            "grid_template_areas": null,
            "grid_template_columns": null,
            "grid_template_rows": null,
            "height": null,
            "justify_content": null,
            "justify_items": null,
            "left": null,
            "margin": null,
            "max_height": null,
            "max_width": null,
            "min_height": null,
            "min_width": null,
            "object_fit": null,
            "object_position": null,
            "order": null,
            "overflow": null,
            "overflow_x": null,
            "overflow_y": null,
            "padding": null,
            "right": null,
            "top": null,
            "visibility": null,
            "width": null
          }
        },
        "b86d3e8399fe4d4aacc2e602ff999d23": {
          "model_module": "@jupyter-widgets/controls",
          "model_module_version": "1.5.0",
          "model_name": "ProgressStyleModel",
          "state": {
            "_model_module": "@jupyter-widgets/controls",
            "_model_module_version": "1.5.0",
            "_model_name": "ProgressStyleModel",
            "_view_count": null,
            "_view_module": "@jupyter-widgets/base",
            "_view_module_version": "1.2.0",
            "_view_name": "StyleView",
            "bar_color": null,
            "description_width": ""
          }
        },
        "bce73ba6104148d98525ed4fc15c8476": {
          "model_module": "@jupyter-widgets/controls",
          "model_module_version": "1.5.0",
          "model_name": "ProgressStyleModel",
          "state": {
            "_model_module": "@jupyter-widgets/controls",
            "_model_module_version": "1.5.0",
            "_model_name": "ProgressStyleModel",
            "_view_count": null,
            "_view_module": "@jupyter-widgets/base",
            "_view_module_version": "1.2.0",
            "_view_name": "StyleView",
            "bar_color": null,
            "description_width": ""
          }
        },
        "c281fe3929b240c98073623bc2ddc344": {
          "model_module": "@jupyter-widgets/controls",
          "model_module_version": "1.5.0",
          "model_name": "HTMLModel",
          "state": {
            "_dom_classes": [],
            "_model_module": "@jupyter-widgets/controls",
            "_model_module_version": "1.5.0",
            "_model_name": "HTMLModel",
            "_view_count": null,
            "_view_module": "@jupyter-widgets/controls",
            "_view_module_version": "1.5.0",
            "_view_name": "HTMLView",
            "description": "",
            "description_tooltip": null,
            "layout": "IPY_MODEL_8003cf99b406405ba5c6ec2d5189c614",
            "placeholder": "​",
            "style": "IPY_MODEL_40a1fd0b3dcd40b78562264a08eaeba5",
            "value": "Processing: 100%"
          }
        },
        "da7db208b432408fb69faadab47535b2": {
          "model_module": "@jupyter-widgets/base",
          "model_module_version": "1.2.0",
          "model_name": "LayoutModel",
          "state": {
            "_model_module": "@jupyter-widgets/base",
            "_model_module_version": "1.2.0",
            "_model_name": "LayoutModel",
            "_view_count": null,
            "_view_module": "@jupyter-widgets/base",
            "_view_module_version": "1.2.0",
            "_view_name": "LayoutView",
            "align_content": null,
            "align_items": null,
            "align_self": null,
            "border": null,
            "bottom": null,
            "display": null,
            "flex": null,
            "flex_flow": null,
            "grid_area": null,
            "grid_auto_columns": null,
            "grid_auto_flow": null,
            "grid_auto_rows": null,
            "grid_column": null,
            "grid_gap": null,
            "grid_row": null,
            "grid_template_areas": null,
            "grid_template_columns": null,
            "grid_template_rows": null,
            "height": null,
            "justify_content": null,
            "justify_items": null,
            "left": null,
            "margin": null,
            "max_height": null,
            "max_width": null,
            "min_height": null,
            "min_width": null,
            "object_fit": null,
            "object_position": null,
            "order": null,
            "overflow": null,
            "overflow_x": null,
            "overflow_y": null,
            "padding": null,
            "right": null,
            "top": null,
            "visibility": "hidden",
            "width": null
          }
        },
        "ee66eb80046e48188bb8dae749680f9e": {
          "model_module": "@jupyter-widgets/controls",
          "model_module_version": "1.5.0",
          "model_name": "HTMLModel",
          "state": {
            "_dom_classes": [],
            "_model_module": "@jupyter-widgets/controls",
            "_model_module_version": "1.5.0",
            "_model_name": "HTMLModel",
            "_view_count": null,
            "_view_module": "@jupyter-widgets/controls",
            "_view_module_version": "1.5.0",
            "_view_name": "HTMLView",
            "description": "",
            "description_tooltip": null,
            "layout": "IPY_MODEL_f2dffb58c52a480fa3c2b2851b21dc60",
            "placeholder": "​",
            "style": "IPY_MODEL_4fe6c1bd71824535987939b0ab3249eb",
            "value": " 7/7 [00:12&lt;00:00,  1.41s/it]"
          }
        },
        "f02237156dfe4dbeb4220af18530be39": {
          "model_module": "@jupyter-widgets/base",
          "model_module_version": "1.2.0",
          "model_name": "LayoutModel",
          "state": {
            "_model_module": "@jupyter-widgets/base",
            "_model_module_version": "1.2.0",
            "_model_name": "LayoutModel",
            "_view_count": null,
            "_view_module": "@jupyter-widgets/base",
            "_view_module_version": "1.2.0",
            "_view_name": "LayoutView",
            "align_content": null,
            "align_items": null,
            "align_self": null,
            "border": null,
            "bottom": null,
            "display": null,
            "flex": null,
            "flex_flow": null,
            "grid_area": null,
            "grid_auto_columns": null,
            "grid_auto_flow": null,
            "grid_auto_rows": null,
            "grid_column": null,
            "grid_gap": null,
            "grid_row": null,
            "grid_template_areas": null,
            "grid_template_columns": null,
            "grid_template_rows": null,
            "height": null,
            "justify_content": null,
            "justify_items": null,
            "left": null,
            "margin": null,
            "max_height": null,
            "max_width": null,
            "min_height": null,
            "min_width": null,
            "object_fit": null,
            "object_position": null,
            "order": null,
            "overflow": null,
            "overflow_x": null,
            "overflow_y": null,
            "padding": null,
            "right": null,
            "top": null,
            "visibility": null,
            "width": null
          }
        },
        "f2c0a8c8f7d14f43af753e399740f801": {
          "model_module": "@jupyter-widgets/controls",
          "model_module_version": "1.5.0",
          "model_name": "HBoxModel",
          "state": {
            "_dom_classes": [],
            "_model_module": "@jupyter-widgets/controls",
            "_model_module_version": "1.5.0",
            "_model_name": "HBoxModel",
            "_view_count": null,
            "_view_module": "@jupyter-widgets/controls",
            "_view_module_version": "1.5.0",
            "_view_name": "HBoxView",
            "box_style": "",
            "children": [
              "IPY_MODEL_9ef6375f901242bfadee7dc960edf26f",
              "IPY_MODEL_07351670485e4e6aabd3e326938f426a",
              "IPY_MODEL_ee66eb80046e48188bb8dae749680f9e"
            ],
            "layout": "IPY_MODEL_aee8bb0333da495a9c529e6e39d5e536"
          }
        },
        "f2dffb58c52a480fa3c2b2851b21dc60": {
          "model_module": "@jupyter-widgets/base",
          "model_module_version": "1.2.0",
          "model_name": "LayoutModel",
          "state": {
            "_model_module": "@jupyter-widgets/base",
            "_model_module_version": "1.2.0",
            "_model_name": "LayoutModel",
            "_view_count": null,
            "_view_module": "@jupyter-widgets/base",
            "_view_module_version": "1.2.0",
            "_view_name": "LayoutView",
            "align_content": null,
            "align_items": null,
            "align_self": null,
            "border": null,
            "bottom": null,
            "display": null,
            "flex": null,
            "flex_flow": null,
            "grid_area": null,
            "grid_auto_columns": null,
            "grid_auto_flow": null,
            "grid_auto_rows": null,
            "grid_column": null,
            "grid_gap": null,
            "grid_row": null,
            "grid_template_areas": null,
            "grid_template_columns": null,
            "grid_template_rows": null,
            "height": null,
            "justify_content": null,
            "justify_items": null,
            "left": null,
            "margin": null,
            "max_height": null,
            "max_width": null,
            "min_height": null,
            "min_width": null,
            "object_fit": null,
            "object_position": null,
            "order": null,
            "overflow": null,
            "overflow_x": null,
            "overflow_y": null,
            "padding": null,
            "right": null,
            "top": null,
            "visibility": null,
            "width": null
          }
        }
      }
    }
  },
  "nbformat": 4,
  "nbformat_minor": 0
}
